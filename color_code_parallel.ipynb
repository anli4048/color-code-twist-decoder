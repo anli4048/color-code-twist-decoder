{
 "cells": [
  {
   "cell_type": "code",
   "execution_count": 1,
   "metadata": {},
   "outputs": [],
   "source": [
    "from color_code import color_code\n",
    "import numpy as np\n",
    "import copy\n",
    "from timer import timer\n",
    "import itertools as itt\n",
    "import statsmodels.stats.proportion as prop\n",
    "from joblib import Parallel, delayed"
   ]
  },
  {
   "cell_type": "code",
   "execution_count": 2,
   "metadata": {},
   "outputs": [],
   "source": [
    "class batch_params:\n",
    "    def __init__ (self, \n",
    "                  shots, \n",
    "                  error_rate, \n",
    "                  c,\n",
    "                  rG2,\n",
    "                  template_G,\n",
    "                  template_rG,\n",
    "                  template_rG2,\n",
    "                  loop_logical,\n",
    "                  string_logical,\n",
    "                  boundary_logical,\n",
    "                  rel_weights):\n",
    "        self.shots = shots\n",
    "        self.error_rate = error_rate\n",
    "        self.c = c\n",
    "        self.rG2 = rG2\n",
    "\n",
    "        self.template_G = template_G\n",
    "        self.template_rG = template_rG\n",
    "        self.template_rG2 = template_rG2\n",
    "\n",
    "        self.loop_logical = loop_logical\n",
    "        self.string_logical = string_logical\n",
    "        self.boundary_logical = boundary_logical\n",
    "        self.rel_weights = rel_weights\n"
   ]
  },
  {
   "cell_type": "code",
   "execution_count": 3,
   "metadata": {},
   "outputs": [],
   "source": [
    "def run_batch (params, n):\n",
    "    shots = params.shots\n",
    "    error_rate = params.error_rate\n",
    "    c = params.c\n",
    "    rG2 = params.rG2\n",
    "\n",
    "    template_G = params.template_G\n",
    "    template_rG = params.template_rG\n",
    "    template_rG2 = params.template_rG2\n",
    "\n",
    "    loop_logical = params.loop_logical\n",
    "    string_logical = params.string_logical\n",
    "    boundary_logical = params.boundary_logical\n",
    "\n",
    "    rel_weights = params.rel_weights\n",
    "\n",
    "    matching_info = c.make_matching(0.1,rel_weights=rel_weights,auto_boundary=False)\n",
    "\n",
    "    logical_dict = dict()\n",
    "    for logical_class in itt.product([0,1],[0,1],[0,1]):\n",
    "        logical_dict[logical_class] = 0\n",
    "\n",
    "    for i in range(0,shots):\n",
    "        c.make_errors(error_rate)\n",
    "    \n",
    "        c.mark_errors()\n",
    "\n",
    "        errors = c.extract_error_set()\n",
    "        \n",
    "        \n",
    "        correction = c.move_errors_off_wall() \n",
    "        \n",
    "        c.mark_errors()\n",
    "\n",
    "        c.mark_errors_restricted_lattice()    \n",
    "\n",
    "        decoding = color_code.decode_restricted_single(c.rG,*matching_info)\n",
    "        c.mark_restricted_edges(c.rG,decoding)\n",
    "        \n",
    "        c.mark_modified_restricted_lattice(rG2,c.rG)\n",
    "\n",
    "        decoding_errors = c.lift_restricted_lattice(rG2)\n",
    "        \n",
    "        \n",
    "        decoding = [node for node in decoding_errors.keys() if decoding_errors[node]]\n",
    "        decoding = c.combine_errors(decoding,correction)\n",
    "        \n",
    "        assert c.check_logical(errors,decoding,G=template_G)\n",
    "\n",
    "        logical_result = tuple(c.identify_logical(c.combine_errors(errors,decoding),[boundary_logical,string_logical,loop_logical]))\n",
    "\n",
    "        logical_dict[logical_result] += 1\n",
    "\n",
    "        c.wipe_errors()\n",
    "        c.unmark_restricted_edges(c.rG)\n",
    "        c.unmark_restricted_edges(rG2)\n",
    "\n",
    "    return logical_dict\n"
   ]
  },
  {
   "cell_type": "code",
   "execution_count": 4,
   "metadata": {},
   "outputs": [
    {
     "name": "stderr",
     "output_type": "stream",
     "text": [
      "[Parallel(n_jobs=-1)]: Using backend LokyBackend with 12 concurrent workers.\n",
      "[Parallel(n_jobs=-1)]: Done   1 tasks      | elapsed:   25.9s\n",
      "[Parallel(n_jobs=-1)]: Done   3 out of  12 | elapsed:   26.3s remaining:  1.3min\n",
      "[Parallel(n_jobs=-1)]: Done   5 out of  12 | elapsed:   28.6s remaining:   40.1s\n",
      "[Parallel(n_jobs=-1)]: Done   7 out of  12 | elapsed:   29.4s remaining:   20.9s\n",
      "[Parallel(n_jobs=-1)]: Done   9 out of  12 | elapsed:   30.1s remaining:   10.0s\n",
      "[Parallel(n_jobs=-1)]: Done  12 out of  12 | elapsed:   30.7s finished\n",
      "[Parallel(n_jobs=-1)]: Using backend LokyBackend with 12 concurrent workers.\n"
     ]
    },
    {
     "name": "stdout",
     "output_type": "stream",
     "text": [
      "ERROR RATE 0.08\n",
      "TIME FOR BATCH, 30.762860536575317\n",
      "PARAMS (2.0, 2.0, 2.0)\n",
      "COMPLETION RATE 24000/10000000\n",
      "PERCENTAGE CORRECT, 0.613625\n",
      "CONFIDENCE (0.6074387731544615, 0.619772241973751)\n",
      "CONFIDENCE % 3.1920980444618667\n",
      "-----------------------------------------------\n"
     ]
    },
    {
     "name": "stderr",
     "output_type": "stream",
     "text": [
      "[Parallel(n_jobs=-1)]: Done   1 tasks      | elapsed:   22.7s\n",
      "[Parallel(n_jobs=-1)]: Done   3 out of  12 | elapsed:   23.4s remaining:  1.2min\n",
      "[Parallel(n_jobs=-1)]: Done   5 out of  12 | elapsed:   23.8s remaining:   33.3s\n",
      "[Parallel(n_jobs=-1)]: Done   7 out of  12 | elapsed:   24.2s remaining:   17.3s\n",
      "[Parallel(n_jobs=-1)]: Done   9 out of  12 | elapsed:   24.9s remaining:    8.2s\n",
      "[Parallel(n_jobs=-1)]: Done  12 out of  12 | elapsed:   26.0s finished\n",
      "[Parallel(n_jobs=-1)]: Using backend LokyBackend with 12 concurrent workers.\n"
     ]
    },
    {
     "name": "stdout",
     "output_type": "stream",
     "text": [
      "ERROR RATE 0.08\n",
      "TIME FOR BATCH, 26.134564638137817\n",
      "PARAMS (2.0, 2.0, 2.0)\n",
      "COMPLETION RATE 48000/10000000\n",
      "PERCENTAGE CORRECT, 0.6143125\n",
      "CONFIDENCE (0.6099485605332264, 0.6186673732589854)\n",
      "CONFIDENCE % 2.2605899143111765\n",
      "-----------------------------------------------\n"
     ]
    },
    {
     "name": "stderr",
     "output_type": "stream",
     "text": [
      "[Parallel(n_jobs=-1)]: Done   1 tasks      | elapsed:   22.3s\n",
      "[Parallel(n_jobs=-1)]: Done   3 out of  12 | elapsed:   22.5s remaining:  1.1min\n",
      "[Parallel(n_jobs=-1)]: Done   5 out of  12 | elapsed:   23.2s remaining:   32.5s\n",
      "[Parallel(n_jobs=-1)]: Done   7 out of  12 | elapsed:   23.7s remaining:   16.9s\n",
      "[Parallel(n_jobs=-1)]: Done   9 out of  12 | elapsed:   24.4s remaining:    8.1s\n",
      "[Parallel(n_jobs=-1)]: Done  12 out of  12 | elapsed:   24.8s finished\n",
      "[Parallel(n_jobs=-1)]: Using backend LokyBackend with 12 concurrent workers.\n"
     ]
    },
    {
     "name": "stdout",
     "output_type": "stream",
     "text": [
      "ERROR RATE 0.08\n",
      "TIME FOR BATCH, 24.907002449035645\n",
      "PARAMS (2.0, 2.0, 2.0)\n",
      "COMPLETION RATE 72000/10000000\n",
      "PERCENTAGE CORRECT, 0.6146527777777778\n",
      "CONFIDENCE (0.6110907122798164, 0.6182088020786414)\n",
      "CONFIDENCE % 1.8471885583542984\n",
      "-----------------------------------------------\n"
     ]
    },
    {
     "name": "stderr",
     "output_type": "stream",
     "text": [
      "[Parallel(n_jobs=-1)]: Done   1 tasks      | elapsed:   22.6s\n",
      "[Parallel(n_jobs=-1)]: Done   3 out of  12 | elapsed:   22.8s remaining:  1.1min\n",
      "[Parallel(n_jobs=-1)]: Done   5 out of  12 | elapsed:   23.5s remaining:   32.9s\n",
      "[Parallel(n_jobs=-1)]: Done   7 out of  12 | elapsed:   24.3s remaining:   17.3s\n",
      "[Parallel(n_jobs=-1)]: Done   9 out of  12 | elapsed:   24.6s remaining:    8.1s\n",
      "[Parallel(n_jobs=-1)]: Done  12 out of  12 | elapsed:   25.0s finished\n"
     ]
    },
    {
     "name": "stdout",
     "output_type": "stream",
     "text": [
      "ERROR RATE 0.08\n",
      "TIME FOR BATCH, 25.058583974838257\n",
      "PARAMS (2.0, 2.0, 2.0)\n",
      "COMPLETION RATE 96000/10000000\n",
      "PERCENTAGE CORRECT, 0.6141354166666667\n",
      "CONFIDENCE (0.6110472038742145, 0.6172138876174368)\n",
      "CONFIDENCE % 1.5981471245561585\n",
      "-----------------------------------------------\n"
     ]
    },
    {
     "name": "stderr",
     "output_type": "stream",
     "text": [
      "[Parallel(n_jobs=-1)]: Using backend LokyBackend with 12 concurrent workers.\n",
      "[Parallel(n_jobs=-1)]: Done   1 tasks      | elapsed:   22.5s\n",
      "[Parallel(n_jobs=-1)]: Done   3 out of  12 | elapsed:   22.9s remaining:  1.1min\n",
      "[Parallel(n_jobs=-1)]: Done   5 out of  12 | elapsed:   23.5s remaining:   32.9s\n",
      "[Parallel(n_jobs=-1)]: Done   7 out of  12 | elapsed:   23.8s remaining:   16.9s\n",
      "[Parallel(n_jobs=-1)]: Done   9 out of  12 | elapsed:   24.6s remaining:    8.1s\n",
      "[Parallel(n_jobs=-1)]: Done  12 out of  12 | elapsed:   25.3s finished\n",
      "[Parallel(n_jobs=-1)]: Using backend LokyBackend with 12 concurrent workers.\n"
     ]
    },
    {
     "name": "stdout",
     "output_type": "stream",
     "text": [
      "ERROR RATE 0.08\n",
      "TIME FOR BATCH, 25.403175830841064\n",
      "PARAMS (2.0, 2.0, 2.0)\n",
      "COMPLETION RATE 120000/10000000\n",
      "PERCENTAGE CORRECT, 0.6141833333333333\n",
      "CONFIDENCE (0.6114252608447668, 0.6169377766900475)\n",
      "CONFIDENCE % 1.4287915275685361\n",
      "-----------------------------------------------\n"
     ]
    },
    {
     "name": "stderr",
     "output_type": "stream",
     "text": [
      "[Parallel(n_jobs=-1)]: Done   1 tasks      | elapsed:   22.3s\n",
      "[Parallel(n_jobs=-1)]: Done   3 out of  12 | elapsed:   23.0s remaining:  1.2min\n",
      "[Parallel(n_jobs=-1)]: Done   5 out of  12 | elapsed:   23.8s remaining:   33.4s\n",
      "[Parallel(n_jobs=-1)]: Done   7 out of  12 | elapsed:   23.9s remaining:   17.0s\n",
      "[Parallel(n_jobs=-1)]: Done   9 out of  12 | elapsed:   24.3s remaining:    8.0s\n",
      "[Parallel(n_jobs=-1)]: Done  12 out of  12 | elapsed:   25.2s finished\n",
      "[Parallel(n_jobs=-1)]: Using backend LokyBackend with 12 concurrent workers.\n"
     ]
    },
    {
     "name": "stdout",
     "output_type": "stream",
     "text": [
      "ERROR RATE 0.08\n",
      "TIME FOR BATCH, 25.286871910095215\n",
      "PARAMS (2.0, 2.0, 2.0)\n",
      "COMPLETION RATE 144000/10000000\n",
      "PERCENTAGE CORRECT, 0.6151736111111111\n",
      "CONFIDENCE (0.612656470424733, 0.6176842574449228)\n",
      "CONFIDENCE % 1.3065078605203126\n",
      "-----------------------------------------------\n"
     ]
    },
    {
     "name": "stderr",
     "output_type": "stream",
     "text": [
      "[Parallel(n_jobs=-1)]: Done   1 tasks      | elapsed:   22.1s\n",
      "[Parallel(n_jobs=-1)]: Done   3 out of  12 | elapsed:   22.2s remaining:  1.1min\n",
      "[Parallel(n_jobs=-1)]: Done   5 out of  12 | elapsed:   23.3s remaining:   32.6s\n",
      "[Parallel(n_jobs=-1)]: Done   7 out of  12 | elapsed:   24.3s remaining:   17.3s\n",
      "[Parallel(n_jobs=-1)]: Done   9 out of  12 | elapsed:   24.7s remaining:    8.2s\n",
      "[Parallel(n_jobs=-1)]: Done  12 out of  12 | elapsed:   25.4s finished\n",
      "[Parallel(n_jobs=-1)]: Using backend LokyBackend with 12 concurrent workers.\n"
     ]
    },
    {
     "name": "stdout",
     "output_type": "stream",
     "text": [
      "ERROR RATE 0.08\n",
      "TIME FOR BATCH, 25.533631324768066\n",
      "PARAMS (2.0, 2.0, 2.0)\n",
      "COMPLETION RATE 168000/10000000\n",
      "PERCENTAGE CORRECT, 0.6156845238095238\n",
      "CONFIDENCE (0.6133543571438036, 0.6180091264312366)\n",
      "CONFIDENCE % 1.211184450226513\n",
      "-----------------------------------------------\n"
     ]
    },
    {
     "name": "stderr",
     "output_type": "stream",
     "text": [
      "[Parallel(n_jobs=-1)]: Done   1 tasks      | elapsed:   22.5s\n",
      "[Parallel(n_jobs=-1)]: Done   3 out of  12 | elapsed:   22.7s remaining:  1.1min\n",
      "[Parallel(n_jobs=-1)]: Done   5 out of  12 | elapsed:   23.5s remaining:   32.9s\n",
      "[Parallel(n_jobs=-1)]: Done   7 out of  12 | elapsed:   23.6s remaining:   16.9s\n",
      "[Parallel(n_jobs=-1)]: Done   9 out of  12 | elapsed:   25.1s remaining:    8.3s\n",
      "[Parallel(n_jobs=-1)]: Done  12 out of  12 | elapsed:   25.2s finished\n"
     ]
    },
    {
     "name": "stdout",
     "output_type": "stream",
     "text": [
      "ERROR RATE 0.08\n",
      "TIME FOR BATCH, 25.330165147781372\n",
      "PARAMS (2.0, 2.0, 2.0)\n",
      "COMPLETION RATE 192000/10000000\n",
      "PERCENTAGE CORRECT, 0.6158125\n",
      "CONFIDENCE (0.6136329796663247, 0.617987152389117)\n",
      "CONFIDENCE % 1.1333457550785124\n",
      "-----------------------------------------------\n"
     ]
    },
    {
     "name": "stderr",
     "output_type": "stream",
     "text": [
      "[Parallel(n_jobs=-1)]: Using backend LokyBackend with 12 concurrent workers.\n",
      "[Parallel(n_jobs=-1)]: Done   1 tasks      | elapsed:   22.1s\n",
      "[Parallel(n_jobs=-1)]: Done   3 out of  12 | elapsed:   22.2s remaining:  1.1min\n",
      "[Parallel(n_jobs=-1)]: Done   5 out of  12 | elapsed:   23.1s remaining:   32.4s\n",
      "[Parallel(n_jobs=-1)]: Done   7 out of  12 | elapsed:   23.3s remaining:   16.6s\n",
      "[Parallel(n_jobs=-1)]: Done   9 out of  12 | elapsed:   24.2s remaining:    8.0s\n",
      "[Parallel(n_jobs=-1)]: Done  12 out of  12 | elapsed:   24.9s finished\n",
      "[Parallel(n_jobs=-1)]: Using backend LokyBackend with 12 concurrent workers.\n"
     ]
    },
    {
     "name": "stdout",
     "output_type": "stream",
     "text": [
      "ERROR RATE 0.08\n",
      "TIME FOR BATCH, 24.98180317878723\n",
      "PARAMS (2.0, 2.0, 2.0)\n",
      "COMPLETION RATE 216000/10000000\n",
      "PERCENTAGE CORRECT, 0.6151898148148148\n",
      "CONFIDENCE (0.6131344072190993, 0.6172408937742105)\n",
      "CONFIDENCE % 1.0671460146344771\n",
      "-----------------------------------------------\n"
     ]
    },
    {
     "name": "stderr",
     "output_type": "stream",
     "text": [
      "[Parallel(n_jobs=-1)]: Done   1 tasks      | elapsed:   22.3s\n",
      "[Parallel(n_jobs=-1)]: Done   3 out of  12 | elapsed:   22.7s remaining:  1.1min\n",
      "[Parallel(n_jobs=-1)]: Done   5 out of  12 | elapsed:   23.5s remaining:   33.0s\n",
      "[Parallel(n_jobs=-1)]: Done   7 out of  12 | elapsed:   23.6s remaining:   16.8s\n",
      "[Parallel(n_jobs=-1)]: Done   9 out of  12 | elapsed:   24.6s remaining:    8.1s\n",
      "[Parallel(n_jobs=-1)]: Done  12 out of  12 | elapsed:   25.2s finished\n",
      "[Parallel(n_jobs=-1)]: Using backend LokyBackend with 12 concurrent workers.\n"
     ]
    },
    {
     "name": "stdout",
     "output_type": "stream",
     "text": [
      "ERROR RATE 0.08\n",
      "TIME FOR BATCH, 25.323936223983765\n",
      "PARAMS (2.0, 2.0, 2.0)\n",
      "COMPLETION RATE 240000/10000000\n",
      "PERCENTAGE CORRECT, 0.6148916666666666\n",
      "CONFIDENCE (0.6129417994462809, 0.6168376371085225)\n",
      "CONFIDENCE % 1.0116212309717747\n",
      "-----------------------------------------------\n"
     ]
    },
    {
     "name": "stderr",
     "output_type": "stream",
     "text": [
      "[Parallel(n_jobs=-1)]: Done   1 tasks      | elapsed:   22.2s\n",
      "[Parallel(n_jobs=-1)]: Done   3 out of  12 | elapsed:   22.4s remaining:  1.1min\n",
      "[Parallel(n_jobs=-1)]: Done   5 out of  12 | elapsed:   23.4s remaining:   32.8s\n",
      "[Parallel(n_jobs=-1)]: Done   7 out of  12 | elapsed:   23.6s remaining:   16.8s\n",
      "[Parallel(n_jobs=-1)]: Done   9 out of  12 | elapsed:   24.4s remaining:    8.1s\n",
      "[Parallel(n_jobs=-1)]: Done  12 out of  12 | elapsed:   25.1s finished\n"
     ]
    },
    {
     "name": "stdout",
     "output_type": "stream",
     "text": [
      "ERROR RATE 0.08\n",
      "TIME FOR BATCH, 25.220396518707275\n",
      "PARAMS (2.0, 2.0, 2.0)\n",
      "COMPLETION RATE 264000/10000000\n",
      "PERCENTAGE CORRECT, 0.6147651515151515\n",
      "CONFIDENCE (0.6129054240318059, 0.6166213368954522)\n",
      "CONFIDENCE % 0.9645837800658895\n",
      "-----------------------------------------------\n"
     ]
    },
    {
     "name": "stderr",
     "output_type": "stream",
     "text": [
      "[Parallel(n_jobs=-1)]: Using backend LokyBackend with 12 concurrent workers.\n",
      "[Parallel(n_jobs=-1)]: Done   1 tasks      | elapsed:   22.5s\n",
      "[Parallel(n_jobs=-1)]: Done   3 out of  12 | elapsed:   22.7s remaining:  1.1min\n",
      "[Parallel(n_jobs=-1)]: Done   5 out of  12 | elapsed:   23.4s remaining:   32.9s\n",
      "[Parallel(n_jobs=-1)]: Done   7 out of  12 | elapsed:   24.0s remaining:   17.1s\n",
      "[Parallel(n_jobs=-1)]: Done   9 out of  12 | elapsed:   24.4s remaining:    8.1s\n",
      "[Parallel(n_jobs=-1)]: Done  12 out of  12 | elapsed:   25.2s finished\n",
      "[Parallel(n_jobs=-1)]: Using backend LokyBackend with 12 concurrent workers.\n"
     ]
    },
    {
     "name": "stdout",
     "output_type": "stream",
     "text": [
      "ERROR RATE 0.08\n",
      "TIME FOR BATCH, 25.326305150985718\n",
      "PARAMS (2.0, 2.0, 2.0)\n",
      "COMPLETION RATE 288000/10000000\n",
      "PERCENTAGE CORRECT, 0.6149583333333334\n",
      "CONFIDENCE (0.6131789301115166, 0.6167344889567973)\n",
      "CONFIDENCE % 0.9234218405663526\n",
      "-----------------------------------------------\n"
     ]
    },
    {
     "name": "stderr",
     "output_type": "stream",
     "text": [
      "[Parallel(n_jobs=-1)]: Done   1 tasks      | elapsed:   22.0s\n",
      "[Parallel(n_jobs=-1)]: Done   3 out of  12 | elapsed:   22.3s remaining:  1.1min\n",
      "[Parallel(n_jobs=-1)]: Done   5 out of  12 | elapsed:   23.2s remaining:   32.5s\n",
      "[Parallel(n_jobs=-1)]: Done   7 out of  12 | elapsed:   23.3s remaining:   16.6s\n",
      "[Parallel(n_jobs=-1)]: Done   9 out of  12 | elapsed:   24.4s remaining:    8.1s\n",
      "[Parallel(n_jobs=-1)]: Done  12 out of  12 | elapsed:   24.7s finished\n"
     ]
    },
    {
     "name": "stdout",
     "output_type": "stream",
     "text": [
      "ERROR RATE 0.08\n",
      "TIME FOR BATCH, 24.785934448242188\n",
      "PARAMS (2.0, 2.0, 2.0)\n",
      "COMPLETION RATE 312000/10000000\n",
      "PERCENTAGE CORRECT, 0.6152660256410256\n",
      "CONFIDENCE (0.6135561925347551, 0.6169728621397024)\n",
      "CONFIDENCE % 0.8880602787003503\n",
      "-----------------------------------------------\n"
     ]
    },
    {
     "name": "stderr",
     "output_type": "stream",
     "text": [
      "[Parallel(n_jobs=-1)]: Using backend LokyBackend with 12 concurrent workers.\n",
      "[Parallel(n_jobs=-1)]: Done   1 tasks      | elapsed:   31.1s\n",
      "[Parallel(n_jobs=-1)]: Done   3 out of  12 | elapsed:   31.2s remaining:  1.6min\n",
      "[Parallel(n_jobs=-1)]: Done   5 out of  12 | elapsed:   32.6s remaining:   45.7s\n",
      "[Parallel(n_jobs=-1)]: Done   7 out of  12 | elapsed:   33.4s remaining:   23.8s\n",
      "[Parallel(n_jobs=-1)]: Done   9 out of  12 | elapsed:   34.3s remaining:   11.4s\n",
      "[Parallel(n_jobs=-1)]: Done  12 out of  12 | elapsed:   35.1s finished\n"
     ]
    },
    {
     "name": "stdout",
     "output_type": "stream",
     "text": [
      "ERROR RATE 0.08\n",
      "TIME FOR BATCH, 35.19333076477051\n",
      "PARAMS (2.0, 2.0, 2.0)\n",
      "COMPLETION RATE 336000/10000000\n",
      "PERCENTAGE CORRECT, 0.6154583333333333\n",
      "CONFIDENCE (0.6138111074493282, 0.6171027767481194)\n",
      "CONFIDENCE % 0.8559980839851453\n",
      "-----------------------------------------------\n"
     ]
    },
    {
     "name": "stderr",
     "output_type": "stream",
     "text": [
      "[Parallel(n_jobs=-1)]: Using backend LokyBackend with 12 concurrent workers.\n",
      "[Parallel(n_jobs=-1)]: Done   1 tasks      | elapsed:   20.3s\n",
      "[Parallel(n_jobs=-1)]: Done   3 out of  12 | elapsed:   20.9s remaining:  1.1min\n",
      "[Parallel(n_jobs=-1)]: Done   5 out of  12 | elapsed:   21.3s remaining:   29.9s\n",
      "[Parallel(n_jobs=-1)]: Done   7 out of  12 | elapsed:   21.7s remaining:   15.5s\n",
      "[Parallel(n_jobs=-1)]: Done   9 out of  12 | elapsed:   22.2s remaining:    7.3s\n",
      "[Parallel(n_jobs=-1)]: Done  12 out of  12 | elapsed:   23.6s finished\n"
     ]
    },
    {
     "name": "stdout",
     "output_type": "stream",
     "text": [
      "ERROR RATE 0.08\n",
      "TIME FOR BATCH, 23.675861835479736\n",
      "PARAMS (2.0, 2.0, 2.0)\n",
      "COMPLETION RATE 360000/10000000\n",
      "PERCENTAGE CORRECT, 0.615825\n",
      "CONFIDENCE (0.6142348112927327, 0.6174139810565265)\n",
      "CONFIDENCE % 0.8275316623397493\n",
      "-----------------------------------------------\n"
     ]
    },
    {
     "name": "stderr",
     "output_type": "stream",
     "text": [
      "[Parallel(n_jobs=-1)]: Using backend LokyBackend with 12 concurrent workers.\n",
      "[Parallel(n_jobs=-1)]: Done   1 tasks      | elapsed:   21.4s\n",
      "[Parallel(n_jobs=-1)]: Done   3 out of  12 | elapsed:   21.6s remaining:  1.1min\n",
      "[Parallel(n_jobs=-1)]: Done   5 out of  12 | elapsed:   21.9s remaining:   30.8s\n",
      "[Parallel(n_jobs=-1)]: Done   7 out of  12 | elapsed:   22.1s remaining:   15.8s\n",
      "[Parallel(n_jobs=-1)]: Done   9 out of  12 | elapsed:   22.8s remaining:    7.5s\n",
      "[Parallel(n_jobs=-1)]: Done  12 out of  12 | elapsed:   22.9s finished\n"
     ]
    },
    {
     "name": "stdout",
     "output_type": "stream",
     "text": [
      "ERROR RATE 0.08\n",
      "TIME FOR BATCH, 22.98965358734131\n",
      "PARAMS (2.0, 2.0, 2.0)\n",
      "COMPLETION RATE 384000/10000000\n",
      "PERCENTAGE CORRECT, 0.6158463541666667\n",
      "CONFIDENCE (0.614306073452337, 0.6173842006105648)\n",
      "CONFIDENCE % 0.8012750084801248\n",
      "-----------------------------------------------\n"
     ]
    },
    {
     "name": "stderr",
     "output_type": "stream",
     "text": [
      "[Parallel(n_jobs=-1)]: Using backend LokyBackend with 12 concurrent workers.\n",
      "[Parallel(n_jobs=-1)]: Done   1 tasks      | elapsed:   19.9s\n",
      "[Parallel(n_jobs=-1)]: Done   3 out of  12 | elapsed:   20.3s remaining:  1.0min\n",
      "[Parallel(n_jobs=-1)]: Done   5 out of  12 | elapsed:   20.9s remaining:   29.3s\n",
      "[Parallel(n_jobs=-1)]: Done   7 out of  12 | elapsed:   21.8s remaining:   15.6s\n",
      "[Parallel(n_jobs=-1)]: Done   9 out of  12 | elapsed:   22.7s remaining:    7.5s\n",
      "[Parallel(n_jobs=-1)]: Done  12 out of  12 | elapsed:   23.5s finished\n"
     ]
    },
    {
     "name": "stdout",
     "output_type": "stream",
     "text": [
      "ERROR RATE 0.08\n",
      "TIME FOR BATCH, 23.614133596420288\n",
      "PARAMS (2.0, 2.0, 2.0)\n",
      "COMPLETION RATE 408000/10000000\n",
      "PERCENTAGE CORRECT, 0.6157794117647059\n",
      "CONFIDENCE (0.6142856178909054, 0.6172721400677363)\n",
      "CONFIDENCE % 0.7772936350308235\n",
      "-----------------------------------------------\n"
     ]
    },
    {
     "name": "stderr",
     "output_type": "stream",
     "text": [
      "[Parallel(n_jobs=-1)]: Using backend LokyBackend with 12 concurrent workers.\n",
      "[Parallel(n_jobs=-1)]: Done   1 tasks      | elapsed:   22.5s\n",
      "[Parallel(n_jobs=-1)]: Done   3 out of  12 | elapsed:   22.7s remaining:  1.1min\n",
      "[Parallel(n_jobs=-1)]: Done   5 out of  12 | elapsed:   23.4s remaining:   32.8s\n",
      "[Parallel(n_jobs=-1)]: Done   7 out of  12 | elapsed:   23.4s remaining:   16.7s\n",
      "[Parallel(n_jobs=-1)]: Done   9 out of  12 | elapsed:   23.8s remaining:    7.9s\n",
      "[Parallel(n_jobs=-1)]: Done  12 out of  12 | elapsed:   24.1s finished\n"
     ]
    },
    {
     "name": "stdout",
     "output_type": "stream",
     "text": [
      "ERROR RATE 0.08\n",
      "TIME FOR BATCH, 24.19664192199707\n",
      "PARAMS (2.0, 2.0, 2.0)\n",
      "COMPLETION RATE 432000/10000000\n",
      "PERCENTAGE CORRECT, 0.6156898148148148\n",
      "CONFIDENCE (0.6142373431314665, 0.6171401227277301)\n",
      "CONFIDENCE % 0.7553220570682693\n",
      "-----------------------------------------------\n"
     ]
    },
    {
     "name": "stderr",
     "output_type": "stream",
     "text": [
      "[Parallel(n_jobs=-1)]: Using backend LokyBackend with 12 concurrent workers.\n",
      "[Parallel(n_jobs=-1)]: Done   1 tasks      | elapsed:   20.5s\n",
      "[Parallel(n_jobs=-1)]: Done   3 out of  12 | elapsed:   20.6s remaining:  1.0min\n",
      "[Parallel(n_jobs=-1)]: Done   5 out of  12 | elapsed:   20.9s remaining:   29.2s\n",
      "[Parallel(n_jobs=-1)]: Done   7 out of  12 | elapsed:   21.2s remaining:   15.1s\n",
      "[Parallel(n_jobs=-1)]: Done   9 out of  12 | elapsed:   21.4s remaining:    7.1s\n",
      "[Parallel(n_jobs=-1)]: Done  12 out of  12 | elapsed:   22.0s finished\n",
      "[Parallel(n_jobs=-1)]: Using backend LokyBackend with 12 concurrent workers.\n"
     ]
    },
    {
     "name": "stdout",
     "output_type": "stream",
     "text": [
      "ERROR RATE 0.08\n",
      "TIME FOR BATCH, 22.06951928138733\n",
      "PARAMS (2.0, 2.0, 2.0)\n",
      "COMPLETION RATE 456000/10000000\n",
      "PERCENTAGE CORRECT, 0.6155745614035087\n",
      "CONFIDENCE (0.6141612546303641, 0.6169858177016037)\n",
      "CONFIDENCE % 0.7347492615347835\n",
      "-----------------------------------------------\n"
     ]
    },
    {
     "name": "stderr",
     "output_type": "stream",
     "text": [
      "[Parallel(n_jobs=-1)]: Done   1 tasks      | elapsed:   20.8s\n",
      "[Parallel(n_jobs=-1)]: Done   3 out of  12 | elapsed:   20.9s remaining:  1.0min\n",
      "[Parallel(n_jobs=-1)]: Done   5 out of  12 | elapsed:   21.0s remaining:   29.4s\n",
      "[Parallel(n_jobs=-1)]: Done   7 out of  12 | elapsed:   21.3s remaining:   15.2s\n",
      "[Parallel(n_jobs=-1)]: Done   9 out of  12 | elapsed:   22.0s remaining:    7.3s\n",
      "[Parallel(n_jobs=-1)]: Done  12 out of  12 | elapsed:   22.2s finished\n"
     ]
    },
    {
     "name": "stdout",
     "output_type": "stream",
     "text": [
      "ERROR RATE 0.08\n",
      "TIME FOR BATCH, 22.28477931022644\n",
      "PARAMS (2.0, 2.0, 2.0)\n",
      "COMPLETION RATE 480000/10000000\n",
      "PERCENTAGE CORRECT, 0.6156333333333334\n",
      "CONFIDENCE (0.6142563167583456, 0.6170094437761628)\n",
      "CONFIDENCE % 0.7162762165858824\n",
      "-----------------------------------------------\n"
     ]
    },
    {
     "name": "stderr",
     "output_type": "stream",
     "text": [
      "[Parallel(n_jobs=-1)]: Using backend LokyBackend with 12 concurrent workers.\n",
      "[Parallel(n_jobs=-1)]: Done   1 tasks      | elapsed:   20.5s\n",
      "[Parallel(n_jobs=-1)]: Done   3 out of  12 | elapsed:   20.6s remaining:  1.0min\n",
      "[Parallel(n_jobs=-1)]: Done   5 out of  12 | elapsed:   21.3s remaining:   29.8s\n",
      "[Parallel(n_jobs=-1)]: Done   7 out of  12 | elapsed:   21.3s remaining:   15.2s\n",
      "[Parallel(n_jobs=-1)]: Done   9 out of  12 | elapsed:   21.7s remaining:    7.2s\n",
      "[Parallel(n_jobs=-1)]: Done  12 out of  12 | elapsed:   22.1s finished\n",
      "[Parallel(n_jobs=-1)]: Using backend LokyBackend with 12 concurrent workers.\n"
     ]
    },
    {
     "name": "stdout",
     "output_type": "stream",
     "text": [
      "ERROR RATE 0.08\n",
      "TIME FOR BATCH, 22.17829656600952\n",
      "PARAMS (2.0, 2.0, 2.0)\n",
      "COMPLETION RATE 504000/10000000\n",
      "PERCENTAGE CORRECT, 0.6156607142857143\n",
      "CONFIDENCE (0.6143165320351534, 0.6170030414089313)\n",
      "CONFIDENCE % 0.6989942151724318\n",
      "-----------------------------------------------\n"
     ]
    },
    {
     "name": "stderr",
     "output_type": "stream",
     "text": [
      "[Parallel(n_jobs=-1)]: Done   1 tasks      | elapsed:   20.6s\n",
      "[Parallel(n_jobs=-1)]: Done   3 out of  12 | elapsed:   21.1s remaining:  1.1min\n",
      "[Parallel(n_jobs=-1)]: Done   5 out of  12 | elapsed:   21.3s remaining:   29.9s\n",
      "[Parallel(n_jobs=-1)]: Done   7 out of  12 | elapsed:   21.4s remaining:   15.3s\n",
      "[Parallel(n_jobs=-1)]: Done   9 out of  12 | elapsed:   21.9s remaining:    7.2s\n",
      "[Parallel(n_jobs=-1)]: Done  12 out of  12 | elapsed:   22.2s finished\n",
      "[Parallel(n_jobs=-1)]: Using backend LokyBackend with 12 concurrent workers.\n"
     ]
    },
    {
     "name": "stdout",
     "output_type": "stream",
     "text": [
      "ERROR RATE 0.08\n",
      "TIME FOR BATCH, 22.311678647994995\n",
      "PARAMS (2.0, 2.0, 2.0)\n",
      "COMPLETION RATE 528000/10000000\n",
      "PERCENTAGE CORRECT, 0.6155681818181818\n",
      "CONFIDENCE (0.6142547957215871, 0.6168797970697646)\n",
      "CONFIDENCE % 0.6828262448702789\n",
      "-----------------------------------------------\n"
     ]
    },
    {
     "name": "stderr",
     "output_type": "stream",
     "text": [
      "[Parallel(n_jobs=-1)]: Done   1 tasks      | elapsed:   20.3s\n",
      "[Parallel(n_jobs=-1)]: Done   3 out of  12 | elapsed:   20.6s remaining:  1.0min\n",
      "[Parallel(n_jobs=-1)]: Done   5 out of  12 | elapsed:   20.8s remaining:   29.1s\n",
      "[Parallel(n_jobs=-1)]: Done   7 out of  12 | elapsed:   21.1s remaining:   15.0s\n",
      "[Parallel(n_jobs=-1)]: Done   9 out of  12 | elapsed:   21.4s remaining:    7.1s\n",
      "[Parallel(n_jobs=-1)]: Done  12 out of  12 | elapsed:   21.8s finished\n",
      "[Parallel(n_jobs=-1)]: Using backend LokyBackend with 12 concurrent workers.\n"
     ]
    },
    {
     "name": "stdout",
     "output_type": "stream",
     "text": [
      "ERROR RATE 0.08\n",
      "TIME FOR BATCH, 21.86806607246399\n",
      "PARAMS (2.0, 2.0, 2.0)\n",
      "COMPLETION RATE 552000/10000000\n",
      "PERCENTAGE CORRECT, 0.6155271739130435\n",
      "CONFIDENCE (0.6142428117793952, 0.6168098420209001)\n",
      "CONFIDENCE % 0.6676753381067962\n",
      "-----------------------------------------------\n"
     ]
    },
    {
     "name": "stderr",
     "output_type": "stream",
     "text": [
      "[Parallel(n_jobs=-1)]: Done   1 tasks      | elapsed:   20.8s\n",
      "[Parallel(n_jobs=-1)]: Done   3 out of  12 | elapsed:   20.9s remaining:  1.1min\n",
      "[Parallel(n_jobs=-1)]: Done   5 out of  12 | elapsed:   21.0s remaining:   29.4s\n",
      "[Parallel(n_jobs=-1)]: Done   7 out of  12 | elapsed:   21.2s remaining:   15.1s\n",
      "[Parallel(n_jobs=-1)]: Done   9 out of  12 | elapsed:   22.1s remaining:    7.3s\n",
      "[Parallel(n_jobs=-1)]: Done  12 out of  12 | elapsed:   22.4s finished\n"
     ]
    },
    {
     "name": "stdout",
     "output_type": "stream",
     "text": [
      "ERROR RATE 0.08\n",
      "TIME FOR BATCH, 22.45720624923706\n",
      "PARAMS (2.0, 2.0, 2.0)\n",
      "COMPLETION RATE 576000/10000000\n",
      "PERCENTAGE CORRECT, 0.6156510416666666\n",
      "CONFIDENCE (0.6143932851845659, 0.6169071752662367)\n",
      "CONFIDENCE % 0.6540644971621296\n",
      "-----------------------------------------------\n"
     ]
    },
    {
     "name": "stderr",
     "output_type": "stream",
     "text": [
      "[Parallel(n_jobs=-1)]: Using backend LokyBackend with 12 concurrent workers.\n",
      "[Parallel(n_jobs=-1)]: Done   1 tasks      | elapsed:   20.3s\n",
      "[Parallel(n_jobs=-1)]: Done   3 out of  12 | elapsed:   20.5s remaining:  1.0min\n",
      "[Parallel(n_jobs=-1)]: Done   5 out of  12 | elapsed:   21.0s remaining:   29.4s\n",
      "[Parallel(n_jobs=-1)]: Done   7 out of  12 | elapsed:   21.3s remaining:   15.2s\n",
      "[Parallel(n_jobs=-1)]: Done   9 out of  12 | elapsed:   21.4s remaining:    7.1s\n",
      "[Parallel(n_jobs=-1)]: Done  12 out of  12 | elapsed:   21.8s finished\n",
      "[Parallel(n_jobs=-1)]: Using backend LokyBackend with 12 concurrent workers.\n"
     ]
    },
    {
     "name": "stdout",
     "output_type": "stream",
     "text": [
      "ERROR RATE 0.08\n",
      "TIME FOR BATCH, 21.949249267578125\n",
      "PARAMS (2.0, 2.0, 2.0)\n",
      "COMPLETION RATE 600000/10000000\n",
      "PERCENTAGE CORRECT, 0.6157866666666667\n",
      "CONFIDENCE (0.6145550536020619, 0.617017555052711)\n",
      "CONFIDENCE % 0.6409203525773505\n",
      "-----------------------------------------------\n"
     ]
    },
    {
     "name": "stderr",
     "output_type": "stream",
     "text": [
      "[Parallel(n_jobs=-1)]: Done   1 tasks      | elapsed:   20.8s\n",
      "[Parallel(n_jobs=-1)]: Done   3 out of  12 | elapsed:   20.8s remaining:  1.0min\n",
      "[Parallel(n_jobs=-1)]: Done   5 out of  12 | elapsed:   21.2s remaining:   29.7s\n",
      "[Parallel(n_jobs=-1)]: Done   7 out of  12 | elapsed:   21.5s remaining:   15.3s\n",
      "[Parallel(n_jobs=-1)]: Done   9 out of  12 | elapsed:   21.9s remaining:    7.2s\n",
      "[Parallel(n_jobs=-1)]: Done  12 out of  12 | elapsed:   22.3s finished\n"
     ]
    },
    {
     "name": "stdout",
     "output_type": "stream",
     "text": [
      "ERROR RATE 0.08\n",
      "TIME FOR BATCH, 22.380757331848145\n",
      "PARAMS (2.0, 2.0, 2.0)\n",
      "COMPLETION RATE 624000/10000000\n",
      "PERCENTAGE CORRECT, 0.6156875\n",
      "CONFIDENCE (0.6144792183826504, 0.6168942835422203)\n",
      "CONFIDENCE % 0.6284118157931129\n",
      "-----------------------------------------------\n"
     ]
    },
    {
     "name": "stderr",
     "output_type": "stream",
     "text": [
      "[Parallel(n_jobs=-1)]: Using backend LokyBackend with 12 concurrent workers.\n",
      "[Parallel(n_jobs=-1)]: Done   1 tasks      | elapsed:   20.6s\n",
      "[Parallel(n_jobs=-1)]: Done   3 out of  12 | elapsed:   20.6s remaining:  1.0min\n",
      "[Parallel(n_jobs=-1)]: Done   5 out of  12 | elapsed:   21.0s remaining:   29.4s\n",
      "[Parallel(n_jobs=-1)]: Done   7 out of  12 | elapsed:   21.1s remaining:   15.1s\n",
      "[Parallel(n_jobs=-1)]: Done   9 out of  12 | elapsed:   21.4s remaining:    7.1s\n",
      "[Parallel(n_jobs=-1)]: Done  12 out of  12 | elapsed:   22.0s finished\n",
      "[Parallel(n_jobs=-1)]: Using backend LokyBackend with 12 concurrent workers.\n"
     ]
    },
    {
     "name": "stdout",
     "output_type": "stream",
     "text": [
      "ERROR RATE 0.08\n",
      "TIME FOR BATCH, 22.08523464202881\n",
      "PARAMS (2.0, 2.0, 2.0)\n",
      "COMPLETION RATE 648000/10000000\n",
      "PERCENTAGE CORRECT, 0.6156234567901234\n",
      "CONFIDENCE (0.614438321164941, 0.61680792122558)\n",
      "CONFIDENCE % 0.6164788415158768\n",
      "-----------------------------------------------\n"
     ]
    },
    {
     "name": "stderr",
     "output_type": "stream",
     "text": [
      "[Parallel(n_jobs=-1)]: Done   1 tasks      | elapsed:   21.0s\n",
      "[Parallel(n_jobs=-1)]: Done   3 out of  12 | elapsed:   21.3s remaining:  1.1min\n",
      "[Parallel(n_jobs=-1)]: Done   5 out of  12 | elapsed:   21.5s remaining:   30.1s\n",
      "[Parallel(n_jobs=-1)]: Done   7 out of  12 | elapsed:   21.5s remaining:   15.4s\n",
      "[Parallel(n_jobs=-1)]: Done   9 out of  12 | elapsed:   21.9s remaining:    7.2s\n",
      "[Parallel(n_jobs=-1)]: Done  12 out of  12 | elapsed:   22.2s finished\n",
      "[Parallel(n_jobs=-1)]: Using backend LokyBackend with 12 concurrent workers.\n"
     ]
    },
    {
     "name": "stdout",
     "output_type": "stream",
     "text": [
      "ERROR RATE 0.08\n",
      "TIME FOR BATCH, 22.342434883117676\n",
      "PARAMS (2.0, 2.0, 2.0)\n",
      "COMPLETION RATE 672000/10000000\n",
      "PERCENTAGE CORRECT, 0.6158139880952381\n",
      "CONFIDENCE (0.6146503454903376, 0.6169769836237821)\n",
      "CONFIDENCE % 0.6056019900123885\n",
      "-----------------------------------------------\n"
     ]
    },
    {
     "name": "stderr",
     "output_type": "stream",
     "text": [
      "[Parallel(n_jobs=-1)]: Done   1 tasks      | elapsed:   20.4s\n",
      "[Parallel(n_jobs=-1)]: Done   3 out of  12 | elapsed:   20.6s remaining:  1.0min\n",
      "[Parallel(n_jobs=-1)]: Done   5 out of  12 | elapsed:   20.8s remaining:   29.2s\n",
      "[Parallel(n_jobs=-1)]: Done   7 out of  12 | elapsed:   21.3s remaining:   15.2s\n",
      "[Parallel(n_jobs=-1)]: Done   9 out of  12 | elapsed:   21.4s remaining:    7.1s\n",
      "[Parallel(n_jobs=-1)]: Done  12 out of  12 | elapsed:   21.7s finished\n",
      "[Parallel(n_jobs=-1)]: Using backend LokyBackend with 12 concurrent workers.\n"
     ]
    },
    {
     "name": "stdout",
     "output_type": "stream",
     "text": [
      "ERROR RATE 0.08\n",
      "TIME FOR BATCH, 21.798935651779175\n",
      "PARAMS (2.0, 2.0, 2.0)\n",
      "COMPLETION RATE 696000/10000000\n",
      "PERCENTAGE CORRECT, 0.6157543103448276\n",
      "CONFIDENCE (0.6146106784638427, 0.6168965988978758)\n",
      "CONFIDENCE % 0.5949111455445637\n",
      "-----------------------------------------------\n"
     ]
    },
    {
     "name": "stderr",
     "output_type": "stream",
     "text": [
      "[Parallel(n_jobs=-1)]: Done   1 tasks      | elapsed:   20.9s\n",
      "[Parallel(n_jobs=-1)]: Done   3 out of  12 | elapsed:   21.1s remaining:  1.1min\n",
      "[Parallel(n_jobs=-1)]: Done   5 out of  12 | elapsed:   21.3s remaining:   29.9s\n",
      "[Parallel(n_jobs=-1)]: Done   7 out of  12 | elapsed:   21.6s remaining:   15.4s\n",
      "[Parallel(n_jobs=-1)]: Done   9 out of  12 | elapsed:   22.1s remaining:    7.3s\n",
      "[Parallel(n_jobs=-1)]: Done  12 out of  12 | elapsed:   22.5s finished\n"
     ]
    },
    {
     "name": "stdout",
     "output_type": "stream",
     "text": [
      "ERROR RATE 0.08105263157894738\n",
      "TIME FOR BATCH, 22.569138050079346\n",
      "PARAMS (2.0, 2.0, 2.0)\n",
      "COMPLETION RATE 24000/10000000\n",
      "PERCENTAGE CORRECT, 0.5982083333333333\n",
      "CONFIDENCE (0.5919802594601561, 0.6043970555450185)\n",
      "CONFIDENCE % 3.090356798057648\n",
      "-----------------------------------------------\n"
     ]
    },
    {
     "name": "stderr",
     "output_type": "stream",
     "text": [
      "[Parallel(n_jobs=-1)]: Using backend LokyBackend with 12 concurrent workers.\n",
      "[Parallel(n_jobs=-1)]: Done   1 tasks      | elapsed:   19.2s\n",
      "[Parallel(n_jobs=-1)]: Done   3 out of  12 | elapsed:   19.9s remaining:   60.0s\n",
      "[Parallel(n_jobs=-1)]: Done   5 out of  12 | elapsed:   21.3s remaining:   29.8s\n",
      "[Parallel(n_jobs=-1)]: Done   7 out of  12 | elapsed:   21.9s remaining:   15.6s\n",
      "[Parallel(n_jobs=-1)]: Done   9 out of  12 | elapsed:   22.8s remaining:    7.5s\n",
      "[Parallel(n_jobs=-1)]: Done  12 out of  12 | elapsed:   23.7s finished\n"
     ]
    },
    {
     "name": "stdout",
     "output_type": "stream",
     "text": [
      "ERROR RATE 0.08105263157894738\n",
      "TIME FOR BATCH, 23.784912586212158\n",
      "PARAMS (2.0, 2.0, 2.0)\n",
      "COMPLETION RATE 48000/10000000\n",
      "PERCENTAGE CORRECT, 0.6007083333333333\n",
      "CONFIDENCE (0.5963130704732358, 0.6050839498910963)\n",
      "CONFIDENCE % 2.196609684114071\n",
      "-----------------------------------------------\n"
     ]
    },
    {
     "name": "stderr",
     "output_type": "stream",
     "text": [
      "[Parallel(n_jobs=-1)]: Using backend LokyBackend with 12 concurrent workers.\n",
      "[Parallel(n_jobs=-1)]: Done   1 tasks      | elapsed:   20.9s\n",
      "[Parallel(n_jobs=-1)]: Done   3 out of  12 | elapsed:   21.1s remaining:  1.1min\n",
      "[Parallel(n_jobs=-1)]: Done   5 out of  12 | elapsed:   21.5s remaining:   30.1s\n",
      "[Parallel(n_jobs=-1)]: Done   7 out of  12 | elapsed:   22.1s remaining:   15.7s\n",
      "[Parallel(n_jobs=-1)]: Done   9 out of  12 | elapsed:   22.2s remaining:    7.3s\n",
      "[Parallel(n_jobs=-1)]: Done  12 out of  12 | elapsed:   23.1s finished\n",
      "[Parallel(n_jobs=-1)]: Using backend LokyBackend with 12 concurrent workers.\n"
     ]
    },
    {
     "name": "stdout",
     "output_type": "stream",
     "text": [
      "ERROR RATE 0.08105263157894738\n",
      "TIME FOR BATCH, 23.247135162353516\n",
      "PARAMS (2.0, 2.0, 2.0)\n",
      "COMPLETION RATE 72000/10000000\n",
      "PERCENTAGE CORRECT, 0.6029444444444444\n",
      "CONFIDENCE (0.5993615020723574, 0.6065143050391708)\n",
      "CONFIDENCE % 1.801461499967001\n",
      "-----------------------------------------------\n"
     ]
    },
    {
     "name": "stderr",
     "output_type": "stream",
     "text": [
      "[Parallel(n_jobs=-1)]: Done   1 tasks      | elapsed:   20.4s\n",
      "[Parallel(n_jobs=-1)]: Done   3 out of  12 | elapsed:   20.4s remaining:  1.0min\n",
      "[Parallel(n_jobs=-1)]: Done   5 out of  12 | elapsed:   21.1s remaining:   29.6s\n",
      "[Parallel(n_jobs=-1)]: Done   7 out of  12 | elapsed:   21.2s remaining:   15.1s\n",
      "[Parallel(n_jobs=-1)]: Done   9 out of  12 | elapsed:   21.4s remaining:    7.1s\n",
      "[Parallel(n_jobs=-1)]: Done  12 out of  12 | elapsed:   21.6s finished\n",
      "[Parallel(n_jobs=-1)]: Using backend LokyBackend with 12 concurrent workers.\n"
     ]
    },
    {
     "name": "stdout",
     "output_type": "stream",
     "text": [
      "ERROR RATE 0.08105263157894738\n",
      "TIME FOR BATCH, 21.71662712097168\n",
      "PARAMS (2.0, 2.0, 2.0)\n",
      "COMPLETION RATE 96000/10000000\n",
      "PERCENTAGE CORRECT, 0.6049375\n",
      "CONFIDENCE (0.601838841257496, 0.6080263576694741)\n",
      "CONFIDENCE % 1.5662120327740858\n",
      "-----------------------------------------------\n"
     ]
    },
    {
     "name": "stderr",
     "output_type": "stream",
     "text": [
      "[Parallel(n_jobs=-1)]: Done   1 tasks      | elapsed:   20.8s\n",
      "[Parallel(n_jobs=-1)]: Done   3 out of  12 | elapsed:   21.0s remaining:  1.1min\n",
      "[Parallel(n_jobs=-1)]: Done   5 out of  12 | elapsed:   21.1s remaining:   29.5s\n",
      "[Parallel(n_jobs=-1)]: Done   7 out of  12 | elapsed:   21.7s remaining:   15.5s\n",
      "[Parallel(n_jobs=-1)]: Done   9 out of  12 | elapsed:   21.9s remaining:    7.2s\n",
      "[Parallel(n_jobs=-1)]: Done  12 out of  12 | elapsed:   22.1s finished\n",
      "[Parallel(n_jobs=-1)]: Using backend LokyBackend with 12 concurrent workers.\n"
     ]
    },
    {
     "name": "stdout",
     "output_type": "stream",
     "text": [
      "ERROR RATE 0.08105263157894738\n",
      "TIME FOR BATCH, 22.220566272735596\n",
      "PARAMS (2.0, 2.0, 2.0)\n",
      "COMPLETION RATE 120000/10000000\n",
      "PERCENTAGE CORRECT, 0.6052666666666666\n",
      "CONFIDENCE (0.6024960744048808, 0.60802941950366)\n",
      "CONFIDENCE % 1.4017932187415432\n",
      "-----------------------------------------------\n"
     ]
    },
    {
     "name": "stderr",
     "output_type": "stream",
     "text": [
      "[Parallel(n_jobs=-1)]: Done   1 tasks      | elapsed:   20.7s\n",
      "[Parallel(n_jobs=-1)]: Done   3 out of  12 | elapsed:   20.9s remaining:  1.0min\n",
      "[Parallel(n_jobs=-1)]: Done   5 out of  12 | elapsed:   21.0s remaining:   29.5s\n",
      "[Parallel(n_jobs=-1)]: Done   7 out of  12 | elapsed:   21.6s remaining:   15.4s\n",
      "[Parallel(n_jobs=-1)]: Done   9 out of  12 | elapsed:   21.7s remaining:    7.2s\n",
      "[Parallel(n_jobs=-1)]: Done  12 out of  12 | elapsed:   22.0s finished\n",
      "[Parallel(n_jobs=-1)]: Using backend LokyBackend with 12 concurrent workers.\n"
     ]
    },
    {
     "name": "stdout",
     "output_type": "stream",
     "text": [
      "ERROR RATE 0.08105263157894738\n",
      "TIME FOR BATCH, 22.061476945877075\n",
      "PARAMS (2.0, 2.0, 2.0)\n",
      "COMPLETION RATE 144000/10000000\n",
      "PERCENTAGE CORRECT, 0.6061388888888889\n",
      "CONFIDENCE (0.6036113138810864, 0.6086599339613665)\n",
      "CONFIDENCE % 1.2818275117433269\n",
      "-----------------------------------------------\n"
     ]
    },
    {
     "name": "stderr",
     "output_type": "stream",
     "text": [
      "[Parallel(n_jobs=-1)]: Done   1 tasks      | elapsed:   20.7s\n",
      "[Parallel(n_jobs=-1)]: Done   3 out of  12 | elapsed:   20.8s remaining:  1.0min\n",
      "[Parallel(n_jobs=-1)]: Done   5 out of  12 | elapsed:   21.0s remaining:   29.5s\n",
      "[Parallel(n_jobs=-1)]: Done   7 out of  12 | elapsed:   21.1s remaining:   15.1s\n",
      "[Parallel(n_jobs=-1)]: Done   9 out of  12 | elapsed:   21.7s remaining:    7.2s\n",
      "[Parallel(n_jobs=-1)]: Done  12 out of  12 | elapsed:   22.2s finished\n",
      "[Parallel(n_jobs=-1)]: Using backend LokyBackend with 12 concurrent workers.\n"
     ]
    },
    {
     "name": "stdout",
     "output_type": "stream",
     "text": [
      "ERROR RATE 0.08105263157894738\n",
      "TIME FOR BATCH, 22.316004276275635\n",
      "PARAMS (2.0, 2.0, 2.0)\n",
      "COMPLETION RATE 168000/10000000\n",
      "PERCENTAGE CORRECT, 0.6062321428571429\n",
      "CONFIDENCE (0.6038930309443142, 0.6085686354100392)\n",
      "CONFIDENCE % 1.1874012520094364\n",
      "-----------------------------------------------\n"
     ]
    },
    {
     "name": "stderr",
     "output_type": "stream",
     "text": [
      "[Parallel(n_jobs=-1)]: Done   1 tasks      | elapsed:   20.3s\n",
      "[Parallel(n_jobs=-1)]: Done   3 out of  12 | elapsed:   20.5s remaining:  1.0min\n",
      "[Parallel(n_jobs=-1)]: Done   5 out of  12 | elapsed:   20.8s remaining:   29.1s\n",
      "[Parallel(n_jobs=-1)]: Done   7 out of  12 | elapsed:   21.1s remaining:   15.0s\n",
      "[Parallel(n_jobs=-1)]: Done   9 out of  12 | elapsed:   21.6s remaining:    7.1s\n",
      "[Parallel(n_jobs=-1)]: Done  12 out of  12 | elapsed:   21.7s finished\n"
     ]
    },
    {
     "name": "stdout",
     "output_type": "stream",
     "text": [
      "ERROR RATE 0.08105263157894738\n",
      "TIME FOR BATCH, 21.82052516937256\n",
      "PARAMS (2.0, 2.0, 2.0)\n",
      "COMPLETION RATE 192000/10000000\n",
      "PERCENTAGE CORRECT, 0.6063541666666666\n",
      "CONFIDENCE (0.6041668188608649, 0.6085392222485468)\n",
      "CONFIDENCE % 1.1107455020308779\n",
      "-----------------------------------------------\n"
     ]
    },
    {
     "name": "stderr",
     "output_type": "stream",
     "text": [
      "[Parallel(n_jobs=-1)]: Using backend LokyBackend with 12 concurrent workers.\n",
      "[Parallel(n_jobs=-1)]: Done   1 tasks      | elapsed:   20.5s\n",
      "[Parallel(n_jobs=-1)]: Done   3 out of  12 | elapsed:   20.5s remaining:  1.0min\n",
      "[Parallel(n_jobs=-1)]: Done   5 out of  12 | elapsed:   20.8s remaining:   29.2s\n",
      "[Parallel(n_jobs=-1)]: Done   7 out of  12 | elapsed:   21.1s remaining:   15.0s\n",
      "[Parallel(n_jobs=-1)]: Done   9 out of  12 | elapsed:   21.3s remaining:    7.0s\n",
      "[Parallel(n_jobs=-1)]: Done  12 out of  12 | elapsed:   21.6s finished\n",
      "[Parallel(n_jobs=-1)]: Using backend LokyBackend with 12 concurrent workers.\n"
     ]
    },
    {
     "name": "stdout",
     "output_type": "stream",
     "text": [
      "ERROR RATE 0.08105263157894738\n",
      "TIME FOR BATCH, 21.696452856063843\n",
      "PARAMS (2.0, 2.0, 2.0)\n",
      "COMPLETION RATE 216000/10000000\n",
      "PERCENTAGE CORRECT, 0.6063148148148149\n",
      "CONFIDENCE (0.6042524503180785, 0.6083751418350596)\n",
      "CONFIDENCE % 1.0472051456652636\n",
      "-----------------------------------------------\n"
     ]
    },
    {
     "name": "stderr",
     "output_type": "stream",
     "text": [
      "[Parallel(n_jobs=-1)]: Done   1 tasks      | elapsed:   19.9s\n",
      "[Parallel(n_jobs=-1)]: Done   3 out of  12 | elapsed:   20.1s remaining:  1.0min\n",
      "[Parallel(n_jobs=-1)]: Done   5 out of  12 | elapsed:   20.4s remaining:   28.6s\n",
      "[Parallel(n_jobs=-1)]: Done   7 out of  12 | elapsed:   20.6s remaining:   14.7s\n",
      "[Parallel(n_jobs=-1)]: Done   9 out of  12 | elapsed:   20.9s remaining:    6.9s\n",
      "[Parallel(n_jobs=-1)]: Done  12 out of  12 | elapsed:   21.2s finished\n",
      "[Parallel(n_jobs=-1)]: Using backend LokyBackend with 12 concurrent workers.\n"
     ]
    },
    {
     "name": "stdout",
     "output_type": "stream",
     "text": [
      "ERROR RATE 0.08105263157894738\n",
      "TIME FOR BATCH, 21.318816900253296\n",
      "PARAMS (2.0, 2.0, 2.0)\n",
      "COMPLETION RATE 240000/10000000\n",
      "PERCENTAGE CORRECT, 0.6060541666666667\n",
      "CONFIDENCE (0.6040959559720357, 0.6080084601878306)\n",
      "CONFIDENCE % 0.9931579127743673\n",
      "-----------------------------------------------\n"
     ]
    },
    {
     "name": "stderr",
     "output_type": "stream",
     "text": [
      "[Parallel(n_jobs=-1)]: Done   1 tasks      | elapsed:   20.5s\n",
      "[Parallel(n_jobs=-1)]: Done   3 out of  12 | elapsed:   20.7s remaining:  1.0min\n",
      "[Parallel(n_jobs=-1)]: Done   5 out of  12 | elapsed:   20.9s remaining:   29.3s\n",
      "[Parallel(n_jobs=-1)]: Done   7 out of  12 | elapsed:   21.1s remaining:   15.0s\n",
      "[Parallel(n_jobs=-1)]: Done   9 out of  12 | elapsed:   21.4s remaining:    7.1s\n",
      "[Parallel(n_jobs=-1)]: Done  12 out of  12 | elapsed:   21.8s finished\n",
      "[Parallel(n_jobs=-1)]: Using backend LokyBackend with 12 concurrent workers.\n"
     ]
    },
    {
     "name": "stdout",
     "output_type": "stream",
     "text": [
      "ERROR RATE 0.08105263157894738\n",
      "TIME FOR BATCH, 21.859376907348633\n",
      "PARAMS (2.0, 2.0, 2.0)\n",
      "COMPLETION RATE 264000/10000000\n",
      "PERCENTAGE CORRECT, 0.6061060606060606\n",
      "CONFIDENCE (0.6042406411111015, 0.6079698124715762)\n",
      "CONFIDENCE % 0.946745046702808\n",
      "-----------------------------------------------\n"
     ]
    },
    {
     "name": "stderr",
     "output_type": "stream",
     "text": [
      "[Parallel(n_jobs=-1)]: Done   1 tasks      | elapsed:   20.8s\n",
      "[Parallel(n_jobs=-1)]: Done   3 out of  12 | elapsed:   20.9s remaining:  1.0min\n",
      "[Parallel(n_jobs=-1)]: Done   5 out of  12 | elapsed:   21.1s remaining:   29.6s\n",
      "[Parallel(n_jobs=-1)]: Done   7 out of  12 | elapsed:   21.4s remaining:   15.3s\n",
      "[Parallel(n_jobs=-1)]: Done   9 out of  12 | elapsed:   22.0s remaining:    7.3s\n",
      "[Parallel(n_jobs=-1)]: Done  12 out of  12 | elapsed:   22.3s finished\n",
      "[Parallel(n_jobs=-1)]: Using backend LokyBackend with 12 concurrent workers.\n"
     ]
    },
    {
     "name": "stdout",
     "output_type": "stream",
     "text": [
      "ERROR RATE 0.08105263157894738\n",
      "TIME FOR BATCH, 22.418253421783447\n",
      "PARAMS (2.0, 2.0, 2.0)\n",
      "COMPLETION RATE 288000/10000000\n",
      "PERCENTAGE CORRECT, 0.6057534722222222\n",
      "CONFIDENCE (0.6039671152656256, 0.6075382999361632)\n",
      "CONFIDENCE % 0.9058252689419916\n",
      "-----------------------------------------------\n"
     ]
    },
    {
     "name": "stderr",
     "output_type": "stream",
     "text": [
      "[Parallel(n_jobs=-1)]: Done   1 tasks      | elapsed:   20.6s\n",
      "[Parallel(n_jobs=-1)]: Done   3 out of  12 | elapsed:   20.7s remaining:  1.0min\n",
      "[Parallel(n_jobs=-1)]: Done   5 out of  12 | elapsed:   21.1s remaining:   29.6s\n",
      "[Parallel(n_jobs=-1)]: Done   7 out of  12 | elapsed:   21.2s remaining:   15.1s\n",
      "[Parallel(n_jobs=-1)]: Done   9 out of  12 | elapsed:   21.8s remaining:    7.2s\n",
      "[Parallel(n_jobs=-1)]: Done  12 out of  12 | elapsed:   22.1s finished\n",
      "[Parallel(n_jobs=-1)]: Using backend LokyBackend with 12 concurrent workers.\n"
     ]
    },
    {
     "name": "stdout",
     "output_type": "stream",
     "text": [
      "ERROR RATE 0.08105263157894738\n",
      "TIME FOR BATCH, 22.168964862823486\n",
      "PARAMS (2.0, 2.0, 2.0)\n",
      "COMPLETION RATE 312000/10000000\n",
      "PERCENTAGE CORRECT, 0.605724358974359\n",
      "CONFIDENCE (0.6040081064373504, 0.607439199830841)\n",
      "CONFIDENCE % 0.8702270788439465\n",
      "-----------------------------------------------\n"
     ]
    },
    {
     "name": "stderr",
     "output_type": "stream",
     "text": [
      "[Parallel(n_jobs=-1)]: Done   1 tasks      | elapsed:   20.5s\n",
      "[Parallel(n_jobs=-1)]: Done   3 out of  12 | elapsed:   20.8s remaining:  1.0min\n",
      "[Parallel(n_jobs=-1)]: Done   5 out of  12 | elapsed:   21.2s remaining:   29.7s\n",
      "[Parallel(n_jobs=-1)]: Done   7 out of  12 | elapsed:   21.5s remaining:   15.4s\n",
      "[Parallel(n_jobs=-1)]: Done   9 out of  12 | elapsed:   21.7s remaining:    7.2s\n",
      "[Parallel(n_jobs=-1)]: Done  12 out of  12 | elapsed:   22.0s finished\n"
     ]
    },
    {
     "name": "stdout",
     "output_type": "stream",
     "text": [
      "ERROR RATE 0.08105263157894738\n",
      "TIME FOR BATCH, 22.063656330108643\n",
      "PARAMS (2.0, 2.0, 2.0)\n",
      "COMPLETION RATE 336000/10000000\n",
      "PERCENTAGE CORRECT, 0.6061220238095238\n",
      "CONFIDENCE (0.6044673497808308, 0.6077738999645816)\n",
      "CONFIDENCE % 0.8394859280356897\n",
      "-----------------------------------------------\n"
     ]
    },
    {
     "name": "stderr",
     "output_type": "stream",
     "text": [
      "[Parallel(n_jobs=-1)]: Using backend LokyBackend with 12 concurrent workers.\n",
      "[Parallel(n_jobs=-1)]: Done   1 tasks      | elapsed:   20.9s\n",
      "[Parallel(n_jobs=-1)]: Done   3 out of  12 | elapsed:   21.2s remaining:  1.1min\n",
      "[Parallel(n_jobs=-1)]: Done   5 out of  12 | elapsed:   21.5s remaining:   30.1s\n",
      "[Parallel(n_jobs=-1)]: Done   7 out of  12 | elapsed:   21.8s remaining:   15.5s\n",
      "[Parallel(n_jobs=-1)]: Done   9 out of  12 | elapsed:   21.9s remaining:    7.2s\n",
      "[Parallel(n_jobs=-1)]: Done  12 out of  12 | elapsed:   21.9s finished\n"
     ]
    },
    {
     "name": "stdout",
     "output_type": "stream",
     "text": [
      "ERROR RATE 0.08105263157894738\n",
      "TIME FOR BATCH, 22.04749298095703\n",
      "PARAMS (2.0, 2.0, 2.0)\n",
      "COMPLETION RATE 360000/10000000\n",
      "PERCENTAGE CORRECT, 0.6061277777777778\n",
      "CONFIDENCE (0.604530636981103, 0.6077236954943314)\n",
      "CONFIDENCE % 0.81068385457933\n",
      "-----------------------------------------------\n"
     ]
    },
    {
     "name": "stderr",
     "output_type": "stream",
     "text": [
      "[Parallel(n_jobs=-1)]: Using backend LokyBackend with 12 concurrent workers.\n",
      "[Parallel(n_jobs=-1)]: Done   1 tasks      | elapsed:   20.2s\n",
      "[Parallel(n_jobs=-1)]: Done   3 out of  12 | elapsed:   20.5s remaining:  1.0min\n",
      "[Parallel(n_jobs=-1)]: Done   5 out of  12 | elapsed:   21.1s remaining:   29.6s\n",
      "[Parallel(n_jobs=-1)]: Done   7 out of  12 | elapsed:   21.6s remaining:   15.4s\n",
      "[Parallel(n_jobs=-1)]: Done   9 out of  12 | elapsed:   21.7s remaining:    7.2s\n",
      "[Parallel(n_jobs=-1)]: Done  12 out of  12 | elapsed:   21.8s finished\n"
     ]
    },
    {
     "name": "stdout",
     "output_type": "stream",
     "text": [
      "ERROR RATE 0.08105263157894738\n",
      "TIME FOR BATCH, 21.91020679473877\n",
      "PARAMS (2.0, 2.0, 2.0)\n",
      "COMPLETION RATE 384000/10000000\n",
      "PERCENTAGE CORRECT, 0.6062864583333333\n",
      "CONFIDENCE (0.6047396600531327, 0.6078308079716293)\n",
      "CONFIDENCE % 0.7851261364826522\n",
      "-----------------------------------------------\n"
     ]
    },
    {
     "name": "stderr",
     "output_type": "stream",
     "text": [
      "[Parallel(n_jobs=-1)]: Using backend LokyBackend with 12 concurrent workers.\n",
      "[Parallel(n_jobs=-1)]: Done   1 tasks      | elapsed:   20.8s\n",
      "[Parallel(n_jobs=-1)]: Done   3 out of  12 | elapsed:   20.8s remaining:  1.0min\n",
      "[Parallel(n_jobs=-1)]: Done   5 out of  12 | elapsed:   20.9s remaining:   29.3s\n",
      "[Parallel(n_jobs=-1)]: Done   7 out of  12 | elapsed:   21.2s remaining:   15.1s\n",
      "[Parallel(n_jobs=-1)]: Done   9 out of  12 | elapsed:   21.7s remaining:    7.2s\n",
      "[Parallel(n_jobs=-1)]: Done  12 out of  12 | elapsed:   22.1s finished\n",
      "[Parallel(n_jobs=-1)]: Using backend LokyBackend with 12 concurrent workers.\n"
     ]
    },
    {
     "name": "stdout",
     "output_type": "stream",
     "text": [
      "ERROR RATE 0.08105263157894738\n",
      "TIME FOR BATCH, 22.173026084899902\n",
      "PARAMS (2.0, 2.0, 2.0)\n",
      "COMPLETION RATE 408000/10000000\n",
      "PERCENTAGE CORRECT, 0.6061470588235294\n",
      "CONFIDENCE (0.6046459056837569, 0.607645907595917)\n",
      "CONFIDENCE % 0.7617061086807809\n",
      "-----------------------------------------------\n"
     ]
    },
    {
     "name": "stderr",
     "output_type": "stream",
     "text": [
      "[Parallel(n_jobs=-1)]: Done   1 tasks      | elapsed:   20.2s\n",
      "[Parallel(n_jobs=-1)]: Done   3 out of  12 | elapsed:   20.3s remaining:  1.0min\n",
      "[Parallel(n_jobs=-1)]: Done   5 out of  12 | elapsed:   20.6s remaining:   28.8s\n",
      "[Parallel(n_jobs=-1)]: Done   7 out of  12 | elapsed:   20.8s remaining:   14.9s\n",
      "[Parallel(n_jobs=-1)]: Done   9 out of  12 | elapsed:   21.4s remaining:    7.1s\n",
      "[Parallel(n_jobs=-1)]: Done  12 out of  12 | elapsed:   21.8s finished\n",
      "[Parallel(n_jobs=-1)]: Using backend LokyBackend with 12 concurrent workers.\n"
     ]
    },
    {
     "name": "stdout",
     "output_type": "stream",
     "text": [
      "ERROR RATE 0.08105263157894738\n",
      "TIME FOR BATCH, 21.876741647720337\n",
      "PARAMS (2.0, 2.0, 2.0)\n",
      "COMPLETION RATE 432000/10000000\n",
      "PERCENTAGE CORRECT, 0.6059537037037037\n",
      "CONFIDENCE (0.6044954383082444, 0.6074109498233677)\n",
      "CONFIDENCE % 0.7398906023294028\n",
      "-----------------------------------------------\n"
     ]
    },
    {
     "name": "stderr",
     "output_type": "stream",
     "text": [
      "[Parallel(n_jobs=-1)]: Done   1 tasks      | elapsed:   20.5s\n",
      "[Parallel(n_jobs=-1)]: Done   3 out of  12 | elapsed:   20.7s remaining:  1.0min\n",
      "[Parallel(n_jobs=-1)]: Done   5 out of  12 | elapsed:   21.0s remaining:   29.5s\n",
      "[Parallel(n_jobs=-1)]: Done   7 out of  12 | elapsed:   21.5s remaining:   15.4s\n",
      "[Parallel(n_jobs=-1)]: Done   9 out of  12 | elapsed:   21.6s remaining:    7.1s\n",
      "[Parallel(n_jobs=-1)]: Done  12 out of  12 | elapsed:   22.1s finished\n",
      "[Parallel(n_jobs=-1)]: Using backend LokyBackend with 12 concurrent workers.\n"
     ]
    },
    {
     "name": "stdout",
     "output_type": "stream",
     "text": [
      "ERROR RATE 0.08105263157894738\n",
      "TIME FOR BATCH, 22.23278784751892\n",
      "PARAMS (2.0, 2.0, 2.0)\n",
      "COMPLETION RATE 456000/10000000\n",
      "PERCENTAGE CORRECT, 0.6060416666666667\n",
      "CONFIDENCE (0.6046217752085895, 0.6074594961324375)\n",
      "CONFIDENCE % 0.7203099119233528\n",
      "-----------------------------------------------\n"
     ]
    },
    {
     "name": "stderr",
     "output_type": "stream",
     "text": [
      "[Parallel(n_jobs=-1)]: Done   1 tasks      | elapsed:   20.2s\n",
      "[Parallel(n_jobs=-1)]: Done   3 out of  12 | elapsed:   20.3s remaining:  1.0min\n",
      "[Parallel(n_jobs=-1)]: Done   5 out of  12 | elapsed:   20.6s remaining:   28.9s\n",
      "[Parallel(n_jobs=-1)]: Done   7 out of  12 | elapsed:   20.7s remaining:   14.7s\n",
      "[Parallel(n_jobs=-1)]: Done   9 out of  12 | elapsed:   21.8s remaining:    7.2s\n",
      "[Parallel(n_jobs=-1)]: Done  12 out of  12 | elapsed:   21.9s finished\n"
     ]
    },
    {
     "name": "stdout",
     "output_type": "stream",
     "text": [
      "ERROR RATE 0.08105263157894738\n",
      "TIME FOR BATCH, 21.98820948600769\n",
      "PARAMS (2.0, 2.0, 2.0)\n",
      "COMPLETION RATE 480000/10000000\n",
      "PERCENTAGE CORRECT, 0.60614375\n",
      "CONFIDENCE (0.6047604779642652, 0.6075261048951293)\n",
      "CONFIDENCE % 0.7021919623883125\n",
      "-----------------------------------------------\n"
     ]
    },
    {
     "name": "stderr",
     "output_type": "stream",
     "text": [
      "[Parallel(n_jobs=-1)]: Using backend LokyBackend with 12 concurrent workers.\n",
      "[Parallel(n_jobs=-1)]: Done   1 tasks      | elapsed:   20.5s\n",
      "[Parallel(n_jobs=-1)]: Done   3 out of  12 | elapsed:   20.5s remaining:  1.0min\n",
      "[Parallel(n_jobs=-1)]: Done   5 out of  12 | elapsed:   21.0s remaining:   29.4s\n",
      "[Parallel(n_jobs=-1)]: Done   7 out of  12 | elapsed:   21.3s remaining:   15.2s\n",
      "[Parallel(n_jobs=-1)]: Done   9 out of  12 | elapsed:   21.5s remaining:    7.1s\n",
      "[Parallel(n_jobs=-1)]: Done  12 out of  12 | elapsed:   22.2s finished\n",
      "[Parallel(n_jobs=-1)]: Using backend LokyBackend with 12 concurrent workers.\n"
     ]
    },
    {
     "name": "stdout",
     "output_type": "stream",
     "text": [
      "ERROR RATE 0.08105263157894738\n",
      "TIME FOR BATCH, 22.304866075515747\n",
      "PARAMS (2.0, 2.0, 2.0)\n",
      "COMPLETION RATE 504000/10000000\n",
      "PERCENTAGE CORRECT, 0.6064246031746032\n",
      "CONFIDENCE (0.605074463466197, 0.6077728775653528)\n",
      "CONFIDENCE % 0.6856155442950463\n",
      "-----------------------------------------------\n"
     ]
    },
    {
     "name": "stderr",
     "output_type": "stream",
     "text": [
      "[Parallel(n_jobs=-1)]: Done   1 tasks      | elapsed:   20.3s\n",
      "[Parallel(n_jobs=-1)]: Done   3 out of  12 | elapsed:   20.4s remaining:  1.0min\n",
      "[Parallel(n_jobs=-1)]: Done   5 out of  12 | elapsed:   20.4s remaining:   28.7s\n",
      "[Parallel(n_jobs=-1)]: Done   7 out of  12 | elapsed:   20.5s remaining:   14.6s\n",
      "[Parallel(n_jobs=-1)]: Done   9 out of  12 | elapsed:   21.7s remaining:    7.2s\n",
      "[Parallel(n_jobs=-1)]: Done  12 out of  12 | elapsed:   21.7s finished\n"
     ]
    },
    {
     "name": "stdout",
     "output_type": "stream",
     "text": [
      "ERROR RATE 0.08105263157894738\n",
      "TIME FOR BATCH, 21.84078049659729\n",
      "PARAMS (2.0, 2.0, 2.0)\n",
      "COMPLETION RATE 528000/10000000\n",
      "PERCENTAGE CORRECT, 0.606310606060606\n",
      "CONFIDENCE (0.6049915332372188, 0.6076278981789607)\n",
      "CONFIDENCE % 0.6696560746433928\n",
      "-----------------------------------------------\n"
     ]
    },
    {
     "name": "stderr",
     "output_type": "stream",
     "text": [
      "[Parallel(n_jobs=-1)]: Using backend LokyBackend with 12 concurrent workers.\n",
      "[Parallel(n_jobs=-1)]: Done   1 tasks      | elapsed:   20.6s\n",
      "[Parallel(n_jobs=-1)]: Done   3 out of  12 | elapsed:   20.8s remaining:  1.0min\n",
      "[Parallel(n_jobs=-1)]: Done   5 out of  12 | elapsed:   21.0s remaining:   29.4s\n",
      "[Parallel(n_jobs=-1)]: Done   7 out of  12 | elapsed:   21.4s remaining:   15.3s\n",
      "[Parallel(n_jobs=-1)]: Done   9 out of  12 | elapsed:   21.7s remaining:    7.2s\n",
      "[Parallel(n_jobs=-1)]: Done  12 out of  12 | elapsed:   22.2s finished\n",
      "[Parallel(n_jobs=-1)]: Using backend LokyBackend with 12 concurrent workers.\n"
     ]
    },
    {
     "name": "stdout",
     "output_type": "stream",
     "text": [
      "ERROR RATE 0.08105263157894738\n",
      "TIME FOR BATCH, 22.331557512283325\n",
      "PARAMS (2.0, 2.0, 2.0)\n",
      "COMPLETION RATE 552000/10000000\n",
      "PERCENTAGE CORRECT, 0.6064836956521739\n",
      "CONFIDENCE (0.6051938941528251, 0.6077717939237812)\n",
      "CONFIDENCE % 0.6550935100969897\n",
      "-----------------------------------------------\n"
     ]
    },
    {
     "name": "stderr",
     "output_type": "stream",
     "text": [
      "[Parallel(n_jobs=-1)]: Done   1 tasks      | elapsed:   20.3s\n",
      "[Parallel(n_jobs=-1)]: Done   3 out of  12 | elapsed:   20.4s remaining:  1.0min\n",
      "[Parallel(n_jobs=-1)]: Done   5 out of  12 | elapsed:   20.5s remaining:   28.8s\n",
      "[Parallel(n_jobs=-1)]: Done   7 out of  12 | elapsed:   21.0s remaining:   14.9s\n",
      "[Parallel(n_jobs=-1)]: Done   9 out of  12 | elapsed:   21.4s remaining:    7.1s\n",
      "[Parallel(n_jobs=-1)]: Done  12 out of  12 | elapsed:   21.9s finished\n"
     ]
    },
    {
     "name": "stdout",
     "output_type": "stream",
     "text": [
      "ERROR RATE 0.08105263157894738\n",
      "TIME FOR BATCH, 21.960613012313843\n",
      "PARAMS (2.0, 2.0, 2.0)\n",
      "COMPLETION RATE 576000/10000000\n",
      "PERCENTAGE CORRECT, 0.6067309027777777\n",
      "CONFIDENCE (0.6054679335923365, 0.6079922403052805)\n",
      "CONFIDENCE % 0.6418777195497815\n",
      "-----------------------------------------------\n"
     ]
    },
    {
     "name": "stderr",
     "output_type": "stream",
     "text": [
      "[Parallel(n_jobs=-1)]: Using backend LokyBackend with 12 concurrent workers.\n",
      "[Parallel(n_jobs=-1)]: Done   1 tasks      | elapsed:   20.7s\n",
      "[Parallel(n_jobs=-1)]: Done   3 out of  12 | elapsed:   20.7s remaining:  1.0min\n",
      "[Parallel(n_jobs=-1)]: Done   5 out of  12 | elapsed:   20.9s remaining:   29.4s\n",
      "[Parallel(n_jobs=-1)]: Done   7 out of  12 | elapsed:   21.4s remaining:   15.3s\n",
      "[Parallel(n_jobs=-1)]: Done   9 out of  12 | elapsed:   22.0s remaining:    7.3s\n",
      "[Parallel(n_jobs=-1)]: Done  12 out of  12 | elapsed:   22.4s finished\n",
      "[Parallel(n_jobs=-1)]: Using backend LokyBackend with 12 concurrent workers.\n"
     ]
    },
    {
     "name": "stdout",
     "output_type": "stream",
     "text": [
      "ERROR RATE 0.08105263157894738\n",
      "TIME FOR BATCH, 22.46470880508423\n",
      "PARAMS (2.0, 2.0, 2.0)\n",
      "COMPLETION RATE 600000/10000000\n",
      "PERCENTAGE CORRECT, 0.6067733333333334\n",
      "CONFIDENCE (0.6055367159927518, 0.6080092173847176)\n",
      "CONFIDENCE % 0.6287725633983167\n",
      "-----------------------------------------------\n"
     ]
    },
    {
     "name": "stderr",
     "output_type": "stream",
     "text": [
      "[Parallel(n_jobs=-1)]: Done   1 tasks      | elapsed:   20.4s\n",
      "[Parallel(n_jobs=-1)]: Done   3 out of  12 | elapsed:   20.6s remaining:  1.0min\n",
      "[Parallel(n_jobs=-1)]: Done   5 out of  12 | elapsed:   20.8s remaining:   29.2s\n",
      "[Parallel(n_jobs=-1)]: Done   7 out of  12 | elapsed:   20.9s remaining:   14.9s\n",
      "[Parallel(n_jobs=-1)]: Done   9 out of  12 | elapsed:   21.5s remaining:    7.1s\n",
      "[Parallel(n_jobs=-1)]: Done  12 out of  12 | elapsed:   21.6s finished\n"
     ]
    },
    {
     "name": "stdout",
     "output_type": "stream",
     "text": [
      "ERROR RATE 0.08105263157894738\n",
      "TIME FOR BATCH, 21.7454617023468\n",
      "PARAMS (2.0, 2.0, 2.0)\n",
      "COMPLETION RATE 624000/10000000\n",
      "PERCENTAGE CORRECT, 0.6067532051282051\n",
      "CONFIDENCE (0.6055401117087571, 0.6079647922177052)\n",
      "CONFIDENCE % 0.6165798527966514\n",
      "-----------------------------------------------\n"
     ]
    },
    {
     "name": "stderr",
     "output_type": "stream",
     "text": [
      "[Parallel(n_jobs=-1)]: Using backend LokyBackend with 12 concurrent workers.\n",
      "[Parallel(n_jobs=-1)]: Done   1 tasks      | elapsed:   20.5s\n",
      "[Parallel(n_jobs=-1)]: Done   3 out of  12 | elapsed:   20.6s remaining:  1.0min\n",
      "[Parallel(n_jobs=-1)]: Done   5 out of  12 | elapsed:   21.0s remaining:   29.4s\n",
      "[Parallel(n_jobs=-1)]: Done   7 out of  12 | elapsed:   21.3s remaining:   15.2s\n",
      "[Parallel(n_jobs=-1)]: Done   9 out of  12 | elapsed:   21.8s remaining:    7.2s\n",
      "[Parallel(n_jobs=-1)]: Done  12 out of  12 | elapsed:   22.2s finished\n"
     ]
    },
    {
     "name": "stdout",
     "output_type": "stream",
     "text": [
      "ERROR RATE 0.08105263157894738\n",
      "TIME FOR BATCH, 22.32802724838257\n",
      "PARAMS (2.0, 2.0, 2.0)\n",
      "COMPLETION RATE 648000/10000000\n",
      "PERCENTAGE CORRECT, 0.6068364197530864\n",
      "CONFIDENCE (0.6056458792802855, 0.6080255098874346)\n",
      "CONFIDENCE % 0.6052520443665551\n",
      "-----------------------------------------------\n"
     ]
    },
    {
     "name": "stderr",
     "output_type": "stream",
     "text": [
      "[Parallel(n_jobs=-1)]: Using backend LokyBackend with 12 concurrent workers.\n",
      "[Parallel(n_jobs=-1)]: Done   1 tasks      | elapsed:   20.3s\n",
      "[Parallel(n_jobs=-1)]: Done   3 out of  12 | elapsed:   20.5s remaining:  1.0min\n",
      "[Parallel(n_jobs=-1)]: Done   5 out of  12 | elapsed:   20.5s remaining:   28.8s\n",
      "[Parallel(n_jobs=-1)]: Done   7 out of  12 | elapsed:   21.0s remaining:   14.9s\n",
      "[Parallel(n_jobs=-1)]: Done   9 out of  12 | elapsed:   21.3s remaining:    7.0s\n",
      "[Parallel(n_jobs=-1)]: Done  12 out of  12 | elapsed:   21.8s finished\n"
     ]
    },
    {
     "name": "stdout",
     "output_type": "stream",
     "text": [
      "ERROR RATE 0.08105263157894738\n",
      "TIME FOR BATCH, 21.8538715839386\n",
      "PARAMS (2.0, 2.0, 2.0)\n",
      "COMPLETION RATE 672000/10000000\n",
      "PERCENTAGE CORRECT, 0.606922619047619\n",
      "CONFIDENCE (0.6057537645288859, 0.6080900749719709)\n",
      "CONFIDENCE % 0.5943639996339681\n",
      "-----------------------------------------------\n"
     ]
    },
    {
     "name": "stderr",
     "output_type": "stream",
     "text": [
      "[Parallel(n_jobs=-1)]: Using backend LokyBackend with 12 concurrent workers.\n",
      "[Parallel(n_jobs=-1)]: Done   1 tasks      | elapsed:   21.2s\n",
      "[Parallel(n_jobs=-1)]: Done   3 out of  12 | elapsed:   21.5s remaining:  1.1min\n",
      "[Parallel(n_jobs=-1)]: Done   5 out of  12 | elapsed:   21.6s remaining:   30.3s\n",
      "[Parallel(n_jobs=-1)]: Done   7 out of  12 | elapsed:   22.1s remaining:   15.8s\n",
      "[Parallel(n_jobs=-1)]: Done   9 out of  12 | elapsed:   22.7s remaining:    7.5s\n",
      "[Parallel(n_jobs=-1)]: Done  12 out of  12 | elapsed:   23.5s finished\n",
      "[Parallel(n_jobs=-1)]: Using backend LokyBackend with 12 concurrent workers.\n"
     ]
    },
    {
     "name": "stdout",
     "output_type": "stream",
     "text": [
      "ERROR RATE 0.08210526315789474\n",
      "TIME FOR BATCH, 23.593470573425293\n",
      "PARAMS (2.0, 2.0, 2.0)\n",
      "COMPLETION RATE 24000/10000000\n",
      "PERCENTAGE CORRECT, 0.597\n",
      "CONFIDENCE (0.5907719073372113, 0.6032095730933292)\n",
      "CONFIDENCE % 3.0862694183915464\n",
      "-----------------------------------------------\n"
     ]
    },
    {
     "name": "stderr",
     "output_type": "stream",
     "text": [
      "[Parallel(n_jobs=-1)]: Done   1 tasks      | elapsed:   20.5s\n",
      "[Parallel(n_jobs=-1)]: Done   3 out of  12 | elapsed:   20.5s remaining:  1.0min\n",
      "[Parallel(n_jobs=-1)]: Done   5 out of  12 | elapsed:   20.7s remaining:   29.1s\n",
      "[Parallel(n_jobs=-1)]: Done   7 out of  12 | elapsed:   20.9s remaining:   14.9s\n",
      "[Parallel(n_jobs=-1)]: Done   9 out of  12 | elapsed:   21.5s remaining:    7.1s\n",
      "[Parallel(n_jobs=-1)]: Done  12 out of  12 | elapsed:   22.1s finished\n",
      "[Parallel(n_jobs=-1)]: Using backend LokyBackend with 12 concurrent workers.\n"
     ]
    },
    {
     "name": "stdout",
     "output_type": "stream",
     "text": [
      "ERROR RATE 0.08210526315789474\n",
      "TIME FOR BATCH, 22.16397261619568\n",
      "PARAMS (2.0, 2.0, 2.0)\n",
      "COMPLETION RATE 48000/10000000\n",
      "PERCENTAGE CORRECT, 0.6016458333333333\n",
      "CONFIDENCE (0.5972505779874064, 0.6060214577390874)\n",
      "CONFIDENCE % 2.2017793425066063\n",
      "-----------------------------------------------\n"
     ]
    },
    {
     "name": "stderr",
     "output_type": "stream",
     "text": [
      "[Parallel(n_jobs=-1)]: Done   1 tasks      | elapsed:   20.8s\n",
      "[Parallel(n_jobs=-1)]: Done   3 out of  12 | elapsed:   21.0s remaining:  1.1min\n",
      "[Parallel(n_jobs=-1)]: Done   5 out of  12 | elapsed:   21.3s remaining:   29.8s\n",
      "[Parallel(n_jobs=-1)]: Done   7 out of  12 | elapsed:   21.4s remaining:   15.2s\n",
      "[Parallel(n_jobs=-1)]: Done   9 out of  12 | elapsed:   22.0s remaining:    7.3s\n",
      "[Parallel(n_jobs=-1)]: Done  12 out of  12 | elapsed:   22.1s finished\n"
     ]
    },
    {
     "name": "stdout",
     "output_type": "stream",
     "text": [
      "ERROR RATE 0.08210526315789474\n",
      "TIME FOR BATCH, 22.234025239944458\n",
      "PARAMS (2.0, 2.0, 2.0)\n",
      "COMPLETION RATE 72000/10000000\n",
      "PERCENTAGE CORRECT, 0.6015694444444445\n",
      "CONFIDENCE (0.5979864947011291, 0.6051462491536309)\n",
      "CONFIDENCE % 1.7969893003107051\n",
      "-----------------------------------------------\n"
     ]
    },
    {
     "name": "stderr",
     "output_type": "stream",
     "text": [
      "[Parallel(n_jobs=-1)]: Using backend LokyBackend with 12 concurrent workers.\n",
      "[Parallel(n_jobs=-1)]: Done   1 tasks      | elapsed:   20.2s\n",
      "[Parallel(n_jobs=-1)]: Done   3 out of  12 | elapsed:   20.3s remaining:  1.0min\n",
      "[Parallel(n_jobs=-1)]: Done   5 out of  12 | elapsed:   20.8s remaining:   29.1s\n",
      "[Parallel(n_jobs=-1)]: Done   7 out of  12 | elapsed:   21.3s remaining:   15.2s\n",
      "[Parallel(n_jobs=-1)]: Done   9 out of  12 | elapsed:   21.6s remaining:    7.1s\n",
      "[Parallel(n_jobs=-1)]: Done  12 out of  12 | elapsed:   22.0s finished\n",
      "[Parallel(n_jobs=-1)]: Using backend LokyBackend with 12 concurrent workers.\n"
     ]
    },
    {
     "name": "stdout",
     "output_type": "stream",
     "text": [
      "ERROR RATE 0.08210526315789474\n",
      "TIME FOR BATCH, 22.06786823272705\n",
      "PARAMS (2.0, 2.0, 2.0)\n",
      "COMPLETION RATE 96000/10000000\n",
      "PERCENTAGE CORRECT, 0.5998333333333333\n",
      "CONFIDENCE (0.5967294501052982, 0.6029325958488797)\n",
      "CONFIDENCE % 1.5501405440020395\n",
      "-----------------------------------------------\n"
     ]
    },
    {
     "name": "stderr",
     "output_type": "stream",
     "text": [
      "[Parallel(n_jobs=-1)]: Done   1 tasks      | elapsed:   21.0s\n",
      "[Parallel(n_jobs=-1)]: Done   3 out of  12 | elapsed:   21.1s remaining:  1.1min\n",
      "[Parallel(n_jobs=-1)]: Done   5 out of  12 | elapsed:   21.2s remaining:   29.7s\n",
      "[Parallel(n_jobs=-1)]: Done   7 out of  12 | elapsed:   21.9s remaining:   15.6s\n",
      "[Parallel(n_jobs=-1)]: Done   9 out of  12 | elapsed:   22.2s remaining:    7.3s\n",
      "[Parallel(n_jobs=-1)]: Done  12 out of  12 | elapsed:   22.6s finished\n",
      "[Parallel(n_jobs=-1)]: Using backend LokyBackend with 12 concurrent workers.\n"
     ]
    },
    {
     "name": "stdout",
     "output_type": "stream",
     "text": [
      "ERROR RATE 0.08210526315789474\n",
      "TIME FOR BATCH, 22.7456693649292\n",
      "PARAMS (2.0, 2.0, 2.0)\n",
      "COMPLETION RATE 120000/10000000\n",
      "PERCENTAGE CORRECT, 0.5998166666666667\n",
      "CONFIDENCE (0.5970377297557825, 0.6025877414476706)\n",
      "CONFIDENCE % 1.3868672754707596\n",
      "-----------------------------------------------\n"
     ]
    },
    {
     "name": "stderr",
     "output_type": "stream",
     "text": [
      "[Parallel(n_jobs=-1)]: Done   1 tasks      | elapsed:   20.4s\n",
      "[Parallel(n_jobs=-1)]: Done   3 out of  12 | elapsed:   20.5s remaining:  1.0min\n",
      "[Parallel(n_jobs=-1)]: Done   5 out of  12 | elapsed:   20.8s remaining:   29.2s\n",
      "[Parallel(n_jobs=-1)]: Done   7 out of  12 | elapsed:   21.0s remaining:   15.0s\n",
      "[Parallel(n_jobs=-1)]: Done   9 out of  12 | elapsed:   21.6s remaining:    7.1s\n",
      "[Parallel(n_jobs=-1)]: Done  12 out of  12 | elapsed:   21.9s finished\n",
      "[Parallel(n_jobs=-1)]: Using backend LokyBackend with 12 concurrent workers.\n"
     ]
    },
    {
     "name": "stdout",
     "output_type": "stream",
     "text": [
      "ERROR RATE 0.08210526315789474\n",
      "TIME FOR BATCH, 22.026687383651733\n",
      "PARAMS (2.0, 2.0, 2.0)\n",
      "COMPLETION RATE 144000/10000000\n",
      "PERCENTAGE CORRECT, 0.5996319444444445\n",
      "CONFIDENCE (0.5970974122742202, 0.6021633958210625)\n",
      "CONFIDENCE % 1.2653316058926505\n",
      "-----------------------------------------------\n"
     ]
    },
    {
     "name": "stderr",
     "output_type": "stream",
     "text": [
      "[Parallel(n_jobs=-1)]: Done   1 tasks      | elapsed:   21.0s\n",
      "[Parallel(n_jobs=-1)]: Done   3 out of  12 | elapsed:   21.0s remaining:  1.1min\n",
      "[Parallel(n_jobs=-1)]: Done   5 out of  12 | elapsed:   21.5s remaining:   30.1s\n",
      "[Parallel(n_jobs=-1)]: Done   7 out of  12 | elapsed:   21.6s remaining:   15.4s\n",
      "[Parallel(n_jobs=-1)]: Done   9 out of  12 | elapsed:   22.3s remaining:    7.4s\n",
      "[Parallel(n_jobs=-1)]: Done  12 out of  12 | elapsed:   22.6s finished\n"
     ]
    },
    {
     "name": "stdout",
     "output_type": "stream",
     "text": [
      "ERROR RATE 0.08210526315789474\n",
      "TIME FOR BATCH, 22.714417934417725\n",
      "PARAMS (2.0, 2.0, 2.0)\n",
      "COMPLETION RATE 168000/10000000\n",
      "PERCENTAGE CORRECT, 0.5995416666666666\n",
      "CONFIDENCE (0.5971936164586735, 0.601884099710713)\n",
      "CONFIDENCE % 1.171278722806651\n",
      "-----------------------------------------------\n"
     ]
    },
    {
     "name": "stderr",
     "output_type": "stream",
     "text": [
      "[Parallel(n_jobs=-1)]: Using backend LokyBackend with 12 concurrent workers.\n",
      "[Parallel(n_jobs=-1)]: Done   1 tasks      | elapsed:   20.6s\n",
      "[Parallel(n_jobs=-1)]: Done   3 out of  12 | elapsed:   20.7s remaining:  1.0min\n",
      "[Parallel(n_jobs=-1)]: Done   5 out of  12 | elapsed:   21.1s remaining:   29.5s\n",
      "[Parallel(n_jobs=-1)]: Done   7 out of  12 | elapsed:   21.3s remaining:   15.2s\n",
      "[Parallel(n_jobs=-1)]: Done   9 out of  12 | elapsed:   21.8s remaining:    7.2s\n",
      "[Parallel(n_jobs=-1)]: Done  12 out of  12 | elapsed:   22.3s finished\n",
      "[Parallel(n_jobs=-1)]: Using backend LokyBackend with 12 concurrent workers.\n"
     ]
    },
    {
     "name": "stdout",
     "output_type": "stream",
     "text": [
      "ERROR RATE 0.08210526315789474\n",
      "TIME FOR BATCH, 22.393686771392822\n",
      "PARAMS (2.0, 2.0, 2.0)\n",
      "COMPLETION RATE 192000/10000000\n",
      "PERCENTAGE CORRECT, 0.5994635416666667\n",
      "CONFIDENCE (0.597268372143385, 0.6016537945631082)\n",
      "CONFIDENCE % 1.0948872015225015\n",
      "-----------------------------------------------\n"
     ]
    },
    {
     "name": "stderr",
     "output_type": "stream",
     "text": [
      "[Parallel(n_jobs=-1)]: Done   1 tasks      | elapsed:   20.8s\n",
      "[Parallel(n_jobs=-1)]: Done   3 out of  12 | elapsed:   20.9s remaining:  1.0min\n",
      "[Parallel(n_jobs=-1)]: Done   5 out of  12 | elapsed:   21.2s remaining:   29.7s\n",
      "[Parallel(n_jobs=-1)]: Done   7 out of  12 | elapsed:   21.3s remaining:   15.2s\n",
      "[Parallel(n_jobs=-1)]: Done   9 out of  12 | elapsed:   22.0s remaining:    7.3s\n",
      "[Parallel(n_jobs=-1)]: Done  12 out of  12 | elapsed:   22.5s finished\n",
      "[Parallel(n_jobs=-1)]: Using backend LokyBackend with 12 concurrent workers.\n"
     ]
    },
    {
     "name": "stdout",
     "output_type": "stream",
     "text": [
      "ERROR RATE 0.08210526315789474\n",
      "TIME FOR BATCH, 22.628358125686646\n",
      "PARAMS (2.0, 2.0, 2.0)\n",
      "COMPLETION RATE 216000/10000000\n",
      "PERCENTAGE CORRECT, 0.5992083333333333\n",
      "CONFIDENCE (0.5971390155768129, 0.6012755958112237)\n",
      "CONFIDENCE % 1.0321023560230633\n",
      "-----------------------------------------------\n"
     ]
    },
    {
     "name": "stderr",
     "output_type": "stream",
     "text": [
      "[Parallel(n_jobs=-1)]: Done   1 tasks      | elapsed:   20.7s\n",
      "[Parallel(n_jobs=-1)]: Done   3 out of  12 | elapsed:   20.7s remaining:  1.0min\n",
      "[Parallel(n_jobs=-1)]: Done   5 out of  12 | elapsed:   20.8s remaining:   29.2s\n",
      "[Parallel(n_jobs=-1)]: Done   7 out of  12 | elapsed:   21.0s remaining:   15.0s\n",
      "[Parallel(n_jobs=-1)]: Done   9 out of  12 | elapsed:   21.8s remaining:    7.2s\n",
      "[Parallel(n_jobs=-1)]: Done  12 out of  12 | elapsed:   22.1s finished\n",
      "[Parallel(n_jobs=-1)]: Using backend LokyBackend with 12 concurrent workers.\n"
     ]
    },
    {
     "name": "stdout",
     "output_type": "stream",
     "text": [
      "ERROR RATE 0.08210526315789474\n",
      "TIME FOR BATCH, 22.171940803527832\n",
      "PARAMS (2.0, 2.0, 2.0)\n",
      "COMPLETION RATE 240000/10000000\n",
      "PERCENTAGE CORRECT, 0.5988333333333333\n",
      "CONFIDENCE (0.5968709465313892, 0.600793868430352)\n",
      "CONFIDENCE % 0.9778783296126672\n",
      "-----------------------------------------------\n"
     ]
    },
    {
     "name": "stderr",
     "output_type": "stream",
     "text": [
      "[Parallel(n_jobs=-1)]: Done   1 tasks      | elapsed:   20.8s\n",
      "[Parallel(n_jobs=-1)]: Done   3 out of  12 | elapsed:   20.9s remaining:  1.0min\n",
      "[Parallel(n_jobs=-1)]: Done   5 out of  12 | elapsed:   21.1s remaining:   29.6s\n",
      "[Parallel(n_jobs=-1)]: Done   7 out of  12 | elapsed:   21.6s remaining:   15.4s\n",
      "[Parallel(n_jobs=-1)]: Done   9 out of  12 | elapsed:   21.8s remaining:    7.2s\n",
      "[Parallel(n_jobs=-1)]: Done  12 out of  12 | elapsed:   22.4s finished\n",
      "[Parallel(n_jobs=-1)]: Using backend LokyBackend with 12 concurrent workers.\n"
     ]
    },
    {
     "name": "stdout",
     "output_type": "stream",
     "text": [
      "ERROR RATE 0.08210526315789474\n",
      "TIME FOR BATCH, 22.51016640663147\n",
      "PARAMS (2.0, 2.0, 2.0)\n",
      "COMPLETION RATE 264000/10000000\n",
      "PERCENTAGE CORRECT, 0.5991098484848485\n",
      "CONFIDENCE (0.5972387398205856, 0.6009792746796788)\n",
      "CONFIDENCE % 0.9330573088303544\n",
      "-----------------------------------------------\n"
     ]
    },
    {
     "name": "stderr",
     "output_type": "stream",
     "text": [
      "[Parallel(n_jobs=-1)]: Done   1 tasks      | elapsed:   20.6s\n",
      "[Parallel(n_jobs=-1)]: Done   3 out of  12 | elapsed:   20.7s remaining:  1.0min\n",
      "[Parallel(n_jobs=-1)]: Done   5 out of  12 | elapsed:   20.8s remaining:   29.2s\n",
      "[Parallel(n_jobs=-1)]: Done   7 out of  12 | elapsed:   21.4s remaining:   15.2s\n",
      "[Parallel(n_jobs=-1)]: Done   9 out of  12 | elapsed:   21.5s remaining:    7.1s\n",
      "[Parallel(n_jobs=-1)]: Done  12 out of  12 | elapsed:   22.2s finished\n",
      "[Parallel(n_jobs=-1)]: Using backend LokyBackend with 12 concurrent workers.\n"
     ]
    },
    {
     "name": "stdout",
     "output_type": "stream",
     "text": [
      "ERROR RATE 0.08210526315789474\n",
      "TIME FOR BATCH, 22.307343006134033\n",
      "PARAMS (2.0, 2.0, 2.0)\n",
      "COMPLETION RATE 288000/10000000\n",
      "PERCENTAGE CORRECT, 0.5987881944444444\n",
      "CONFIDENCE (0.5969966223487855, 0.6005782235673388)\n",
      "CONFIDENCE % 0.8926958701013072\n",
      "-----------------------------------------------\n"
     ]
    },
    {
     "name": "stderr",
     "output_type": "stream",
     "text": [
      "[Parallel(n_jobs=-1)]: Done   1 tasks      | elapsed:   20.9s\n",
      "[Parallel(n_jobs=-1)]: Done   3 out of  12 | elapsed:   20.9s remaining:  1.0min\n",
      "[Parallel(n_jobs=-1)]: Done   5 out of  12 | elapsed:   21.2s remaining:   29.8s\n",
      "[Parallel(n_jobs=-1)]: Done   7 out of  12 | elapsed:   21.7s remaining:   15.5s\n",
      "[Parallel(n_jobs=-1)]: Done   9 out of  12 | elapsed:   21.9s remaining:    7.2s\n",
      "[Parallel(n_jobs=-1)]: Done  12 out of  12 | elapsed:   22.4s finished\n"
     ]
    },
    {
     "name": "stdout",
     "output_type": "stream",
     "text": [
      "ERROR RATE 0.08210526315789474\n",
      "TIME FOR BATCH, 22.502771615982056\n",
      "PARAMS (2.0, 2.0, 2.0)\n",
      "COMPLETION RATE 312000/10000000\n",
      "PERCENTAGE CORRECT, 0.5986474358974359\n",
      "CONFIDENCE (0.5969247673327871, 0.6003670778218638)\n",
      "CONFIDENCE % 0.8576774628994417\n",
      "-----------------------------------------------\n"
     ]
    },
    {
     "name": "stderr",
     "output_type": "stream",
     "text": [
      "[Parallel(n_jobs=-1)]: Using backend LokyBackend with 12 concurrent workers.\n",
      "[Parallel(n_jobs=-1)]: Done   1 tasks      | elapsed:   20.5s\n",
      "[Parallel(n_jobs=-1)]: Done   3 out of  12 | elapsed:   20.6s remaining:  1.0min\n",
      "[Parallel(n_jobs=-1)]: Done   5 out of  12 | elapsed:   20.8s remaining:   29.2s\n",
      "[Parallel(n_jobs=-1)]: Done   7 out of  12 | elapsed:   21.2s remaining:   15.1s\n",
      "[Parallel(n_jobs=-1)]: Done   9 out of  12 | elapsed:   21.5s remaining:    7.1s\n",
      "[Parallel(n_jobs=-1)]: Done  12 out of  12 | elapsed:   22.0s finished\n",
      "[Parallel(n_jobs=-1)]: Using backend LokyBackend with 12 concurrent workers.\n"
     ]
    },
    {
     "name": "stdout",
     "output_type": "stream",
     "text": [
      "ERROR RATE 0.08210526315789474\n",
      "TIME FOR BATCH, 22.08938431739807\n",
      "PARAMS (2.0, 2.0, 2.0)\n",
      "COMPLETION RATE 336000/10000000\n",
      "PERCENTAGE CORRECT, 0.5981815476190476\n",
      "CONFIDENCE (0.5965224021578364, 0.5998393696149522)\n",
      "CONFIDENCE % 0.8254890828087529\n",
      "-----------------------------------------------\n"
     ]
    },
    {
     "name": "stderr",
     "output_type": "stream",
     "text": [
      "[Parallel(n_jobs=-1)]: Done   1 tasks      | elapsed:   20.7s\n",
      "[Parallel(n_jobs=-1)]: Done   3 out of  12 | elapsed:   20.7s remaining:  1.0min\n",
      "[Parallel(n_jobs=-1)]: Done   5 out of  12 | elapsed:   21.0s remaining:   29.5s\n",
      "[Parallel(n_jobs=-1)]: Done   7 out of  12 | elapsed:   21.6s remaining:   15.4s\n",
      "[Parallel(n_jobs=-1)]: Done   9 out of  12 | elapsed:   21.9s remaining:    7.2s\n",
      "[Parallel(n_jobs=-1)]: Done  12 out of  12 | elapsed:   22.7s finished\n"
     ]
    },
    {
     "name": "stdout",
     "output_type": "stream",
     "text": [
      "ERROR RATE 0.08210526315789474\n",
      "TIME FOR BATCH, 22.77490997314453\n",
      "PARAMS (2.0, 2.0, 2.0)\n",
      "COMPLETION RATE 360000/10000000\n",
      "PERCENTAGE CORRECT, 0.5979777777777778\n",
      "CONFIDENCE (0.5963750751112797, 0.5995792446336967)\n",
      "CONFIDENCE % 0.7970130369176055\n",
      "-----------------------------------------------\n"
     ]
    },
    {
     "name": "stderr",
     "output_type": "stream",
     "text": [
      "[Parallel(n_jobs=-1)]: Using backend LokyBackend with 12 concurrent workers.\n",
      "[Parallel(n_jobs=-1)]: Done   1 tasks      | elapsed:   20.4s\n",
      "[Parallel(n_jobs=-1)]: Done   3 out of  12 | elapsed:   20.7s remaining:  1.0min\n",
      "[Parallel(n_jobs=-1)]: Done   5 out of  12 | elapsed:   21.2s remaining:   29.8s\n",
      "[Parallel(n_jobs=-1)]: Done   7 out of  12 | elapsed:   21.6s remaining:   15.4s\n",
      "[Parallel(n_jobs=-1)]: Done   9 out of  12 | elapsed:   21.8s remaining:    7.2s\n",
      "[Parallel(n_jobs=-1)]: Done  12 out of  12 | elapsed:   22.5s finished\n"
     ]
    },
    {
     "name": "stdout",
     "output_type": "stream",
     "text": [
      "ERROR RATE 0.08210526315789474\n",
      "TIME FOR BATCH, 22.609720706939697\n",
      "PARAMS (2.0, 2.0, 2.0)\n",
      "COMPLETION RATE 384000/10000000\n",
      "PERCENTAGE CORRECT, 0.5975494791666667\n",
      "CONFIDENCE (0.5959974659582957, 0.599100333133638)\n",
      "CONFIDENCE % 0.7709934550258015\n",
      "-----------------------------------------------\n"
     ]
    },
    {
     "name": "stderr",
     "output_type": "stream",
     "text": [
      "[Parallel(n_jobs=-1)]: Using backend LokyBackend with 12 concurrent workers.\n",
      "[Parallel(n_jobs=-1)]: Done   1 tasks      | elapsed:   20.7s\n",
      "[Parallel(n_jobs=-1)]: Done   3 out of  12 | elapsed:   20.9s remaining:  1.0min\n",
      "[Parallel(n_jobs=-1)]: Done   5 out of  12 | elapsed:   21.2s remaining:   29.7s\n",
      "[Parallel(n_jobs=-1)]: Done   7 out of  12 | elapsed:   21.5s remaining:   15.3s\n",
      "[Parallel(n_jobs=-1)]: Done   9 out of  12 | elapsed:   21.8s remaining:    7.2s\n",
      "[Parallel(n_jobs=-1)]: Done  12 out of  12 | elapsed:   22.4s finished\n",
      "[Parallel(n_jobs=-1)]: Using backend LokyBackend with 12 concurrent workers.\n"
     ]
    },
    {
     "name": "stdout",
     "output_type": "stream",
     "text": [
      "ERROR RATE 0.08210526315789474\n",
      "TIME FOR BATCH, 22.508806228637695\n",
      "PARAMS (2.0, 2.0, 2.0)\n",
      "COMPLETION RATE 408000/10000000\n",
      "PERCENTAGE CORRECT, 0.5978137254901961\n",
      "CONFIDENCE (0.5963076644770924, 0.5993174702700093)\n",
      "CONFIDENCE % 0.7483611410124108\n",
      "-----------------------------------------------\n"
     ]
    },
    {
     "name": "stderr",
     "output_type": "stream",
     "text": [
      "[Parallel(n_jobs=-1)]: Done   1 tasks      | elapsed:   20.5s\n",
      "[Parallel(n_jobs=-1)]: Done   3 out of  12 | elapsed:   20.8s remaining:  1.0min\n",
      "[Parallel(n_jobs=-1)]: Done   5 out of  12 | elapsed:   20.9s remaining:   29.4s\n",
      "[Parallel(n_jobs=-1)]: Done   7 out of  12 | elapsed:   21.2s remaining:   15.1s\n",
      "[Parallel(n_jobs=-1)]: Done   9 out of  12 | elapsed:   21.8s remaining:    7.2s\n",
      "[Parallel(n_jobs=-1)]: Done  12 out of  12 | elapsed:   22.4s finished\n",
      "[Parallel(n_jobs=-1)]: Using backend LokyBackend with 12 concurrent workers.\n"
     ]
    },
    {
     "name": "stdout",
     "output_type": "stream",
     "text": [
      "ERROR RATE 0.08210526315789474\n",
      "TIME FOR BATCH, 22.511141777038574\n",
      "PARAMS (2.0, 2.0, 2.0)\n",
      "COMPLETION RATE 432000/10000000\n",
      "PERCENTAGE CORRECT, 0.5977430555555555\n",
      "CONFIDENCE (0.5962789980787095, 0.5992049257243881)\n",
      "CONFIDENCE % 0.7273777833020505\n",
      "-----------------------------------------------\n"
     ]
    },
    {
     "name": "stderr",
     "output_type": "stream",
     "text": [
      "[Parallel(n_jobs=-1)]: Done   1 tasks      | elapsed:   20.9s\n",
      "[Parallel(n_jobs=-1)]: Done   3 out of  12 | elapsed:   21.2s remaining:  1.1min\n",
      "[Parallel(n_jobs=-1)]: Done   5 out of  12 | elapsed:   21.3s remaining:   29.9s\n",
      "[Parallel(n_jobs=-1)]: Done   7 out of  12 | elapsed:   21.5s remaining:   15.3s\n",
      "[Parallel(n_jobs=-1)]: Done   9 out of  12 | elapsed:   22.2s remaining:    7.3s\n",
      "[Parallel(n_jobs=-1)]: Done  12 out of  12 | elapsed:   22.5s finished\n",
      "[Parallel(n_jobs=-1)]: Using backend LokyBackend with 12 concurrent workers.\n"
     ]
    },
    {
     "name": "stdout",
     "output_type": "stream",
     "text": [
      "ERROR RATE 0.08210526315789474\n",
      "TIME FOR BATCH, 22.632718801498413\n",
      "PARAMS (2.0, 2.0, 2.0)\n",
      "COMPLETION RATE 456000/10000000\n",
      "PERCENTAGE CORRECT, 0.597640350877193\n",
      "CONFIDENCE (0.5962160680255538, 0.5990636577559835)\n",
      "CONFIDENCE % 0.7077224907213577\n",
      "-----------------------------------------------\n"
     ]
    },
    {
     "name": "stderr",
     "output_type": "stream",
     "text": [
      "[Parallel(n_jobs=-1)]: Done   1 tasks      | elapsed:   20.7s\n",
      "[Parallel(n_jobs=-1)]: Done   3 out of  12 | elapsed:   20.9s remaining:  1.0min\n",
      "[Parallel(n_jobs=-1)]: Done   5 out of  12 | elapsed:   21.0s remaining:   29.4s\n",
      "[Parallel(n_jobs=-1)]: Done   7 out of  12 | elapsed:   21.4s remaining:   15.2s\n",
      "[Parallel(n_jobs=-1)]: Done   9 out of  12 | elapsed:   21.8s remaining:    7.2s\n",
      "[Parallel(n_jobs=-1)]: Done  12 out of  12 | elapsed:   22.4s finished\n",
      "[Parallel(n_jobs=-1)]: Using backend LokyBackend with 12 concurrent workers.\n"
     ]
    },
    {
     "name": "stdout",
     "output_type": "stream",
     "text": [
      "ERROR RATE 0.08210526315789474\n",
      "TIME FOR BATCH, 22.5108323097229\n",
      "PARAMS (2.0, 2.0, 2.0)\n",
      "COMPLETION RATE 480000/10000000\n",
      "PERCENTAGE CORRECT, 0.5977458333333333\n",
      "CONFIDENCE (0.5963573481629755, 0.5991323496347315)\n",
      "CONFIDENCE % 0.6898627041582802\n",
      "-----------------------------------------------\n"
     ]
    },
    {
     "name": "stderr",
     "output_type": "stream",
     "text": [
      "[Parallel(n_jobs=-1)]: Done   1 tasks      | elapsed:   20.9s\n",
      "[Parallel(n_jobs=-1)]: Done   3 out of  12 | elapsed:   21.0s remaining:  1.1min\n",
      "[Parallel(n_jobs=-1)]: Done   5 out of  12 | elapsed:   21.3s remaining:   29.8s\n",
      "[Parallel(n_jobs=-1)]: Done   7 out of  12 | elapsed:   21.7s remaining:   15.5s\n",
      "[Parallel(n_jobs=-1)]: Done   9 out of  12 | elapsed:   22.0s remaining:    7.3s\n",
      "[Parallel(n_jobs=-1)]: Done  12 out of  12 | elapsed:   22.4s finished\n",
      "[Parallel(n_jobs=-1)]: Using backend LokyBackend with 12 concurrent workers.\n"
     ]
    },
    {
     "name": "stdout",
     "output_type": "stream",
     "text": [
      "ERROR RATE 0.08210526315789474\n",
      "TIME FOR BATCH, 22.476709127426147\n",
      "PARAMS (2.0, 2.0, 2.0)\n",
      "COMPLETION RATE 504000/10000000\n",
      "PERCENTAGE CORRECT, 0.5977797619047619\n",
      "CONFIDENCE (0.5964246570630751, 0.5991329917644179)\n",
      "CONFIDENCE % 0.673346203107143\n",
      "-----------------------------------------------\n"
     ]
    },
    {
     "name": "stderr",
     "output_type": "stream",
     "text": [
      "[Parallel(n_jobs=-1)]: Done   1 tasks      | elapsed:   20.8s\n",
      "[Parallel(n_jobs=-1)]: Done   3 out of  12 | elapsed:   21.1s remaining:  1.1min\n",
      "[Parallel(n_jobs=-1)]: Done   5 out of  12 | elapsed:   21.4s remaining:   30.0s\n",
      "[Parallel(n_jobs=-1)]: Done   7 out of  12 | elapsed:   21.5s remaining:   15.3s\n",
      "[Parallel(n_jobs=-1)]: Done   9 out of  12 | elapsed:   21.9s remaining:    7.2s\n",
      "[Parallel(n_jobs=-1)]: Done  12 out of  12 | elapsed:   22.5s finished\n",
      "[Parallel(n_jobs=-1)]: Using backend LokyBackend with 12 concurrent workers.\n"
     ]
    },
    {
     "name": "stdout",
     "output_type": "stream",
     "text": [
      "ERROR RATE 0.08210526315789474\n",
      "TIME FOR BATCH, 22.605753660202026\n",
      "PARAMS (2.0, 2.0, 2.0)\n",
      "COMPLETION RATE 528000/10000000\n",
      "PERCENTAGE CORRECT, 0.5980643939393939\n",
      "CONFIDENCE (0.5967405819206247, 0.599386416532377)\n",
      "CONFIDENCE % 0.6582732586655485\n",
      "-----------------------------------------------\n"
     ]
    },
    {
     "name": "stderr",
     "output_type": "stream",
     "text": [
      "[Parallel(n_jobs=-1)]: Done   1 tasks      | elapsed:   21.2s\n",
      "[Parallel(n_jobs=-1)]: Done   3 out of  12 | elapsed:   21.4s remaining:  1.1min\n",
      "[Parallel(n_jobs=-1)]: Done   5 out of  12 | elapsed:   21.7s remaining:   30.4s\n",
      "[Parallel(n_jobs=-1)]: Done   7 out of  12 | elapsed:   21.9s remaining:   15.6s\n",
      "[Parallel(n_jobs=-1)]: Done   9 out of  12 | elapsed:   22.3s remaining:    7.4s\n",
      "[Parallel(n_jobs=-1)]: Done  12 out of  12 | elapsed:   23.0s finished\n"
     ]
    },
    {
     "name": "stdout",
     "output_type": "stream",
     "text": [
      "ERROR RATE 0.08210526315789474\n",
      "TIME FOR BATCH, 23.079989671707153\n",
      "PARAMS (2.0, 2.0, 2.0)\n",
      "COMPLETION RATE 552000/10000000\n",
      "PERCENTAGE CORRECT, 0.5980996376811594\n",
      "CONFIDENCE (0.5968053029096718, 0.599393166745599)\n",
      "CONFIDENCE % 0.6439068183457104\n",
      "-----------------------------------------------\n"
     ]
    },
    {
     "name": "stderr",
     "output_type": "stream",
     "text": [
      "[Parallel(n_jobs=-1)]: Using backend LokyBackend with 12 concurrent workers.\n",
      "[Parallel(n_jobs=-1)]: Done   1 tasks      | elapsed:   21.0s\n",
      "[Parallel(n_jobs=-1)]: Done   3 out of  12 | elapsed:   21.2s remaining:  1.1min\n",
      "[Parallel(n_jobs=-1)]: Done   5 out of  12 | elapsed:   21.3s remaining:   29.9s\n",
      "[Parallel(n_jobs=-1)]: Done   7 out of  12 | elapsed:   21.8s remaining:   15.5s\n",
      "[Parallel(n_jobs=-1)]: Done   9 out of  12 | elapsed:   22.1s remaining:    7.3s\n",
      "[Parallel(n_jobs=-1)]: Done  12 out of  12 | elapsed:   22.6s finished\n",
      "[Parallel(n_jobs=-1)]: Using backend LokyBackend with 12 concurrent workers.\n"
     ]
    },
    {
     "name": "stdout",
     "output_type": "stream",
     "text": [
      "ERROR RATE 0.08210526315789474\n",
      "TIME FOR BATCH, 22.757957696914673\n",
      "PARAMS (2.0, 2.0, 2.0)\n",
      "COMPLETION RATE 576000/10000000\n",
      "PERCENTAGE CORRECT, 0.5983802083333334\n",
      "CONFIDENCE (0.5971128947354375, 0.599645881974771)\n",
      "CONFIDENCE % 0.630692832348211\n",
      "-----------------------------------------------\n"
     ]
    },
    {
     "name": "stderr",
     "output_type": "stream",
     "text": [
      "[Parallel(n_jobs=-1)]: Done   1 tasks      | elapsed:   20.9s\n",
      "[Parallel(n_jobs=-1)]: Done   3 out of  12 | elapsed:   21.0s remaining:  1.1min\n",
      "[Parallel(n_jobs=-1)]: Done   5 out of  12 | elapsed:   21.6s remaining:   30.2s\n",
      "[Parallel(n_jobs=-1)]: Done   7 out of  12 | elapsed:   21.9s remaining:   15.6s\n",
      "[Parallel(n_jobs=-1)]: Done   9 out of  12 | elapsed:   22.3s remaining:    7.4s\n",
      "[Parallel(n_jobs=-1)]: Done  12 out of  12 | elapsed:   22.7s finished\n",
      "[Parallel(n_jobs=-1)]: Using backend LokyBackend with 12 concurrent workers.\n"
     ]
    },
    {
     "name": "stdout",
     "output_type": "stream",
     "text": [
      "ERROR RATE 0.08210526315789474\n",
      "TIME FOR BATCH, 22.857654094696045\n",
      "PARAMS (2.0, 2.0, 2.0)\n",
      "COMPLETION RATE 600000/10000000\n",
      "PERCENTAGE CORRECT, 0.59842\n",
      "CONFIDENCE (0.5971783789566745, 0.5996600466855689)\n",
      "CONFIDENCE % 0.6179759273107389\n",
      "-----------------------------------------------\n"
     ]
    },
    {
     "name": "stderr",
     "output_type": "stream",
     "text": [
      "[Parallel(n_jobs=-1)]: Done   1 tasks      | elapsed:   20.9s\n",
      "[Parallel(n_jobs=-1)]: Done   3 out of  12 | elapsed:   21.0s remaining:  1.1min\n",
      "[Parallel(n_jobs=-1)]: Done   5 out of  12 | elapsed:   21.2s remaining:   29.8s\n",
      "[Parallel(n_jobs=-1)]: Done   7 out of  12 | elapsed:   22.1s remaining:   15.8s\n",
      "[Parallel(n_jobs=-1)]: Done   9 out of  12 | elapsed:   22.1s remaining:    7.3s\n",
      "[Parallel(n_jobs=-1)]: Done  12 out of  12 | elapsed:   22.6s finished\n",
      "[Parallel(n_jobs=-1)]: Using backend LokyBackend with 12 concurrent workers.\n"
     ]
    },
    {
     "name": "stdout",
     "output_type": "stream",
     "text": [
      "ERROR RATE 0.08210526315789474\n",
      "TIME FOR BATCH, 22.68658423423767\n",
      "PARAMS (2.0, 2.0, 2.0)\n",
      "COMPLETION RATE 624000/10000000\n",
      "PERCENTAGE CORRECT, 0.5986185897435897\n",
      "CONFIDENCE (0.5974014861811394, 0.5998349810420578)\n",
      "CONFIDENCE % 0.6062799120078353\n",
      "-----------------------------------------------\n"
     ]
    },
    {
     "name": "stderr",
     "output_type": "stream",
     "text": [
      "[Parallel(n_jobs=-1)]: Done   1 tasks      | elapsed:   21.2s\n",
      "[Parallel(n_jobs=-1)]: Done   3 out of  12 | elapsed:   21.4s remaining:  1.1min\n",
      "[Parallel(n_jobs=-1)]: Done   5 out of  12 | elapsed:   21.5s remaining:   30.1s\n",
      "[Parallel(n_jobs=-1)]: Done   7 out of  12 | elapsed:   21.7s remaining:   15.5s\n",
      "[Parallel(n_jobs=-1)]: Done   9 out of  12 | elapsed:   22.1s remaining:    7.3s\n",
      "[Parallel(n_jobs=-1)]: Done  12 out of  12 | elapsed:   22.9s finished\n"
     ]
    },
    {
     "name": "stdout",
     "output_type": "stream",
     "text": [
      "ERROR RATE 0.08210526315789474\n",
      "TIME FOR BATCH, 22.96783471107483\n",
      "PARAMS (2.0, 2.0, 2.0)\n",
      "COMPLETION RATE 648000/10000000\n",
      "PERCENTAGE CORRECT, 0.5984691358024692\n",
      "CONFIDENCE (0.597274733547849, 0.5996628520336873)\n",
      "CONFIDENCE % 0.5947534047254428\n",
      "-----------------------------------------------\n"
     ]
    },
    {
     "name": "stderr",
     "output_type": "stream",
     "text": [
      "[Parallel(n_jobs=-1)]: Using backend LokyBackend with 12 concurrent workers.\n",
      "[Parallel(n_jobs=-1)]: Done   1 tasks      | elapsed:   20.3s\n",
      "[Parallel(n_jobs=-1)]: Done   3 out of  12 | elapsed:   20.6s remaining:  1.0min\n",
      "[Parallel(n_jobs=-1)]: Done   5 out of  12 | elapsed:   21.1s remaining:   29.6s\n",
      "[Parallel(n_jobs=-1)]: Done   7 out of  12 | elapsed:   22.4s remaining:   15.9s\n",
      "[Parallel(n_jobs=-1)]: Done   9 out of  12 | elapsed:   23.8s remaining:    7.9s\n",
      "[Parallel(n_jobs=-1)]: Done  12 out of  12 | elapsed:   24.1s finished\n"
     ]
    },
    {
     "name": "stdout",
     "output_type": "stream",
     "text": [
      "ERROR RATE 0.08315789473684211\n",
      "TIME FOR BATCH, 24.25032377243042\n",
      "PARAMS (2.0, 2.0, 2.0)\n",
      "COMPLETION RATE 24000/10000000\n",
      "PERCENTAGE CORRECT, 0.5929166666666666\n",
      "CONFIDENCE (0.586667709154118, 0.5991261724058289)\n",
      "CONFIDENCE % 3.060420860195091\n",
      "-----------------------------------------------\n"
     ]
    },
    {
     "name": "stderr",
     "output_type": "stream",
     "text": [
      "[Parallel(n_jobs=-1)]: Using backend LokyBackend with 12 concurrent workers.\n",
      "[Parallel(n_jobs=-1)]: Done   1 tasks      | elapsed:   21.7s\n",
      "[Parallel(n_jobs=-1)]: Done   3 out of  12 | elapsed:   22.0s remaining:  1.1min\n",
      "[Parallel(n_jobs=-1)]: Done   5 out of  12 | elapsed:   22.4s remaining:   31.4s\n",
      "[Parallel(n_jobs=-1)]: Done   7 out of  12 | elapsed:   22.8s remaining:   16.3s\n",
      "[Parallel(n_jobs=-1)]: Done   9 out of  12 | elapsed:   23.4s remaining:    7.7s\n",
      "[Parallel(n_jobs=-1)]: Done  12 out of  12 | elapsed:   23.8s finished\n",
      "[Parallel(n_jobs=-1)]: Using backend LokyBackend with 12 concurrent workers.\n"
     ]
    },
    {
     "name": "stdout",
     "output_type": "stream",
     "text": [
      "ERROR RATE 0.08315789473684211\n",
      "TIME FOR BATCH, 23.91625452041626\n",
      "PARAMS (2.0, 2.0, 2.0)\n",
      "COMPLETION RATE 48000/10000000\n",
      "PERCENTAGE CORRECT, 0.5901875\n",
      "CONFIDENCE (0.5857713448364917, 0.5945838902253459)\n",
      "CONFIDENCE % 2.1503847220019203\n",
      "-----------------------------------------------\n"
     ]
    },
    {
     "name": "stderr",
     "output_type": "stream",
     "text": [
      "[Parallel(n_jobs=-1)]: Done   1 tasks      | elapsed:   21.4s\n",
      "[Parallel(n_jobs=-1)]: Done   3 out of  12 | elapsed:   21.6s remaining:  1.1min\n",
      "[Parallel(n_jobs=-1)]: Done   5 out of  12 | elapsed:   21.9s remaining:   30.7s\n",
      "[Parallel(n_jobs=-1)]: Done   7 out of  12 | elapsed:   22.3s remaining:   15.9s\n",
      "[Parallel(n_jobs=-1)]: Done   9 out of  12 | elapsed:   23.2s remaining:    7.7s\n",
      "[Parallel(n_jobs=-1)]: Done  12 out of  12 | elapsed:   23.7s finished\n"
     ]
    },
    {
     "name": "stdout",
     "output_type": "stream",
     "text": [
      "ERROR RATE 0.08315789473684211\n",
      "TIME FOR BATCH, 23.771233797073364\n",
      "PARAMS (2.0, 2.0, 2.0)\n",
      "COMPLETION RATE 72000/10000000\n",
      "PERCENTAGE CORRECT, 0.5898611111111111\n",
      "CONFIDENCE (0.586257286169922, 0.5934517552637314)\n",
      "CONFIDENCE % 1.754154333742891\n",
      "-----------------------------------------------\n"
     ]
    },
    {
     "name": "stderr",
     "output_type": "stream",
     "text": [
      "[Parallel(n_jobs=-1)]: Using backend LokyBackend with 12 concurrent workers.\n",
      "[Parallel(n_jobs=-1)]: Done   1 tasks      | elapsed:   21.3s\n",
      "[Parallel(n_jobs=-1)]: Done   3 out of  12 | elapsed:   21.4s remaining:  1.1min\n",
      "[Parallel(n_jobs=-1)]: Done   5 out of  12 | elapsed:   21.6s remaining:   30.3s\n",
      "[Parallel(n_jobs=-1)]: Done   7 out of  12 | elapsed:   21.8s remaining:   15.6s\n",
      "[Parallel(n_jobs=-1)]: Done   9 out of  12 | elapsed:   22.6s remaining:    7.5s\n",
      "[Parallel(n_jobs=-1)]: Done  12 out of  12 | elapsed:   23.1s finished\n",
      "[Parallel(n_jobs=-1)]: Using backend LokyBackend with 12 concurrent workers.\n"
     ]
    },
    {
     "name": "stdout",
     "output_type": "stream",
     "text": [
      "ERROR RATE 0.08315789473684211\n",
      "TIME FOR BATCH, 23.169328212738037\n",
      "PARAMS (2.0, 2.0, 2.0)\n",
      "COMPLETION RATE 96000/10000000\n",
      "PERCENTAGE CORRECT, 0.5898125\n",
      "CONFIDENCE (0.5866929651528927, 0.5929221478058859)\n",
      "CONFIDENCE % 1.5186183520934242\n",
      "-----------------------------------------------\n"
     ]
    },
    {
     "name": "stderr",
     "output_type": "stream",
     "text": [
      "[Parallel(n_jobs=-1)]: Done   1 tasks      | elapsed:   20.8s\n",
      "[Parallel(n_jobs=-1)]: Done   3 out of  12 | elapsed:   21.0s remaining:  1.1min\n",
      "[Parallel(n_jobs=-1)]: Done   5 out of  12 | elapsed:   21.8s remaining:   30.6s\n",
      "[Parallel(n_jobs=-1)]: Done   7 out of  12 | elapsed:   22.0s remaining:   15.7s\n",
      "[Parallel(n_jobs=-1)]: Done   9 out of  12 | elapsed:   22.2s remaining:    7.3s\n",
      "[Parallel(n_jobs=-1)]: Done  12 out of  12 | elapsed:   22.6s finished\n",
      "[Parallel(n_jobs=-1)]: Using backend LokyBackend with 12 concurrent workers.\n"
     ]
    },
    {
     "name": "stdout",
     "output_type": "stream",
     "text": [
      "ERROR RATE 0.08315789473684211\n",
      "TIME FOR BATCH, 22.65835928916931\n",
      "PARAMS (2.0, 2.0, 2.0)\n",
      "COMPLETION RATE 120000/10000000\n",
      "PERCENTAGE CORRECT, 0.5898083333333334\n",
      "CONFIDENCE (0.5870210378378472, 0.5925918854805288)\n",
      "CONFIDENCE % 1.358108439391723\n",
      "-----------------------------------------------\n"
     ]
    },
    {
     "name": "stderr",
     "output_type": "stream",
     "text": [
      "[Parallel(n_jobs=-1)]: Done   1 tasks      | elapsed:   21.5s\n",
      "[Parallel(n_jobs=-1)]: Done   3 out of  12 | elapsed:   21.6s remaining:  1.1min\n",
      "[Parallel(n_jobs=-1)]: Done   5 out of  12 | elapsed:   22.1s remaining:   31.0s\n",
      "[Parallel(n_jobs=-1)]: Done   7 out of  12 | elapsed:   22.4s remaining:   16.0s\n",
      "[Parallel(n_jobs=-1)]: Done   9 out of  12 | elapsed:   22.5s remaining:    7.4s\n",
      "[Parallel(n_jobs=-1)]: Done  12 out of  12 | elapsed:   22.9s finished\n",
      "[Parallel(n_jobs=-1)]: Using backend LokyBackend with 12 concurrent workers.\n"
     ]
    },
    {
     "name": "stdout",
     "output_type": "stream",
     "text": [
      "ERROR RATE 0.08315789473684211\n",
      "TIME FOR BATCH, 23.045231342315674\n",
      "PARAMS (2.0, 2.0, 2.0)\n",
      "COMPLETION RATE 144000/10000000\n",
      "PERCENTAGE CORRECT, 0.5889583333333334\n",
      "CONFIDENCE (0.5864133636453657, 0.5915001800610005)\n",
      "CONFIDENCE % 1.237542767108314\n",
      "-----------------------------------------------\n"
     ]
    },
    {
     "name": "stderr",
     "output_type": "stream",
     "text": [
      "[Parallel(n_jobs=-1)]: Done   1 tasks      | elapsed:   21.1s\n",
      "[Parallel(n_jobs=-1)]: Done   3 out of  12 | elapsed:   21.1s remaining:  1.1min\n",
      "[Parallel(n_jobs=-1)]: Done   5 out of  12 | elapsed:   21.3s remaining:   29.9s\n",
      "[Parallel(n_jobs=-1)]: Done   7 out of  12 | elapsed:   21.9s remaining:   15.6s\n",
      "[Parallel(n_jobs=-1)]: Done   9 out of  12 | elapsed:   22.1s remaining:    7.3s\n",
      "[Parallel(n_jobs=-1)]: Done  12 out of  12 | elapsed:   22.5s finished\n",
      "[Parallel(n_jobs=-1)]: Using backend LokyBackend with 12 concurrent workers.\n"
     ]
    },
    {
     "name": "stdout",
     "output_type": "stream",
     "text": [
      "ERROR RATE 0.08315789473684211\n",
      "TIME FOR BATCH, 22.644251346588135\n",
      "PARAMS (2.0, 2.0, 2.0)\n",
      "COMPLETION RATE 168000/10000000\n",
      "PERCENTAGE CORRECT, 0.5894642857142857\n",
      "CONFIDENCE (0.5871072898275669, 0.5918156300710582)\n",
      "CONFIDENCE % 1.146877136300625\n",
      "-----------------------------------------------\n"
     ]
    },
    {
     "name": "stderr",
     "output_type": "stream",
     "text": [
      "[Parallel(n_jobs=-1)]: Done   1 tasks      | elapsed:   21.4s\n",
      "[Parallel(n_jobs=-1)]: Done   3 out of  12 | elapsed:   21.5s remaining:  1.1min\n",
      "[Parallel(n_jobs=-1)]: Done   5 out of  12 | elapsed:   21.8s remaining:   30.5s\n",
      "[Parallel(n_jobs=-1)]: Done   7 out of  12 | elapsed:   22.2s remaining:   15.8s\n",
      "[Parallel(n_jobs=-1)]: Done   9 out of  12 | elapsed:   22.4s remaining:    7.4s\n",
      "[Parallel(n_jobs=-1)]: Done  12 out of  12 | elapsed:   22.9s finished\n",
      "[Parallel(n_jobs=-1)]: Using backend LokyBackend with 12 concurrent workers.\n"
     ]
    },
    {
     "name": "stdout",
     "output_type": "stream",
     "text": [
      "ERROR RATE 0.08315789473684211\n",
      "TIME FOR BATCH, 22.974592685699463\n",
      "PARAMS (2.0, 2.0, 2.0)\n",
      "COMPLETION RATE 192000/10000000\n",
      "PERCENTAGE CORRECT, 0.5892135416666666\n",
      "CONFIDENCE (0.5870105441465265, 0.5914141970340844)\n",
      "CONFIDENCE % 1.0720053687808007\n",
      "-----------------------------------------------\n"
     ]
    },
    {
     "name": "stderr",
     "output_type": "stream",
     "text": [
      "[Parallel(n_jobs=-1)]: Done   1 tasks      | elapsed:   21.0s\n",
      "[Parallel(n_jobs=-1)]: Done   3 out of  12 | elapsed:   21.0s remaining:  1.1min\n",
      "[Parallel(n_jobs=-1)]: Done   5 out of  12 | elapsed:   21.6s remaining:   30.2s\n",
      "[Parallel(n_jobs=-1)]: Done   7 out of  12 | elapsed:   21.7s remaining:   15.5s\n",
      "[Parallel(n_jobs=-1)]: Done   9 out of  12 | elapsed:   22.5s remaining:    7.4s\n",
      "[Parallel(n_jobs=-1)]: Done  12 out of  12 | elapsed:   22.8s finished\n",
      "[Parallel(n_jobs=-1)]: Using backend LokyBackend with 12 concurrent workers.\n"
     ]
    },
    {
     "name": "stdout",
     "output_type": "stream",
     "text": [
      "ERROR RATE 0.08315789473684211\n",
      "TIME FOR BATCH, 22.92643713951111\n",
      "PARAMS (2.0, 2.0, 2.0)\n",
      "COMPLETION RATE 216000/10000000\n",
      "PERCENTAGE CORRECT, 0.5897407407407408\n",
      "CONFIDENCE (0.5876644658930199, 0.5918149347809455)\n",
      "CONFIDENCE % 1.0116697659473757\n",
      "-----------------------------------------------\n"
     ]
    },
    {
     "name": "stderr",
     "output_type": "stream",
     "text": [
      "[Parallel(n_jobs=-1)]: Done   1 tasks      | elapsed:   21.9s\n",
      "[Parallel(n_jobs=-1)]: Done   3 out of  12 | elapsed:   22.4s remaining:  1.1min\n",
      "[Parallel(n_jobs=-1)]: Done   5 out of  12 | elapsed:   22.9s remaining:   32.2s\n",
      "[Parallel(n_jobs=-1)]: Done   7 out of  12 | elapsed:   23.3s remaining:   16.6s\n",
      "[Parallel(n_jobs=-1)]: Done   9 out of  12 | elapsed:   23.6s remaining:    7.8s\n",
      "[Parallel(n_jobs=-1)]: Done  12 out of  12 | elapsed:   24.3s finished\n",
      "[Parallel(n_jobs=-1)]: Using backend LokyBackend with 12 concurrent workers.\n"
     ]
    },
    {
     "name": "stdout",
     "output_type": "stream",
     "text": [
      "ERROR RATE 0.08315789473684211\n",
      "TIME FOR BATCH, 24.435385942459106\n",
      "PARAMS (2.0, 2.0, 2.0)\n",
      "COMPLETION RATE 240000/10000000\n",
      "PERCENTAGE CORRECT, 0.5899291666666666\n",
      "CONFIDENCE (0.5879584368884224, 0.5918959409388468)\n",
      "CONFIDENCE % 0.9602009531908594\n",
      "-----------------------------------------------\n"
     ]
    },
    {
     "name": "stderr",
     "output_type": "stream",
     "text": [
      "[Parallel(n_jobs=-1)]: Done   1 tasks      | elapsed:   21.1s\n",
      "[Parallel(n_jobs=-1)]: Done   3 out of  12 | elapsed:   21.2s remaining:  1.1min\n",
      "[Parallel(n_jobs=-1)]: Done   5 out of  12 | elapsed:   21.5s remaining:   30.1s\n",
      "[Parallel(n_jobs=-1)]: Done   7 out of  12 | elapsed:   22.0s remaining:   15.7s\n",
      "[Parallel(n_jobs=-1)]: Done   9 out of  12 | elapsed:   22.5s remaining:    7.4s\n",
      "[Parallel(n_jobs=-1)]: Done  12 out of  12 | elapsed:   23.0s finished\n"
     ]
    },
    {
     "name": "stdout",
     "output_type": "stream",
     "text": [
      "ERROR RATE 0.08315789473684211\n",
      "TIME FOR BATCH, 23.148826837539673\n",
      "PARAMS (2.0, 2.0, 2.0)\n",
      "COMPLETION RATE 264000/10000000\n",
      "PERCENTAGE CORRECT, 0.5894507575757576\n",
      "CONFIDENCE (0.5875720631570922, 0.5913277493781114)\n",
      "CONFIDENCE % 0.9147955550574935\n",
      "-----------------------------------------------\n"
     ]
    },
    {
     "name": "stderr",
     "output_type": "stream",
     "text": [
      "[Parallel(n_jobs=-1)]: Using backend LokyBackend with 12 concurrent workers.\n",
      "[Parallel(n_jobs=-1)]: Done   1 tasks      | elapsed:   21.3s\n",
      "[Parallel(n_jobs=-1)]: Done   3 out of  12 | elapsed:   21.4s remaining:  1.1min\n",
      "[Parallel(n_jobs=-1)]: Done   5 out of  12 | elapsed:   22.1s remaining:   30.9s\n",
      "[Parallel(n_jobs=-1)]: Done   7 out of  12 | elapsed:   22.7s remaining:   16.2s\n",
      "[Parallel(n_jobs=-1)]: Done   9 out of  12 | elapsed:   22.8s remaining:    7.5s\n",
      "[Parallel(n_jobs=-1)]: Done  12 out of  12 | elapsed:   23.1s finished\n",
      "[Parallel(n_jobs=-1)]: Using backend LokyBackend with 12 concurrent workers.\n"
     ]
    },
    {
     "name": "stdout",
     "output_type": "stream",
     "text": [
      "ERROR RATE 0.08315789473684211\n",
      "TIME FOR BATCH, 23.204978466033936\n",
      "PARAMS (2.0, 2.0, 2.0)\n",
      "COMPLETION RATE 288000/10000000\n",
      "PERCENTAGE CORRECT, 0.5901944444444445\n",
      "CONFIDENCE (0.5883959199579083, 0.591989673047174)\n",
      "CONFIDENCE % 0.8769410371691494\n",
      "-----------------------------------------------\n"
     ]
    },
    {
     "name": "stderr",
     "output_type": "stream",
     "text": [
      "[Parallel(n_jobs=-1)]: Done   1 tasks      | elapsed:   21.1s\n",
      "[Parallel(n_jobs=-1)]: Done   3 out of  12 | elapsed:   21.2s remaining:  1.1min\n",
      "[Parallel(n_jobs=-1)]: Done   5 out of  12 | elapsed:   21.7s remaining:   30.4s\n",
      "[Parallel(n_jobs=-1)]: Done   7 out of  12 | elapsed:   22.1s remaining:   15.8s\n",
      "[Parallel(n_jobs=-1)]: Done   9 out of  12 | elapsed:   22.2s remaining:    7.3s\n",
      "[Parallel(n_jobs=-1)]: Done  12 out of  12 | elapsed:   22.7s finished\n",
      "[Parallel(n_jobs=-1)]: Using backend LokyBackend with 12 concurrent workers.\n"
     ]
    },
    {
     "name": "stdout",
     "output_type": "stream",
     "text": [
      "ERROR RATE 0.08315789473684211\n",
      "TIME FOR BATCH, 22.760062217712402\n",
      "PARAMS (2.0, 2.0, 2.0)\n",
      "COMPLETION RATE 312000/10000000\n",
      "PERCENTAGE CORRECT, 0.5901346153846154\n",
      "CONFIDENCE (0.5884071310541901, 0.5918606601338223)\n",
      "CONFIDENCE % 0.8426008170641267\n",
      "-----------------------------------------------\n"
     ]
    },
    {
     "name": "stderr",
     "output_type": "stream",
     "text": [
      "[Parallel(n_jobs=-1)]: Done   1 tasks      | elapsed:   21.4s\n",
      "[Parallel(n_jobs=-1)]: Done   3 out of  12 | elapsed:   21.6s remaining:  1.1min\n",
      "[Parallel(n_jobs=-1)]: Done   5 out of  12 | elapsed:   21.8s remaining:   30.5s\n",
      "[Parallel(n_jobs=-1)]: Done   7 out of  12 | elapsed:   22.5s remaining:   16.0s\n",
      "[Parallel(n_jobs=-1)]: Done   9 out of  12 | elapsed:   22.8s remaining:    7.5s\n",
      "[Parallel(n_jobs=-1)]: Done  12 out of  12 | elapsed:   23.5s finished\n"
     ]
    },
    {
     "name": "stdout",
     "output_type": "stream",
     "text": [
      "ERROR RATE 0.08315789473684211\n",
      "TIME FOR BATCH, 23.584738731384277\n",
      "PARAMS (2.0, 2.0, 2.0)\n",
      "COMPLETION RATE 336000/10000000\n",
      "PERCENTAGE CORRECT, 0.5898541666666667\n",
      "CONFIDENCE (0.5881890621132401, 0.5915164455216484)\n",
      "CONFIDENCE % 0.8112683679768353\n",
      "-----------------------------------------------\n"
     ]
    },
    {
     "name": "stderr",
     "output_type": "stream",
     "text": [
      "[Parallel(n_jobs=-1)]: Using backend LokyBackend with 12 concurrent workers.\n",
      "[Parallel(n_jobs=-1)]: Done   1 tasks      | elapsed:   20.9s\n",
      "[Parallel(n_jobs=-1)]: Done   3 out of  12 | elapsed:   21.2s remaining:  1.1min\n",
      "[Parallel(n_jobs=-1)]: Done   5 out of  12 | elapsed:   21.7s remaining:   30.4s\n",
      "[Parallel(n_jobs=-1)]: Done   7 out of  12 | elapsed:   22.1s remaining:   15.8s\n",
      "[Parallel(n_jobs=-1)]: Done   9 out of  12 | elapsed:   22.4s remaining:    7.4s\n",
      "[Parallel(n_jobs=-1)]: Done  12 out of  12 | elapsed:   22.9s finished\n"
     ]
    },
    {
     "name": "stdout",
     "output_type": "stream",
     "text": [
      "ERROR RATE 0.08315789473684211\n",
      "TIME FOR BATCH, 22.985275745391846\n",
      "PARAMS (2.0, 2.0, 2.0)\n",
      "COMPLETION RATE 360000/10000000\n",
      "PERCENTAGE CORRECT, 0.5897194444444445\n",
      "CONFIDENCE (0.5881111799700353, 0.5913264605222874)\n",
      "CONFIDENCE % 0.7836785118657174\n",
      "-----------------------------------------------\n"
     ]
    },
    {
     "name": "stderr",
     "output_type": "stream",
     "text": [
      "[Parallel(n_jobs=-1)]: Using backend LokyBackend with 12 concurrent workers.\n",
      "[Parallel(n_jobs=-1)]: Done   1 tasks      | elapsed:   21.7s\n",
      "[Parallel(n_jobs=-1)]: Done   3 out of  12 | elapsed:   21.9s remaining:  1.1min\n",
      "[Parallel(n_jobs=-1)]: Done   5 out of  12 | elapsed:   22.2s remaining:   31.2s\n",
      "[Parallel(n_jobs=-1)]: Done   7 out of  12 | elapsed:   22.4s remaining:   15.9s\n",
      "[Parallel(n_jobs=-1)]: Done   9 out of  12 | elapsed:   22.5s remaining:    7.4s\n",
      "[Parallel(n_jobs=-1)]: Done  12 out of  12 | elapsed:   23.0s finished\n",
      "[Parallel(n_jobs=-1)]: Using backend LokyBackend with 12 concurrent workers.\n"
     ]
    },
    {
     "name": "stdout",
     "output_type": "stream",
     "text": [
      "ERROR RATE 0.08315789473684211\n",
      "TIME FOR BATCH, 23.15153408050537\n",
      "PARAMS (2.0, 2.0, 2.0)\n",
      "COMPLETION RATE 384000/10000000\n",
      "PERCENTAGE CORRECT, 0.5897421875\n",
      "CONFIDENCE (0.5881849604686971, 0.5912982442420879)\n",
      "CONFIDENCE % 0.7588603260031319\n",
      "-----------------------------------------------\n"
     ]
    },
    {
     "name": "stderr",
     "output_type": "stream",
     "text": [
      "[Parallel(n_jobs=-1)]: Done   1 tasks      | elapsed:   21.0s\n",
      "[Parallel(n_jobs=-1)]: Done   3 out of  12 | elapsed:   21.6s remaining:  1.1min\n",
      "[Parallel(n_jobs=-1)]: Done   5 out of  12 | elapsed:   21.8s remaining:   30.6s\n",
      "[Parallel(n_jobs=-1)]: Done   7 out of  12 | elapsed:   22.2s remaining:   15.9s\n",
      "[Parallel(n_jobs=-1)]: Done   9 out of  12 | elapsed:   22.3s remaining:    7.4s\n",
      "[Parallel(n_jobs=-1)]: Done  12 out of  12 | elapsed:   22.6s finished\n",
      "[Parallel(n_jobs=-1)]: Using backend LokyBackend with 12 concurrent workers.\n"
     ]
    },
    {
     "name": "stdout",
     "output_type": "stream",
     "text": [
      "ERROR RATE 0.08315789473684211\n",
      "TIME FOR BATCH, 22.710453987121582\n",
      "PARAMS (2.0, 2.0, 2.0)\n",
      "COMPLETION RATE 408000/10000000\n",
      "PERCENTAGE CORRECT, 0.5896691176470589\n",
      "CONFIDENCE (0.5881581491251557, 0.5911777588108976)\n",
      "CONFIDENCE % 0.735896276786841\n",
      "-----------------------------------------------\n"
     ]
    },
    {
     "name": "stderr",
     "output_type": "stream",
     "text": [
      "[Parallel(n_jobs=-1)]: Done   1 tasks      | elapsed:   21.4s\n",
      "[Parallel(n_jobs=-1)]: Done   3 out of  12 | elapsed:   21.7s remaining:  1.1min\n",
      "[Parallel(n_jobs=-1)]: Done   5 out of  12 | elapsed:   21.9s remaining:   30.6s\n",
      "[Parallel(n_jobs=-1)]: Done   7 out of  12 | elapsed:   22.3s remaining:   15.9s\n",
      "[Parallel(n_jobs=-1)]: Done   9 out of  12 | elapsed:   22.7s remaining:    7.5s\n",
      "[Parallel(n_jobs=-1)]: Done  12 out of  12 | elapsed:   23.0s finished\n",
      "[Parallel(n_jobs=-1)]: Using backend LokyBackend with 12 concurrent workers.\n"
     ]
    },
    {
     "name": "stdout",
     "output_type": "stream",
     "text": [
      "ERROR RATE 0.08315789473684211\n",
      "TIME FOR BATCH, 23.10077214241028\n",
      "PARAMS (2.0, 2.0, 2.0)\n",
      "COMPLETION RATE 432000/10000000\n",
      "PERCENTAGE CORRECT, 0.589462962962963\n",
      "CONFIDENCE (0.5879942704360103, 0.5909294573167445)\n",
      "CONFIDENCE % 0.7149627477994004\n",
      "-----------------------------------------------\n"
     ]
    },
    {
     "name": "stderr",
     "output_type": "stream",
     "text": [
      "[Parallel(n_jobs=-1)]: Done   1 tasks      | elapsed:   21.2s\n",
      "[Parallel(n_jobs=-1)]: Done   3 out of  12 | elapsed:   21.2s remaining:  1.1min\n",
      "[Parallel(n_jobs=-1)]: Done   5 out of  12 | elapsed:   22.0s remaining:   30.9s\n",
      "[Parallel(n_jobs=-1)]: Done   7 out of  12 | elapsed:   22.3s remaining:   15.9s\n",
      "[Parallel(n_jobs=-1)]: Done   9 out of  12 | elapsed:   22.4s remaining:    7.4s\n",
      "[Parallel(n_jobs=-1)]: Done  12 out of  12 | elapsed:   23.1s finished\n",
      "[Parallel(n_jobs=-1)]: Using backend LokyBackend with 12 concurrent workers.\n"
     ]
    },
    {
     "name": "stdout",
     "output_type": "stream",
     "text": [
      "ERROR RATE 0.08315789473684211\n",
      "TIME FOR BATCH, 23.16583800315857\n",
      "PARAMS (2.0, 2.0, 2.0)\n",
      "COMPLETION RATE 456000/10000000\n",
      "PERCENTAGE CORRECT, 0.589546052631579\n",
      "CONFIDENCE (0.5881173788172271, 0.5909737404177776)\n",
      "CONFIDENCE % 0.695903065097488\n",
      "-----------------------------------------------\n"
     ]
    },
    {
     "name": "stderr",
     "output_type": "stream",
     "text": [
      "[Parallel(n_jobs=-1)]: Done   1 tasks      | elapsed:   22.4s\n",
      "[Parallel(n_jobs=-1)]: Done   3 out of  12 | elapsed:   22.8s remaining:  1.1min\n",
      "[Parallel(n_jobs=-1)]: Done   5 out of  12 | elapsed:   23.3s remaining:   32.7s\n",
      "[Parallel(n_jobs=-1)]: Done   7 out of  12 | elapsed:   24.0s remaining:   17.1s\n",
      "[Parallel(n_jobs=-1)]: Done   9 out of  12 | elapsed:   24.7s remaining:    8.2s\n",
      "[Parallel(n_jobs=-1)]: Done  12 out of  12 | elapsed:   25.4s finished\n",
      "[Parallel(n_jobs=-1)]: Using backend LokyBackend with 12 concurrent workers.\n"
     ]
    },
    {
     "name": "stdout",
     "output_type": "stream",
     "text": [
      "ERROR RATE 0.08315789473684211\n",
      "TIME FOR BATCH, 25.463114023208618\n",
      "PARAMS (2.0, 2.0, 2.0)\n",
      "COMPLETION RATE 480000/10000000\n",
      "PERCENTAGE CORRECT, 0.5896270833333334\n",
      "CONFIDENCE (0.5882344266840591, 0.5910188034963739)\n",
      "CONFIDENCE % 0.6784991648404682\n",
      "-----------------------------------------------\n"
     ]
    },
    {
     "name": "stderr",
     "output_type": "stream",
     "text": [
      "[Parallel(n_jobs=-1)]: Done   1 tasks      | elapsed:   21.0s\n",
      "[Parallel(n_jobs=-1)]: Done   3 out of  12 | elapsed:   21.1s remaining:  1.1min\n",
      "[Parallel(n_jobs=-1)]: Done   5 out of  12 | elapsed:   21.5s remaining:   30.1s\n",
      "[Parallel(n_jobs=-1)]: Done   7 out of  12 | elapsed:   21.7s remaining:   15.4s\n",
      "[Parallel(n_jobs=-1)]: Done   9 out of  12 | elapsed:   22.6s remaining:    7.5s\n",
      "[Parallel(n_jobs=-1)]: Done  12 out of  12 | elapsed:   23.2s finished\n"
     ]
    },
    {
     "name": "stdout",
     "output_type": "stream",
     "text": [
      "ERROR RATE 0.08315789473684211\n",
      "TIME FOR BATCH, 23.34826159477234\n",
      "PARAMS (2.0, 2.0, 2.0)\n",
      "COMPLETION RATE 504000/10000000\n",
      "PERCENTAGE CORRECT, 0.5899305555555555\n",
      "CONFIDENCE (0.5885714780283807, 0.5912887416227414)\n",
      "CONFIDENCE % 0.6626349832141106\n",
      "-----------------------------------------------\n"
     ]
    },
    {
     "name": "stderr",
     "output_type": "stream",
     "text": [
      "[Parallel(n_jobs=-1)]: Using backend LokyBackend with 12 concurrent workers.\n",
      "[Parallel(n_jobs=-1)]: Done   1 tasks      | elapsed:   21.5s\n",
      "[Parallel(n_jobs=-1)]: Done   3 out of  12 | elapsed:   21.8s remaining:  1.1min\n",
      "[Parallel(n_jobs=-1)]: Done   5 out of  12 | elapsed:   22.2s remaining:   31.1s\n",
      "[Parallel(n_jobs=-1)]: Done   7 out of  12 | elapsed:   22.5s remaining:   16.1s\n",
      "[Parallel(n_jobs=-1)]: Done   9 out of  12 | elapsed:   22.6s remaining:    7.5s\n",
      "[Parallel(n_jobs=-1)]: Done  12 out of  12 | elapsed:   23.0s finished\n",
      "[Parallel(n_jobs=-1)]: Using backend LokyBackend with 12 concurrent workers.\n"
     ]
    },
    {
     "name": "stdout",
     "output_type": "stream",
     "text": [
      "ERROR RATE 0.08315789473684211\n",
      "TIME FOR BATCH, 23.155707836151123\n",
      "PARAMS (2.0, 2.0, 2.0)\n",
      "COMPLETION RATE 528000/10000000\n",
      "PERCENTAGE CORRECT, 0.5899867424242424\n",
      "CONFIDENCE (0.5886591381067229, 0.5913134957389223)\n",
      "CONFIDENCE % 0.6473833670388118\n",
      "-----------------------------------------------\n"
     ]
    },
    {
     "name": "stderr",
     "output_type": "stream",
     "text": [
      "[Parallel(n_jobs=-1)]: Done   1 tasks      | elapsed:   21.4s\n",
      "[Parallel(n_jobs=-1)]: Done   3 out of  12 | elapsed:   21.4s remaining:  1.1min\n",
      "[Parallel(n_jobs=-1)]: Done   5 out of  12 | elapsed:   21.7s remaining:   30.4s\n",
      "[Parallel(n_jobs=-1)]: Done   7 out of  12 | elapsed:   22.4s remaining:   16.0s\n",
      "[Parallel(n_jobs=-1)]: Done   9 out of  12 | elapsed:   22.7s remaining:    7.5s\n",
      "[Parallel(n_jobs=-1)]: Done  12 out of  12 | elapsed:   23.2s finished\n",
      "[Parallel(n_jobs=-1)]: Using backend LokyBackend with 12 concurrent workers.\n"
     ]
    },
    {
     "name": "stdout",
     "output_type": "stream",
     "text": [
      "ERROR RATE 0.08315789473684211\n",
      "TIME FOR BATCH, 23.311200380325317\n",
      "PARAMS (2.0, 2.0, 2.0)\n",
      "COMPLETION RATE 552000/10000000\n",
      "PERCENTAGE CORRECT, 0.5900760869565217\n",
      "CONFIDENCE (0.5887772192773643, 0.591373234951502)\n",
      "CONFIDENCE % 0.6332920797090343\n",
      "-----------------------------------------------\n"
     ]
    },
    {
     "name": "stderr",
     "output_type": "stream",
     "text": [
      "[Parallel(n_jobs=-1)]: Done   1 tasks      | elapsed:   21.6s\n",
      "[Parallel(n_jobs=-1)]: Done   3 out of  12 | elapsed:   21.9s remaining:  1.1min\n",
      "[Parallel(n_jobs=-1)]: Done   5 out of  12 | elapsed:   22.3s remaining:   31.3s\n",
      "[Parallel(n_jobs=-1)]: Done   7 out of  12 | elapsed:   22.6s remaining:   16.1s\n",
      "[Parallel(n_jobs=-1)]: Done   9 out of  12 | elapsed:   23.2s remaining:    7.7s\n",
      "[Parallel(n_jobs=-1)]: Done  12 out of  12 | elapsed:   23.9s finished\n",
      "[Parallel(n_jobs=-1)]: Using backend LokyBackend with 12 concurrent workers.\n"
     ]
    },
    {
     "name": "stdout",
     "output_type": "stream",
     "text": [
      "ERROR RATE 0.08315789473684211\n",
      "TIME FOR BATCH, 23.976628303527832\n",
      "PARAMS (2.0, 2.0, 2.0)\n",
      "COMPLETION RATE 576000/10000000\n",
      "PERCENTAGE CORRECT, 0.5898611111111111\n",
      "CONFIDENCE (0.5885903209073267, 0.5911311208953582)\n",
      "CONFIDENCE % 0.6194974572918185\n",
      "-----------------------------------------------\n"
     ]
    },
    {
     "name": "stderr",
     "output_type": "stream",
     "text": [
      "[Parallel(n_jobs=-1)]: Done   1 tasks      | elapsed:   21.4s\n",
      "[Parallel(n_jobs=-1)]: Done   3 out of  12 | elapsed:   21.7s remaining:  1.1min\n",
      "[Parallel(n_jobs=-1)]: Done   5 out of  12 | elapsed:   21.9s remaining:   30.7s\n",
      "[Parallel(n_jobs=-1)]: Done   7 out of  12 | elapsed:   22.6s remaining:   16.1s\n",
      "[Parallel(n_jobs=-1)]: Done   9 out of  12 | elapsed:   22.7s remaining:    7.5s\n",
      "[Parallel(n_jobs=-1)]: Done  12 out of  12 | elapsed:   23.2s finished\n"
     ]
    },
    {
     "name": "stdout",
     "output_type": "stream",
     "text": [
      "ERROR RATE 0.08315789473684211\n",
      "TIME FOR BATCH, 23.323214054107666\n",
      "PARAMS (2.0, 2.0, 2.0)\n",
      "COMPLETION RATE 600000/10000000\n",
      "PERCENTAGE CORRECT, 0.5897783333333333\n",
      "CONFIDENCE (0.5885325415720178, 0.5910225426164666)\n",
      "CONFIDENCE % 0.6069891589787818\n",
      "-----------------------------------------------\n"
     ]
    },
    {
     "name": "stderr",
     "output_type": "stream",
     "text": [
      "[Parallel(n_jobs=-1)]: Using backend LokyBackend with 12 concurrent workers.\n",
      "[Parallel(n_jobs=-1)]: Done   1 tasks      | elapsed:   21.6s\n",
      "[Parallel(n_jobs=-1)]: Done   3 out of  12 | elapsed:   21.7s remaining:  1.1min\n",
      "[Parallel(n_jobs=-1)]: Done   5 out of  12 | elapsed:   22.2s remaining:   31.2s\n",
      "[Parallel(n_jobs=-1)]: Done   7 out of  12 | elapsed:   22.7s remaining:   16.2s\n",
      "[Parallel(n_jobs=-1)]: Done   9 out of  12 | elapsed:   22.8s remaining:    7.5s\n",
      "[Parallel(n_jobs=-1)]: Done  12 out of  12 | elapsed:   23.4s finished\n"
     ]
    },
    {
     "name": "stdout",
     "output_type": "stream",
     "text": [
      "ERROR RATE 0.08315789473684211\n",
      "TIME FOR BATCH, 23.49860405921936\n",
      "PARAMS (2.0, 2.0, 2.0)\n",
      "COMPLETION RATE 624000/10000000\n",
      "PERCENTAGE CORRECT, 0.589801282051282\n",
      "CONFIDENCE (0.5885801680620256, 0.5910216757038675)\n",
      "CONFIDENCE % 0.5952011878660122\n",
      "-----------------------------------------------\n"
     ]
    },
    {
     "name": "stderr",
     "output_type": "stream",
     "text": [
      "[Parallel(n_jobs=-1)]: Using backend LokyBackend with 12 concurrent workers.\n",
      "[Parallel(n_jobs=-1)]: Done   1 tasks      | elapsed:   21.1s\n",
      "[Parallel(n_jobs=-1)]: Done   3 out of  12 | elapsed:   21.3s remaining:  1.1min\n",
      "[Parallel(n_jobs=-1)]: Done   5 out of  12 | elapsed:   22.0s remaining:   30.8s\n",
      "[Parallel(n_jobs=-1)]: Done   7 out of  12 | elapsed:   22.3s remaining:   15.9s\n",
      "[Parallel(n_jobs=-1)]: Done   9 out of  12 | elapsed:   22.8s remaining:    7.5s\n",
      "[Parallel(n_jobs=-1)]: Done  12 out of  12 | elapsed:   23.0s finished\n",
      "[Parallel(n_jobs=-1)]: Using backend LokyBackend with 12 concurrent workers.\n"
     ]
    },
    {
     "name": "stdout",
     "output_type": "stream",
     "text": [
      "ERROR RATE 0.08421052631578947\n",
      "TIME FOR BATCH, 23.13808822631836\n",
      "PARAMS (2.0, 2.0, 2.0)\n",
      "COMPLETION RATE 24000/10000000\n",
      "PERCENTAGE CORRECT, 0.584625\n",
      "CONFIDENCE (0.578375919123153, 0.5908552421253888)\n",
      "CONFIDENCE % 3.0043510086634373\n",
      "-----------------------------------------------\n"
     ]
    },
    {
     "name": "stderr",
     "output_type": "stream",
     "text": [
      "[Parallel(n_jobs=-1)]: Done   1 tasks      | elapsed:   21.4s\n",
      "[Parallel(n_jobs=-1)]: Done   3 out of  12 | elapsed:   21.6s remaining:  1.1min\n",
      "[Parallel(n_jobs=-1)]: Done   5 out of  12 | elapsed:   22.0s remaining:   30.9s\n",
      "[Parallel(n_jobs=-1)]: Done   7 out of  12 | elapsed:   22.6s remaining:   16.1s\n",
      "[Parallel(n_jobs=-1)]: Done   9 out of  12 | elapsed:   22.9s remaining:    7.6s\n",
      "[Parallel(n_jobs=-1)]: Done  12 out of  12 | elapsed:   23.4s finished\n",
      "[Parallel(n_jobs=-1)]: Using backend LokyBackend with 12 concurrent workers.\n"
     ]
    },
    {
     "name": "stdout",
     "output_type": "stream",
     "text": [
      "ERROR RATE 0.08421052631578947\n",
      "TIME FOR BATCH, 23.49502205848694\n",
      "PARAMS (2.0, 2.0, 2.0)\n",
      "COMPLETION RATE 48000/10000000\n",
      "PERCENTAGE CORRECT, 0.5852291666666667\n",
      "CONFIDENCE (0.5808129745940379, 0.5896359467446698)\n",
      "CONFIDENCE % 2.127192039933348\n",
      "-----------------------------------------------\n"
     ]
    },
    {
     "name": "stderr",
     "output_type": "stream",
     "text": [
      "[Parallel(n_jobs=-1)]: Done   1 tasks      | elapsed:   21.5s\n",
      "[Parallel(n_jobs=-1)]: Done   3 out of  12 | elapsed:   21.6s remaining:  1.1min\n",
      "[Parallel(n_jobs=-1)]: Done   5 out of  12 | elapsed:   22.5s remaining:   31.5s\n",
      "[Parallel(n_jobs=-1)]: Done   7 out of  12 | elapsed:   22.6s remaining:   16.1s\n",
      "[Parallel(n_jobs=-1)]: Done   9 out of  12 | elapsed:   22.9s remaining:    7.6s\n",
      "[Parallel(n_jobs=-1)]: Done  12 out of  12 | elapsed:   23.3s finished\n",
      "[Parallel(n_jobs=-1)]: Using backend LokyBackend with 12 concurrent workers.\n"
     ]
    },
    {
     "name": "stdout",
     "output_type": "stream",
     "text": [
      "ERROR RATE 0.08421052631578947\n",
      "TIME FOR BATCH, 23.45471429824829\n",
      "PARAMS (2.0, 2.0, 2.0)\n",
      "COMPLETION RATE 72000/10000000\n",
      "PERCENTAGE CORRECT, 0.5831111111111111\n",
      "CONFIDENCE (0.5795003138878525, 0.5867086714886844)\n",
      "CONFIDENCE % 1.7290836462549959\n",
      "-----------------------------------------------\n"
     ]
    },
    {
     "name": "stderr",
     "output_type": "stream",
     "text": [
      "[Parallel(n_jobs=-1)]: Done   1 tasks      | elapsed:   21.5s\n",
      "[Parallel(n_jobs=-1)]: Done   3 out of  12 | elapsed:   21.6s remaining:  1.1min\n",
      "[Parallel(n_jobs=-1)]: Done   5 out of  12 | elapsed:   22.2s remaining:   31.1s\n",
      "[Parallel(n_jobs=-1)]: Done   7 out of  12 | elapsed:   22.5s remaining:   16.1s\n",
      "[Parallel(n_jobs=-1)]: Done   9 out of  12 | elapsed:   22.8s remaining:    7.5s\n",
      "[Parallel(n_jobs=-1)]: Done  12 out of  12 | elapsed:   23.5s finished\n"
     ]
    },
    {
     "name": "stdout",
     "output_type": "stream",
     "text": [
      "ERROR RATE 0.08421052631578947\n",
      "TIME FOR BATCH, 23.558833122253418\n",
      "PARAMS (2.0, 2.0, 2.0)\n",
      "COMPLETION RATE 96000/10000000\n",
      "PERCENTAGE CORRECT, 0.5832916666666667\n",
      "CONFIDENCE (0.580166902933037, 0.5864117141859014)\n",
      "CONFIDENCE % 1.498604840203452\n",
      "-----------------------------------------------\n"
     ]
    },
    {
     "name": "stderr",
     "output_type": "stream",
     "text": [
      "[Parallel(n_jobs=-1)]: Using backend LokyBackend with 12 concurrent workers.\n",
      "[Parallel(n_jobs=-1)]: Done   1 tasks      | elapsed:   21.7s\n",
      "[Parallel(n_jobs=-1)]: Done   3 out of  12 | elapsed:   21.7s remaining:  1.1min\n",
      "[Parallel(n_jobs=-1)]: Done   5 out of  12 | elapsed:   22.1s remaining:   31.0s\n",
      "[Parallel(n_jobs=-1)]: Done   7 out of  12 | elapsed:   22.6s remaining:   16.1s\n",
      "[Parallel(n_jobs=-1)]: Done   9 out of  12 | elapsed:   23.2s remaining:    7.7s\n",
      "[Parallel(n_jobs=-1)]: Done  12 out of  12 | elapsed:   23.4s finished\n",
      "[Parallel(n_jobs=-1)]: Using backend LokyBackend with 12 concurrent workers.\n"
     ]
    },
    {
     "name": "stdout",
     "output_type": "stream",
     "text": [
      "ERROR RATE 0.08421052631578947\n",
      "TIME FOR BATCH, 23.51830816268921\n",
      "PARAMS (2.0, 2.0, 2.0)\n",
      "COMPLETION RATE 120000/10000000\n",
      "PERCENTAGE CORRECT, 0.5825\n",
      "CONFIDENCE (0.5797043547794697, 0.5852897506409755)\n",
      "CONFIDENCE % 1.3378193680253556\n",
      "-----------------------------------------------\n"
     ]
    },
    {
     "name": "stderr",
     "output_type": "stream",
     "text": [
      "[Parallel(n_jobs=-1)]: Done   1 tasks      | elapsed:   22.2s\n",
      "[Parallel(n_jobs=-1)]: Done   3 out of  12 | elapsed:   22.5s remaining:  1.1min\n",
      "[Parallel(n_jobs=-1)]: Done   5 out of  12 | elapsed:   22.8s remaining:   32.0s\n",
      "[Parallel(n_jobs=-1)]: Done   7 out of  12 | elapsed:   23.5s remaining:   16.8s\n",
      "[Parallel(n_jobs=-1)]: Done   9 out of  12 | elapsed:   23.9s remaining:    7.9s\n",
      "[Parallel(n_jobs=-1)]: Done  12 out of  12 | elapsed:   24.4s finished\n",
      "[Parallel(n_jobs=-1)]: Using backend LokyBackend with 12 concurrent workers.\n"
     ]
    },
    {
     "name": "stdout",
     "output_type": "stream",
     "text": [
      "ERROR RATE 0.08421052631578947\n",
      "TIME FOR BATCH, 24.46984601020813\n",
      "PARAMS (2.0, 2.0, 2.0)\n",
      "COMPLETION RATE 144000/10000000\n",
      "PERCENTAGE CORRECT, 0.5824861111111111\n",
      "CONFIDENCE (0.5799341850094212, 0.5850314158246696)\n",
      "CONFIDENCE % 1.2208529945706503\n",
      "-----------------------------------------------\n"
     ]
    },
    {
     "name": "stderr",
     "output_type": "stream",
     "text": [
      "[Parallel(n_jobs=-1)]: Done   1 tasks      | elapsed:   21.7s\n",
      "[Parallel(n_jobs=-1)]: Done   3 out of  12 | elapsed:   21.9s remaining:  1.1min\n",
      "[Parallel(n_jobs=-1)]: Done   5 out of  12 | elapsed:   22.2s remaining:   31.2s\n",
      "[Parallel(n_jobs=-1)]: Done   7 out of  12 | elapsed:   23.0s remaining:   16.4s\n",
      "[Parallel(n_jobs=-1)]: Done   9 out of  12 | elapsed:   23.1s remaining:    7.6s\n",
      "[Parallel(n_jobs=-1)]: Done  12 out of  12 | elapsed:   23.5s finished\n"
     ]
    },
    {
     "name": "stdout",
     "output_type": "stream",
     "text": [
      "ERROR RATE 0.08421052631578947\n",
      "TIME FOR BATCH, 23.615872621536255\n",
      "PARAMS (2.0, 2.0, 2.0)\n",
      "COMPLETION RATE 168000/10000000\n",
      "PERCENTAGE CORRECT, 0.5817797619047619\n",
      "CONFIDENCE (0.5794168005200944, 0.5841370454412507)\n",
      "CONFIDENCE % 1.1286505269698108\n",
      "-----------------------------------------------\n"
     ]
    },
    {
     "name": "stderr",
     "output_type": "stream",
     "text": [
      "[Parallel(n_jobs=-1)]: Using backend LokyBackend with 12 concurrent workers.\n",
      "[Parallel(n_jobs=-1)]: Done   1 tasks      | elapsed:   21.9s\n",
      "[Parallel(n_jobs=-1)]: Done   3 out of  12 | elapsed:   22.1s remaining:  1.1min\n",
      "[Parallel(n_jobs=-1)]: Done   5 out of  12 | elapsed:   22.7s remaining:   31.8s\n",
      "[Parallel(n_jobs=-1)]: Done   7 out of  12 | elapsed:   23.2s remaining:   16.5s\n",
      "[Parallel(n_jobs=-1)]: Done   9 out of  12 | elapsed:   23.8s remaining:    7.9s\n",
      "[Parallel(n_jobs=-1)]: Done  12 out of  12 | elapsed:   24.2s finished\n",
      "[Parallel(n_jobs=-1)]: Using backend LokyBackend with 12 concurrent workers.\n"
     ]
    },
    {
     "name": "stdout",
     "output_type": "stream",
     "text": [
      "ERROR RATE 0.08421052631578947\n",
      "TIME FOR BATCH, 24.283138751983643\n",
      "PARAMS (2.0, 2.0, 2.0)\n",
      "COMPLETION RATE 192000/10000000\n",
      "PERCENTAGE CORRECT, 0.5815885416666666\n",
      "CONFIDENCE (0.5793803243661352, 0.5837943937138721)\n",
      "CONFIDENCE % 1.0549590026333324\n",
      "-----------------------------------------------\n"
     ]
    },
    {
     "name": "stderr",
     "output_type": "stream",
     "text": [
      "[Parallel(n_jobs=-1)]: Done   1 tasks      | elapsed:   21.4s\n",
      "[Parallel(n_jobs=-1)]: Done   3 out of  12 | elapsed:   21.8s remaining:  1.1min\n",
      "[Parallel(n_jobs=-1)]: Done   5 out of  12 | elapsed:   22.1s remaining:   31.0s\n",
      "[Parallel(n_jobs=-1)]: Done   7 out of  12 | elapsed:   22.3s remaining:   15.9s\n",
      "[Parallel(n_jobs=-1)]: Done   9 out of  12 | elapsed:   23.0s remaining:    7.6s\n",
      "[Parallel(n_jobs=-1)]: Done  12 out of  12 | elapsed:   23.5s finished\n",
      "[Parallel(n_jobs=-1)]: Using backend LokyBackend with 12 concurrent workers.\n"
     ]
    },
    {
     "name": "stdout",
     "output_type": "stream",
     "text": [
      "ERROR RATE 0.08421052631578947\n",
      "TIME FOR BATCH, 23.562187671661377\n",
      "PARAMS (2.0, 2.0, 2.0)\n",
      "COMPLETION RATE 216000/10000000\n",
      "PERCENTAGE CORRECT, 0.581875\n",
      "CONFIDENCE (0.5797917710569718, 0.5839538127756249)\n",
      "CONFIDENCE % 0.995406091157689\n",
      "-----------------------------------------------\n"
     ]
    },
    {
     "name": "stderr",
     "output_type": "stream",
     "text": [
      "[Parallel(n_jobs=-1)]: Done   1 tasks      | elapsed:   21.7s\n",
      "[Parallel(n_jobs=-1)]: Done   3 out of  12 | elapsed:   22.0s remaining:  1.1min\n",
      "[Parallel(n_jobs=-1)]: Done   5 out of  12 | elapsed:   22.2s remaining:   31.2s\n",
      "[Parallel(n_jobs=-1)]: Done   7 out of  12 | elapsed:   22.6s remaining:   16.1s\n",
      "[Parallel(n_jobs=-1)]: Done   9 out of  12 | elapsed:   23.2s remaining:    7.7s\n",
      "[Parallel(n_jobs=-1)]: Done  12 out of  12 | elapsed:   23.5s finished\n",
      "[Parallel(n_jobs=-1)]: Using backend LokyBackend with 12 concurrent workers.\n"
     ]
    },
    {
     "name": "stdout",
     "output_type": "stream",
     "text": [
      "ERROR RATE 0.08421052631578947\n",
      "TIME FOR BATCH, 23.636348009109497\n",
      "PARAMS (2.0, 2.0, 2.0)\n",
      "COMPLETION RATE 240000/10000000\n",
      "PERCENTAGE CORRECT, 0.581925\n",
      "CONFIDENCE (0.5799500935652633, 0.5838980151514157)\n",
      "CONFIDENCE % 0.9443094148543744\n",
      "-----------------------------------------------\n"
     ]
    },
    {
     "name": "stderr",
     "output_type": "stream",
     "text": [
      "[Parallel(n_jobs=-1)]: Done   1 tasks      | elapsed:   21.9s\n",
      "[Parallel(n_jobs=-1)]: Done   3 out of  12 | elapsed:   21.9s remaining:  1.1min\n",
      "[Parallel(n_jobs=-1)]: Done   5 out of  12 | elapsed:   22.3s remaining:   31.3s\n",
      "[Parallel(n_jobs=-1)]: Done   7 out of  12 | elapsed:   22.8s remaining:   16.2s\n",
      "[Parallel(n_jobs=-1)]: Done   9 out of  12 | elapsed:   22.9s remaining:    7.6s\n",
      "[Parallel(n_jobs=-1)]: Done  12 out of  12 | elapsed:   23.4s finished\n",
      "[Parallel(n_jobs=-1)]: Using backend LokyBackend with 12 concurrent workers.\n"
     ]
    },
    {
     "name": "stdout",
     "output_type": "stream",
     "text": [
      "ERROR RATE 0.08421052631578947\n",
      "TIME FOR BATCH, 23.547050952911377\n",
      "PARAMS (2.0, 2.0, 2.0)\n",
      "COMPLETION RATE 264000/10000000\n",
      "PERCENTAGE CORRECT, 0.581655303030303\n",
      "CONFIDENCE (0.5797709187186976, 0.5835360737134772)\n",
      "CONFIDENCE % 0.9000126025386944\n",
      "-----------------------------------------------\n"
     ]
    },
    {
     "name": "stderr",
     "output_type": "stream",
     "text": [
      "[Parallel(n_jobs=-1)]: Done   1 tasks      | elapsed:   21.9s\n",
      "[Parallel(n_jobs=-1)]: Done   3 out of  12 | elapsed:   22.0s remaining:  1.1min\n",
      "[Parallel(n_jobs=-1)]: Done   5 out of  12 | elapsed:   22.7s remaining:   31.8s\n",
      "[Parallel(n_jobs=-1)]: Done   7 out of  12 | elapsed:   23.0s remaining:   16.4s\n",
      "[Parallel(n_jobs=-1)]: Done   9 out of  12 | elapsed:   23.1s remaining:    7.6s\n",
      "[Parallel(n_jobs=-1)]: Done  12 out of  12 | elapsed:   23.7s finished\n",
      "[Parallel(n_jobs=-1)]: Using backend LokyBackend with 12 concurrent workers.\n"
     ]
    },
    {
     "name": "stdout",
     "output_type": "stream",
     "text": [
      "ERROR RATE 0.08421052631578947\n",
      "TIME FOR BATCH, 23.79039692878723\n",
      "PARAMS (2.0, 2.0, 2.0)\n",
      "COMPLETION RATE 288000/10000000\n",
      "PERCENTAGE CORRECT, 0.5819895833333333\n",
      "CONFIDENCE (0.580185842499432, 0.5837900122173283)\n",
      "CONFIDENCE % 0.8622200725611129\n",
      "-----------------------------------------------\n"
     ]
    },
    {
     "name": "stderr",
     "output_type": "stream",
     "text": [
      "[Parallel(n_jobs=-1)]: Done   1 tasks      | elapsed:   21.6s\n",
      "[Parallel(n_jobs=-1)]: Done   3 out of  12 | elapsed:   21.8s remaining:  1.1min\n",
      "[Parallel(n_jobs=-1)]: Done   5 out of  12 | elapsed:   22.6s remaining:   31.7s\n",
      "[Parallel(n_jobs=-1)]: Done   7 out of  12 | elapsed:   22.9s remaining:   16.3s\n",
      "[Parallel(n_jobs=-1)]: Done   9 out of  12 | elapsed:   23.4s remaining:    7.7s\n",
      "[Parallel(n_jobs=-1)]: Done  12 out of  12 | elapsed:   23.8s finished\n",
      "[Parallel(n_jobs=-1)]: Using backend LokyBackend with 12 concurrent workers.\n"
     ]
    },
    {
     "name": "stdout",
     "output_type": "stream",
     "text": [
      "ERROR RATE 0.08421052631578947\n",
      "TIME FOR BATCH, 23.925991773605347\n",
      "PARAMS (2.0, 2.0, 2.0)\n",
      "COMPLETION RATE 312000/10000000\n",
      "PERCENTAGE CORRECT, 0.5816826923076923\n",
      "CONFIDENCE (0.5799503925523014, 0.583413536909771)\n",
      "CONFIDENCE % 0.8278749871896159\n",
      "-----------------------------------------------\n"
     ]
    },
    {
     "name": "stderr",
     "output_type": "stream",
     "text": [
      "[Parallel(n_jobs=-1)]: Done   1 tasks      | elapsed:   22.1s\n",
      "[Parallel(n_jobs=-1)]: Done   3 out of  12 | elapsed:   23.1s remaining:  1.2min\n",
      "[Parallel(n_jobs=-1)]: Done   5 out of  12 | elapsed:   23.2s remaining:   32.5s\n",
      "[Parallel(n_jobs=-1)]: Done   7 out of  12 | elapsed:   23.5s remaining:   16.8s\n",
      "[Parallel(n_jobs=-1)]: Done   9 out of  12 | elapsed:   23.6s remaining:    7.8s\n",
      "[Parallel(n_jobs=-1)]: Done  12 out of  12 | elapsed:   24.3s finished\n"
     ]
    },
    {
     "name": "stdout",
     "output_type": "stream",
     "text": [
      "ERROR RATE 0.08421052631578947\n",
      "TIME FOR BATCH, 24.450812339782715\n",
      "PARAMS (2.0, 2.0, 2.0)\n",
      "COMPLETION RATE 336000/10000000\n",
      "PERCENTAGE CORRECT, 0.5816488095238095\n",
      "CONFIDENCE (0.5799792336951114, 0.5833170343020495)\n",
      "CONFIDENCE % 0.7978465659769829\n",
      "-----------------------------------------------\n"
     ]
    },
    {
     "name": "stderr",
     "output_type": "stream",
     "text": [
      "[Parallel(n_jobs=-1)]: Using backend LokyBackend with 12 concurrent workers.\n",
      "[Parallel(n_jobs=-1)]: Done   1 tasks      | elapsed:   21.5s\n",
      "[Parallel(n_jobs=-1)]: Done   3 out of  12 | elapsed:   21.9s remaining:  1.1min\n",
      "[Parallel(n_jobs=-1)]: Done   5 out of  12 | elapsed:   22.0s remaining:   30.9s\n",
      "[Parallel(n_jobs=-1)]: Done   7 out of  12 | elapsed:   22.8s remaining:   16.3s\n",
      "[Parallel(n_jobs=-1)]: Done   9 out of  12 | elapsed:   23.1s remaining:    7.6s\n",
      "[Parallel(n_jobs=-1)]: Done  12 out of  12 | elapsed:   23.7s finished\n",
      "[Parallel(n_jobs=-1)]: Using backend LokyBackend with 12 concurrent workers.\n"
     ]
    },
    {
     "name": "stdout",
     "output_type": "stream",
     "text": [
      "ERROR RATE 0.08421052631578947\n",
      "TIME FOR BATCH, 23.85352373123169\n",
      "PARAMS (2.0, 2.0, 2.0)\n",
      "COMPLETION RATE 360000/10000000\n",
      "PERCENTAGE CORRECT, 0.5817\n",
      "CONFIDENCE (0.5800875624775071, 0.5833111762780705)\n",
      "CONFIDENCE % 0.7706463783321424\n",
      "-----------------------------------------------\n"
     ]
    },
    {
     "name": "stderr",
     "output_type": "stream",
     "text": [
      "[Parallel(n_jobs=-1)]: Done   1 tasks      | elapsed:   21.6s\n",
      "[Parallel(n_jobs=-1)]: Done   3 out of  12 | elapsed:   21.8s remaining:  1.1min\n",
      "[Parallel(n_jobs=-1)]: Done   5 out of  12 | elapsed:   22.1s remaining:   31.0s\n",
      "[Parallel(n_jobs=-1)]: Done   7 out of  12 | elapsed:   22.7s remaining:   16.2s\n",
      "[Parallel(n_jobs=-1)]: Done   9 out of  12 | elapsed:   23.0s remaining:    7.6s\n",
      "[Parallel(n_jobs=-1)]: Done  12 out of  12 | elapsed:   23.4s finished\n",
      "[Parallel(n_jobs=-1)]: Using backend LokyBackend with 12 concurrent workers.\n"
     ]
    },
    {
     "name": "stdout",
     "output_type": "stream",
     "text": [
      "ERROR RATE 0.08421052631578947\n",
      "TIME FOR BATCH, 23.480960607528687\n",
      "PARAMS (2.0, 2.0, 2.0)\n",
      "COMPLETION RATE 384000/10000000\n",
      "PERCENTAGE CORRECT, 0.5817838541666667\n",
      "CONFIDENCE (0.5802227149110012, 0.5833438111055187)\n",
      "CONFIDENCE % 0.7462878288207735\n",
      "-----------------------------------------------\n"
     ]
    },
    {
     "name": "stderr",
     "output_type": "stream",
     "text": [
      "[Parallel(n_jobs=-1)]: Done   1 tasks      | elapsed:   21.2s\n",
      "[Parallel(n_jobs=-1)]: Done   3 out of  12 | elapsed:   21.4s remaining:  1.1min\n",
      "[Parallel(n_jobs=-1)]: Done   5 out of  12 | elapsed:   22.0s remaining:   30.8s\n",
      "[Parallel(n_jobs=-1)]: Done   7 out of  12 | elapsed:   22.1s remaining:   15.8s\n",
      "[Parallel(n_jobs=-1)]: Done   9 out of  12 | elapsed:   22.5s remaining:    7.4s\n",
      "[Parallel(n_jobs=-1)]: Done  12 out of  12 | elapsed:   22.9s finished\n",
      "[Parallel(n_jobs=-1)]: Using backend LokyBackend with 12 concurrent workers.\n"
     ]
    },
    {
     "name": "stdout",
     "output_type": "stream",
     "text": [
      "ERROR RATE 0.08421052631578947\n",
      "TIME FOR BATCH, 23.022328853607178\n",
      "PARAMS (2.0, 2.0, 2.0)\n",
      "COMPLETION RATE 408000/10000000\n",
      "PERCENTAGE CORRECT, 0.581438725490196\n",
      "CONFIDENCE (0.5799240746016695, 0.582952263108371)\n",
      "CONFIDENCE % 0.7234755556992103\n",
      "-----------------------------------------------\n"
     ]
    },
    {
     "name": "stderr",
     "output_type": "stream",
     "text": [
      "[Parallel(n_jobs=-1)]: Done   1 tasks      | elapsed:   21.6s\n",
      "[Parallel(n_jobs=-1)]: Done   3 out of  12 | elapsed:   21.9s remaining:  1.1min\n",
      "[Parallel(n_jobs=-1)]: Done   5 out of  12 | elapsed:   22.0s remaining:   30.8s\n",
      "[Parallel(n_jobs=-1)]: Done   7 out of  12 | elapsed:   22.3s remaining:   15.9s\n",
      "[Parallel(n_jobs=-1)]: Done   9 out of  12 | elapsed:   22.7s remaining:    7.5s\n",
      "[Parallel(n_jobs=-1)]: Done  12 out of  12 | elapsed:   23.1s finished\n",
      "[Parallel(n_jobs=-1)]: Using backend LokyBackend with 12 concurrent workers.\n"
     ]
    },
    {
     "name": "stdout",
     "output_type": "stream",
     "text": [
      "ERROR RATE 0.08421052631578947\n",
      "TIME FOR BATCH, 23.23879623413086\n",
      "PARAMS (2.0, 2.0, 2.0)\n",
      "COMPLETION RATE 432000/10000000\n",
      "PERCENTAGE CORRECT, 0.5816296296296296\n",
      "CONFIDENCE (0.5801574595966018, 0.5831007486895168)\n",
      "CONFIDENCE % 0.7035127966422111\n",
      "-----------------------------------------------\n"
     ]
    },
    {
     "name": "stderr",
     "output_type": "stream",
     "text": [
      "[Parallel(n_jobs=-1)]: Done   1 tasks      | elapsed:   21.3s\n",
      "[Parallel(n_jobs=-1)]: Done   3 out of  12 | elapsed:   21.9s remaining:  1.1min\n",
      "[Parallel(n_jobs=-1)]: Done   5 out of  12 | elapsed:   22.0s remaining:   30.9s\n",
      "[Parallel(n_jobs=-1)]: Done   7 out of  12 | elapsed:   22.2s remaining:   15.8s\n",
      "[Parallel(n_jobs=-1)]: Done   9 out of  12 | elapsed:   22.5s remaining:    7.4s\n",
      "[Parallel(n_jobs=-1)]: Done  12 out of  12 | elapsed:   23.2s finished\n"
     ]
    },
    {
     "name": "stdout",
     "output_type": "stream",
     "text": [
      "ERROR RATE 0.08421052631578947\n",
      "TIME FOR BATCH, 23.342082262039185\n",
      "PARAMS (2.0, 2.0, 2.0)\n",
      "COMPLETION RATE 456000/10000000\n",
      "PERCENTAGE CORRECT, 0.5815\n",
      "CONFIDENCE (0.5800669353866813, 0.5829320688645392)\n",
      "CONFIDENCE % 0.6846197079708206\n",
      "-----------------------------------------------\n"
     ]
    },
    {
     "name": "stderr",
     "output_type": "stream",
     "text": [
      "[Parallel(n_jobs=-1)]: Using backend LokyBackend with 12 concurrent workers.\n",
      "[Parallel(n_jobs=-1)]: Done   1 tasks      | elapsed:   21.5s\n",
      "[Parallel(n_jobs=-1)]: Done   3 out of  12 | elapsed:   21.8s remaining:  1.1min\n",
      "[Parallel(n_jobs=-1)]: Done   5 out of  12 | elapsed:   22.4s remaining:   31.3s\n",
      "[Parallel(n_jobs=-1)]: Done   7 out of  12 | elapsed:   22.6s remaining:   16.1s\n",
      "[Parallel(n_jobs=-1)]: Done   9 out of  12 | elapsed:   22.9s remaining:    7.6s\n",
      "[Parallel(n_jobs=-1)]: Done  12 out of  12 | elapsed:   23.8s finished\n"
     ]
    },
    {
     "name": "stdout",
     "output_type": "stream",
     "text": [
      "ERROR RATE 0.08421052631578947\n",
      "TIME FOR BATCH, 23.861016988754272\n",
      "PARAMS (2.0, 2.0, 2.0)\n",
      "COMPLETION RATE 480000/10000000\n",
      "PERCENTAGE CORRECT, 0.5813895833333333\n",
      "CONFIDENCE (0.5799927552425138, 0.5827854653379743)\n",
      "CONFIDENCE % 0.6671382230997475\n",
      "-----------------------------------------------\n"
     ]
    },
    {
     "name": "stderr",
     "output_type": "stream",
     "text": [
      "[Parallel(n_jobs=-1)]: Using backend LokyBackend with 12 concurrent workers.\n",
      "[Parallel(n_jobs=-1)]: Done   1 tasks      | elapsed:   21.1s\n",
      "[Parallel(n_jobs=-1)]: Done   3 out of  12 | elapsed:   21.2s remaining:  1.1min\n",
      "[Parallel(n_jobs=-1)]: Done   5 out of  12 | elapsed:   21.3s remaining:   29.9s\n",
      "[Parallel(n_jobs=-1)]: Done   7 out of  12 | elapsed:   21.7s remaining:   15.5s\n",
      "[Parallel(n_jobs=-1)]: Done   9 out of  12 | elapsed:   22.0s remaining:    7.3s\n",
      "[Parallel(n_jobs=-1)]: Done  12 out of  12 | elapsed:   22.5s finished\n",
      "[Parallel(n_jobs=-1)]: Using backend LokyBackend with 12 concurrent workers.\n"
     ]
    },
    {
     "name": "stdout",
     "output_type": "stream",
     "text": [
      "ERROR RATE 0.08421052631578947\n",
      "TIME FOR BATCH, 22.609150171279907\n",
      "PARAMS (2.0, 2.0, 2.0)\n",
      "COMPLETION RATE 504000/10000000\n",
      "PERCENTAGE CORRECT, 0.5813769841269841\n",
      "CONFIDENCE (0.5800139335465591, 0.582739133595678)\n",
      "CONFIDENCE % 0.6509914519237925\n",
      "-----------------------------------------------\n"
     ]
    },
    {
     "name": "stderr",
     "output_type": "stream",
     "text": [
      "[Parallel(n_jobs=-1)]: Done   1 tasks      | elapsed:   21.4s\n",
      "[Parallel(n_jobs=-1)]: Done   3 out of  12 | elapsed:   21.5s remaining:  1.1min\n",
      "[Parallel(n_jobs=-1)]: Done   5 out of  12 | elapsed:   21.8s remaining:   30.6s\n",
      "[Parallel(n_jobs=-1)]: Done   7 out of  12 | elapsed:   22.0s remaining:   15.7s\n",
      "[Parallel(n_jobs=-1)]: Done   9 out of  12 | elapsed:   22.3s remaining:    7.4s\n",
      "[Parallel(n_jobs=-1)]: Done  12 out of  12 | elapsed:   22.8s finished\n",
      "[Parallel(n_jobs=-1)]: Using backend LokyBackend with 12 concurrent workers.\n"
     ]
    },
    {
     "name": "stdout",
     "output_type": "stream",
     "text": [
      "ERROR RATE 0.08421052631578947\n",
      "TIME FOR BATCH, 22.864911794662476\n",
      "PARAMS (2.0, 2.0, 2.0)\n",
      "COMPLETION RATE 528000/10000000\n",
      "PERCENTAGE CORRECT, 0.581030303030303\n",
      "CONFIDENCE (0.5796989059643952, 0.582360839301807)\n",
      "CONFIDENCE % 0.6353522358931741\n",
      "-----------------------------------------------\n"
     ]
    },
    {
     "name": "stderr",
     "output_type": "stream",
     "text": [
      "[Parallel(n_jobs=-1)]: Done   1 tasks      | elapsed:   20.7s\n",
      "[Parallel(n_jobs=-1)]: Done   3 out of  12 | elapsed:   21.0s remaining:  1.1min\n",
      "[Parallel(n_jobs=-1)]: Done   5 out of  12 | elapsed:   21.2s remaining:   29.8s\n",
      "[Parallel(n_jobs=-1)]: Done   7 out of  12 | elapsed:   21.3s remaining:   15.2s\n",
      "[Parallel(n_jobs=-1)]: Done   9 out of  12 | elapsed:   22.0s remaining:    7.3s\n",
      "[Parallel(n_jobs=-1)]: Done  12 out of  12 | elapsed:   22.3s finished\n"
     ]
    },
    {
     "name": "stdout",
     "output_type": "stream",
     "text": [
      "ERROR RATE 0.08421052631578947\n",
      "TIME FOR BATCH, 22.406728744506836\n",
      "PARAMS (2.0, 2.0, 2.0)\n",
      "COMPLETION RATE 552000/10000000\n",
      "PERCENTAGE CORRECT, 0.5812047101449276\n",
      "CONFIDENCE (0.5799022146302374, 0.5825063827319948)\n",
      "CONFIDENCE % 0.6218236367124969\n",
      "-----------------------------------------------\n"
     ]
    },
    {
     "name": "stderr",
     "output_type": "stream",
     "text": [
      "[Parallel(n_jobs=-1)]: Using backend LokyBackend with 12 concurrent workers.\n",
      "[Parallel(n_jobs=-1)]: Done   1 tasks      | elapsed:   21.2s\n",
      "[Parallel(n_jobs=-1)]: Done   3 out of  12 | elapsed:   21.3s remaining:  1.1min\n",
      "[Parallel(n_jobs=-1)]: Done   5 out of  12 | elapsed:   21.6s remaining:   30.3s\n",
      "[Parallel(n_jobs=-1)]: Done   7 out of  12 | elapsed:   22.1s remaining:   15.8s\n",
      "[Parallel(n_jobs=-1)]: Done   9 out of  12 | elapsed:   22.2s remaining:    7.3s\n",
      "[Parallel(n_jobs=-1)]: Done  12 out of  12 | elapsed:   22.7s finished\n"
     ]
    },
    {
     "name": "stdout",
     "output_type": "stream",
     "text": [
      "ERROR RATE 0.08421052631578947\n",
      "TIME FOR BATCH, 22.84564208984375\n",
      "PARAMS (2.0, 2.0, 2.0)\n",
      "COMPLETION RATE 576000/10000000\n",
      "PERCENTAGE CORRECT, 0.5811875\n",
      "CONFIDENCE (0.5799123654313448, 0.5824618459486303)\n",
      "CONFIDENCE % 0.6087403115440512\n",
      "-----------------------------------------------\n"
     ]
    },
    {
     "name": "stderr",
     "output_type": "stream",
     "text": [
      "[Parallel(n_jobs=-1)]: Using backend LokyBackend with 12 concurrent workers.\n",
      "[Parallel(n_jobs=-1)]: Done   1 tasks      | elapsed:   20.8s\n",
      "[Parallel(n_jobs=-1)]: Done   3 out of  12 | elapsed:   20.8s remaining:  1.0min\n",
      "[Parallel(n_jobs=-1)]: Done   5 out of  12 | elapsed:   21.3s remaining:   29.9s\n",
      "[Parallel(n_jobs=-1)]: Done   7 out of  12 | elapsed:   21.8s remaining:   15.6s\n",
      "[Parallel(n_jobs=-1)]: Done   9 out of  12 | elapsed:   21.9s remaining:    7.2s\n",
      "[Parallel(n_jobs=-1)]: Done  12 out of  12 | elapsed:   22.5s finished\n"
     ]
    },
    {
     "name": "stdout",
     "output_type": "stream",
     "text": [
      "ERROR RATE 0.08421052631578947\n",
      "TIME FOR BATCH, 22.5512855052948\n",
      "PARAMS (2.0, 2.0, 2.0)\n",
      "COMPLETION RATE 600000/10000000\n",
      "PERCENTAGE CORRECT, 0.5813083333333333\n",
      "CONFIDENCE (0.5800592041677696, 0.582556705432601)\n",
      "CONFIDENCE % 0.5965013072065104\n",
      "-----------------------------------------------\n"
     ]
    },
    {
     "name": "stderr",
     "output_type": "stream",
     "text": [
      "[Parallel(n_jobs=-1)]: Using backend LokyBackend with 12 concurrent workers.\n",
      "[Parallel(n_jobs=-1)]: Done   1 tasks      | elapsed:   21.2s\n",
      "[Parallel(n_jobs=-1)]: Done   3 out of  12 | elapsed:   21.3s remaining:  1.1min\n",
      "[Parallel(n_jobs=-1)]: Done   5 out of  12 | elapsed:   21.5s remaining:   30.2s\n",
      "[Parallel(n_jobs=-1)]: Done   7 out of  12 | elapsed:   21.7s remaining:   15.5s\n",
      "[Parallel(n_jobs=-1)]: Done   9 out of  12 | elapsed:   22.3s remaining:    7.4s\n",
      "[Parallel(n_jobs=-1)]: Done  12 out of  12 | elapsed:   22.7s finished\n"
     ]
    },
    {
     "name": "stdout",
     "output_type": "stream",
     "text": [
      "ERROR RATE 0.08526315789473685\n",
      "TIME FOR BATCH, 22.827831029891968\n",
      "PARAMS (2.0, 2.0, 2.0)\n",
      "COMPLETION RATE 24000/10000000\n",
      "PERCENTAGE CORRECT, 0.571\n",
      "CONFIDENCE (0.564709110533172, 0.5772509031327124)\n",
      "CONFIDENCE % 2.9234947784476613\n",
      "-----------------------------------------------\n"
     ]
    },
    {
     "name": "stderr",
     "output_type": "stream",
     "text": [
      "[Parallel(n_jobs=-1)]: Using backend LokyBackend with 12 concurrent workers.\n",
      "[Parallel(n_jobs=-1)]: Done   1 tasks      | elapsed:   20.9s\n",
      "[Parallel(n_jobs=-1)]: Done   3 out of  12 | elapsed:   20.9s remaining:  1.1min\n",
      "[Parallel(n_jobs=-1)]: Done   5 out of  12 | elapsed:   21.6s remaining:   30.3s\n",
      "[Parallel(n_jobs=-1)]: Done   7 out of  12 | elapsed:   21.8s remaining:   15.5s\n",
      "[Parallel(n_jobs=-1)]: Done   9 out of  12 | elapsed:   21.9s remaining:    7.2s\n",
      "[Parallel(n_jobs=-1)]: Done  12 out of  12 | elapsed:   22.1s finished\n"
     ]
    },
    {
     "name": "stdout",
     "output_type": "stream",
     "text": [
      "ERROR RATE 0.08526315789473685\n",
      "TIME FOR BATCH, 22.23305892944336\n",
      "PARAMS (2.0, 2.0, 2.0)\n",
      "COMPLETION RATE 48000/10000000\n",
      "PERCENTAGE CORRECT, 0.5726041666666667\n",
      "CONFIDENCE (0.568167070074869, 0.5770317071638297)\n",
      "CONFIDENCE % 2.0741047051918726\n",
      "-----------------------------------------------\n"
     ]
    },
    {
     "name": "stderr",
     "output_type": "stream",
     "text": [
      "[Parallel(n_jobs=-1)]: Using backend LokyBackend with 12 concurrent workers.\n",
      "[Parallel(n_jobs=-1)]: Done   1 tasks      | elapsed:   21.4s\n",
      "[Parallel(n_jobs=-1)]: Done   3 out of  12 | elapsed:   21.5s remaining:  1.1min\n",
      "[Parallel(n_jobs=-1)]: Done   5 out of  12 | elapsed:   21.6s remaining:   30.3s\n",
      "[Parallel(n_jobs=-1)]: Done   7 out of  12 | elapsed:   22.0s remaining:   15.7s\n",
      "[Parallel(n_jobs=-1)]: Done   9 out of  12 | elapsed:   22.2s remaining:    7.3s\n",
      "[Parallel(n_jobs=-1)]: Done  12 out of  12 | elapsed:   22.6s finished\n",
      "[Parallel(n_jobs=-1)]: Using backend LokyBackend with 12 concurrent workers.\n"
     ]
    },
    {
     "name": "stdout",
     "output_type": "stream",
     "text": [
      "ERROR RATE 0.08526315789473685\n",
      "TIME FOR BATCH, 22.692442417144775\n",
      "PARAMS (2.0, 2.0, 2.0)\n",
      "COMPLETION RATE 72000/10000000\n",
      "PERCENTAGE CORRECT, 0.5738333333333333\n",
      "CONFIDENCE (0.5702155526910542, 0.5774447484833936)\n",
      "CONFIDENCE % 1.6963306513115484\n",
      "-----------------------------------------------\n"
     ]
    },
    {
     "name": "stderr",
     "output_type": "stream",
     "text": [
      "[Parallel(n_jobs=-1)]: Done   1 tasks      | elapsed:   20.9s\n",
      "[Parallel(n_jobs=-1)]: Done   3 out of  12 | elapsed:   20.9s remaining:  1.0min\n",
      "[Parallel(n_jobs=-1)]: Done   5 out of  12 | elapsed:   21.4s remaining:   30.0s\n",
      "[Parallel(n_jobs=-1)]: Done   7 out of  12 | elapsed:   21.6s remaining:   15.4s\n",
      "[Parallel(n_jobs=-1)]: Done   9 out of  12 | elapsed:   21.8s remaining:    7.2s\n",
      "[Parallel(n_jobs=-1)]: Done  12 out of  12 | elapsed:   22.2s finished\n"
     ]
    },
    {
     "name": "stdout",
     "output_type": "stream",
     "text": [
      "ERROR RATE 0.08526315789473685\n",
      "TIME FOR BATCH, 22.271135091781616\n",
      "PARAMS (2.0, 2.0, 2.0)\n",
      "COMPLETION RATE 96000/10000000\n",
      "PERCENTAGE CORRECT, 0.5735\n",
      "CONFIDENCE (0.5703647912793177, 0.5766304353480675)\n",
      "CONFIDENCE % 1.4690841896247933\n",
      "-----------------------------------------------\n"
     ]
    },
    {
     "name": "stderr",
     "output_type": "stream",
     "text": [
      "[Parallel(n_jobs=-1)]: Using backend LokyBackend with 12 concurrent workers.\n",
      "[Parallel(n_jobs=-1)]: Done   1 tasks      | elapsed:   21.3s\n",
      "[Parallel(n_jobs=-1)]: Done   3 out of  12 | elapsed:   21.7s remaining:  1.1min\n",
      "[Parallel(n_jobs=-1)]: Done   5 out of  12 | elapsed:   22.0s remaining:   30.9s\n",
      "[Parallel(n_jobs=-1)]: Done   7 out of  12 | elapsed:   22.2s remaining:   15.9s\n",
      "[Parallel(n_jobs=-1)]: Done   9 out of  12 | elapsed:   22.3s remaining:    7.4s\n",
      "[Parallel(n_jobs=-1)]: Done  12 out of  12 | elapsed:   22.6s finished\n"
     ]
    },
    {
     "name": "stdout",
     "output_type": "stream",
     "text": [
      "ERROR RATE 0.08526315789473685\n",
      "TIME FOR BATCH, 22.697712182998657\n",
      "PARAMS (2.0, 2.0, 2.0)\n",
      "COMPLETION RATE 120000/10000000\n",
      "PERCENTAGE CORRECT, 0.573775\n",
      "CONFIDENCE (0.5709710012579362, 0.5765710124845883)\n",
      "CONFIDENCE % 1.3138626844160015\n",
      "-----------------------------------------------\n"
     ]
    },
    {
     "name": "stderr",
     "output_type": "stream",
     "text": [
      "[Parallel(n_jobs=-1)]: Using backend LokyBackend with 12 concurrent workers.\n",
      "[Parallel(n_jobs=-1)]: Done   1 tasks      | elapsed:   21.0s\n",
      "[Parallel(n_jobs=-1)]: Done   3 out of  12 | elapsed:   21.3s remaining:  1.1min\n",
      "[Parallel(n_jobs=-1)]: Done   5 out of  12 | elapsed:   21.3s remaining:   29.9s\n",
      "[Parallel(n_jobs=-1)]: Done   7 out of  12 | elapsed:   21.8s remaining:   15.6s\n",
      "[Parallel(n_jobs=-1)]: Done   9 out of  12 | elapsed:   22.1s remaining:    7.3s\n",
      "[Parallel(n_jobs=-1)]: Done  12 out of  12 | elapsed:   22.6s finished\n"
     ]
    },
    {
     "name": "stdout",
     "output_type": "stream",
     "text": [
      "ERROR RATE 0.08526315789473685\n",
      "TIME FOR BATCH, 22.672987461090088\n",
      "PARAMS (2.0, 2.0, 2.0)\n",
      "COMPLETION RATE 144000/10000000\n",
      "PERCENTAGE CORRECT, 0.5743402777777777\n",
      "CONFIDENCE (0.5717813914239396, 0.5768925110906709)\n",
      "CONFIDENCE % 1.200752479010203\n",
      "-----------------------------------------------\n"
     ]
    },
    {
     "name": "stderr",
     "output_type": "stream",
     "text": [
      "[Parallel(n_jobs=-1)]: Using backend LokyBackend with 12 concurrent workers.\n",
      "[Parallel(n_jobs=-1)]: Done   1 tasks      | elapsed:   21.2s\n",
      "[Parallel(n_jobs=-1)]: Done   3 out of  12 | elapsed:   21.3s remaining:  1.1min\n",
      "[Parallel(n_jobs=-1)]: Done   5 out of  12 | elapsed:   21.7s remaining:   30.4s\n",
      "[Parallel(n_jobs=-1)]: Done   7 out of  12 | elapsed:   21.7s remaining:   15.5s\n",
      "[Parallel(n_jobs=-1)]: Done   9 out of  12 | elapsed:   22.9s remaining:    7.6s\n",
      "[Parallel(n_jobs=-1)]: Done  12 out of  12 | elapsed:   23.1s finished\n"
     ]
    },
    {
     "name": "stdout",
     "output_type": "stream",
     "text": [
      "ERROR RATE 0.08526315789473685\n",
      "TIME FOR BATCH, 23.235178470611572\n",
      "PARAMS (2.0, 2.0, 2.0)\n",
      "COMPLETION RATE 168000/10000000\n",
      "PERCENTAGE CORRECT, 0.5741130952380953\n",
      "CONFIDENCE (0.5717441686932685, 0.5764763183451618)\n",
      "CONFIDENCE % 1.1111282359195394\n",
      "-----------------------------------------------\n"
     ]
    },
    {
     "name": "stderr",
     "output_type": "stream",
     "text": [
      "[Parallel(n_jobs=-1)]: Using backend LokyBackend with 12 concurrent workers.\n",
      "[Parallel(n_jobs=-1)]: Done   1 tasks      | elapsed:   20.6s\n",
      "[Parallel(n_jobs=-1)]: Done   3 out of  12 | elapsed:   20.8s remaining:  1.0min\n",
      "[Parallel(n_jobs=-1)]: Done   5 out of  12 | elapsed:   21.0s remaining:   29.5s\n",
      "[Parallel(n_jobs=-1)]: Done   7 out of  12 | elapsed:   21.5s remaining:   15.3s\n",
      "[Parallel(n_jobs=-1)]: Done   9 out of  12 | elapsed:   21.9s remaining:    7.2s\n",
      "[Parallel(n_jobs=-1)]: Done  12 out of  12 | elapsed:   22.2s finished\n",
      "[Parallel(n_jobs=-1)]: Using backend LokyBackend with 12 concurrent workers.\n"
     ]
    },
    {
     "name": "stdout",
     "output_type": "stream",
     "text": [
      "ERROR RATE 0.08526315789473685\n",
      "TIME FOR BATCH, 22.26451015472412\n",
      "PARAMS (2.0, 2.0, 2.0)\n",
      "COMPLETION RATE 192000/10000000\n",
      "PERCENTAGE CORRECT, 0.5743958333333333\n",
      "CONFIDENCE (0.5721823972929443, 0.5766068831682132)\n",
      "CONFIDENCE % 1.0395776690631298\n",
      "-----------------------------------------------\n"
     ]
    },
    {
     "name": "stderr",
     "output_type": "stream",
     "text": [
      "[Parallel(n_jobs=-1)]: Done   1 tasks      | elapsed:   21.0s\n",
      "[Parallel(n_jobs=-1)]: Done   3 out of  12 | elapsed:   21.1s remaining:  1.1min\n",
      "[Parallel(n_jobs=-1)]: Done   5 out of  12 | elapsed:   21.8s remaining:   30.5s\n",
      "[Parallel(n_jobs=-1)]: Done   7 out of  12 | elapsed:   21.8s remaining:   15.6s\n",
      "[Parallel(n_jobs=-1)]: Done   9 out of  12 | elapsed:   22.2s remaining:    7.3s\n",
      "[Parallel(n_jobs=-1)]: Done  12 out of  12 | elapsed:   22.4s finished\n"
     ]
    },
    {
     "name": "stdout",
     "output_type": "stream",
     "text": [
      "ERROR RATE 0.08526315789473685\n",
      "TIME FOR BATCH, 22.478924989700317\n",
      "PARAMS (2.0, 2.0, 2.0)\n",
      "COMPLETION RATE 216000/10000000\n",
      "PERCENTAGE CORRECT, 0.5743379629629629\n",
      "CONFIDENCE (0.572250094409006, 0.5764237111786987)\n",
      "CONFIDENCE % 0.9805001166523094\n",
      "-----------------------------------------------\n"
     ]
    },
    {
     "name": "stderr",
     "output_type": "stream",
     "text": [
      "[Parallel(n_jobs=-1)]: Using backend LokyBackend with 12 concurrent workers.\n",
      "[Parallel(n_jobs=-1)]: Done   1 tasks      | elapsed:   21.2s\n",
      "[Parallel(n_jobs=-1)]: Done   3 out of  12 | elapsed:   21.3s remaining:  1.1min\n",
      "[Parallel(n_jobs=-1)]: Done   5 out of  12 | elapsed:   21.7s remaining:   30.5s\n",
      "[Parallel(n_jobs=-1)]: Done   7 out of  12 | elapsed:   22.1s remaining:   15.8s\n",
      "[Parallel(n_jobs=-1)]: Done   9 out of  12 | elapsed:   22.5s remaining:    7.4s\n",
      "[Parallel(n_jobs=-1)]: Done  12 out of  12 | elapsed:   23.1s finished\n",
      "[Parallel(n_jobs=-1)]: Using backend LokyBackend with 12 concurrent workers.\n"
     ]
    },
    {
     "name": "stdout",
     "output_type": "stream",
     "text": [
      "ERROR RATE 0.08526315789473685\n",
      "TIME FOR BATCH, 23.22211194038391\n",
      "PARAMS (2.0, 2.0, 2.0)\n",
      "COMPLETION RATE 240000/10000000\n",
      "PERCENTAGE CORRECT, 0.5743583333333333\n",
      "CONFIDENCE (0.5723771686495815, 0.5763355059693382)\n",
      "CONFIDENCE % 0.9299694155310686\n",
      "-----------------------------------------------\n"
     ]
    },
    {
     "name": "stderr",
     "output_type": "stream",
     "text": [
      "[Parallel(n_jobs=-1)]: Done   1 tasks      | elapsed:   20.9s\n",
      "[Parallel(n_jobs=-1)]: Done   3 out of  12 | elapsed:   21.2s remaining:  1.1min\n",
      "[Parallel(n_jobs=-1)]: Done   5 out of  12 | elapsed:   21.4s remaining:   30.0s\n",
      "[Parallel(n_jobs=-1)]: Done   7 out of  12 | elapsed:   21.6s remaining:   15.4s\n",
      "[Parallel(n_jobs=-1)]: Done   9 out of  12 | elapsed:   22.4s remaining:    7.4s\n",
      "[Parallel(n_jobs=-1)]: Done  12 out of  12 | elapsed:   22.7s finished\n"
     ]
    },
    {
     "name": "stdout",
     "output_type": "stream",
     "text": [
      "ERROR RATE 0.08526315789473685\n",
      "TIME FOR BATCH, 22.811990976333618\n",
      "PARAMS (2.0, 2.0, 2.0)\n",
      "COMPLETION RATE 264000/10000000\n",
      "PERCENTAGE CORRECT, 0.5741590909090909\n",
      "CONFIDENCE (0.5722709104606565, 0.5760455358625254)\n",
      "CONFIDENCE % 0.8863933270119642\n",
      "-----------------------------------------------\n"
     ]
    },
    {
     "name": "stderr",
     "output_type": "stream",
     "text": [
      "[Parallel(n_jobs=-1)]: Using backend LokyBackend with 12 concurrent workers.\n",
      "[Parallel(n_jobs=-1)]: Done   1 tasks      | elapsed:   20.9s\n",
      "[Parallel(n_jobs=-1)]: Done   3 out of  12 | elapsed:   21.1s remaining:  1.1min\n",
      "[Parallel(n_jobs=-1)]: Done   5 out of  12 | elapsed:   21.7s remaining:   30.4s\n",
      "[Parallel(n_jobs=-1)]: Done   7 out of  12 | elapsed:   21.8s remaining:   15.5s\n",
      "[Parallel(n_jobs=-1)]: Done   9 out of  12 | elapsed:   22.0s remaining:    7.3s\n",
      "[Parallel(n_jobs=-1)]: Done  12 out of  12 | elapsed:   22.6s finished\n",
      "[Parallel(n_jobs=-1)]: Using backend LokyBackend with 12 concurrent workers.\n"
     ]
    },
    {
     "name": "stdout",
     "output_type": "stream",
     "text": [
      "ERROR RATE 0.08526315789473685\n",
      "TIME FOR BATCH, 22.697590112686157\n",
      "PARAMS (2.0, 2.0, 2.0)\n",
      "COMPLETION RATE 288000/10000000\n",
      "PERCENTAGE CORRECT, 0.5736805555555555\n",
      "CONFIDENCE (0.5718733339213012, 0.5754861847996497)\n",
      "CONFIDENCE % 0.8474515824762743\n",
      "-----------------------------------------------\n"
     ]
    },
    {
     "name": "stderr",
     "output_type": "stream",
     "text": [
      "[Parallel(n_jobs=-1)]: Done   1 tasks      | elapsed:   21.0s\n",
      "[Parallel(n_jobs=-1)]: Done   3 out of  12 | elapsed:   21.2s remaining:  1.1min\n",
      "[Parallel(n_jobs=-1)]: Done   5 out of  12 | elapsed:   21.5s remaining:   30.2s\n",
      "[Parallel(n_jobs=-1)]: Done   7 out of  12 | elapsed:   21.7s remaining:   15.5s\n",
      "[Parallel(n_jobs=-1)]: Done   9 out of  12 | elapsed:   22.4s remaining:    7.4s\n",
      "[Parallel(n_jobs=-1)]: Done  12 out of  12 | elapsed:   22.7s finished\n"
     ]
    },
    {
     "name": "stdout",
     "output_type": "stream",
     "text": [
      "ERROR RATE 0.08526315789473685\n",
      "TIME FOR BATCH, 22.816763162612915\n",
      "PARAMS (2.0, 2.0, 2.0)\n",
      "COMPLETION RATE 312000/10000000\n",
      "PERCENTAGE CORRECT, 0.5734615384615385\n",
      "CONFIDENCE (0.5717244237230368, 0.5751971833959542)\n",
      "CONFIDENCE % 0.8141726915766627\n",
      "-----------------------------------------------\n"
     ]
    },
    {
     "name": "stderr",
     "output_type": "stream",
     "text": [
      "[Parallel(n_jobs=-1)]: Using backend LokyBackend with 12 concurrent workers.\n",
      "[Parallel(n_jobs=-1)]: Done   1 tasks      | elapsed:   20.8s\n",
      "[Parallel(n_jobs=-1)]: Done   3 out of  12 | elapsed:   21.2s remaining:  1.1min\n",
      "[Parallel(n_jobs=-1)]: Done   5 out of  12 | elapsed:   21.3s remaining:   29.9s\n",
      "[Parallel(n_jobs=-1)]: Done   7 out of  12 | elapsed:   21.7s remaining:   15.5s\n",
      "[Parallel(n_jobs=-1)]: Done   9 out of  12 | elapsed:   22.1s remaining:    7.3s\n",
      "[Parallel(n_jobs=-1)]: Done  12 out of  12 | elapsed:   22.6s finished\n"
     ]
    },
    {
     "name": "stdout",
     "output_type": "stream",
     "text": [
      "ERROR RATE 0.08526315789473685\n",
      "TIME FOR BATCH, 22.67384624481201\n",
      "PARAMS (2.0, 2.0, 2.0)\n",
      "COMPLETION RATE 336000/10000000\n",
      "PERCENTAGE CORRECT, 0.5733482142857143\n",
      "CONFIDENCE (0.5716741672531171, 0.5750208963679723)\n",
      "CONFIDENCE % 0.7844169945877852\n",
      "-----------------------------------------------\n"
     ]
    },
    {
     "name": "stderr",
     "output_type": "stream",
     "text": [
      "[Parallel(n_jobs=-1)]: Using backend LokyBackend with 12 concurrent workers.\n",
      "[Parallel(n_jobs=-1)]: Done   1 tasks      | elapsed:   21.0s\n",
      "[Parallel(n_jobs=-1)]: Done   3 out of  12 | elapsed:   21.2s remaining:  1.1min\n",
      "[Parallel(n_jobs=-1)]: Done   5 out of  12 | elapsed:   21.5s remaining:   30.1s\n",
      "[Parallel(n_jobs=-1)]: Done   7 out of  12 | elapsed:   21.9s remaining:   15.6s\n",
      "[Parallel(n_jobs=-1)]: Done   9 out of  12 | elapsed:   22.0s remaining:    7.3s\n",
      "[Parallel(n_jobs=-1)]: Done  12 out of  12 | elapsed:   22.6s finished\n",
      "[Parallel(n_jobs=-1)]: Using backend LokyBackend with 12 concurrent workers.\n"
     ]
    },
    {
     "name": "stdout",
     "output_type": "stream",
     "text": [
      "ERROR RATE 0.08526315789473685\n",
      "TIME FOR BATCH, 22.727010011672974\n",
      "PARAMS (2.0, 2.0, 2.0)\n",
      "COMPLETION RATE 360000/10000000\n",
      "PERCENTAGE CORRECT, 0.5733333333333334\n",
      "CONFIDENCE (0.5717167226006992, 0.5749486696689001)\n",
      "CONFIDENCE % 0.7574875941095995\n",
      "-----------------------------------------------\n"
     ]
    },
    {
     "name": "stderr",
     "output_type": "stream",
     "text": [
      "[Parallel(n_jobs=-1)]: Done   1 tasks      | elapsed:   20.9s\n",
      "[Parallel(n_jobs=-1)]: Done   3 out of  12 | elapsed:   21.4s remaining:  1.1min\n",
      "[Parallel(n_jobs=-1)]: Done   5 out of  12 | elapsed:   21.7s remaining:   30.4s\n",
      "[Parallel(n_jobs=-1)]: Done   7 out of  12 | elapsed:   21.8s remaining:   15.5s\n",
      "[Parallel(n_jobs=-1)]: Done   9 out of  12 | elapsed:   22.1s remaining:    7.3s\n",
      "[Parallel(n_jobs=-1)]: Done  12 out of  12 | elapsed:   22.4s finished\n"
     ]
    },
    {
     "name": "stdout",
     "output_type": "stream",
     "text": [
      "ERROR RATE 0.08526315789473685\n",
      "TIME FOR BATCH, 22.486754655838013\n",
      "PARAMS (2.0, 2.0, 2.0)\n",
      "COMPLETION RATE 384000/10000000\n",
      "PERCENTAGE CORRECT, 0.573453125\n",
      "CONFIDENCE (0.5718880733507374, 0.575016981983413)\n",
      "CONFIDENCE % 0.7335439118328002\n",
      "-----------------------------------------------\n"
     ]
    },
    {
     "name": "stderr",
     "output_type": "stream",
     "text": [
      "[Parallel(n_jobs=-1)]: Using backend LokyBackend with 12 concurrent workers.\n",
      "[Parallel(n_jobs=-1)]: Done   1 tasks      | elapsed:   21.7s\n",
      "[Parallel(n_jobs=-1)]: Done   3 out of  12 | elapsed:   21.9s remaining:  1.1min\n",
      "[Parallel(n_jobs=-1)]: Done   5 out of  12 | elapsed:   21.9s remaining:   30.7s\n",
      "[Parallel(n_jobs=-1)]: Done   7 out of  12 | elapsed:   22.2s remaining:   15.9s\n",
      "[Parallel(n_jobs=-1)]: Done   9 out of  12 | elapsed:   22.4s remaining:    7.4s\n",
      "[Parallel(n_jobs=-1)]: Done  12 out of  12 | elapsed:   22.9s finished\n",
      "[Parallel(n_jobs=-1)]: Using backend LokyBackend with 12 concurrent workers.\n"
     ]
    },
    {
     "name": "stdout",
     "output_type": "stream",
     "text": [
      "ERROR RATE 0.08526315789473685\n",
      "TIME FOR BATCH, 22.987346172332764\n",
      "PARAMS (2.0, 2.0, 2.0)\n",
      "COMPLETION RATE 408000/10000000\n",
      "PERCENTAGE CORRECT, 0.5733039215686274\n",
      "CONFIDENCE (0.5717855885621868, 0.5748211299534582)\n",
      "CONFIDENCE % 0.7114059736454104\n",
      "-----------------------------------------------\n"
     ]
    },
    {
     "name": "stderr",
     "output_type": "stream",
     "text": [
      "[Parallel(n_jobs=-1)]: Done   1 tasks      | elapsed:   21.2s\n",
      "[Parallel(n_jobs=-1)]: Done   3 out of  12 | elapsed:   21.4s remaining:  1.1min\n",
      "[Parallel(n_jobs=-1)]: Done   5 out of  12 | elapsed:   21.8s remaining:   30.5s\n",
      "[Parallel(n_jobs=-1)]: Done   7 out of  12 | elapsed:   22.7s remaining:   16.2s\n",
      "[Parallel(n_jobs=-1)]: Done   9 out of  12 | elapsed:   22.8s remaining:    7.5s\n",
      "[Parallel(n_jobs=-1)]: Done  12 out of  12 | elapsed:   23.3s finished\n",
      "[Parallel(n_jobs=-1)]: Using backend LokyBackend with 12 concurrent workers.\n"
     ]
    },
    {
     "name": "stdout",
     "output_type": "stream",
     "text": [
      "ERROR RATE 0.08526315789473685\n",
      "TIME FOR BATCH, 23.42374014854431\n",
      "PARAMS (2.0, 2.0, 2.0)\n",
      "COMPLETION RATE 432000/10000000\n",
      "PERCENTAGE CORRECT, 0.5732592592592592\n",
      "CONFIDENCE (0.5717836114445476, 0.5747338449262077)\n",
      "CONFIDENCE % 0.6913409477939887\n",
      "-----------------------------------------------\n"
     ]
    },
    {
     "name": "stderr",
     "output_type": "stream",
     "text": [
      "[Parallel(n_jobs=-1)]: Done   1 tasks      | elapsed:   21.2s\n",
      "[Parallel(n_jobs=-1)]: Done   3 out of  12 | elapsed:   21.8s remaining:  1.1min\n",
      "[Parallel(n_jobs=-1)]: Done   5 out of  12 | elapsed:   22.0s remaining:   30.8s\n",
      "[Parallel(n_jobs=-1)]: Done   7 out of  12 | elapsed:   22.3s remaining:   15.9s\n",
      "[Parallel(n_jobs=-1)]: Done   9 out of  12 | elapsed:   22.8s remaining:    7.5s\n",
      "[Parallel(n_jobs=-1)]: Done  12 out of  12 | elapsed:   23.3s finished\n",
      "[Parallel(n_jobs=-1)]: Using backend LokyBackend with 12 concurrent workers.\n"
     ]
    },
    {
     "name": "stdout",
     "output_type": "stream",
     "text": [
      "ERROR RATE 0.08526315789473685\n",
      "TIME FOR BATCH, 23.433645009994507\n",
      "PARAMS (2.0, 2.0, 2.0)\n",
      "COMPLETION RATE 456000/10000000\n",
      "PERCENTAGE CORRECT, 0.5730285087719298\n",
      "CONFIDENCE (0.5715921493165886, 0.5744638616881765)\n",
      "CONFIDENCE % 0.6725770761247265\n",
      "-----------------------------------------------\n"
     ]
    },
    {
     "name": "stderr",
     "output_type": "stream",
     "text": [
      "[Parallel(n_jobs=-1)]: Done   1 tasks      | elapsed:   21.2s\n",
      "[Parallel(n_jobs=-1)]: Done   3 out of  12 | elapsed:   21.5s remaining:  1.1min\n",
      "[Parallel(n_jobs=-1)]: Done   5 out of  12 | elapsed:   21.6s remaining:   30.3s\n",
      "[Parallel(n_jobs=-1)]: Done   7 out of  12 | elapsed:   21.8s remaining:   15.6s\n",
      "[Parallel(n_jobs=-1)]: Done   9 out of  12 | elapsed:   22.8s remaining:    7.5s\n",
      "[Parallel(n_jobs=-1)]: Done  12 out of  12 | elapsed:   23.3s finished\n",
      "[Parallel(n_jobs=-1)]: Using backend LokyBackend with 12 concurrent workers.\n"
     ]
    },
    {
     "name": "stdout",
     "output_type": "stream",
     "text": [
      "ERROR RATE 0.08526315789473685\n",
      "TIME FOR BATCH, 23.400209665298462\n",
      "PARAMS (2.0, 2.0, 2.0)\n",
      "COMPLETION RATE 480000/10000000\n",
      "PERCENTAGE CORRECT, 0.57300625\n",
      "CONFIDENCE (0.5716062918509894, 0.5744052518952196)\n",
      "CONFIDENCE % 0.6555037501673484\n",
      "-----------------------------------------------\n"
     ]
    },
    {
     "name": "stderr",
     "output_type": "stream",
     "text": [
      "[Parallel(n_jobs=-1)]: Done   1 tasks      | elapsed:   21.2s\n",
      "[Parallel(n_jobs=-1)]: Done   3 out of  12 | elapsed:   21.4s remaining:  1.1min\n",
      "[Parallel(n_jobs=-1)]: Done   5 out of  12 | elapsed:   22.3s remaining:   31.2s\n",
      "[Parallel(n_jobs=-1)]: Done   7 out of  12 | elapsed:   22.4s remaining:   16.0s\n",
      "[Parallel(n_jobs=-1)]: Done   9 out of  12 | elapsed:   22.6s remaining:    7.5s\n",
      "[Parallel(n_jobs=-1)]: Done  12 out of  12 | elapsed:   22.8s finished\n"
     ]
    },
    {
     "name": "stdout",
     "output_type": "stream",
     "text": [
      "ERROR RATE 0.08526315789473685\n",
      "TIME FOR BATCH, 22.89600968360901\n",
      "PARAMS (2.0, 2.0, 2.0)\n",
      "COMPLETION RATE 504000/10000000\n",
      "PERCENTAGE CORRECT, 0.572797619047619\n",
      "CONFIDENCE (0.5714305955059708, 0.5741637320303387)\n",
      "CONFIDENCE % 0.6397755832434282\n",
      "-----------------------------------------------\n"
     ]
    },
    {
     "name": "stderr",
     "output_type": "stream",
     "text": [
      "[Parallel(n_jobs=-1)]: Using backend LokyBackend with 12 concurrent workers.\n",
      "[Parallel(n_jobs=-1)]: Done   1 tasks      | elapsed:   21.2s\n",
      "[Parallel(n_jobs=-1)]: Done   3 out of  12 | elapsed:   21.3s remaining:  1.1min\n",
      "[Parallel(n_jobs=-1)]: Done   5 out of  12 | elapsed:   21.3s remaining:   29.9s\n",
      "[Parallel(n_jobs=-1)]: Done   7 out of  12 | elapsed:   21.7s remaining:   15.5s\n",
      "[Parallel(n_jobs=-1)]: Done   9 out of  12 | elapsed:   22.2s remaining:    7.3s\n",
      "[Parallel(n_jobs=-1)]: Done  12 out of  12 | elapsed:   22.5s finished\n",
      "[Parallel(n_jobs=-1)]: Using backend LokyBackend with 12 concurrent workers.\n"
     ]
    },
    {
     "name": "stdout",
     "output_type": "stream",
     "text": [
      "ERROR RATE 0.08526315789473685\n",
      "TIME FOR BATCH, 22.650164127349854\n",
      "PARAMS (2.0, 2.0, 2.0)\n",
      "COMPLETION RATE 528000/10000000\n",
      "PERCENTAGE CORRECT, 0.5727689393939394\n",
      "CONFIDENCE (0.5714337501565091, 0.5741032592216283)\n",
      "CONFIDENCE % 0.6248396503129465\n",
      "-----------------------------------------------\n"
     ]
    },
    {
     "name": "stderr",
     "output_type": "stream",
     "text": [
      "[Parallel(n_jobs=-1)]: Done   1 tasks      | elapsed:   21.0s\n",
      "[Parallel(n_jobs=-1)]: Done   3 out of  12 | elapsed:   21.3s remaining:  1.1min\n",
      "[Parallel(n_jobs=-1)]: Done   5 out of  12 | elapsed:   21.7s remaining:   30.4s\n",
      "[Parallel(n_jobs=-1)]: Done   7 out of  12 | elapsed:   21.9s remaining:   15.6s\n",
      "[Parallel(n_jobs=-1)]: Done   9 out of  12 | elapsed:   22.1s remaining:    7.3s\n",
      "[Parallel(n_jobs=-1)]: Done  12 out of  12 | elapsed:   22.4s finished\n"
     ]
    },
    {
     "name": "stdout",
     "output_type": "stream",
     "text": [
      "ERROR RATE 0.08526315789473685\n",
      "TIME FOR BATCH, 22.475471019744873\n",
      "PARAMS (2.0, 2.0, 2.0)\n",
      "COMPLETION RATE 552000/10000000\n",
      "PERCENTAGE CORRECT, 0.5727282608695652\n",
      "CONFIDENCE (0.5714221378935815, 0.5740335523382631)\n",
      "CONFIDENCE % 0.6111835175423121\n",
      "-----------------------------------------------\n"
     ]
    },
    {
     "name": "stderr",
     "output_type": "stream",
     "text": [
      "[Parallel(n_jobs=-1)]: Using backend LokyBackend with 12 concurrent workers.\n",
      "[Parallel(n_jobs=-1)]: Done   1 tasks      | elapsed:   20.7s\n",
      "[Parallel(n_jobs=-1)]: Done   3 out of  12 | elapsed:   20.9s remaining:  1.1min\n",
      "[Parallel(n_jobs=-1)]: Done   5 out of  12 | elapsed:   21.0s remaining:   29.5s\n",
      "[Parallel(n_jobs=-1)]: Done   7 out of  12 | elapsed:   21.6s remaining:   15.4s\n",
      "[Parallel(n_jobs=-1)]: Done   9 out of  12 | elapsed:   21.7s remaining:    7.2s\n",
      "[Parallel(n_jobs=-1)]: Done  12 out of  12 | elapsed:   22.1s finished\n"
     ]
    },
    {
     "name": "stdout",
     "output_type": "stream",
     "text": [
      "ERROR RATE 0.08526315789473685\n",
      "TIME FOR BATCH, 22.190481662750244\n",
      "PARAMS (2.0, 2.0, 2.0)\n",
      "COMPLETION RATE 576000/10000000\n",
      "PERCENTAGE CORRECT, 0.5726215277777778\n",
      "CONFIDENCE (0.5713429168208537, 0.5738993417466884)\n",
      "CONFIDENCE % 0.5981641781211408\n",
      "-----------------------------------------------\n"
     ]
    },
    {
     "name": "stderr",
     "output_type": "stream",
     "text": [
      "[Parallel(n_jobs=-1)]: Using backend LokyBackend with 12 concurrent workers.\n",
      "[Parallel(n_jobs=-1)]: Done   1 tasks      | elapsed:   21.0s\n",
      "[Parallel(n_jobs=-1)]: Done   3 out of  12 | elapsed:   21.2s remaining:  1.1min\n",
      "[Parallel(n_jobs=-1)]: Done   5 out of  12 | elapsed:   21.5s remaining:   30.2s\n",
      "[Parallel(n_jobs=-1)]: Done   7 out of  12 | elapsed:   21.7s remaining:   15.5s\n",
      "[Parallel(n_jobs=-1)]: Done   9 out of  12 | elapsed:   22.0s remaining:    7.3s\n",
      "[Parallel(n_jobs=-1)]: Done  12 out of  12 | elapsed:   22.7s finished\n",
      "[Parallel(n_jobs=-1)]: Using backend LokyBackend with 12 concurrent workers.\n"
     ]
    },
    {
     "name": "stdout",
     "output_type": "stream",
     "text": [
      "ERROR RATE 0.0863157894736842\n",
      "TIME FOR BATCH, 22.831193685531616\n",
      "PARAMS (2.0, 2.0, 2.0)\n",
      "COMPLETION RATE 24000/10000000\n",
      "PERCENTAGE CORRECT, 0.5620416666666667\n",
      "CONFIDENCE (0.5557506565138701, 0.5683133035359303)\n",
      "CONFIDENCE % 2.868457126148277\n",
      "-----------------------------------------------\n"
     ]
    },
    {
     "name": "stderr",
     "output_type": "stream",
     "text": [
      "[Parallel(n_jobs=-1)]: Done   1 tasks      | elapsed:   20.7s\n",
      "[Parallel(n_jobs=-1)]: Done   3 out of  12 | elapsed:   21.0s remaining:  1.1min\n",
      "[Parallel(n_jobs=-1)]: Done   5 out of  12 | elapsed:   21.0s remaining:   29.5s\n",
      "[Parallel(n_jobs=-1)]: Done   7 out of  12 | elapsed:   21.3s remaining:   15.2s\n",
      "[Parallel(n_jobs=-1)]: Done   9 out of  12 | elapsed:   21.7s remaining:    7.2s\n",
      "[Parallel(n_jobs=-1)]: Done  12 out of  12 | elapsed:   22.0s finished\n"
     ]
    },
    {
     "name": "stdout",
     "output_type": "stream",
     "text": [
      "ERROR RATE 0.0863157894736842\n",
      "TIME FOR BATCH, 22.08363676071167\n",
      "PARAMS (2.0, 2.0, 2.0)\n",
      "COMPLETION RATE 48000/10000000\n",
      "PERCENTAGE CORRECT, 0.5638333333333333\n",
      "CONFIDENCE (0.5593857683185278, 0.5682712375947869)\n",
      "CONFIDENCE % 2.037172933036096\n",
      "-----------------------------------------------\n"
     ]
    },
    {
     "name": "stderr",
     "output_type": "stream",
     "text": [
      "[Parallel(n_jobs=-1)]: Using backend LokyBackend with 12 concurrent workers.\n",
      "[Parallel(n_jobs=-1)]: Done   1 tasks      | elapsed:   21.0s\n",
      "[Parallel(n_jobs=-1)]: Done   3 out of  12 | elapsed:   21.1s remaining:  1.1min\n",
      "[Parallel(n_jobs=-1)]: Done   5 out of  12 | elapsed:   21.3s remaining:   29.9s\n",
      "[Parallel(n_jobs=-1)]: Done   7 out of  12 | elapsed:   21.6s remaining:   15.4s\n",
      "[Parallel(n_jobs=-1)]: Done   9 out of  12 | elapsed:   22.1s remaining:    7.3s\n",
      "[Parallel(n_jobs=-1)]: Done  12 out of  12 | elapsed:   22.5s finished\n"
     ]
    },
    {
     "name": "stdout",
     "output_type": "stream",
     "text": [
      "ERROR RATE 0.0863157894736842\n",
      "TIME FOR BATCH, 22.582873821258545\n",
      "PARAMS (2.0, 2.0, 2.0)\n",
      "COMPLETION RATE 72000/10000000\n",
      "PERCENTAGE CORRECT, 0.5644861111111111\n",
      "CONFIDENCE (0.5608544078050628, 0.5681113811042032)\n",
      "CONFIDENCE % 1.6663012327011872\n",
      "-----------------------------------------------\n"
     ]
    },
    {
     "name": "stderr",
     "output_type": "stream",
     "text": [
      "[Parallel(n_jobs=-1)]: Using backend LokyBackend with 12 concurrent workers.\n",
      "[Parallel(n_jobs=-1)]: Done   1 tasks      | elapsed:   20.6s\n",
      "[Parallel(n_jobs=-1)]: Done   3 out of  12 | elapsed:   20.7s remaining:  1.0min\n",
      "[Parallel(n_jobs=-1)]: Done   5 out of  12 | elapsed:   21.0s remaining:   29.5s\n",
      "[Parallel(n_jobs=-1)]: Done   7 out of  12 | elapsed:   21.4s remaining:   15.3s\n",
      "[Parallel(n_jobs=-1)]: Done   9 out of  12 | elapsed:   21.8s remaining:    7.2s\n",
      "[Parallel(n_jobs=-1)]: Done  12 out of  12 | elapsed:   22.1s finished\n",
      "[Parallel(n_jobs=-1)]: Using backend LokyBackend with 12 concurrent workers.\n"
     ]
    },
    {
     "name": "stdout",
     "output_type": "stream",
     "text": [
      "ERROR RATE 0.0863157894736842\n",
      "TIME FOR BATCH, 22.167913675308228\n",
      "PARAMS (2.0, 2.0, 2.0)\n",
      "COMPLETION RATE 96000/10000000\n",
      "PERCENTAGE CORRECT, 0.5653020833333333\n",
      "CONFIDENCE (0.5621616411173064, 0.5684377013408455)\n",
      "CONFIDENCE % 1.4437750867694374\n",
      "-----------------------------------------------\n"
     ]
    },
    {
     "name": "stderr",
     "output_type": "stream",
     "text": [
      "[Parallel(n_jobs=-1)]: Done   1 tasks      | elapsed:   21.3s\n",
      "[Parallel(n_jobs=-1)]: Done   3 out of  12 | elapsed:   21.4s remaining:  1.1min\n",
      "[Parallel(n_jobs=-1)]: Done   5 out of  12 | elapsed:   21.4s remaining:   30.0s\n",
      "[Parallel(n_jobs=-1)]: Done   7 out of  12 | elapsed:   21.6s remaining:   15.4s\n",
      "[Parallel(n_jobs=-1)]: Done   9 out of  12 | elapsed:   22.3s remaining:    7.4s\n",
      "[Parallel(n_jobs=-1)]: Done  12 out of  12 | elapsed:   22.7s finished\n",
      "[Parallel(n_jobs=-1)]: Using backend LokyBackend with 12 concurrent workers.\n"
     ]
    },
    {
     "name": "stdout",
     "output_type": "stream",
     "text": [
      "ERROR RATE 0.0863157894736842\n",
      "TIME FOR BATCH, 22.76239252090454\n",
      "PARAMS (2.0, 2.0, 2.0)\n",
      "COMPLETION RATE 120000/10000000\n",
      "PERCENTAGE CORRECT, 0.5654333333333333\n",
      "CONFIDENCE (0.5626251471249868, 0.5682376604023515)\n",
      "CONFIDENCE % 1.291519508483088\n",
      "-----------------------------------------------\n"
     ]
    },
    {
     "name": "stderr",
     "output_type": "stream",
     "text": [
      "[Parallel(n_jobs=-1)]: Done   1 tasks      | elapsed:   20.8s\n",
      "[Parallel(n_jobs=-1)]: Done   3 out of  12 | elapsed:   20.9s remaining:  1.0min\n",
      "[Parallel(n_jobs=-1)]: Done   5 out of  12 | elapsed:   21.2s remaining:   29.7s\n",
      "[Parallel(n_jobs=-1)]: Done   7 out of  12 | elapsed:   21.5s remaining:   15.3s\n",
      "[Parallel(n_jobs=-1)]: Done   9 out of  12 | elapsed:   21.7s remaining:    7.2s\n",
      "[Parallel(n_jobs=-1)]: Done  12 out of  12 | elapsed:   22.2s finished\n",
      "[Parallel(n_jobs=-1)]: Using backend LokyBackend with 12 concurrent workers.\n"
     ]
    },
    {
     "name": "stdout",
     "output_type": "stream",
     "text": [
      "ERROR RATE 0.0863157894736842\n",
      "TIME FOR BATCH, 22.344645500183105\n",
      "PARAMS (2.0, 2.0, 2.0)\n",
      "COMPLETION RATE 144000/10000000\n",
      "PERCENTAGE CORRECT, 0.5656388888888889\n",
      "CONFIDENCE (0.5630765120021141, 0.568198049861367)\n",
      "CONFIDENCE % 1.1790967764475693\n",
      "-----------------------------------------------\n"
     ]
    },
    {
     "name": "stderr",
     "output_type": "stream",
     "text": [
      "[Parallel(n_jobs=-1)]: Done   1 tasks      | elapsed:   21.3s\n",
      "[Parallel(n_jobs=-1)]: Done   3 out of  12 | elapsed:   21.3s remaining:  1.1min\n",
      "[Parallel(n_jobs=-1)]: Done   5 out of  12 | elapsed:   21.7s remaining:   30.5s\n",
      "[Parallel(n_jobs=-1)]: Done   7 out of  12 | elapsed:   22.1s remaining:   15.7s\n",
      "[Parallel(n_jobs=-1)]: Done   9 out of  12 | elapsed:   22.9s remaining:    7.6s\n",
      "[Parallel(n_jobs=-1)]: Done  12 out of  12 | elapsed:   23.4s finished\n"
     ]
    },
    {
     "name": "stdout",
     "output_type": "stream",
     "text": [
      "ERROR RATE 0.0863157894736842\n",
      "TIME FOR BATCH, 23.533035039901733\n",
      "PARAMS (2.0, 2.0, 2.0)\n",
      "COMPLETION RATE 168000/10000000\n",
      "PERCENTAGE CORRECT, 0.565047619047619\n",
      "CONFIDENCE (0.5626727248357307, 0.5674197567327052)\n",
      "CONFIDENCE % 1.0913911740361668\n",
      "-----------------------------------------------\n"
     ]
    },
    {
     "name": "stderr",
     "output_type": "stream",
     "text": [
      "[Parallel(n_jobs=-1)]: Using backend LokyBackend with 12 concurrent workers.\n",
      "[Parallel(n_jobs=-1)]: Done   1 tasks      | elapsed:   20.6s\n",
      "[Parallel(n_jobs=-1)]: Done   3 out of  12 | elapsed:   20.8s remaining:  1.0min\n",
      "[Parallel(n_jobs=-1)]: Done   5 out of  12 | elapsed:   21.0s remaining:   29.5s\n",
      "[Parallel(n_jobs=-1)]: Done   7 out of  12 | elapsed:   21.7s remaining:   15.5s\n",
      "[Parallel(n_jobs=-1)]: Done   9 out of  12 | elapsed:   21.9s remaining:    7.2s\n",
      "[Parallel(n_jobs=-1)]: Done  12 out of  12 | elapsed:   22.2s finished\n"
     ]
    },
    {
     "name": "stdout",
     "output_type": "stream",
     "text": [
      "ERROR RATE 0.0863157894736842\n",
      "TIME FOR BATCH, 22.343005180358887\n",
      "PARAMS (2.0, 2.0, 2.0)\n",
      "COMPLETION RATE 192000/10000000\n",
      "PERCENTAGE CORRECT, 0.5645572916666667\n",
      "CONFIDENCE (0.5623360293984561, 0.5667761401734621)\n",
      "CONFIDENCE % 1.0196773743211087\n",
      "-----------------------------------------------\n"
     ]
    },
    {
     "name": "stderr",
     "output_type": "stream",
     "text": [
      "[Parallel(n_jobs=-1)]: Using backend LokyBackend with 12 concurrent workers.\n",
      "[Parallel(n_jobs=-1)]: Done   1 tasks      | elapsed:   21.0s\n",
      "[Parallel(n_jobs=-1)]: Done   3 out of  12 | elapsed:   21.3s remaining:  1.1min\n",
      "[Parallel(n_jobs=-1)]: Done   5 out of  12 | elapsed:   21.6s remaining:   30.3s\n",
      "[Parallel(n_jobs=-1)]: Done   7 out of  12 | elapsed:   22.0s remaining:   15.7s\n",
      "[Parallel(n_jobs=-1)]: Done   9 out of  12 | elapsed:   22.4s remaining:    7.4s\n",
      "[Parallel(n_jobs=-1)]: Done  12 out of  12 | elapsed:   22.6s finished\n",
      "[Parallel(n_jobs=-1)]: Using backend LokyBackend with 12 concurrent workers.\n"
     ]
    },
    {
     "name": "stdout",
     "output_type": "stream",
     "text": [
      "ERROR RATE 0.0863157894736842\n",
      "TIME FOR BATCH, 22.716720819473267\n",
      "PARAMS (2.0, 2.0, 2.0)\n",
      "COMPLETION RATE 216000/10000000\n",
      "PERCENTAGE CORRECT, 0.5644259259259259\n",
      "CONFIDENCE (0.5623334144097611, 0.5665162902695069)\n",
      "CONFIDENCE % 0.9603133218242016\n",
      "-----------------------------------------------\n"
     ]
    },
    {
     "name": "stderr",
     "output_type": "stream",
     "text": [
      "[Parallel(n_jobs=-1)]: Done   1 tasks      | elapsed:   20.8s\n",
      "[Parallel(n_jobs=-1)]: Done   3 out of  12 | elapsed:   21.0s remaining:  1.1min\n",
      "[Parallel(n_jobs=-1)]: Done   5 out of  12 | elapsed:   21.4s remaining:   30.0s\n",
      "[Parallel(n_jobs=-1)]: Done   7 out of  12 | elapsed:   21.7s remaining:   15.5s\n",
      "[Parallel(n_jobs=-1)]: Done   9 out of  12 | elapsed:   21.8s remaining:    7.2s\n",
      "[Parallel(n_jobs=-1)]: Done  12 out of  12 | elapsed:   22.1s finished\n",
      "[Parallel(n_jobs=-1)]: Using backend LokyBackend with 12 concurrent workers.\n"
     ]
    },
    {
     "name": "stdout",
     "output_type": "stream",
     "text": [
      "ERROR RATE 0.0863157894736842\n",
      "TIME FOR BATCH, 22.24750828742981\n",
      "PARAMS (2.0, 2.0, 2.0)\n",
      "COMPLETION RATE 240000/10000000\n",
      "PERCENTAGE CORRECT, 0.5648916666666667\n",
      "CONFIDENCE (0.5629063238066946, 0.5668750785161337)\n",
      "CONFIDENCE % 0.9121302455953431\n",
      "-----------------------------------------------\n"
     ]
    },
    {
     "name": "stderr",
     "output_type": "stream",
     "text": [
      "[Parallel(n_jobs=-1)]: Done   1 tasks      | elapsed:   21.1s\n",
      "[Parallel(n_jobs=-1)]: Done   3 out of  12 | elapsed:   21.5s remaining:  1.1min\n",
      "[Parallel(n_jobs=-1)]: Done   5 out of  12 | elapsed:   21.7s remaining:   30.4s\n",
      "[Parallel(n_jobs=-1)]: Done   7 out of  12 | elapsed:   21.8s remaining:   15.5s\n",
      "[Parallel(n_jobs=-1)]: Done   9 out of  12 | elapsed:   22.1s remaining:    7.3s\n",
      "[Parallel(n_jobs=-1)]: Done  12 out of  12 | elapsed:   22.6s finished\n"
     ]
    },
    {
     "name": "stdout",
     "output_type": "stream",
     "text": [
      "ERROR RATE 0.0863157894736842\n",
      "TIME FOR BATCH, 22.673164129257202\n",
      "PARAMS (2.0, 2.0, 2.0)\n",
      "COMPLETION RATE 264000/10000000\n",
      "PERCENTAGE CORRECT, 0.5648522727272727\n",
      "CONFIDENCE (0.5629584007843198, 0.5667443897481191)\n",
      "CONFIDENCE % 0.8700468200828912\n",
      "-----------------------------------------------\n"
     ]
    },
    {
     "name": "stderr",
     "output_type": "stream",
     "text": [
      "[Parallel(n_jobs=-1)]: Using backend LokyBackend with 12 concurrent workers.\n",
      "[Parallel(n_jobs=-1)]: Done   1 tasks      | elapsed:   20.6s\n",
      "[Parallel(n_jobs=-1)]: Done   3 out of  12 | elapsed:   20.9s remaining:  1.0min\n",
      "[Parallel(n_jobs=-1)]: Done   5 out of  12 | elapsed:   21.1s remaining:   29.6s\n",
      "[Parallel(n_jobs=-1)]: Done   7 out of  12 | elapsed:   21.3s remaining:   15.2s\n",
      "[Parallel(n_jobs=-1)]: Done   9 out of  12 | elapsed:   21.8s remaining:    7.2s\n",
      "[Parallel(n_jobs=-1)]: Done  12 out of  12 | elapsed:   22.2s finished\n",
      "[Parallel(n_jobs=-1)]: Using backend LokyBackend with 12 concurrent workers.\n"
     ]
    },
    {
     "name": "stdout",
     "output_type": "stream",
     "text": [
      "ERROR RATE 0.0863157894736842\n",
      "TIME FOR BATCH, 22.325249671936035\n",
      "PARAMS (2.0, 2.0, 2.0)\n",
      "COMPLETION RATE 288000/10000000\n",
      "PERCENTAGE CORRECT, 0.5642222222222222\n",
      "CONFIDENCE (0.5624097831908825, 0.5660330506629447)\n",
      "CONFIDENCE % 0.8314484255114705\n",
      "-----------------------------------------------\n"
     ]
    },
    {
     "name": "stderr",
     "output_type": "stream",
     "text": [
      "[Parallel(n_jobs=-1)]: Done   1 tasks      | elapsed:   21.1s\n",
      "[Parallel(n_jobs=-1)]: Done   3 out of  12 | elapsed:   21.3s remaining:  1.1min\n",
      "[Parallel(n_jobs=-1)]: Done   5 out of  12 | elapsed:   21.6s remaining:   30.3s\n",
      "[Parallel(n_jobs=-1)]: Done   7 out of  12 | elapsed:   21.9s remaining:   15.6s\n",
      "[Parallel(n_jobs=-1)]: Done   9 out of  12 | elapsed:   22.2s remaining:    7.3s\n",
      "[Parallel(n_jobs=-1)]: Done  12 out of  12 | elapsed:   22.6s finished\n"
     ]
    },
    {
     "name": "stdout",
     "output_type": "stream",
     "text": [
      "ERROR RATE 0.0863157894736842\n",
      "TIME FOR BATCH, 22.698893308639526\n",
      "PARAMS (2.0, 2.0, 2.0)\n",
      "COMPLETION RATE 312000/10000000\n",
      "PERCENTAGE CORRECT, 0.5642660256410257\n",
      "CONFIDENCE (0.5625240950329179, 0.5660064700251601)\n",
      "CONFIDENCE % 0.7991974913972004\n",
      "-----------------------------------------------\n"
     ]
    },
    {
     "name": "stderr",
     "output_type": "stream",
     "text": [
      "[Parallel(n_jobs=-1)]: Using backend LokyBackend with 12 concurrent workers.\n",
      "[Parallel(n_jobs=-1)]: Done   1 tasks      | elapsed:   20.9s\n",
      "[Parallel(n_jobs=-1)]: Done   3 out of  12 | elapsed:   21.2s remaining:  1.1min\n",
      "[Parallel(n_jobs=-1)]: Done   5 out of  12 | elapsed:   21.6s remaining:   30.3s\n",
      "[Parallel(n_jobs=-1)]: Done   7 out of  12 | elapsed:   21.7s remaining:   15.5s\n",
      "[Parallel(n_jobs=-1)]: Done   9 out of  12 | elapsed:   21.9s remaining:    7.2s\n",
      "[Parallel(n_jobs=-1)]: Done  12 out of  12 | elapsed:   22.4s finished\n"
     ]
    },
    {
     "name": "stdout",
     "output_type": "stream",
     "text": [
      "ERROR RATE 0.0863157894736842\n",
      "TIME FOR BATCH, 22.49123764038086\n",
      "PARAMS (2.0, 2.0, 2.0)\n",
      "COMPLETION RATE 336000/10000000\n",
      "PERCENTAGE CORRECT, 0.5638065476190476\n",
      "CONFIDENCE (0.5621280283234389, 0.5654836859431788)\n",
      "CONFIDENCE % 0.7693049039189146\n",
      "-----------------------------------------------\n"
     ]
    },
    {
     "name": "stderr",
     "output_type": "stream",
     "text": [
      "[Parallel(n_jobs=-1)]: Using backend LokyBackend with 12 concurrent workers.\n",
      "[Parallel(n_jobs=-1)]: Done   1 tasks      | elapsed:   21.2s\n",
      "[Parallel(n_jobs=-1)]: Done   3 out of  12 | elapsed:   21.3s remaining:  1.1min\n",
      "[Parallel(n_jobs=-1)]: Done   5 out of  12 | elapsed:   21.3s remaining:   29.8s\n",
      "[Parallel(n_jobs=-1)]: Done   7 out of  12 | elapsed:   21.8s remaining:   15.6s\n",
      "[Parallel(n_jobs=-1)]: Done   9 out of  12 | elapsed:   22.4s remaining:    7.4s\n",
      "[Parallel(n_jobs=-1)]: Done  12 out of  12 | elapsed:   22.6s finished\n"
     ]
    },
    {
     "name": "stdout",
     "output_type": "stream",
     "text": [
      "ERROR RATE 0.0863157894736842\n",
      "TIME FOR BATCH, 22.68824315071106\n",
      "PARAMS (2.0, 2.0, 2.0)\n",
      "COMPLETION RATE 360000/10000000\n",
      "PERCENTAGE CORRECT, 0.5640305555555556\n",
      "CONFIDENCE (0.5624097709083367, 0.5656500512526832)\n",
      "CONFIDENCE % 0.7432356523232088\n",
      "-----------------------------------------------\n"
     ]
    },
    {
     "name": "stderr",
     "output_type": "stream",
     "text": [
      "[Parallel(n_jobs=-1)]: Using backend LokyBackend with 12 concurrent workers.\n",
      "[Parallel(n_jobs=-1)]: Done   1 tasks      | elapsed:   20.9s\n",
      "[Parallel(n_jobs=-1)]: Done   3 out of  12 | elapsed:   20.9s remaining:  1.0min\n",
      "[Parallel(n_jobs=-1)]: Done   5 out of  12 | elapsed:   21.0s remaining:   29.5s\n",
      "[Parallel(n_jobs=-1)]: Done   7 out of  12 | elapsed:   21.3s remaining:   15.2s\n",
      "[Parallel(n_jobs=-1)]: Done   9 out of  12 | elapsed:   21.9s remaining:    7.2s\n",
      "[Parallel(n_jobs=-1)]: Done  12 out of  12 | elapsed:   22.1s finished\n"
     ]
    },
    {
     "name": "stdout",
     "output_type": "stream",
     "text": [
      "ERROR RATE 0.0863157894736842\n",
      "TIME FOR BATCH, 22.211669206619263\n",
      "PARAMS (2.0, 2.0, 2.0)\n",
      "COMPLETION RATE 384000/10000000\n",
      "PERCENTAGE CORRECT, 0.5640182291666667\n",
      "CONFIDENCE (0.5624479625909449, 0.5655872878620272)\n",
      "CONFIDENCE % 0.7200588375706176\n",
      "-----------------------------------------------\n"
     ]
    },
    {
     "name": "stderr",
     "output_type": "stream",
     "text": [
      "[Parallel(n_jobs=-1)]: Using backend LokyBackend with 12 concurrent workers.\n",
      "[Parallel(n_jobs=-1)]: Done   1 tasks      | elapsed:   21.2s\n",
      "[Parallel(n_jobs=-1)]: Done   3 out of  12 | elapsed:   21.2s remaining:  1.1min\n",
      "[Parallel(n_jobs=-1)]: Done   5 out of  12 | elapsed:   21.3s remaining:   29.9s\n",
      "[Parallel(n_jobs=-1)]: Done   7 out of  12 | elapsed:   21.7s remaining:   15.4s\n",
      "[Parallel(n_jobs=-1)]: Done   9 out of  12 | elapsed:   22.6s remaining:    7.5s\n",
      "[Parallel(n_jobs=-1)]: Done  12 out of  12 | elapsed:   22.8s finished\n"
     ]
    },
    {
     "name": "stdout",
     "output_type": "stream",
     "text": [
      "ERROR RATE 0.0863157894736842\n",
      "TIME FOR BATCH, 22.916630506515503\n",
      "PARAMS (2.0, 2.0, 2.0)\n",
      "COMPLETION RATE 408000/10000000\n",
      "PERCENTAGE CORRECT, 0.5642794117647059\n",
      "CONFIDENCE (0.5627561708783019, 0.5658015161653944)\n",
      "CONFIDENCE % 0.6989215954716438\n",
      "-----------------------------------------------\n"
     ]
    },
    {
     "name": "stderr",
     "output_type": "stream",
     "text": [
      "[Parallel(n_jobs=-1)]: Using backend LokyBackend with 12 concurrent workers.\n",
      "[Parallel(n_jobs=-1)]: Done   1 tasks      | elapsed:   30.9s\n",
      "[Parallel(n_jobs=-1)]: Done   3 out of  12 | elapsed:   31.3s remaining:  1.6min\n",
      "[Parallel(n_jobs=-1)]: Done   5 out of  12 | elapsed:   32.3s remaining:   45.2s\n",
      "[Parallel(n_jobs=-1)]: Done   7 out of  12 | elapsed:   32.6s remaining:   23.3s\n",
      "[Parallel(n_jobs=-1)]: Done   9 out of  12 | elapsed:   33.0s remaining:   10.9s\n",
      "[Parallel(n_jobs=-1)]: Done  12 out of  12 | elapsed:   33.9s finished\n"
     ]
    },
    {
     "name": "stdout",
     "output_type": "stream",
     "text": [
      "ERROR RATE 0.0863157894736842\n",
      "TIME FOR BATCH, 34.02526640892029\n",
      "PARAMS (2.0, 2.0, 2.0)\n",
      "COMPLETION RATE 432000/10000000\n",
      "PERCENTAGE CORRECT, 0.5640763888888889\n",
      "CONFIDENCE (0.5625961056984333, 0.5655555984135991)\n",
      "CONFIDENCE % 0.6789016790401583\n",
      "-----------------------------------------------\n"
     ]
    },
    {
     "name": "stderr",
     "output_type": "stream",
     "text": [
      "[Parallel(n_jobs=-1)]: Using backend LokyBackend with 12 concurrent workers.\n",
      "[Parallel(n_jobs=-1)]: Done   1 tasks      | elapsed:   31.3s\n",
      "[Parallel(n_jobs=-1)]: Done   3 out of  12 | elapsed:   31.6s remaining:  1.6min\n",
      "[Parallel(n_jobs=-1)]: Done   5 out of  12 | elapsed:   31.7s remaining:   44.5s\n",
      "[Parallel(n_jobs=-1)]: Done   7 out of  12 | elapsed:   31.8s remaining:   22.7s\n",
      "[Parallel(n_jobs=-1)]: Done   9 out of  12 | elapsed:   31.9s remaining:   10.6s\n",
      "[Parallel(n_jobs=-1)]: Done  12 out of  12 | elapsed:   32.7s finished\n"
     ]
    },
    {
     "name": "stdout",
     "output_type": "stream",
     "text": [
      "ERROR RATE 0.0863157894736842\n",
      "TIME FOR BATCH, 32.816349267959595\n",
      "PARAMS (2.0, 2.0, 2.0)\n",
      "COMPLETION RATE 456000/10000000\n",
      "PERCENTAGE CORRECT, 0.5641118421052631\n",
      "CONFIDENCE (0.5626710914079125, 0.5655515756874246)\n",
      "CONFIDENCE % 0.6608310474467544\n",
      "-----------------------------------------------\n"
     ]
    },
    {
     "name": "stderr",
     "output_type": "stream",
     "text": [
      "[Parallel(n_jobs=-1)]: Using backend LokyBackend with 12 concurrent workers.\n",
      "[Parallel(n_jobs=-1)]: Done   1 tasks      | elapsed:   20.5s\n",
      "[Parallel(n_jobs=-1)]: Done   3 out of  12 | elapsed:   20.8s remaining:  1.0min\n",
      "[Parallel(n_jobs=-1)]: Done   5 out of  12 | elapsed:   21.0s remaining:   29.5s\n",
      "[Parallel(n_jobs=-1)]: Done   7 out of  12 | elapsed:   21.5s remaining:   15.3s\n",
      "[Parallel(n_jobs=-1)]: Done   9 out of  12 | elapsed:   22.5s remaining:    7.4s\n",
      "[Parallel(n_jobs=-1)]: Done  12 out of  12 | elapsed:   23.3s finished\n",
      "[Parallel(n_jobs=-1)]: Using backend LokyBackend with 12 concurrent workers.\n"
     ]
    },
    {
     "name": "stdout",
     "output_type": "stream",
     "text": [
      "ERROR RATE 0.0863157894736842\n",
      "TIME FOR BATCH, 23.45248770713806\n",
      "PARAMS (2.0, 2.0, 2.0)\n",
      "COMPLETION RATE 480000/10000000\n",
      "PERCENTAGE CORRECT, 0.5641041666666666\n",
      "CONFIDENCE (0.5627000368204611, 0.5655073301750719)\n",
      "CONFIDENCE % 0.6440284902801692\n",
      "-----------------------------------------------\n"
     ]
    },
    {
     "name": "stderr",
     "output_type": "stream",
     "text": [
      "[Parallel(n_jobs=-1)]: Done   1 tasks      | elapsed:   20.9s\n",
      "[Parallel(n_jobs=-1)]: Done   3 out of  12 | elapsed:   21.0s remaining:  1.1min\n",
      "[Parallel(n_jobs=-1)]: Done   5 out of  12 | elapsed:   21.1s remaining:   29.6s\n",
      "[Parallel(n_jobs=-1)]: Done   7 out of  12 | elapsed:   21.1s remaining:   15.1s\n",
      "[Parallel(n_jobs=-1)]: Done   9 out of  12 | elapsed:   23.2s remaining:    7.7s\n",
      "[Parallel(n_jobs=-1)]: Done  12 out of  12 | elapsed:   23.3s finished\n"
     ]
    },
    {
     "name": "stdout",
     "output_type": "stream",
     "text": [
      "ERROR RATE 0.0863157894736842\n",
      "TIME FOR BATCH, 23.35866904258728\n",
      "PARAMS (2.0, 2.0, 2.0)\n",
      "COMPLETION RATE 504000/10000000\n",
      "PERCENTAGE CORRECT, 0.5641329365079365\n",
      "CONFIDENCE (0.5627629318649974, 0.5655020207369094)\n",
      "CONFIDENCE % 0.6284229989683224\n",
      "-----------------------------------------------\n"
     ]
    },
    {
     "name": "stderr",
     "output_type": "stream",
     "text": [
      "[Parallel(n_jobs=-1)]: Using backend LokyBackend with 12 concurrent workers.\n",
      "[Parallel(n_jobs=-1)]: Done   1 tasks      | elapsed:   20.9s\n",
      "[Parallel(n_jobs=-1)]: Done   3 out of  12 | elapsed:   21.2s remaining:  1.1min\n",
      "[Parallel(n_jobs=-1)]: Done   5 out of  12 | elapsed:   21.6s remaining:   30.3s\n",
      "[Parallel(n_jobs=-1)]: Done   7 out of  12 | elapsed:   21.8s remaining:   15.5s\n",
      "[Parallel(n_jobs=-1)]: Done   9 out of  12 | elapsed:   23.4s remaining:    7.7s\n",
      "[Parallel(n_jobs=-1)]: Done  12 out of  12 | elapsed:   23.6s finished\n"
     ]
    },
    {
     "name": "stdout",
     "output_type": "stream",
     "text": [
      "ERROR RATE 0.0863157894736842\n",
      "TIME FOR BATCH, 23.698870420455933\n",
      "PARAMS (2.0, 2.0, 2.0)\n",
      "COMPLETION RATE 528000/10000000\n",
      "PERCENTAGE CORRECT, 0.5642727272727273\n",
      "CONFIDENCE (0.5629346925360391, 0.5656098833867731)\n",
      "CONFIDENCE % 0.613959928188478\n",
      "-----------------------------------------------\n"
     ]
    },
    {
     "name": "stderr",
     "output_type": "stream",
     "text": [
      "[Parallel(n_jobs=-1)]: Using backend LokyBackend with 12 concurrent workers.\n",
      "[Parallel(n_jobs=-1)]: Done   1 tasks      | elapsed:   20.7s\n",
      "[Parallel(n_jobs=-1)]: Done   3 out of  12 | elapsed:   20.8s remaining:  1.0min\n",
      "[Parallel(n_jobs=-1)]: Done   5 out of  12 | elapsed:   20.9s remaining:   29.2s\n",
      "[Parallel(n_jobs=-1)]: Done   7 out of  12 | elapsed:   21.2s remaining:   15.1s\n",
      "[Parallel(n_jobs=-1)]: Done   9 out of  12 | elapsed:   21.6s remaining:    7.1s\n",
      "[Parallel(n_jobs=-1)]: Done  12 out of  12 | elapsed:   22.2s finished\n",
      "[Parallel(n_jobs=-1)]: Using backend LokyBackend with 12 concurrent workers.\n"
     ]
    },
    {
     "name": "stdout",
     "output_type": "stream",
     "text": [
      "ERROR RATE 0.0863157894736842\n",
      "TIME FOR BATCH, 22.28330087661743\n",
      "PARAMS (2.0, 2.0, 2.0)\n",
      "COMPLETION RATE 552000/10000000\n",
      "PERCENTAGE CORRECT, 0.5643097826086957\n",
      "CONFIDENCE (0.5630009378760913, 0.5656177870679262)\n",
      "CONFIDENCE % 0.6006215167059066\n",
      "-----------------------------------------------\n"
     ]
    },
    {
     "name": "stderr",
     "output_type": "stream",
     "text": [
      "[Parallel(n_jobs=-1)]: Done   1 tasks      | elapsed:   21.1s\n",
      "[Parallel(n_jobs=-1)]: Done   3 out of  12 | elapsed:   21.5s remaining:  1.1min\n",
      "[Parallel(n_jobs=-1)]: Done   5 out of  12 | elapsed:   21.6s remaining:   30.3s\n",
      "[Parallel(n_jobs=-1)]: Done   7 out of  12 | elapsed:   22.2s remaining:   15.9s\n",
      "[Parallel(n_jobs=-1)]: Done   9 out of  12 | elapsed:   22.6s remaining:    7.5s\n",
      "[Parallel(n_jobs=-1)]: Done  12 out of  12 | elapsed:   23.3s finished\n"
     ]
    },
    {
     "name": "stdout",
     "output_type": "stream",
     "text": [
      "ERROR RATE 0.0863157894736842\n",
      "TIME FOR BATCH, 23.443817377090454\n",
      "PARAMS (2.0, 2.0, 2.0)\n",
      "COMPLETION RATE 576000/10000000\n",
      "PERCENTAGE CORRECT, 0.5640590277777778\n",
      "CONFIDENCE (0.5627778083801644, 0.5653394416054578)\n",
      "CONFIDENCE % 0.5876101097438364\n",
      "-----------------------------------------------\n"
     ]
    },
    {
     "name": "stderr",
     "output_type": "stream",
     "text": [
      "[Parallel(n_jobs=-1)]: Using backend LokyBackend with 12 concurrent workers.\n",
      "[Parallel(n_jobs=-1)]: Done   1 tasks      | elapsed:   21.8s\n",
      "[Parallel(n_jobs=-1)]: Done   3 out of  12 | elapsed:   21.8s remaining:  1.1min\n",
      "[Parallel(n_jobs=-1)]: Done   5 out of  12 | elapsed:   22.0s remaining:   30.9s\n",
      "[Parallel(n_jobs=-1)]: Done   7 out of  12 | elapsed:   23.1s remaining:   16.5s\n",
      "[Parallel(n_jobs=-1)]: Done   9 out of  12 | elapsed:   23.2s remaining:    7.7s\n",
      "[Parallel(n_jobs=-1)]: Done  12 out of  12 | elapsed:   24.2s finished\n"
     ]
    },
    {
     "name": "stdout",
     "output_type": "stream",
     "text": [
      "ERROR RATE 0.08736842105263158\n",
      "TIME FOR BATCH, 24.290197610855103\n",
      "PARAMS (2.0, 2.0, 2.0)\n",
      "COMPLETION RATE 24000/10000000\n",
      "PERCENTAGE CORRECT, 0.5559166666666666\n",
      "CONFIDENCE (0.5496047613927499, 0.5622090763734552)\n",
      "CONFIDENCE % 2.8382769706973714\n",
      "-----------------------------------------------\n"
     ]
    },
    {
     "name": "stderr",
     "output_type": "stream",
     "text": [
      "[Parallel(n_jobs=-1)]: Using backend LokyBackend with 12 concurrent workers.\n",
      "[Parallel(n_jobs=-1)]: Done   1 tasks      | elapsed:   21.2s\n",
      "[Parallel(n_jobs=-1)]: Done   3 out of  12 | elapsed:   21.4s remaining:  1.1min\n",
      "[Parallel(n_jobs=-1)]: Done   5 out of  12 | elapsed:   22.0s remaining:   30.8s\n",
      "[Parallel(n_jobs=-1)]: Done   7 out of  12 | elapsed:   22.1s remaining:   15.7s\n",
      "[Parallel(n_jobs=-1)]: Done   9 out of  12 | elapsed:   22.3s remaining:    7.4s\n",
      "[Parallel(n_jobs=-1)]: Done  12 out of  12 | elapsed:   23.2s finished\n"
     ]
    },
    {
     "name": "stdout",
     "output_type": "stream",
     "text": [
      "ERROR RATE 0.08736842105263158\n",
      "TIME FOR BATCH, 23.287306308746338\n",
      "PARAMS (2.0, 2.0, 2.0)\n",
      "COMPLETION RATE 48000/10000000\n",
      "PERCENTAGE CORRECT, 0.5557916666666667\n",
      "CONFIDENCE (0.5513336387689576, 0.560239940847927)\n",
      "CONFIDENCE % 2.004983115048001\n",
      "-----------------------------------------------\n"
     ]
    },
    {
     "name": "stderr",
     "output_type": "stream",
     "text": [
      "[Parallel(n_jobs=-1)]: Using backend LokyBackend with 12 concurrent workers.\n",
      "[Parallel(n_jobs=-1)]: Done   1 tasks      | elapsed:   21.3s\n",
      "[Parallel(n_jobs=-1)]: Done   3 out of  12 | elapsed:   21.5s remaining:  1.1min\n",
      "[Parallel(n_jobs=-1)]: Done   5 out of  12 | elapsed:   21.6s remaining:   30.3s\n",
      "[Parallel(n_jobs=-1)]: Done   7 out of  12 | elapsed:   22.1s remaining:   15.8s\n",
      "[Parallel(n_jobs=-1)]: Done   9 out of  12 | elapsed:   22.6s remaining:    7.5s\n",
      "[Parallel(n_jobs=-1)]: Done  12 out of  12 | elapsed:   22.8s finished\n"
     ]
    },
    {
     "name": "stdout",
     "output_type": "stream",
     "text": [
      "ERROR RATE 0.08736842105263158\n",
      "TIME FOR BATCH, 22.897547006607056\n",
      "PARAMS (2.0, 2.0, 2.0)\n",
      "COMPLETION RATE 72000/10000000\n",
      "PERCENTAGE CORRECT, 0.5571944444444444\n",
      "CONFIDENCE (0.5535627090219806, 0.5608266300120516)\n",
      "CONFIDENCE % 1.6404313132335246\n",
      "-----------------------------------------------\n"
     ]
    },
    {
     "name": "stderr",
     "output_type": "stream",
     "text": [
      "[Parallel(n_jobs=-1)]: Using backend LokyBackend with 12 concurrent workers.\n",
      "[Parallel(n_jobs=-1)]: Done   1 tasks      | elapsed:   20.9s\n",
      "[Parallel(n_jobs=-1)]: Done   3 out of  12 | elapsed:   21.1s remaining:  1.1min\n",
      "[Parallel(n_jobs=-1)]: Done   5 out of  12 | elapsed:   21.3s remaining:   29.9s\n",
      "[Parallel(n_jobs=-1)]: Done   7 out of  12 | elapsed:   21.6s remaining:   15.4s\n",
      "[Parallel(n_jobs=-1)]: Done   9 out of  12 | elapsed:   21.9s remaining:    7.2s\n",
      "[Parallel(n_jobs=-1)]: Done  12 out of  12 | elapsed:   22.4s finished\n",
      "[Parallel(n_jobs=-1)]: Using backend LokyBackend with 12 concurrent workers.\n"
     ]
    },
    {
     "name": "stdout",
     "output_type": "stream",
     "text": [
      "ERROR RATE 0.08736842105263158\n",
      "TIME FOR BATCH, 22.46172046661377\n",
      "PARAMS (2.0, 2.0, 2.0)\n",
      "COMPLETION RATE 96000/10000000\n",
      "PERCENTAGE CORRECT, 0.5571458333333333\n",
      "CONFIDENCE (0.5540001583981705, 0.5602866349355743)\n",
      "CONFIDENCE % 1.4195364999547497\n",
      "-----------------------------------------------\n"
     ]
    },
    {
     "name": "stderr",
     "output_type": "stream",
     "text": [
      "[Parallel(n_jobs=-1)]: Done   1 tasks      | elapsed:   21.0s\n",
      "[Parallel(n_jobs=-1)]: Done   3 out of  12 | elapsed:   21.1s remaining:  1.1min\n",
      "[Parallel(n_jobs=-1)]: Done   5 out of  12 | elapsed:   21.9s remaining:   30.6s\n",
      "[Parallel(n_jobs=-1)]: Done   7 out of  12 | elapsed:   22.0s remaining:   15.7s\n",
      "[Parallel(n_jobs=-1)]: Done   9 out of  12 | elapsed:   22.2s remaining:    7.3s\n",
      "[Parallel(n_jobs=-1)]: Done  12 out of  12 | elapsed:   22.6s finished\n",
      "[Parallel(n_jobs=-1)]: Using backend LokyBackend with 12 concurrent workers.\n"
     ]
    },
    {
     "name": "stdout",
     "output_type": "stream",
     "text": [
      "ERROR RATE 0.08736842105263158\n",
      "TIME FOR BATCH, 22.742872714996338\n",
      "PARAMS (2.0, 2.0, 2.0)\n",
      "COMPLETION RATE 120000/10000000\n",
      "PERCENTAGE CORRECT, 0.5571083333333333\n",
      "CONFIDENCE (0.5542959603148142, 0.5599209752215989)\n",
      "CONFIDENCE % 1.2700656458768367\n",
      "-----------------------------------------------\n"
     ]
    },
    {
     "name": "stderr",
     "output_type": "stream",
     "text": [
      "[Parallel(n_jobs=-1)]: Done   1 tasks      | elapsed:   21.0s\n",
      "[Parallel(n_jobs=-1)]: Done   3 out of  12 | elapsed:   21.1s remaining:  1.1min\n",
      "[Parallel(n_jobs=-1)]: Done   5 out of  12 | elapsed:   21.2s remaining:   29.7s\n",
      "[Parallel(n_jobs=-1)]: Done   7 out of  12 | elapsed:   21.5s remaining:   15.3s\n",
      "[Parallel(n_jobs=-1)]: Done   9 out of  12 | elapsed:   22.0s remaining:    7.3s\n",
      "[Parallel(n_jobs=-1)]: Done  12 out of  12 | elapsed:   22.2s finished\n",
      "[Parallel(n_jobs=-1)]: Using backend LokyBackend with 12 concurrent workers.\n"
     ]
    },
    {
     "name": "stdout",
     "output_type": "stream",
     "text": [
      "ERROR RATE 0.08736842105263158\n",
      "TIME FOR BATCH, 22.331013202667236\n",
      "PARAMS (2.0, 2.0, 2.0)\n",
      "COMPLETION RATE 144000/10000000\n",
      "PERCENTAGE CORRECT, 0.5575625\n",
      "CONFIDENCE (0.5549931636338348, 0.5601285903097488)\n",
      "CONFIDENCE % 1.160712343757942\n",
      "-----------------------------------------------\n"
     ]
    },
    {
     "name": "stderr",
     "output_type": "stream",
     "text": [
      "[Parallel(n_jobs=-1)]: Done   1 tasks      | elapsed:   21.1s\n",
      "[Parallel(n_jobs=-1)]: Done   3 out of  12 | elapsed:   21.2s remaining:  1.1min\n",
      "[Parallel(n_jobs=-1)]: Done   5 out of  12 | elapsed:   21.3s remaining:   29.8s\n",
      "[Parallel(n_jobs=-1)]: Done   7 out of  12 | elapsed:   21.3s remaining:   15.2s\n",
      "[Parallel(n_jobs=-1)]: Done   9 out of  12 | elapsed:   22.2s remaining:    7.3s\n",
      "[Parallel(n_jobs=-1)]: Done  12 out of  12 | elapsed:   22.4s finished\n",
      "[Parallel(n_jobs=-1)]: Using backend LokyBackend with 12 concurrent workers.\n"
     ]
    },
    {
     "name": "stdout",
     "output_type": "stream",
     "text": [
      "ERROR RATE 0.08736842105263158\n",
      "TIME FOR BATCH, 22.538594245910645\n",
      "PARAMS (2.0, 2.0, 2.0)\n",
      "COMPLETION RATE 168000/10000000\n",
      "PERCENTAGE CORRECT, 0.5571607142857142\n",
      "CONFIDENCE (0.5547828300392639, 0.5595358141347653)\n",
      "CONFIDENCE % 1.073297751312869\n",
      "-----------------------------------------------\n"
     ]
    },
    {
     "name": "stderr",
     "output_type": "stream",
     "text": [
      "[Parallel(n_jobs=-1)]: Done   1 tasks      | elapsed:   21.1s\n",
      "[Parallel(n_jobs=-1)]: Done   3 out of  12 | elapsed:   21.2s remaining:  1.1min\n",
      "[Parallel(n_jobs=-1)]: Done   5 out of  12 | elapsed:   21.3s remaining:   29.8s\n",
      "[Parallel(n_jobs=-1)]: Done   7 out of  12 | elapsed:   21.7s remaining:   15.5s\n",
      "[Parallel(n_jobs=-1)]: Done   9 out of  12 | elapsed:   22.0s remaining:    7.3s\n",
      "[Parallel(n_jobs=-1)]: Done  12 out of  12 | elapsed:   22.4s finished\n",
      "[Parallel(n_jobs=-1)]: Using backend LokyBackend with 12 concurrent workers.\n"
     ]
    },
    {
     "name": "stdout",
     "output_type": "stream",
     "text": [
      "ERROR RATE 0.08736842105263158\n",
      "TIME FOR BATCH, 22.50891613960266\n",
      "PARAMS (2.0, 2.0, 2.0)\n",
      "COMPLETION RATE 192000/10000000\n",
      "PERCENTAGE CORRECT, 0.5573958333333333\n",
      "CONFIDENCE (0.5551719559400761, 0.5596172749143189)\n",
      "CONFIDENCE % 1.0043554284003566\n",
      "-----------------------------------------------\n"
     ]
    },
    {
     "name": "stderr",
     "output_type": "stream",
     "text": [
      "[Parallel(n_jobs=-1)]: Done   1 tasks      | elapsed:   21.1s\n",
      "[Parallel(n_jobs=-1)]: Done   3 out of  12 | elapsed:   21.2s remaining:  1.1min\n",
      "[Parallel(n_jobs=-1)]: Done   5 out of  12 | elapsed:   21.6s remaining:   30.3s\n",
      "[Parallel(n_jobs=-1)]: Done   7 out of  12 | elapsed:   21.7s remaining:   15.5s\n",
      "[Parallel(n_jobs=-1)]: Done   9 out of  12 | elapsed:   21.9s remaining:    7.2s\n",
      "[Parallel(n_jobs=-1)]: Done  12 out of  12 | elapsed:   22.4s finished\n"
     ]
    },
    {
     "name": "stdout",
     "output_type": "stream",
     "text": [
      "ERROR RATE 0.08736842105263158\n",
      "TIME FOR BATCH, 22.49047064781189\n",
      "PARAMS (2.0, 2.0, 2.0)\n",
      "COMPLETION RATE 216000/10000000\n",
      "PERCENTAGE CORRECT, 0.5571481481481482\n",
      "CONFIDENCE (0.5550509978333596, 0.5592431329084732)\n",
      "CONFIDENCE % 0.9466224557001325\n",
      "-----------------------------------------------\n"
     ]
    },
    {
     "name": "stderr",
     "output_type": "stream",
     "text": [
      "[Parallel(n_jobs=-1)]: Using backend LokyBackend with 12 concurrent workers.\n",
      "[Parallel(n_jobs=-1)]: Done   1 tasks      | elapsed:   20.8s\n",
      "[Parallel(n_jobs=-1)]: Done   3 out of  12 | elapsed:   21.0s remaining:  1.1min\n",
      "[Parallel(n_jobs=-1)]: Done   5 out of  12 | elapsed:   21.0s remaining:   29.5s\n",
      "[Parallel(n_jobs=-1)]: Done   7 out of  12 | elapsed:   21.6s remaining:   15.4s\n",
      "[Parallel(n_jobs=-1)]: Done   9 out of  12 | elapsed:   21.7s remaining:    7.2s\n",
      "[Parallel(n_jobs=-1)]: Done  12 out of  12 | elapsed:   22.2s finished\n",
      "[Parallel(n_jobs=-1)]: Using backend LokyBackend with 12 concurrent workers.\n"
     ]
    },
    {
     "name": "stdout",
     "output_type": "stream",
     "text": [
      "ERROR RATE 0.08736842105263158\n",
      "TIME FOR BATCH, 22.350987195968628\n",
      "PARAMS (2.0, 2.0, 2.0)\n",
      "COMPLETION RATE 240000/10000000\n",
      "PERCENTAGE CORRECT, 0.5566916666666667\n",
      "CONFIDENCE (0.5547021475872043, 0.5586792355684909)\n",
      "CONFIDENCE % 0.8971381050705712\n",
      "-----------------------------------------------\n"
     ]
    },
    {
     "name": "stderr",
     "output_type": "stream",
     "text": [
      "[Parallel(n_jobs=-1)]: Done   1 tasks      | elapsed:   20.9s\n",
      "[Parallel(n_jobs=-1)]: Done   3 out of  12 | elapsed:   21.1s remaining:  1.1min\n",
      "[Parallel(n_jobs=-1)]: Done   5 out of  12 | elapsed:   21.2s remaining:   29.8s\n",
      "[Parallel(n_jobs=-1)]: Done   7 out of  12 | elapsed:   21.4s remaining:   15.3s\n",
      "[Parallel(n_jobs=-1)]: Done   9 out of  12 | elapsed:   22.3s remaining:    7.4s\n",
      "[Parallel(n_jobs=-1)]: Done  12 out of  12 | elapsed:   22.4s finished\n"
     ]
    },
    {
     "name": "stdout",
     "output_type": "stream",
     "text": [
      "ERROR RATE 0.08736842105263158\n",
      "TIME FOR BATCH, 22.512629508972168\n",
      "PARAMS (2.0, 2.0, 2.0)\n",
      "COMPLETION RATE 264000/10000000\n",
      "PERCENTAGE CORRECT, 0.5568636363636363\n",
      "CONFIDENCE (0.5549678614357214, 0.5587595326865334)\n",
      "CONFIDENCE % 0.8556443483215176\n",
      "-----------------------------------------------\n"
     ]
    },
    {
     "name": "stderr",
     "output_type": "stream",
     "text": [
      "[Parallel(n_jobs=-1)]: Using backend LokyBackend with 12 concurrent workers.\n",
      "[Parallel(n_jobs=-1)]: Done   1 tasks      | elapsed:   21.2s\n",
      "[Parallel(n_jobs=-1)]: Done   3 out of  12 | elapsed:   21.3s remaining:  1.1min\n",
      "[Parallel(n_jobs=-1)]: Done   5 out of  12 | elapsed:   21.6s remaining:   30.2s\n",
      "[Parallel(n_jobs=-1)]: Done   7 out of  12 | elapsed:   21.9s remaining:   15.6s\n",
      "[Parallel(n_jobs=-1)]: Done   9 out of  12 | elapsed:   22.3s remaining:    7.4s\n",
      "[Parallel(n_jobs=-1)]: Done  12 out of  12 | elapsed:   23.0s finished\n",
      "[Parallel(n_jobs=-1)]: Using backend LokyBackend with 12 concurrent workers.\n"
     ]
    },
    {
     "name": "stdout",
     "output_type": "stream",
     "text": [
      "ERROR RATE 0.08736842105263158\n",
      "TIME FOR BATCH, 23.066040754318237\n",
      "PARAMS (2.0, 2.0, 2.0)\n",
      "COMPLETION RATE 288000/10000000\n",
      "PERCENTAGE CORRECT, 0.55684375\n",
      "CONFIDENCE (0.5550278316050656, 0.5586580434802013)\n",
      "CONFIDENCE % 0.8191719907223874\n",
      "-----------------------------------------------\n"
     ]
    },
    {
     "name": "stderr",
     "output_type": "stream",
     "text": [
      "[Parallel(n_jobs=-1)]: Done   1 tasks      | elapsed:   21.8s\n",
      "[Parallel(n_jobs=-1)]: Done   3 out of  12 | elapsed:   22.0s remaining:  1.1min\n",
      "[Parallel(n_jobs=-1)]: Done   5 out of  12 | elapsed:   22.3s remaining:   31.3s\n",
      "[Parallel(n_jobs=-1)]: Done   7 out of  12 | elapsed:   22.7s remaining:   16.2s\n",
      "[Parallel(n_jobs=-1)]: Done   9 out of  12 | elapsed:   22.9s remaining:    7.6s\n",
      "[Parallel(n_jobs=-1)]: Done  12 out of  12 | elapsed:   23.5s finished\n"
     ]
    },
    {
     "name": "stdout",
     "output_type": "stream",
     "text": [
      "ERROR RATE 0.08736842105263158\n",
      "TIME FOR BATCH, 23.580586910247803\n",
      "PARAMS (2.0, 2.0, 2.0)\n",
      "COMPLETION RATE 312000/10000000\n",
      "PERCENTAGE CORRECT, 0.5567724358974359\n",
      "CONFIDENCE (0.5550272933940711, 0.5585160786007817)\n",
      "CONFIDENCE % 0.7871318233049406\n",
      "-----------------------------------------------\n"
     ]
    },
    {
     "name": "stderr",
     "output_type": "stream",
     "text": [
      "[Parallel(n_jobs=-1)]: Using backend LokyBackend with 12 concurrent workers.\n",
      "[Parallel(n_jobs=-1)]: Done   1 tasks      | elapsed:   20.9s\n",
      "[Parallel(n_jobs=-1)]: Done   3 out of  12 | elapsed:   21.1s remaining:  1.1min\n",
      "[Parallel(n_jobs=-1)]: Done   5 out of  12 | elapsed:   21.3s remaining:   29.8s\n",
      "[Parallel(n_jobs=-1)]: Done   7 out of  12 | elapsed:   21.6s remaining:   15.4s\n",
      "[Parallel(n_jobs=-1)]: Done   9 out of  12 | elapsed:   22.0s remaining:    7.3s\n",
      "[Parallel(n_jobs=-1)]: Done  12 out of  12 | elapsed:   22.6s finished\n"
     ]
    },
    {
     "name": "stdout",
     "output_type": "stream",
     "text": [
      "ERROR RATE 0.08736842105263158\n",
      "TIME FOR BATCH, 22.684142351150513\n",
      "PARAMS (2.0, 2.0, 2.0)\n",
      "COMPLETION RATE 336000/10000000\n",
      "PERCENTAGE CORRECT, 0.5565565476190476\n",
      "CONFIDENCE (0.554875046062225, 0.5582366560325428)\n",
      "CONFIDENCE % 0.7580695920231728\n",
      "-----------------------------------------------\n"
     ]
    },
    {
     "name": "stderr",
     "output_type": "stream",
     "text": [
      "[Parallel(n_jobs=-1)]: Using backend LokyBackend with 12 concurrent workers.\n",
      "[Parallel(n_jobs=-1)]: Done   1 tasks      | elapsed:   21.2s\n",
      "[Parallel(n_jobs=-1)]: Done   3 out of  12 | elapsed:   21.3s remaining:  1.1min\n",
      "[Parallel(n_jobs=-1)]: Done   5 out of  12 | elapsed:   21.4s remaining:   30.0s\n",
      "[Parallel(n_jobs=-1)]: Done   7 out of  12 | elapsed:   21.4s remaining:   15.3s\n",
      "[Parallel(n_jobs=-1)]: Done   9 out of  12 | elapsed:   22.5s remaining:    7.4s\n",
      "[Parallel(n_jobs=-1)]: Done  12 out of  12 | elapsed:   22.7s finished\n"
     ]
    },
    {
     "name": "stdout",
     "output_type": "stream",
     "text": [
      "ERROR RATE 0.08736842105263158\n",
      "TIME FOR BATCH, 22.76645255088806\n",
      "PARAMS (2.0, 2.0, 2.0)\n",
      "COMPLETION RATE 360000/10000000\n",
      "PERCENTAGE CORRECT, 0.5568166666666666\n",
      "CONFIDENCE (0.5551930986065073, 0.558438934470852)\n",
      "CONFIDENCE % 0.7323912295915193\n",
      "-----------------------------------------------\n"
     ]
    },
    {
     "name": "stderr",
     "output_type": "stream",
     "text": [
      "[Parallel(n_jobs=-1)]: Using backend LokyBackend with 12 concurrent workers.\n",
      "[Parallel(n_jobs=-1)]: Done   1 tasks      | elapsed:   20.9s\n",
      "[Parallel(n_jobs=-1)]: Done   3 out of  12 | elapsed:   21.0s remaining:  1.1min\n",
      "[Parallel(n_jobs=-1)]: Done   5 out of  12 | elapsed:   21.1s remaining:   29.5s\n",
      "[Parallel(n_jobs=-1)]: Done   7 out of  12 | elapsed:   21.3s remaining:   15.2s\n",
      "[Parallel(n_jobs=-1)]: Done   9 out of  12 | elapsed:   21.9s remaining:    7.2s\n",
      "[Parallel(n_jobs=-1)]: Done  12 out of  12 | elapsed:   22.3s finished\n"
     ]
    },
    {
     "name": "stdout",
     "output_type": "stream",
     "text": [
      "ERROR RATE 0.08736842105263158\n",
      "TIME FOR BATCH, 22.40905261039734\n",
      "PARAMS (2.0, 2.0, 2.0)\n",
      "COMPLETION RATE 384000/10000000\n",
      "PERCENTAGE CORRECT, 0.5570520833333333\n",
      "CONFIDENCE (0.5554792074587657, 0.558623741028711)\n",
      "CONFIDENCE % 0.7099104548473905\n",
      "-----------------------------------------------\n"
     ]
    },
    {
     "name": "stderr",
     "output_type": "stream",
     "text": [
      "[Parallel(n_jobs=-1)]: Using backend LokyBackend with 12 concurrent workers.\n",
      "[Parallel(n_jobs=-1)]: Done   1 tasks      | elapsed:   21.3s\n",
      "[Parallel(n_jobs=-1)]: Done   3 out of  12 | elapsed:   21.5s remaining:  1.1min\n",
      "[Parallel(n_jobs=-1)]: Done   5 out of  12 | elapsed:   21.6s remaining:   30.3s\n",
      "[Parallel(n_jobs=-1)]: Done   7 out of  12 | elapsed:   22.2s remaining:   15.9s\n",
      "[Parallel(n_jobs=-1)]: Done   9 out of  12 | elapsed:   22.3s remaining:    7.4s\n",
      "[Parallel(n_jobs=-1)]: Done  12 out of  12 | elapsed:   22.8s finished\n"
     ]
    },
    {
     "name": "stdout",
     "output_type": "stream",
     "text": [
      "ERROR RATE 0.08736842105263158\n",
      "TIME FOR BATCH, 22.855558156967163\n",
      "PARAMS (2.0, 2.0, 2.0)\n",
      "COMPLETION RATE 408000/10000000\n",
      "PERCENTAGE CORRECT, 0.5569142156862745\n",
      "CONFIDENCE (0.5553885186677067, 0.5584387658819607)\n",
      "CONFIDENCE % 0.6884100827063202\n",
      "-----------------------------------------------\n"
     ]
    },
    {
     "name": "stderr",
     "output_type": "stream",
     "text": [
      "[Parallel(n_jobs=-1)]: Using backend LokyBackend with 12 concurrent workers.\n",
      "[Parallel(n_jobs=-1)]: Done   1 tasks      | elapsed:   21.1s\n",
      "[Parallel(n_jobs=-1)]: Done   3 out of  12 | elapsed:   21.2s remaining:  1.1min\n",
      "[Parallel(n_jobs=-1)]: Done   5 out of  12 | elapsed:   21.3s remaining:   29.9s\n",
      "[Parallel(n_jobs=-1)]: Done   7 out of  12 | elapsed:   21.4s remaining:   15.3s\n",
      "[Parallel(n_jobs=-1)]: Done   9 out of  12 | elapsed:   22.3s remaining:    7.4s\n",
      "[Parallel(n_jobs=-1)]: Done  12 out of  12 | elapsed:   22.4s finished\n"
     ]
    },
    {
     "name": "stdout",
     "output_type": "stream",
     "text": [
      "ERROR RATE 0.08736842105263158\n",
      "TIME FOR BATCH, 22.52969527244568\n",
      "PARAMS (2.0, 2.0, 2.0)\n",
      "COMPLETION RATE 432000/10000000\n",
      "PERCENTAGE CORRECT, 0.5566597222222223\n",
      "CONFIDENCE (0.5551771193007855, 0.5581412416144893)\n",
      "CONFIDENCE % 0.6685885452504614\n",
      "-----------------------------------------------\n"
     ]
    },
    {
     "name": "stderr",
     "output_type": "stream",
     "text": [
      "[Parallel(n_jobs=-1)]: Using backend LokyBackend with 12 concurrent workers.\n",
      "[Parallel(n_jobs=-1)]: Done   1 tasks      | elapsed:   21.3s\n",
      "[Parallel(n_jobs=-1)]: Done   3 out of  12 | elapsed:   21.6s remaining:  1.1min\n",
      "[Parallel(n_jobs=-1)]: Done   5 out of  12 | elapsed:   21.6s remaining:   30.3s\n",
      "[Parallel(n_jobs=-1)]: Done   7 out of  12 | elapsed:   21.7s remaining:   15.5s\n",
      "[Parallel(n_jobs=-1)]: Done   9 out of  12 | elapsed:   22.5s remaining:    7.4s\n",
      "[Parallel(n_jobs=-1)]: Done  12 out of  12 | elapsed:   22.8s finished\n",
      "[Parallel(n_jobs=-1)]: Using backend LokyBackend with 12 concurrent workers.\n"
     ]
    },
    {
     "name": "stdout",
     "output_type": "stream",
     "text": [
      "ERROR RATE 0.08736842105263158\n",
      "TIME FOR BATCH, 22.918203115463257\n",
      "PARAMS (2.0, 2.0, 2.0)\n",
      "COMPLETION RATE 456000/10000000\n",
      "PERCENTAGE CORRECT, 0.5564627192982456\n",
      "CONFIDENCE (0.5550197707832212, 0.5579046409952175)\n",
      "CONFIDENCE % 0.6504233888596634\n",
      "-----------------------------------------------\n"
     ]
    },
    {
     "name": "stderr",
     "output_type": "stream",
     "text": [
      "[Parallel(n_jobs=-1)]: Done   1 tasks      | elapsed:   20.9s\n",
      "[Parallel(n_jobs=-1)]: Done   3 out of  12 | elapsed:   21.1s remaining:  1.1min\n",
      "[Parallel(n_jobs=-1)]: Done   5 out of  12 | elapsed:   21.1s remaining:   29.6s\n",
      "[Parallel(n_jobs=-1)]: Done   7 out of  12 | elapsed:   21.2s remaining:   15.1s\n",
      "[Parallel(n_jobs=-1)]: Done   9 out of  12 | elapsed:   21.8s remaining:    7.2s\n",
      "[Parallel(n_jobs=-1)]: Done  12 out of  12 | elapsed:   22.3s finished\n",
      "[Parallel(n_jobs=-1)]: Using backend LokyBackend with 12 concurrent workers.\n"
     ]
    },
    {
     "name": "stdout",
     "output_type": "stream",
     "text": [
      "ERROR RATE 0.08736842105263158\n",
      "TIME FOR BATCH, 22.39576029777527\n",
      "PARAMS (2.0, 2.0, 2.0)\n",
      "COMPLETION RATE 480000/10000000\n",
      "PERCENTAGE CORRECT, 0.5565\n",
      "CONFIDENCE (0.5550937822547943, 0.5579052422422688)\n",
      "CONFIDENCE % 0.6339255890585009\n",
      "-----------------------------------------------\n"
     ]
    },
    {
     "name": "stderr",
     "output_type": "stream",
     "text": [
      "[Parallel(n_jobs=-1)]: Done   1 tasks      | elapsed:   21.3s\n",
      "[Parallel(n_jobs=-1)]: Done   3 out of  12 | elapsed:   21.6s remaining:  1.1min\n",
      "[Parallel(n_jobs=-1)]: Done   5 out of  12 | elapsed:   21.9s remaining:   30.7s\n",
      "[Parallel(n_jobs=-1)]: Done   7 out of  12 | elapsed:   22.1s remaining:   15.7s\n",
      "[Parallel(n_jobs=-1)]: Done   9 out of  12 | elapsed:   22.4s remaining:    7.4s\n",
      "[Parallel(n_jobs=-1)]: Done  12 out of  12 | elapsed:   22.8s finished\n",
      "[Parallel(n_jobs=-1)]: Using backend LokyBackend with 12 concurrent workers.\n"
     ]
    },
    {
     "name": "stdout",
     "output_type": "stream",
     "text": [
      "ERROR RATE 0.08736842105263158\n",
      "TIME FOR BATCH, 22.903671741485596\n",
      "PARAMS (2.0, 2.0, 2.0)\n",
      "COMPLETION RATE 504000/10000000\n",
      "PERCENTAGE CORRECT, 0.5565734126984127\n",
      "CONFIDENCE (0.5552014196050652, 0.5579454689801076)\n",
      "CONFIDENCE % 0.6188283367808184\n",
      "-----------------------------------------------\n"
     ]
    },
    {
     "name": "stderr",
     "output_type": "stream",
     "text": [
      "[Parallel(n_jobs=-1)]: Done   1 tasks      | elapsed:   20.8s\n",
      "[Parallel(n_jobs=-1)]: Done   3 out of  12 | elapsed:   20.8s remaining:  1.0min\n",
      "[Parallel(n_jobs=-1)]: Done   5 out of  12 | elapsed:   21.1s remaining:   29.5s\n",
      "[Parallel(n_jobs=-1)]: Done   7 out of  12 | elapsed:   21.1s remaining:   15.1s\n",
      "[Parallel(n_jobs=-1)]: Done   9 out of  12 | elapsed:   21.9s remaining:    7.2s\n",
      "[Parallel(n_jobs=-1)]: Done  12 out of  12 | elapsed:   22.3s finished\n",
      "[Parallel(n_jobs=-1)]: Using backend LokyBackend with 12 concurrent workers.\n"
     ]
    },
    {
     "name": "stdout",
     "output_type": "stream",
     "text": [
      "ERROR RATE 0.08736842105263158\n",
      "TIME FOR BATCH, 22.411932945251465\n",
      "PARAMS (2.0, 2.0, 2.0)\n",
      "COMPLETION RATE 528000/10000000\n",
      "PERCENTAGE CORRECT, 0.5566477272727273\n",
      "CONFIDENCE (0.5553068476454287, 0.5579877203017103)\n",
      "CONFIDENCE % 0.604682285666486\n",
      "-----------------------------------------------\n"
     ]
    },
    {
     "name": "stderr",
     "output_type": "stream",
     "text": [
      "[Parallel(n_jobs=-1)]: Done   1 tasks      | elapsed:   21.3s\n",
      "[Parallel(n_jobs=-1)]: Done   3 out of  12 | elapsed:   21.4s remaining:  1.1min\n",
      "[Parallel(n_jobs=-1)]: Done   5 out of  12 | elapsed:   21.5s remaining:   30.2s\n",
      "[Parallel(n_jobs=-1)]: Done   7 out of  12 | elapsed:   21.7s remaining:   15.4s\n",
      "[Parallel(n_jobs=-1)]: Done   9 out of  12 | elapsed:   22.3s remaining:    7.4s\n",
      "[Parallel(n_jobs=-1)]: Done  12 out of  12 | elapsed:   22.8s finished\n"
     ]
    },
    {
     "name": "stdout",
     "output_type": "stream",
     "text": [
      "ERROR RATE 0.08736842105263158\n",
      "TIME FOR BATCH, 22.857521533966064\n",
      "PARAMS (2.0, 2.0, 2.0)\n",
      "COMPLETION RATE 552000/10000000\n",
      "PERCENTAGE CORRECT, 0.5566576086956522\n",
      "CONFIDENCE (0.5553460427331749, 0.5579683266926857)\n",
      "CONFIDENCE % 0.5914805376034183\n",
      "-----------------------------------------------\n"
     ]
    },
    {
     "name": "stderr",
     "output_type": "stream",
     "text": [
      "[Parallel(n_jobs=-1)]: Using backend LokyBackend with 12 concurrent workers.\n",
      "[Parallel(n_jobs=-1)]: Done   1 tasks      | elapsed:   20.6s\n",
      "[Parallel(n_jobs=-1)]: Done   3 out of  12 | elapsed:   21.0s remaining:  1.1min\n",
      "[Parallel(n_jobs=-1)]: Done   5 out of  12 | elapsed:   21.1s remaining:   29.6s\n",
      "[Parallel(n_jobs=-1)]: Done   7 out of  12 | elapsed:   21.3s remaining:   15.2s\n",
      "[Parallel(n_jobs=-1)]: Done   9 out of  12 | elapsed:   22.1s remaining:    7.3s\n",
      "[Parallel(n_jobs=-1)]: Done  12 out of  12 | elapsed:   22.3s finished\n",
      "[Parallel(n_jobs=-1)]: Using backend LokyBackend with 12 concurrent workers.\n"
     ]
    },
    {
     "name": "stdout",
     "output_type": "stream",
     "text": [
      "ERROR RATE 0.08842105263157896\n",
      "TIME FOR BATCH, 22.412854433059692\n",
      "PARAMS (2.0, 2.0, 2.0)\n",
      "COMPLETION RATE 24000/10000000\n",
      "PERCENTAGE CORRECT, 0.5480833333333334\n",
      "CONFIDENCE (0.541771327675298, 0.5543756387038448)\n",
      "CONFIDENCE % 2.789078597502509\n",
      "-----------------------------------------------\n"
     ]
    },
    {
     "name": "stderr",
     "output_type": "stream",
     "text": [
      "[Parallel(n_jobs=-1)]: Done   1 tasks      | elapsed:   21.3s\n",
      "[Parallel(n_jobs=-1)]: Done   3 out of  12 | elapsed:   21.3s remaining:  1.1min\n",
      "[Parallel(n_jobs=-1)]: Done   5 out of  12 | elapsed:   21.5s remaining:   30.2s\n",
      "[Parallel(n_jobs=-1)]: Done   7 out of  12 | elapsed:   21.7s remaining:   15.5s\n",
      "[Parallel(n_jobs=-1)]: Done   9 out of  12 | elapsed:   22.3s remaining:    7.4s\n",
      "[Parallel(n_jobs=-1)]: Done  12 out of  12 | elapsed:   22.9s finished\n",
      "[Parallel(n_jobs=-1)]: Using backend LokyBackend with 12 concurrent workers.\n"
     ]
    },
    {
     "name": "stdout",
     "output_type": "stream",
     "text": [
      "ERROR RATE 0.08842105263157896\n",
      "TIME FOR BATCH, 23.001153707504272\n",
      "PARAMS (2.0, 2.0, 2.0)\n",
      "COMPLETION RATE 48000/10000000\n",
      "PERCENTAGE CORRECT, 0.5477916666666667\n",
      "CONFIDENCE (0.5433335876182817, 0.5522503115626273)\n",
      "CONFIDENCE % 1.971817697081865\n",
      "-----------------------------------------------\n"
     ]
    },
    {
     "name": "stderr",
     "output_type": "stream",
     "text": [
      "[Parallel(n_jobs=-1)]: Done   1 tasks      | elapsed:   21.0s\n",
      "[Parallel(n_jobs=-1)]: Done   3 out of  12 | elapsed:   21.0s remaining:  1.1min\n",
      "[Parallel(n_jobs=-1)]: Done   5 out of  12 | elapsed:   21.2s remaining:   29.7s\n",
      "[Parallel(n_jobs=-1)]: Done   7 out of  12 | elapsed:   21.4s remaining:   15.3s\n",
      "[Parallel(n_jobs=-1)]: Done   9 out of  12 | elapsed:   22.0s remaining:    7.3s\n",
      "[Parallel(n_jobs=-1)]: Done  12 out of  12 | elapsed:   22.3s finished\n",
      "[Parallel(n_jobs=-1)]: Using backend LokyBackend with 12 concurrent workers.\n"
     ]
    },
    {
     "name": "stdout",
     "output_type": "stream",
     "text": [
      "ERROR RATE 0.08842105263157896\n",
      "TIME FOR BATCH, 22.359487533569336\n",
      "PARAMS (2.0, 2.0, 2.0)\n",
      "COMPLETION RATE 72000/10000000\n",
      "PERCENTAGE CORRECT, 0.5468333333333333\n",
      "CONFIDENCE (0.5431946128196136, 0.5504724215428214)\n",
      "CONFIDENCE % 1.6059894203474416\n",
      "-----------------------------------------------\n"
     ]
    },
    {
     "name": "stderr",
     "output_type": "stream",
     "text": [
      "[Parallel(n_jobs=-1)]: Done   1 tasks      | elapsed:   21.3s\n",
      "[Parallel(n_jobs=-1)]: Done   3 out of  12 | elapsed:   21.5s remaining:  1.1min\n",
      "[Parallel(n_jobs=-1)]: Done   5 out of  12 | elapsed:   21.6s remaining:   30.2s\n",
      "[Parallel(n_jobs=-1)]: Done   7 out of  12 | elapsed:   22.1s remaining:   15.7s\n",
      "[Parallel(n_jobs=-1)]: Done   9 out of  12 | elapsed:   22.6s remaining:    7.5s\n",
      "[Parallel(n_jobs=-1)]: Done  12 out of  12 | elapsed:   22.9s finished\n",
      "[Parallel(n_jobs=-1)]: Using backend LokyBackend with 12 concurrent workers.\n"
     ]
    },
    {
     "name": "stdout",
     "output_type": "stream",
     "text": [
      "ERROR RATE 0.08842105263157896\n",
      "TIME FOR BATCH, 22.953912496566772\n",
      "PARAMS (2.0, 2.0, 2.0)\n",
      "COMPLETION RATE 96000/10000000\n",
      "PERCENTAGE CORRECT, 0.5482916666666666\n",
      "CONFIDENCE (0.5451407572590372, 0.5514428608477002)\n",
      "CONFIDENCE % 1.3951709817167441\n",
      "-----------------------------------------------\n"
     ]
    },
    {
     "name": "stderr",
     "output_type": "stream",
     "text": [
      "[Parallel(n_jobs=-1)]: Done   1 tasks      | elapsed:   21.5s\n",
      "[Parallel(n_jobs=-1)]: Done   3 out of  12 | elapsed:   21.7s remaining:  1.1min\n",
      "[Parallel(n_jobs=-1)]: Done   5 out of  12 | elapsed:   22.2s remaining:   31.1s\n",
      "[Parallel(n_jobs=-1)]: Done   7 out of  12 | elapsed:   22.4s remaining:   16.0s\n",
      "[Parallel(n_jobs=-1)]: Done   9 out of  12 | elapsed:   23.0s remaining:    7.6s\n",
      "[Parallel(n_jobs=-1)]: Done  12 out of  12 | elapsed:   24.4s finished\n"
     ]
    },
    {
     "name": "stdout",
     "output_type": "stream",
     "text": [
      "ERROR RATE 0.08842105263157896\n",
      "TIME FOR BATCH, 24.479800939559937\n",
      "PARAMS (2.0, 2.0, 2.0)\n",
      "COMPLETION RATE 120000/10000000\n",
      "PERCENTAGE CORRECT, 0.5492166666666667\n",
      "CONFIDENCE (0.5463959431642244, 0.5520334562051488)\n",
      "CONFIDENCE % 1.2506036989516944\n",
      "-----------------------------------------------\n"
     ]
    },
    {
     "name": "stderr",
     "output_type": "stream",
     "text": [
      "[Parallel(n_jobs=-1)]: Using backend LokyBackend with 12 concurrent workers.\n",
      "[Parallel(n_jobs=-1)]: Done   1 tasks      | elapsed:   21.6s\n",
      "[Parallel(n_jobs=-1)]: Done   3 out of  12 | elapsed:   21.8s remaining:  1.1min\n",
      "[Parallel(n_jobs=-1)]: Done   5 out of  12 | elapsed:   22.0s remaining:   30.8s\n",
      "[Parallel(n_jobs=-1)]: Done   7 out of  12 | elapsed:   22.3s remaining:   15.9s\n",
      "[Parallel(n_jobs=-1)]: Done   9 out of  12 | elapsed:   22.5s remaining:    7.4s\n",
      "[Parallel(n_jobs=-1)]: Done  12 out of  12 | elapsed:   23.1s finished\n",
      "[Parallel(n_jobs=-1)]: Using backend LokyBackend with 12 concurrent workers.\n"
     ]
    },
    {
     "name": "stdout",
     "output_type": "stream",
     "text": [
      "ERROR RATE 0.08842105263157896\n",
      "TIME FOR BATCH, 23.250236988067627\n",
      "PARAMS (2.0, 2.0, 2.0)\n",
      "COMPLETION RATE 144000/10000000\n",
      "PERCENTAGE CORRECT, 0.5486319444444444\n",
      "CONFIDENCE (0.5460591179091854, 0.5512014888461434)\n",
      "CONFIDENCE % 1.1392855284427814\n",
      "-----------------------------------------------\n"
     ]
    },
    {
     "name": "stderr",
     "output_type": "stream",
     "text": [
      "[Parallel(n_jobs=-1)]: Done   1 tasks      | elapsed:   21.1s\n",
      "[Parallel(n_jobs=-1)]: Done   3 out of  12 | elapsed:   21.3s remaining:  1.1min\n",
      "[Parallel(n_jobs=-1)]: Done   5 out of  12 | elapsed:   21.5s remaining:   30.2s\n",
      "[Parallel(n_jobs=-1)]: Done   7 out of  12 | elapsed:   21.9s remaining:   15.6s\n",
      "[Parallel(n_jobs=-1)]: Done   9 out of  12 | elapsed:   22.1s remaining:    7.3s\n",
      "[Parallel(n_jobs=-1)]: Done  12 out of  12 | elapsed:   22.5s finished\n",
      "[Parallel(n_jobs=-1)]: Using backend LokyBackend with 12 concurrent workers.\n"
     ]
    },
    {
     "name": "stdout",
     "output_type": "stream",
     "text": [
      "ERROR RATE 0.08842105263157896\n",
      "TIME FOR BATCH, 22.62532353401184\n",
      "PARAMS (2.0, 2.0, 2.0)\n",
      "COMPLETION RATE 168000/10000000\n",
      "PERCENTAGE CORRECT, 0.5493571428571429\n",
      "CONFIDENCE (0.546976269059578, 0.5517381826126879)\n",
      "CONFIDENCE % 1.0566934497311673\n",
      "-----------------------------------------------\n"
     ]
    },
    {
     "name": "stderr",
     "output_type": "stream",
     "text": [
      "[Parallel(n_jobs=-1)]: Done   1 tasks      | elapsed:   21.3s\n",
      "[Parallel(n_jobs=-1)]: Done   3 out of  12 | elapsed:   21.3s remaining:  1.1min\n",
      "[Parallel(n_jobs=-1)]: Done   5 out of  12 | elapsed:   21.8s remaining:   30.6s\n",
      "[Parallel(n_jobs=-1)]: Done   7 out of  12 | elapsed:   22.3s remaining:   15.9s\n",
      "[Parallel(n_jobs=-1)]: Done   9 out of  12 | elapsed:   22.8s remaining:    7.5s\n",
      "[Parallel(n_jobs=-1)]: Done  12 out of  12 | elapsed:   23.1s finished\n",
      "[Parallel(n_jobs=-1)]: Using backend LokyBackend with 12 concurrent workers.\n"
     ]
    },
    {
     "name": "stdout",
     "output_type": "stream",
     "text": [
      "ERROR RATE 0.08842105263157896\n",
      "TIME FOR BATCH, 23.159995555877686\n",
      "PARAMS (2.0, 2.0, 2.0)\n",
      "COMPLETION RATE 192000/10000000\n",
      "PERCENTAGE CORRECT, 0.549703125\n",
      "CONFIDENCE (0.547476631876952, 0.5519297640723297)\n",
      "CONFIDENCE % 0.9889325115520279\n",
      "-----------------------------------------------\n"
     ]
    },
    {
     "name": "stderr",
     "output_type": "stream",
     "text": [
      "[Parallel(n_jobs=-1)]: Done   1 tasks      | elapsed:   20.6s\n",
      "[Parallel(n_jobs=-1)]: Done   3 out of  12 | elapsed:   20.8s remaining:  1.0min\n",
      "[Parallel(n_jobs=-1)]: Done   5 out of  12 | elapsed:   20.9s remaining:   29.3s\n",
      "[Parallel(n_jobs=-1)]: Done   7 out of  12 | elapsed:   21.3s remaining:   15.2s\n",
      "[Parallel(n_jobs=-1)]: Done   9 out of  12 | elapsed:   22.3s remaining:    7.4s\n",
      "[Parallel(n_jobs=-1)]: Done  12 out of  12 | elapsed:   22.6s finished\n",
      "[Parallel(n_jobs=-1)]: Using backend LokyBackend with 12 concurrent workers.\n"
     ]
    },
    {
     "name": "stdout",
     "output_type": "stream",
     "text": [
      "ERROR RATE 0.08842105263157896\n",
      "TIME FOR BATCH, 22.655789375305176\n",
      "PARAMS (2.0, 2.0, 2.0)\n",
      "COMPLETION RATE 216000/10000000\n",
      "PERCENTAGE CORRECT, 0.549037037037037\n",
      "CONFIDENCE (0.5469375609912198, 0.5511366410885671)\n",
      "CONFIDENCE % 0.9311363553578851\n",
      "-----------------------------------------------\n"
     ]
    },
    {
     "name": "stderr",
     "output_type": "stream",
     "text": [
      "[Parallel(n_jobs=-1)]: Done   1 tasks      | elapsed:   20.8s\n",
      "[Parallel(n_jobs=-1)]: Done   3 out of  12 | elapsed:   20.8s remaining:  1.0min\n",
      "[Parallel(n_jobs=-1)]: Done   5 out of  12 | elapsed:   21.1s remaining:   29.5s\n",
      "[Parallel(n_jobs=-1)]: Done   7 out of  12 | elapsed:   21.3s remaining:   15.2s\n",
      "[Parallel(n_jobs=-1)]: Done   9 out of  12 | elapsed:   21.7s remaining:    7.2s\n",
      "[Parallel(n_jobs=-1)]: Done  12 out of  12 | elapsed:   22.0s finished\n",
      "[Parallel(n_jobs=-1)]: Using backend LokyBackend with 12 concurrent workers.\n"
     ]
    },
    {
     "name": "stdout",
     "output_type": "stream",
     "text": [
      "ERROR RATE 0.08842105263157896\n",
      "TIME FOR BATCH, 22.104498863220215\n",
      "PARAMS (2.0, 2.0, 2.0)\n",
      "COMPLETION RATE 240000/10000000\n",
      "PERCENTAGE CORRECT, 0.548825\n",
      "CONFIDENCE (0.5468333880609931, 0.5508167265340379)\n",
      "CONFIDENCE % 0.8828810268841963\n",
      "-----------------------------------------------\n"
     ]
    },
    {
     "name": "stderr",
     "output_type": "stream",
     "text": [
      "[Parallel(n_jobs=-1)]: Done   1 tasks      | elapsed:   20.5s\n",
      "[Parallel(n_jobs=-1)]: Done   3 out of  12 | elapsed:   20.7s remaining:  1.0min\n",
      "[Parallel(n_jobs=-1)]: Done   5 out of  12 | elapsed:   20.8s remaining:   29.1s\n",
      "[Parallel(n_jobs=-1)]: Done   7 out of  12 | elapsed:   21.1s remaining:   15.0s\n",
      "[Parallel(n_jobs=-1)]: Done   9 out of  12 | elapsed:   21.5s remaining:    7.1s\n",
      "[Parallel(n_jobs=-1)]: Done  12 out of  12 | elapsed:   21.8s finished\n",
      "[Parallel(n_jobs=-1)]: Using backend LokyBackend with 12 concurrent workers.\n"
     ]
    },
    {
     "name": "stdout",
     "output_type": "stream",
     "text": [
      "ERROR RATE 0.08842105263157896\n",
      "TIME FOR BATCH, 21.938880443572998\n",
      "PARAMS (2.0, 2.0, 2.0)\n",
      "COMPLETION RATE 264000/10000000\n",
      "PERCENTAGE CORRECT, 0.5484507575757576\n",
      "CONFIDENCE (0.5465511859428247, 0.5503485384003408)\n",
      "CONFIDENCE % 0.8409608744174127\n",
      "-----------------------------------------------\n"
     ]
    },
    {
     "name": "stderr",
     "output_type": "stream",
     "text": [
      "[Parallel(n_jobs=-1)]: Done   1 tasks      | elapsed:   20.8s\n",
      "[Parallel(n_jobs=-1)]: Done   3 out of  12 | elapsed:   20.9s remaining:  1.0min\n",
      "[Parallel(n_jobs=-1)]: Done   5 out of  12 | elapsed:   20.9s remaining:   29.3s\n",
      "[Parallel(n_jobs=-1)]: Done   7 out of  12 | elapsed:   21.0s remaining:   15.0s\n",
      "[Parallel(n_jobs=-1)]: Done   9 out of  12 | elapsed:   21.5s remaining:    7.1s\n",
      "[Parallel(n_jobs=-1)]: Done  12 out of  12 | elapsed:   21.9s finished\n",
      "[Parallel(n_jobs=-1)]: Using backend LokyBackend with 12 concurrent workers.\n"
     ]
    },
    {
     "name": "stdout",
     "output_type": "stream",
     "text": [
      "ERROR RATE 0.08842105263157896\n",
      "TIME FOR BATCH, 21.98514175415039\n",
      "PARAMS (2.0, 2.0, 2.0)\n",
      "COMPLETION RATE 288000/10000000\n",
      "PERCENTAGE CORRECT, 0.5479166666666667\n",
      "CONFIDENCE (0.5460972673483334, 0.549734423626047)\n",
      "CONFIDENCE % 0.8045322641947023\n",
      "-----------------------------------------------\n"
     ]
    },
    {
     "name": "stderr",
     "output_type": "stream",
     "text": [
      "[Parallel(n_jobs=-1)]: Done   1 tasks      | elapsed:   20.6s\n",
      "[Parallel(n_jobs=-1)]: Done   3 out of  12 | elapsed:   20.7s remaining:  1.0min\n",
      "[Parallel(n_jobs=-1)]: Done   5 out of  12 | elapsed:   20.8s remaining:   29.2s\n",
      "[Parallel(n_jobs=-1)]: Done   7 out of  12 | elapsed:   21.0s remaining:   14.9s\n",
      "[Parallel(n_jobs=-1)]: Done   9 out of  12 | elapsed:   21.6s remaining:    7.1s\n",
      "[Parallel(n_jobs=-1)]: Done  12 out of  12 | elapsed:   21.7s finished\n"
     ]
    },
    {
     "name": "stdout",
     "output_type": "stream",
     "text": [
      "ERROR RATE 0.08842105263157896\n",
      "TIME FOR BATCH, 21.774691343307495\n",
      "PARAMS (2.0, 2.0, 2.0)\n",
      "COMPLETION RATE 312000/10000000\n",
      "PERCENTAGE CORRECT, 0.548073717948718\n",
      "CONFIDENCE (0.5463253624604278, 0.5498205578881197)\n",
      "CONFIDENCE % 0.7733994605994652\n",
      "-----------------------------------------------\n"
     ]
    },
    {
     "name": "stderr",
     "output_type": "stream",
     "text": [
      "[Parallel(n_jobs=-1)]: Using backend LokyBackend with 12 concurrent workers.\n",
      "[Parallel(n_jobs=-1)]: Done   1 tasks      | elapsed:   20.7s\n",
      "[Parallel(n_jobs=-1)]: Done   3 out of  12 | elapsed:   20.9s remaining:  1.1min\n",
      "[Parallel(n_jobs=-1)]: Done   5 out of  12 | elapsed:   21.1s remaining:   29.5s\n",
      "[Parallel(n_jobs=-1)]: Done   7 out of  12 | elapsed:   21.2s remaining:   15.1s\n",
      "[Parallel(n_jobs=-1)]: Done   9 out of  12 | elapsed:   21.5s remaining:    7.1s\n",
      "[Parallel(n_jobs=-1)]: Done  12 out of  12 | elapsed:   21.9s finished\n"
     ]
    },
    {
     "name": "stdout",
     "output_type": "stream",
     "text": [
      "ERROR RATE 0.08842105263157896\n",
      "TIME FOR BATCH, 22.02203631401062\n",
      "PARAMS (2.0, 2.0, 2.0)\n",
      "COMPLETION RATE 336000/10000000\n",
      "PERCENTAGE CORRECT, 0.5480059523809524\n",
      "CONFIDENCE (0.5463214674599843, 0.549689029778441)\n",
      "CONFIDENCE % 0.7450457226584908\n",
      "-----------------------------------------------\n"
     ]
    },
    {
     "name": "stderr",
     "output_type": "stream",
     "text": [
      "[Parallel(n_jobs=-1)]: Using backend LokyBackend with 12 concurrent workers.\n",
      "[Parallel(n_jobs=-1)]: Done   1 tasks      | elapsed:   20.6s\n",
      "[Parallel(n_jobs=-1)]: Done   3 out of  12 | elapsed:   20.7s remaining:  1.0min\n",
      "[Parallel(n_jobs=-1)]: Done   5 out of  12 | elapsed:   20.7s remaining:   29.1s\n",
      "[Parallel(n_jobs=-1)]: Done   7 out of  12 | elapsed:   20.8s remaining:   14.8s\n",
      "[Parallel(n_jobs=-1)]: Done   9 out of  12 | elapsed:   21.7s remaining:    7.2s\n",
      "[Parallel(n_jobs=-1)]: Done  12 out of  12 | elapsed:   21.8s finished\n"
     ]
    },
    {
     "name": "stdout",
     "output_type": "stream",
     "text": [
      "ERROR RATE 0.08842105263157896\n",
      "TIME FOR BATCH, 21.878723859786987\n",
      "PARAMS (2.0, 2.0, 2.0)\n",
      "COMPLETION RATE 360000/10000000\n",
      "PERCENTAGE CORRECT, 0.5482388888888889\n",
      "CONFIDENCE (0.5466125363348304, 0.5498653169199007)\n",
      "CONFIDENCE % 0.7200222651015785\n",
      "-----------------------------------------------\n"
     ]
    },
    {
     "name": "stderr",
     "output_type": "stream",
     "text": [
      "[Parallel(n_jobs=-1)]: Using backend LokyBackend with 12 concurrent workers.\n",
      "[Parallel(n_jobs=-1)]: Done   1 tasks      | elapsed:   20.8s\n",
      "[Parallel(n_jobs=-1)]: Done   3 out of  12 | elapsed:   20.9s remaining:  1.0min\n",
      "[Parallel(n_jobs=-1)]: Done   5 out of  12 | elapsed:   20.9s remaining:   29.3s\n",
      "[Parallel(n_jobs=-1)]: Done   7 out of  12 | elapsed:   21.0s remaining:   15.0s\n",
      "[Parallel(n_jobs=-1)]: Done   9 out of  12 | elapsed:   21.7s remaining:    7.2s\n",
      "[Parallel(n_jobs=-1)]: Done  12 out of  12 | elapsed:   22.0s finished\n",
      "[Parallel(n_jobs=-1)]: Using backend LokyBackend with 12 concurrent workers.\n"
     ]
    },
    {
     "name": "stdout",
     "output_type": "stream",
     "text": [
      "ERROR RATE 0.08842105263157896\n",
      "TIME FOR BATCH, 22.085646390914917\n",
      "PARAMS (2.0, 2.0, 2.0)\n",
      "COMPLETION RATE 384000/10000000\n",
      "PERCENTAGE CORRECT, 0.5480234375\n",
      "CONFIDENCE (0.5464479507506578, 0.5495976926201336)\n",
      "CONFIDENCE % 0.6968816816637055\n",
      "-----------------------------------------------\n"
     ]
    },
    {
     "name": "stderr",
     "output_type": "stream",
     "text": [
      "[Parallel(n_jobs=-1)]: Done   1 tasks      | elapsed:   21.1s\n",
      "[Parallel(n_jobs=-1)]: Done   3 out of  12 | elapsed:   21.2s remaining:  1.1min\n",
      "[Parallel(n_jobs=-1)]: Done   5 out of  12 | elapsed:   21.2s remaining:   29.8s\n",
      "[Parallel(n_jobs=-1)]: Done   7 out of  12 | elapsed:   21.3s remaining:   15.2s\n",
      "[Parallel(n_jobs=-1)]: Done   9 out of  12 | elapsed:   22.1s remaining:    7.3s\n",
      "[Parallel(n_jobs=-1)]: Done  12 out of  12 | elapsed:   22.3s finished\n"
     ]
    },
    {
     "name": "stdout",
     "output_type": "stream",
     "text": [
      "ERROR RATE 0.08842105263157896\n",
      "TIME FOR BATCH, 22.40317702293396\n",
      "PARAMS (2.0, 2.0, 2.0)\n",
      "COMPLETION RATE 408000/10000000\n",
      "PERCENTAGE CORRECT, 0.5479877450980393\n",
      "CONFIDENCE (0.5464595908578644, 0.549514739999542)\n",
      "CONFIDENCE % 0.6758996262922651\n",
      "-----------------------------------------------\n"
     ]
    },
    {
     "name": "stderr",
     "output_type": "stream",
     "text": [
      "[Parallel(n_jobs=-1)]: Using backend LokyBackend with 12 concurrent workers.\n",
      "[Parallel(n_jobs=-1)]: Done   1 tasks      | elapsed:   21.2s\n",
      "[Parallel(n_jobs=-1)]: Done   3 out of  12 | elapsed:   21.2s remaining:  1.1min\n",
      "[Parallel(n_jobs=-1)]: Done   5 out of  12 | elapsed:   21.3s remaining:   29.8s\n",
      "[Parallel(n_jobs=-1)]: Done   7 out of  12 | elapsed:   21.5s remaining:   15.3s\n",
      "[Parallel(n_jobs=-1)]: Done   9 out of  12 | elapsed:   21.8s remaining:    7.2s\n",
      "[Parallel(n_jobs=-1)]: Done  12 out of  12 | elapsed:   22.4s finished\n",
      "[Parallel(n_jobs=-1)]: Using backend LokyBackend with 12 concurrent workers.\n"
     ]
    },
    {
     "name": "stdout",
     "output_type": "stream",
     "text": [
      "ERROR RATE 0.08842105263157896\n",
      "TIME FOR BATCH, 22.506012201309204\n",
      "PARAMS (2.0, 2.0, 2.0)\n",
      "COMPLETION RATE 432000/10000000\n",
      "PERCENTAGE CORRECT, 0.5482337962962963\n",
      "CONFIDENCE (0.546748873016502, 0.549717624931026)\n",
      "CONFIDENCE % 0.6571434273271028\n",
      "-----------------------------------------------\n"
     ]
    },
    {
     "name": "stderr",
     "output_type": "stream",
     "text": [
      "[Parallel(n_jobs=-1)]: Done   1 tasks      | elapsed:   20.7s\n",
      "[Parallel(n_jobs=-1)]: Done   3 out of  12 | elapsed:   20.9s remaining:  1.0min\n",
      "[Parallel(n_jobs=-1)]: Done   5 out of  12 | elapsed:   21.0s remaining:   29.4s\n",
      "[Parallel(n_jobs=-1)]: Done   7 out of  12 | elapsed:   21.1s remaining:   15.1s\n",
      "[Parallel(n_jobs=-1)]: Done   9 out of  12 | elapsed:   21.6s remaining:    7.1s\n",
      "[Parallel(n_jobs=-1)]: Done  12 out of  12 | elapsed:   21.8s finished\n"
     ]
    },
    {
     "name": "stdout",
     "output_type": "stream",
     "text": [
      "ERROR RATE 0.08842105263157896\n",
      "TIME FOR BATCH, 21.88427233695984\n",
      "PARAMS (2.0, 2.0, 2.0)\n",
      "COMPLETION RATE 456000/10000000\n",
      "PERCENTAGE CORRECT, 0.5481535087719298\n",
      "CONFIDENCE (0.5467083620962379, 0.5495976182475446)\n",
      "CONFIDENCE % 0.6394331277098255\n",
      "-----------------------------------------------\n"
     ]
    },
    {
     "name": "stderr",
     "output_type": "stream",
     "text": [
      "[Parallel(n_jobs=-1)]: Using backend LokyBackend with 12 concurrent workers.\n",
      "[Parallel(n_jobs=-1)]: Done   1 tasks      | elapsed:   20.9s\n",
      "[Parallel(n_jobs=-1)]: Done   3 out of  12 | elapsed:   21.0s remaining:  1.1min\n",
      "[Parallel(n_jobs=-1)]: Done   5 out of  12 | elapsed:   21.1s remaining:   29.5s\n",
      "[Parallel(n_jobs=-1)]: Done   7 out of  12 | elapsed:   21.2s remaining:   15.1s\n",
      "[Parallel(n_jobs=-1)]: Done   9 out of  12 | elapsed:   21.9s remaining:    7.2s\n",
      "[Parallel(n_jobs=-1)]: Done  12 out of  12 | elapsed:   22.0s finished\n"
     ]
    },
    {
     "name": "stdout",
     "output_type": "stream",
     "text": [
      "ERROR RATE 0.08842105263157896\n",
      "TIME FOR BATCH, 22.128568172454834\n",
      "PARAMS (2.0, 2.0, 2.0)\n",
      "COMPLETION RATE 480000/10000000\n",
      "PERCENTAGE CORRECT, 0.5481083333333333\n",
      "CONFIDENCE (0.5467000272763318, 0.5495166957763431)\n",
      "CONFIDENCE % 0.6233061390107385\n",
      "-----------------------------------------------\n"
     ]
    },
    {
     "name": "stderr",
     "output_type": "stream",
     "text": [
      "[Parallel(n_jobs=-1)]: Using backend LokyBackend with 12 concurrent workers.\n",
      "[Parallel(n_jobs=-1)]: Done   1 tasks      | elapsed:   20.8s\n",
      "[Parallel(n_jobs=-1)]: Done   3 out of  12 | elapsed:   20.9s remaining:  1.1min\n",
      "[Parallel(n_jobs=-1)]: Done   5 out of  12 | elapsed:   21.0s remaining:   29.4s\n",
      "[Parallel(n_jobs=-1)]: Done   7 out of  12 | elapsed:   21.0s remaining:   15.0s\n",
      "[Parallel(n_jobs=-1)]: Done   9 out of  12 | elapsed:   21.7s remaining:    7.2s\n",
      "[Parallel(n_jobs=-1)]: Done  12 out of  12 | elapsed:   21.9s finished\n"
     ]
    },
    {
     "name": "stdout",
     "output_type": "stream",
     "text": [
      "ERROR RATE 0.08842105263157896\n",
      "TIME FOR BATCH, 21.967095136642456\n",
      "PARAMS (2.0, 2.0, 2.0)\n",
      "COMPLETION RATE 504000/10000000\n",
      "PERCENTAGE CORRECT, 0.548234126984127\n",
      "CONFIDENCE (0.5468591531590415, 0.5496081626251018)\n",
      "CONFIDENCE % 0.6085031274515246\n",
      "-----------------------------------------------\n"
     ]
    },
    {
     "name": "stderr",
     "output_type": "stream",
     "text": [
      "[Parallel(n_jobs=-1)]: Using backend LokyBackend with 12 concurrent workers.\n",
      "[Parallel(n_jobs=-1)]: Done   1 tasks      | elapsed:   21.6s\n",
      "[Parallel(n_jobs=-1)]: Done   3 out of  12 | elapsed:   21.8s remaining:  1.1min\n",
      "[Parallel(n_jobs=-1)]: Done   5 out of  12 | elapsed:   22.2s remaining:   31.1s\n",
      "[Parallel(n_jobs=-1)]: Done   7 out of  12 | elapsed:   22.5s remaining:   16.0s\n",
      "[Parallel(n_jobs=-1)]: Done   9 out of  12 | elapsed:   23.5s remaining:    7.8s\n",
      "[Parallel(n_jobs=-1)]: Done  12 out of  12 | elapsed:   24.0s finished\n"
     ]
    },
    {
     "name": "stdout",
     "output_type": "stream",
     "text": [
      "ERROR RATE 0.08842105263157896\n",
      "TIME FOR BATCH, 24.148601293563843\n",
      "PARAMS (2.0, 2.0, 2.0)\n",
      "COMPLETION RATE 528000/10000000\n",
      "PERCENTAGE CORRECT, 0.5480340909090909\n",
      "CONFIDENCE (0.5466913126705332, 0.5493769203205094)\n",
      "CONFIDENCE % 0.5942058009149728\n",
      "-----------------------------------------------\n"
     ]
    },
    {
     "name": "stderr",
     "output_type": "stream",
     "text": [
      "[Parallel(n_jobs=-1)]: Using backend LokyBackend with 12 concurrent workers.\n",
      "[Parallel(n_jobs=-1)]: Done   1 tasks      | elapsed:   20.6s\n",
      "[Parallel(n_jobs=-1)]: Done   3 out of  12 | elapsed:   20.8s remaining:  1.0min\n",
      "[Parallel(n_jobs=-1)]: Done   5 out of  12 | elapsed:   20.9s remaining:   29.3s\n",
      "[Parallel(n_jobs=-1)]: Done   7 out of  12 | elapsed:   21.3s remaining:   15.2s\n",
      "[Parallel(n_jobs=-1)]: Done   9 out of  12 | elapsed:   21.6s remaining:    7.1s\n",
      "[Parallel(n_jobs=-1)]: Done  12 out of  12 | elapsed:   22.1s finished\n"
     ]
    },
    {
     "name": "stdout",
     "output_type": "stream",
     "text": [
      "ERROR RATE 0.08947368421052632\n",
      "TIME FOR BATCH, 22.182596683502197\n",
      "PARAMS (2.0, 2.0, 2.0)\n",
      "COMPLETION RATE 24000/10000000\n",
      "PERCENTAGE CORRECT, 0.538125\n",
      "CONFIDENCE (0.5317920490666241, 0.5444380282948273)\n",
      "CONFIDENCE % 2.7379657327638878\n",
      "-----------------------------------------------\n"
     ]
    },
    {
     "name": "stderr",
     "output_type": "stream",
     "text": [
      "[Parallel(n_jobs=-1)]: Using backend LokyBackend with 12 concurrent workers.\n",
      "[Parallel(n_jobs=-1)]: Done   1 tasks      | elapsed:   20.9s\n",
      "[Parallel(n_jobs=-1)]: Done   3 out of  12 | elapsed:   21.1s remaining:  1.1min\n",
      "[Parallel(n_jobs=-1)]: Done   5 out of  12 | elapsed:   21.2s remaining:   29.7s\n",
      "[Parallel(n_jobs=-1)]: Done   7 out of  12 | elapsed:   21.4s remaining:   15.2s\n",
      "[Parallel(n_jobs=-1)]: Done   9 out of  12 | elapsed:   22.1s remaining:    7.3s\n",
      "[Parallel(n_jobs=-1)]: Done  12 out of  12 | elapsed:   22.3s finished\n"
     ]
    },
    {
     "name": "stdout",
     "output_type": "stream",
     "text": [
      "ERROR RATE 0.08947368421052632\n",
      "TIME FOR BATCH, 22.38232183456421\n",
      "PARAMS (2.0, 2.0, 2.0)\n",
      "COMPLETION RATE 48000/10000000\n",
      "PERCENTAGE CORRECT, 0.5375625\n",
      "CONFIDENCE (0.5330939455177236, 0.5420210795255131)\n",
      "CONFIDENCE % 1.9304520087124317\n",
      "-----------------------------------------------\n"
     ]
    },
    {
     "name": "stderr",
     "output_type": "stream",
     "text": [
      "[Parallel(n_jobs=-1)]: Using backend LokyBackend with 12 concurrent workers.\n",
      "[Parallel(n_jobs=-1)]: Done   1 tasks      | elapsed:   20.8s\n",
      "[Parallel(n_jobs=-1)]: Done   3 out of  12 | elapsed:   21.0s remaining:  1.1min\n",
      "[Parallel(n_jobs=-1)]: Done   5 out of  12 | elapsed:   21.1s remaining:   29.6s\n",
      "[Parallel(n_jobs=-1)]: Done   7 out of  12 | elapsed:   21.3s remaining:   15.2s\n",
      "[Parallel(n_jobs=-1)]: Done   9 out of  12 | elapsed:   21.5s remaining:    7.1s\n",
      "[Parallel(n_jobs=-1)]: Done  12 out of  12 | elapsed:   22.1s finished\n",
      "[Parallel(n_jobs=-1)]: Using backend LokyBackend with 12 concurrent workers.\n"
     ]
    },
    {
     "name": "stdout",
     "output_type": "stream",
     "text": [
      "ERROR RATE 0.08947368421052632\n",
      "TIME FOR BATCH, 22.231513738632202\n",
      "PARAMS (2.0, 2.0, 2.0)\n",
      "COMPLETION RATE 72000/10000000\n",
      "PERCENTAGE CORRECT, 0.5375277777777778\n",
      "CONFIDENCE (0.5338820770648012, 0.5411737740040534)\n",
      "CONFIDENCE % 1.576677817364892\n",
      "-----------------------------------------------\n"
     ]
    },
    {
     "name": "stderr",
     "output_type": "stream",
     "text": [
      "[Parallel(n_jobs=-1)]: Done   1 tasks      | elapsed:   22.0s\n",
      "[Parallel(n_jobs=-1)]: Done   3 out of  12 | elapsed:   22.4s remaining:  1.1min\n",
      "[Parallel(n_jobs=-1)]: Done   5 out of  12 | elapsed:   23.5s remaining:   32.9s\n",
      "[Parallel(n_jobs=-1)]: Done   7 out of  12 | elapsed:   23.7s remaining:   16.9s\n",
      "[Parallel(n_jobs=-1)]: Done   9 out of  12 | elapsed:   24.0s remaining:    7.9s\n",
      "[Parallel(n_jobs=-1)]: Done  12 out of  12 | elapsed:   24.6s finished\n",
      "[Parallel(n_jobs=-1)]: Using backend LokyBackend with 12 concurrent workers.\n"
     ]
    },
    {
     "name": "stdout",
     "output_type": "stream",
     "text": [
      "ERROR RATE 0.08947368421052632\n",
      "TIME FOR BATCH, 24.7371346950531\n",
      "PARAMS (2.0, 2.0, 2.0)\n",
      "COMPLETION RATE 96000/10000000\n",
      "PERCENTAGE CORRECT, 0.537875\n",
      "CONFIDENCE (0.5347188516917225, 0.5410313713314228)\n",
      "CONFIDENCE % 1.3659766599297276\n",
      "-----------------------------------------------\n"
     ]
    },
    {
     "name": "stderr",
     "output_type": "stream",
     "text": [
      "[Parallel(n_jobs=-1)]: Done   1 tasks      | elapsed:   21.5s\n",
      "[Parallel(n_jobs=-1)]: Done   3 out of  12 | elapsed:   21.9s remaining:  1.1min\n",
      "[Parallel(n_jobs=-1)]: Done   5 out of  12 | elapsed:   22.0s remaining:   30.8s\n",
      "[Parallel(n_jobs=-1)]: Done   7 out of  12 | elapsed:   22.2s remaining:   15.8s\n",
      "[Parallel(n_jobs=-1)]: Done   9 out of  12 | elapsed:   22.5s remaining:    7.4s\n",
      "[Parallel(n_jobs=-1)]: Done  12 out of  12 | elapsed:   22.8s finished\n",
      "[Parallel(n_jobs=-1)]: Using backend LokyBackend with 12 concurrent workers.\n"
     ]
    },
    {
     "name": "stdout",
     "output_type": "stream",
     "text": [
      "ERROR RATE 0.08947368421052632\n",
      "TIME FOR BATCH, 22.893657207489014\n",
      "PARAMS (2.0, 2.0, 2.0)\n",
      "COMPLETION RATE 120000/10000000\n",
      "PERCENTAGE CORRECT, 0.538275\n",
      "CONFIDENCE (0.5354500836612665, 0.541095929875)\n",
      "CONFIDENCE % 1.2227724757666447\n",
      "-----------------------------------------------\n"
     ]
    },
    {
     "name": "stderr",
     "output_type": "stream",
     "text": [
      "[Parallel(n_jobs=-1)]: Done   1 tasks      | elapsed:   21.7s\n",
      "[Parallel(n_jobs=-1)]: Done   3 out of  12 | elapsed:   21.9s remaining:  1.1min\n",
      "[Parallel(n_jobs=-1)]: Done   5 out of  12 | elapsed:   22.5s remaining:   31.6s\n",
      "[Parallel(n_jobs=-1)]: Done   7 out of  12 | elapsed:   22.7s remaining:   16.2s\n",
      "[Parallel(n_jobs=-1)]: Done   9 out of  12 | elapsed:   22.9s remaining:    7.6s\n",
      "[Parallel(n_jobs=-1)]: Done  12 out of  12 | elapsed:   23.0s finished\n"
     ]
    },
    {
     "name": "stdout",
     "output_type": "stream",
     "text": [
      "ERROR RATE 0.08947368421052632\n",
      "TIME FOR BATCH, 23.15243434906006\n",
      "PARAMS (2.0, 2.0, 2.0)\n",
      "COMPLETION RATE 144000/10000000\n",
      "PERCENTAGE CORRECT, 0.5384930555555556\n",
      "CONFIDENCE (0.5359167367348812, 0.5410695252320391)\n",
      "CONFIDENCE % 1.1165137511334309\n",
      "-----------------------------------------------\n"
     ]
    },
    {
     "name": "stderr",
     "output_type": "stream",
     "text": [
      "[Parallel(n_jobs=-1)]: Using backend LokyBackend with 12 concurrent workers.\n",
      "[Parallel(n_jobs=-1)]: Done   1 tasks      | elapsed:   21.6s\n",
      "[Parallel(n_jobs=-1)]: Done   3 out of  12 | elapsed:   21.7s remaining:  1.1min\n",
      "[Parallel(n_jobs=-1)]: Done   5 out of  12 | elapsed:   21.7s remaining:   30.5s\n",
      "[Parallel(n_jobs=-1)]: Done   7 out of  12 | elapsed:   22.3s remaining:   15.9s\n",
      "[Parallel(n_jobs=-1)]: Done   9 out of  12 | elapsed:   22.5s remaining:    7.4s\n",
      "[Parallel(n_jobs=-1)]: Done  12 out of  12 | elapsed:   22.9s finished\n",
      "[Parallel(n_jobs=-1)]: Using backend LokyBackend with 12 concurrent workers.\n"
     ]
    },
    {
     "name": "stdout",
     "output_type": "stream",
     "text": [
      "ERROR RATE 0.08947368421052632\n",
      "TIME FOR BATCH, 22.964507818222046\n",
      "PARAMS (2.0, 2.0, 2.0)\n",
      "COMPLETION RATE 168000/10000000\n",
      "PERCENTAGE CORRECT, 0.53825\n",
      "CONFIDENCE (0.5358631555756043, 0.540633996683767)\n",
      "CONFIDENCE % 1.0332086861207854\n",
      "-----------------------------------------------\n"
     ]
    },
    {
     "name": "stderr",
     "output_type": "stream",
     "text": [
      "[Parallel(n_jobs=-1)]: Done   1 tasks      | elapsed:   22.2s\n",
      "[Parallel(n_jobs=-1)]: Done   3 out of  12 | elapsed:   22.9s remaining:  1.1min\n",
      "[Parallel(n_jobs=-1)]: Done   5 out of  12 | elapsed:   23.0s remaining:   32.2s\n",
      "[Parallel(n_jobs=-1)]: Done   7 out of  12 | elapsed:   23.0s remaining:   16.4s\n",
      "[Parallel(n_jobs=-1)]: Done   9 out of  12 | elapsed:   23.3s remaining:    7.7s\n",
      "[Parallel(n_jobs=-1)]: Done  12 out of  12 | elapsed:   24.3s finished\n",
      "[Parallel(n_jobs=-1)]: Using backend LokyBackend with 12 concurrent workers.\n"
     ]
    },
    {
     "name": "stdout",
     "output_type": "stream",
     "text": [
      "ERROR RATE 0.08947368421052632\n",
      "TIME FOR BATCH, 24.434340715408325\n",
      "PARAMS (2.0, 2.0, 2.0)\n",
      "COMPLETION RATE 192000/10000000\n",
      "PERCENTAGE CORRECT, 0.538703125\n",
      "CONFIDENCE (0.5364714076853674, 0.5409323515372926)\n",
      "CONFIDENCE % 0.9670440216888943\n",
      "-----------------------------------------------\n"
     ]
    },
    {
     "name": "stderr",
     "output_type": "stream",
     "text": [
      "[Parallel(n_jobs=-1)]: Done   1 tasks      | elapsed:   21.4s\n",
      "[Parallel(n_jobs=-1)]: Done   3 out of  12 | elapsed:   21.5s remaining:  1.1min\n",
      "[Parallel(n_jobs=-1)]: Done   5 out of  12 | elapsed:   21.6s remaining:   30.3s\n",
      "[Parallel(n_jobs=-1)]: Done   7 out of  12 | elapsed:   22.1s remaining:   15.7s\n",
      "[Parallel(n_jobs=-1)]: Done   9 out of  12 | elapsed:   22.3s remaining:    7.4s\n",
      "[Parallel(n_jobs=-1)]: Done  12 out of  12 | elapsed:   23.1s finished\n",
      "[Parallel(n_jobs=-1)]: Using backend LokyBackend with 12 concurrent workers.\n"
     ]
    },
    {
     "name": "stdout",
     "output_type": "stream",
     "text": [
      "ERROR RATE 0.08947368421052632\n",
      "TIME FOR BATCH, 23.2050039768219\n",
      "PARAMS (2.0, 2.0, 2.0)\n",
      "COMPLETION RATE 216000/10000000\n",
      "PERCENTAGE CORRECT, 0.5390694444444445\n",
      "CONFIDENCE (0.5369653260306873, 0.5411713498863964)\n",
      "CONFIDENCE % 0.9125070588213955\n",
      "-----------------------------------------------\n"
     ]
    },
    {
     "name": "stderr",
     "output_type": "stream",
     "text": [
      "[Parallel(n_jobs=-1)]: Done   1 tasks      | elapsed:   22.0s\n",
      "[Parallel(n_jobs=-1)]: Done   3 out of  12 | elapsed:   22.3s remaining:  1.1min\n",
      "[Parallel(n_jobs=-1)]: Done   5 out of  12 | elapsed:   22.5s remaining:   31.5s\n",
      "[Parallel(n_jobs=-1)]: Done   7 out of  12 | elapsed:   23.1s remaining:   16.5s\n",
      "[Parallel(n_jobs=-1)]: Done   9 out of  12 | elapsed:   23.3s remaining:    7.7s\n",
      "[Parallel(n_jobs=-1)]: Done  12 out of  12 | elapsed:   23.5s finished\n",
      "[Parallel(n_jobs=-1)]: Using backend LokyBackend with 12 concurrent workers.\n"
     ]
    },
    {
     "name": "stdout",
     "output_type": "stream",
     "text": [
      "ERROR RATE 0.08947368421052632\n",
      "TIME FOR BATCH, 23.62807559967041\n",
      "PARAMS (2.0, 2.0, 2.0)\n",
      "COMPLETION RATE 240000/10000000\n",
      "PERCENTAGE CORRECT, 0.5392\n",
      "CONFIDENCE (0.5372042103189594, 0.5411937982071986)\n",
      "CONFIDENCE % 0.8657959826908032\n",
      "-----------------------------------------------\n"
     ]
    },
    {
     "name": "stderr",
     "output_type": "stream",
     "text": [
      "[Parallel(n_jobs=-1)]: Done   1 tasks      | elapsed:   21.6s\n",
      "[Parallel(n_jobs=-1)]: Done   3 out of  12 | elapsed:   21.7s remaining:  1.1min\n",
      "[Parallel(n_jobs=-1)]: Done   5 out of  12 | elapsed:   21.8s remaining:   30.6s\n",
      "[Parallel(n_jobs=-1)]: Done   7 out of  12 | elapsed:   22.6s remaining:   16.1s\n",
      "[Parallel(n_jobs=-1)]: Done   9 out of  12 | elapsed:   23.0s remaining:    7.6s\n",
      "[Parallel(n_jobs=-1)]: Done  12 out of  12 | elapsed:   23.4s finished\n",
      "[Parallel(n_jobs=-1)]: Using backend LokyBackend with 12 concurrent workers.\n"
     ]
    },
    {
     "name": "stdout",
     "output_type": "stream",
     "text": [
      "ERROR RATE 0.08947368421052632\n",
      "TIME FOR BATCH, 23.503308057785034\n",
      "PARAMS (2.0, 2.0, 2.0)\n",
      "COMPLETION RATE 264000/10000000\n",
      "PERCENTAGE CORRECT, 0.5388295454545454\n",
      "CONFIDENCE (0.5369261758201055, 0.5407311040238402)\n",
      "CONFIDENCE % 0.8250589703290834\n",
      "-----------------------------------------------\n"
     ]
    },
    {
     "name": "stderr",
     "output_type": "stream",
     "text": [
      "[Parallel(n_jobs=-1)]: Done   1 tasks      | elapsed:   22.2s\n",
      "[Parallel(n_jobs=-1)]: Done   3 out of  12 | elapsed:   22.3s remaining:  1.1min\n",
      "[Parallel(n_jobs=-1)]: Done   5 out of  12 | elapsed:   22.9s remaining:   32.1s\n",
      "[Parallel(n_jobs=-1)]: Done   7 out of  12 | elapsed:   23.0s remaining:   16.4s\n",
      "[Parallel(n_jobs=-1)]: Done   9 out of  12 | elapsed:   23.8s remaining:    7.9s\n",
      "[Parallel(n_jobs=-1)]: Done  12 out of  12 | elapsed:   24.0s finished\n"
     ]
    },
    {
     "name": "stdout",
     "output_type": "stream",
     "text": [
      "ERROR RATE 0.08947368421052632\n",
      "TIME FOR BATCH, 24.08977508544922\n",
      "PARAMS (2.0, 2.0, 2.0)\n",
      "COMPLETION RATE 288000/10000000\n",
      "PERCENTAGE CORRECT, 0.5394826388888889\n",
      "CONFIDENCE (0.5376614950389239, 0.5413038599711704)\n",
      "CONFIDENCE % 0.7909289073181426\n",
      "-----------------------------------------------\n"
     ]
    },
    {
     "name": "stderr",
     "output_type": "stream",
     "text": [
      "[Parallel(n_jobs=-1)]: Using backend LokyBackend with 12 concurrent workers.\n",
      "[Parallel(n_jobs=-1)]: Done   1 tasks      | elapsed:   21.5s\n",
      "[Parallel(n_jobs=-1)]: Done   3 out of  12 | elapsed:   22.2s remaining:  1.1min\n",
      "[Parallel(n_jobs=-1)]: Done   5 out of  12 | elapsed:   22.8s remaining:   32.0s\n",
      "[Parallel(n_jobs=-1)]: Done   7 out of  12 | elapsed:   23.4s remaining:   16.7s\n",
      "[Parallel(n_jobs=-1)]: Done   9 out of  12 | elapsed:   24.1s remaining:    8.0s\n",
      "[Parallel(n_jobs=-1)]: Done  12 out of  12 | elapsed:   24.6s finished\n",
      "[Parallel(n_jobs=-1)]: Using backend LokyBackend with 12 concurrent workers.\n"
     ]
    },
    {
     "name": "stdout",
     "output_type": "stream",
     "text": [
      "ERROR RATE 0.08947368421052632\n",
      "TIME FOR BATCH, 24.724833965301514\n",
      "PARAMS (2.0, 2.0, 2.0)\n",
      "COMPLETION RATE 312000/10000000\n",
      "PERCENTAGE CORRECT, 0.5393397435897436\n",
      "CONFIDENCE (0.5375897774502916, 0.5410897808399089)\n",
      "CONFIDENCE % 0.7597797597933578\n",
      "-----------------------------------------------\n"
     ]
    },
    {
     "name": "stderr",
     "output_type": "stream",
     "text": [
      "[Parallel(n_jobs=-1)]: Done   1 tasks      | elapsed:   20.3s\n",
      "[Parallel(n_jobs=-1)]: Done   3 out of  12 | elapsed:   20.5s remaining:  1.0min\n",
      "[Parallel(n_jobs=-1)]: Done   5 out of  12 | elapsed:   21.1s remaining:   29.6s\n",
      "[Parallel(n_jobs=-1)]: Done   7 out of  12 | elapsed:   21.2s remaining:   15.1s\n",
      "[Parallel(n_jobs=-1)]: Done   9 out of  12 | elapsed:   21.6s remaining:    7.1s\n",
      "[Parallel(n_jobs=-1)]: Done  12 out of  12 | elapsed:   21.7s finished\n"
     ]
    },
    {
     "name": "stdout",
     "output_type": "stream",
     "text": [
      "ERROR RATE 0.08947368421052632\n",
      "TIME FOR BATCH, 21.835888147354126\n",
      "PARAMS (2.0, 2.0, 2.0)\n",
      "COMPLETION RATE 336000/10000000\n",
      "PERCENTAGE CORRECT, 0.5393869047619048\n",
      "CONFIDENCE (0.5377009243395703, 0.5410729511803483)\n",
      "CONFIDENCE % 0.7320735940073398\n",
      "-----------------------------------------------\n"
     ]
    },
    {
     "name": "stderr",
     "output_type": "stream",
     "text": [
      "[Parallel(n_jobs=-1)]: Using backend LokyBackend with 12 concurrent workers.\n",
      "[Parallel(n_jobs=-1)]: Done   1 tasks      | elapsed:   20.4s\n",
      "[Parallel(n_jobs=-1)]: Done   3 out of  12 | elapsed:   20.6s remaining:  1.0min\n",
      "[Parallel(n_jobs=-1)]: Done   5 out of  12 | elapsed:   20.7s remaining:   29.0s\n",
      "[Parallel(n_jobs=-1)]: Done   7 out of  12 | elapsed:   20.9s remaining:   14.9s\n",
      "[Parallel(n_jobs=-1)]: Done   9 out of  12 | elapsed:   21.6s remaining:    7.1s\n",
      "[Parallel(n_jobs=-1)]: Done  12 out of  12 | elapsed:   21.8s finished\n",
      "[Parallel(n_jobs=-1)]: Using backend LokyBackend with 12 concurrent workers.\n"
     ]
    },
    {
     "name": "stdout",
     "output_type": "stream",
     "text": [
      "ERROR RATE 0.08947368421052632\n",
      "TIME FOR BATCH, 21.924986600875854\n",
      "PARAMS (2.0, 2.0, 2.0)\n",
      "COMPLETION RATE 360000/10000000\n",
      "PERCENTAGE CORRECT, 0.5398861111111111\n",
      "CONFIDENCE (0.5382569743383678, 0.5415139212753532)\n",
      "CONFIDENCE % 0.7078566884495685\n",
      "-----------------------------------------------\n"
     ]
    },
    {
     "name": "stderr",
     "output_type": "stream",
     "text": [
      "[Parallel(n_jobs=-1)]: Done   1 tasks      | elapsed:   21.6s\n",
      "[Parallel(n_jobs=-1)]: Done   3 out of  12 | elapsed:   21.7s remaining:  1.1min\n",
      "[Parallel(n_jobs=-1)]: Done   5 out of  12 | elapsed:   22.1s remaining:   31.0s\n",
      "[Parallel(n_jobs=-1)]: Done   7 out of  12 | elapsed:   22.2s remaining:   15.8s\n",
      "[Parallel(n_jobs=-1)]: Done   9 out of  12 | elapsed:   23.7s remaining:    7.8s\n",
      "[Parallel(n_jobs=-1)]: Done  12 out of  12 | elapsed:   24.3s finished\n"
     ]
    },
    {
     "name": "stdout",
     "output_type": "stream",
     "text": [
      "ERROR RATE 0.08947368421052632\n",
      "TIME FOR BATCH, 24.395702362060547\n",
      "PARAMS (2.0, 2.0, 2.0)\n",
      "COMPLETION RATE 384000/10000000\n",
      "PERCENTAGE CORRECT, 0.5397604166666666\n",
      "CONFIDENCE (0.5381836216192564, 0.5413372699388441)\n",
      "CONFIDENCE % 0.6852188368386583\n",
      "-----------------------------------------------\n"
     ]
    },
    {
     "name": "stderr",
     "output_type": "stream",
     "text": [
      "[Parallel(n_jobs=-1)]: Using backend LokyBackend with 12 concurrent workers.\n",
      "[Parallel(n_jobs=-1)]: Done   1 tasks      | elapsed:   21.0s\n",
      "[Parallel(n_jobs=-1)]: Done   3 out of  12 | elapsed:   21.1s remaining:  1.1min\n",
      "[Parallel(n_jobs=-1)]: Done   5 out of  12 | elapsed:   21.9s remaining:   30.7s\n",
      "[Parallel(n_jobs=-1)]: Done   7 out of  12 | elapsed:   22.7s remaining:   16.2s\n",
      "[Parallel(n_jobs=-1)]: Done   9 out of  12 | elapsed:   23.2s remaining:    7.7s\n",
      "[Parallel(n_jobs=-1)]: Done  12 out of  12 | elapsed:   23.7s finished\n",
      "[Parallel(n_jobs=-1)]: Using backend LokyBackend with 12 concurrent workers.\n"
     ]
    },
    {
     "name": "stdout",
     "output_type": "stream",
     "text": [
      "ERROR RATE 0.08947368421052632\n",
      "TIME FOR BATCH, 23.787919521331787\n",
      "PARAMS (2.0, 2.0, 2.0)\n",
      "COMPLETION RATE 408000/10000000\n",
      "PERCENTAGE CORRECT, 0.5397573529411764\n",
      "CONFIDENCE (0.5382267420850617, 0.5412867931821064)\n",
      "CONFIDENCE % 0.6648777805794154\n",
      "-----------------------------------------------\n"
     ]
    },
    {
     "name": "stderr",
     "output_type": "stream",
     "text": [
      "[Parallel(n_jobs=-1)]: Done   1 tasks      | elapsed:   21.2s\n",
      "[Parallel(n_jobs=-1)]: Done   3 out of  12 | elapsed:   21.9s remaining:  1.1min\n",
      "[Parallel(n_jobs=-1)]: Done   5 out of  12 | elapsed:   22.3s remaining:   31.2s\n",
      "[Parallel(n_jobs=-1)]: Done   7 out of  12 | elapsed:   22.9s remaining:   16.3s\n",
      "[Parallel(n_jobs=-1)]: Done   9 out of  12 | elapsed:   23.5s remaining:    7.8s\n",
      "[Parallel(n_jobs=-1)]: Done  12 out of  12 | elapsed:   24.3s finished\n"
     ]
    },
    {
     "name": "stdout",
     "output_type": "stream",
     "text": [
      "ERROR RATE 0.08947368421052632\n",
      "TIME FOR BATCH, 24.366182327270508\n",
      "PARAMS (2.0, 2.0, 2.0)\n",
      "COMPLETION RATE 432000/10000000\n",
      "PERCENTAGE CORRECT, 0.5400023148148149\n",
      "CONFIDENCE (0.5385150713879062, 0.5414884529259225)\n",
      "CONFIDENCE % 0.6463905436435569\n",
      "-----------------------------------------------\n"
     ]
    },
    {
     "name": "stderr",
     "output_type": "stream",
     "text": [
      "[Parallel(n_jobs=-1)]: Using backend LokyBackend with 12 concurrent workers.\n",
      "[Parallel(n_jobs=-1)]: Done   1 tasks      | elapsed:   20.3s\n",
      "[Parallel(n_jobs=-1)]: Done   3 out of  12 | elapsed:   20.6s remaining:  1.0min\n",
      "[Parallel(n_jobs=-1)]: Done   5 out of  12 | elapsed:   21.6s remaining:   30.3s\n",
      "[Parallel(n_jobs=-1)]: Done   7 out of  12 | elapsed:   22.4s remaining:   16.0s\n",
      "[Parallel(n_jobs=-1)]: Done   9 out of  12 | elapsed:   25.1s remaining:    8.3s\n",
      "[Parallel(n_jobs=-1)]: Done  12 out of  12 | elapsed:   25.6s finished\n",
      "[Parallel(n_jobs=-1)]: Using backend LokyBackend with 12 concurrent workers.\n"
     ]
    },
    {
     "name": "stdout",
     "output_type": "stream",
     "text": [
      "ERROR RATE 0.08947368421052632\n",
      "TIME FOR BATCH, 25.721478939056396\n",
      "PARAMS (2.0, 2.0, 2.0)\n",
      "COMPLETION RATE 456000/10000000\n",
      "PERCENTAGE CORRECT, 0.5399912280701754\n",
      "CONFIDENCE (0.538543883407218, 0.5414375255135061)\n",
      "CONFIDENCE % 0.6290406363662768\n",
      "-----------------------------------------------\n"
     ]
    },
    {
     "name": "stderr",
     "output_type": "stream",
     "text": [
      "[Parallel(n_jobs=-1)]: Done   1 tasks      | elapsed:   20.1s\n",
      "[Parallel(n_jobs=-1)]: Done   3 out of  12 | elapsed:   20.3s remaining:  1.0min\n",
      "[Parallel(n_jobs=-1)]: Done   5 out of  12 | elapsed:   20.6s remaining:   28.9s\n",
      "[Parallel(n_jobs=-1)]: Done   7 out of  12 | elapsed:   20.7s remaining:   14.8s\n",
      "[Parallel(n_jobs=-1)]: Done   9 out of  12 | elapsed:   21.1s remaining:    7.0s\n",
      "[Parallel(n_jobs=-1)]: Done  12 out of  12 | elapsed:   21.3s finished\n"
     ]
    },
    {
     "name": "stdout",
     "output_type": "stream",
     "text": [
      "ERROR RATE 0.08947368421052632\n",
      "TIME FOR BATCH, 21.385173082351685\n",
      "PARAMS (2.0, 2.0, 2.0)\n",
      "COMPLETION RATE 480000/10000000\n",
      "PERCENTAGE CORRECT, 0.5399916666666666\n",
      "CONFIDENCE (0.5385812725480585, 0.5414021076743817)\n",
      "CONFIDENCE % 0.6132139185137531\n",
      "-----------------------------------------------\n"
     ]
    },
    {
     "name": "stderr",
     "output_type": "stream",
     "text": [
      "[Parallel(n_jobs=-1)]: Using backend LokyBackend with 12 concurrent workers.\n",
      "[Parallel(n_jobs=-1)]: Done   1 tasks      | elapsed:   20.1s\n",
      "[Parallel(n_jobs=-1)]: Done   3 out of  12 | elapsed:   20.3s remaining:  1.0min\n",
      "[Parallel(n_jobs=-1)]: Done   5 out of  12 | elapsed:   20.7s remaining:   29.1s\n",
      "[Parallel(n_jobs=-1)]: Done   7 out of  12 | elapsed:   21.2s remaining:   15.1s\n",
      "[Parallel(n_jobs=-1)]: Done   9 out of  12 | elapsed:   21.6s remaining:    7.1s\n",
      "[Parallel(n_jobs=-1)]: Done  12 out of  12 | elapsed:   22.0s finished\n"
     ]
    },
    {
     "name": "stdout",
     "output_type": "stream",
     "text": [
      "ERROR RATE 0.08947368421052632\n",
      "TIME FOR BATCH, 22.105190753936768\n",
      "PARAMS (2.0, 2.0, 2.0)\n",
      "COMPLETION RATE 504000/10000000\n",
      "PERCENTAGE CORRECT, 0.5399623015873016\n",
      "CONFIDENCE (0.5385853390166017, 0.541338316724902)\n",
      "CONFIDENCE % 0.5984243721327832\n",
      "-----------------------------------------------\n"
     ]
    },
    {
     "name": "stderr",
     "output_type": "stream",
     "text": [
      "[Parallel(n_jobs=-1)]: Using backend LokyBackend with 12 concurrent workers.\n",
      "[Parallel(n_jobs=-1)]: Done   1 tasks      | elapsed:   21.1s\n",
      "[Parallel(n_jobs=-1)]: Done   3 out of  12 | elapsed:   21.3s remaining:  1.1min\n",
      "[Parallel(n_jobs=-1)]: Done   5 out of  12 | elapsed:   22.3s remaining:   31.2s\n",
      "[Parallel(n_jobs=-1)]: Done   7 out of  12 | elapsed:   22.7s remaining:   16.2s\n",
      "[Parallel(n_jobs=-1)]: Done   9 out of  12 | elapsed:   23.4s remaining:    7.7s\n",
      "[Parallel(n_jobs=-1)]: Done  12 out of  12 | elapsed:   24.5s finished\n"
     ]
    },
    {
     "name": "stdout",
     "output_type": "stream",
     "text": [
      "ERROR RATE 0.09052631578947369\n",
      "TIME FOR BATCH, 24.62800931930542\n",
      "PARAMS (2.0, 2.0, 2.0)\n",
      "COMPLETION RATE 24000/10000000\n",
      "PERCENTAGE CORRECT, 0.5289583333333333\n",
      "CONFIDENCE (0.5226252696879432, 0.5352712471031682)\n",
      "CONFIDENCE % 2.6846833964210517\n",
      "-----------------------------------------------\n"
     ]
    },
    {
     "name": "stderr",
     "output_type": "stream",
     "text": [
      "[Parallel(n_jobs=-1)]: Using backend LokyBackend with 12 concurrent workers.\n",
      "[Parallel(n_jobs=-1)]: Done   1 tasks      | elapsed:   20.1s\n",
      "[Parallel(n_jobs=-1)]: Done   3 out of  12 | elapsed:   20.2s remaining:  1.0min\n",
      "[Parallel(n_jobs=-1)]: Done   5 out of  12 | elapsed:   20.5s remaining:   28.8s\n",
      "[Parallel(n_jobs=-1)]: Done   7 out of  12 | elapsed:   20.8s remaining:   14.8s\n",
      "[Parallel(n_jobs=-1)]: Done   9 out of  12 | elapsed:   21.0s remaining:    6.9s\n",
      "[Parallel(n_jobs=-1)]: Done  12 out of  12 | elapsed:   21.5s finished\n",
      "[Parallel(n_jobs=-1)]: Using backend LokyBackend with 12 concurrent workers.\n"
     ]
    },
    {
     "name": "stdout",
     "output_type": "stream",
     "text": [
      "ERROR RATE 0.09052631578947369\n",
      "TIME FOR BATCH, 21.56990647315979\n",
      "PARAMS (2.0, 2.0, 2.0)\n",
      "COMPLETION RATE 48000/10000000\n",
      "PERCENTAGE CORRECT, 0.53375\n",
      "CONFIDENCE (0.5292814222465576, 0.5382189774455981)\n",
      "CONFIDENCE % 1.9169019193652528\n",
      "-----------------------------------------------\n"
     ]
    },
    {
     "name": "stderr",
     "output_type": "stream",
     "text": [
      "[Parallel(n_jobs=-1)]: Done   1 tasks      | elapsed:   20.8s\n",
      "[Parallel(n_jobs=-1)]: Done   3 out of  12 | elapsed:   21.0s remaining:  1.1min\n",
      "[Parallel(n_jobs=-1)]: Done   5 out of  12 | elapsed:   21.2s remaining:   29.7s\n",
      "[Parallel(n_jobs=-1)]: Done   7 out of  12 | elapsed:   21.4s remaining:   15.2s\n",
      "[Parallel(n_jobs=-1)]: Done   9 out of  12 | elapsed:   22.2s remaining:    7.3s\n",
      "[Parallel(n_jobs=-1)]: Done  12 out of  12 | elapsed:   22.8s finished\n",
      "[Parallel(n_jobs=-1)]: Using backend LokyBackend with 12 concurrent workers.\n"
     ]
    },
    {
     "name": "stdout",
     "output_type": "stream",
     "text": [
      "ERROR RATE 0.09052631578947369\n",
      "TIME FOR BATCH, 22.87690234184265\n",
      "PARAMS (2.0, 2.0, 2.0)\n",
      "COMPLETION RATE 72000/10000000\n",
      "PERCENTAGE CORRECT, 0.5339444444444444\n",
      "CONFIDENCE (0.5302987292030725, 0.5375904257413704)\n",
      "CONFIDENCE % 1.5645552233801594\n",
      "-----------------------------------------------\n"
     ]
    },
    {
     "name": "stderr",
     "output_type": "stream",
     "text": [
      "[Parallel(n_jobs=-1)]: Done   1 tasks      | elapsed:   20.4s\n",
      "[Parallel(n_jobs=-1)]: Done   3 out of  12 | elapsed:   20.6s remaining:  1.0min\n",
      "[Parallel(n_jobs=-1)]: Done   5 out of  12 | elapsed:   20.9s remaining:   29.3s\n",
      "[Parallel(n_jobs=-1)]: Done   7 out of  12 | elapsed:   21.0s remaining:   15.0s\n",
      "[Parallel(n_jobs=-1)]: Done   9 out of  12 | elapsed:   22.0s remaining:    7.3s\n",
      "[Parallel(n_jobs=-1)]: Done  12 out of  12 | elapsed:   22.4s finished\n",
      "[Parallel(n_jobs=-1)]: Using backend LokyBackend with 12 concurrent workers.\n"
     ]
    },
    {
     "name": "stdout",
     "output_type": "stream",
     "text": [
      "ERROR RATE 0.09052631578947369\n",
      "TIME FOR BATCH, 22.458458185195923\n",
      "PARAMS (2.0, 2.0, 2.0)\n",
      "COMPLETION RATE 96000/10000000\n",
      "PERCENTAGE CORRECT, 0.5331145833333333\n",
      "CONFIDENCE (0.5299532135499467, 0.5362709398716958)\n",
      "CONFIDENCE % 1.3531642017980703\n",
      "-----------------------------------------------\n"
     ]
    },
    {
     "name": "stderr",
     "output_type": "stream",
     "text": [
      "[Parallel(n_jobs=-1)]: Done   1 tasks      | elapsed:   21.3s\n",
      "[Parallel(n_jobs=-1)]: Done   3 out of  12 | elapsed:   21.7s remaining:  1.1min\n",
      "[Parallel(n_jobs=-1)]: Done   5 out of  12 | elapsed:   22.2s remaining:   31.2s\n",
      "[Parallel(n_jobs=-1)]: Done   7 out of  12 | elapsed:   22.5s remaining:   16.0s\n",
      "[Parallel(n_jobs=-1)]: Done   9 out of  12 | elapsed:   23.3s remaining:    7.7s\n",
      "[Parallel(n_jobs=-1)]: Done  12 out of  12 | elapsed:   23.6s finished\n",
      "[Parallel(n_jobs=-1)]: Using backend LokyBackend with 12 concurrent workers.\n"
     ]
    },
    {
     "name": "stdout",
     "output_type": "stream",
     "text": [
      "ERROR RATE 0.09052631578947369\n",
      "TIME FOR BATCH, 23.71190619468689\n",
      "PARAMS (2.0, 2.0, 2.0)\n",
      "COMPLETION RATE 120000/10000000\n",
      "PERCENTAGE CORRECT, 0.5337\n",
      "CONFIDENCE (0.5308750724632336, 0.5365250864037486)\n",
      "CONFIDENCE % 1.2116692988451658\n",
      "-----------------------------------------------\n"
     ]
    },
    {
     "name": "stderr",
     "output_type": "stream",
     "text": [
      "[Parallel(n_jobs=-1)]: Done   1 tasks      | elapsed:   21.1s\n",
      "[Parallel(n_jobs=-1)]: Done   3 out of  12 | elapsed:   21.2s remaining:  1.1min\n",
      "[Parallel(n_jobs=-1)]: Done   5 out of  12 | elapsed:   21.7s remaining:   30.5s\n",
      "[Parallel(n_jobs=-1)]: Done   7 out of  12 | elapsed:   22.3s remaining:   15.9s\n",
      "[Parallel(n_jobs=-1)]: Done   9 out of  12 | elapsed:   23.3s remaining:    7.7s\n",
      "[Parallel(n_jobs=-1)]: Done  12 out of  12 | elapsed:   24.2s finished\n",
      "[Parallel(n_jobs=-1)]: Using backend LokyBackend with 12 concurrent workers.\n"
     ]
    },
    {
     "name": "stdout",
     "output_type": "stream",
     "text": [
      "ERROR RATE 0.09052631578947369\n",
      "TIME FOR BATCH, 24.325029850006104\n",
      "PARAMS (2.0, 2.0, 2.0)\n",
      "COMPLETION RATE 144000/10000000\n",
      "PERCENTAGE CORRECT, 0.5326736111111111\n",
      "CONFIDENCE (0.5300938090094733, 0.5352500687759185)\n",
      "CONFIDENCE % 1.103353007456878\n",
      "-----------------------------------------------\n"
     ]
    },
    {
     "name": "stderr",
     "output_type": "stream",
     "text": [
      "[Parallel(n_jobs=-1)]: Done   1 tasks      | elapsed:   21.5s\n",
      "[Parallel(n_jobs=-1)]: Done   3 out of  12 | elapsed:   21.6s remaining:  1.1min\n",
      "[Parallel(n_jobs=-1)]: Done   5 out of  12 | elapsed:   22.9s remaining:   32.1s\n",
      "[Parallel(n_jobs=-1)]: Done   7 out of  12 | elapsed:   23.3s remaining:   16.6s\n",
      "[Parallel(n_jobs=-1)]: Done   9 out of  12 | elapsed:   24.1s remaining:    8.0s\n",
      "[Parallel(n_jobs=-1)]: Done  12 out of  12 | elapsed:   25.0s finished\n"
     ]
    },
    {
     "name": "stdout",
     "output_type": "stream",
     "text": [
      "ERROR RATE 0.09052631578947369\n",
      "TIME FOR BATCH, 25.067277669906616\n",
      "PARAMS (2.0, 2.0, 2.0)\n",
      "COMPLETION RATE 168000/10000000\n",
      "PERCENTAGE CORRECT, 0.5333214285714286\n",
      "CONFIDENCE (0.5309345755380213, 0.5357083934611051)\n",
      "CONFIDENCE % 1.0229348882402056\n",
      "-----------------------------------------------\n"
     ]
    },
    {
     "name": "stderr",
     "output_type": "stream",
     "text": [
      "[Parallel(n_jobs=-1)]: Using backend LokyBackend with 12 concurrent workers.\n",
      "[Parallel(n_jobs=-1)]: Done   1 tasks      | elapsed:   20.3s\n",
      "[Parallel(n_jobs=-1)]: Done   3 out of  12 | elapsed:   20.4s remaining:  1.0min\n",
      "[Parallel(n_jobs=-1)]: Done   5 out of  12 | elapsed:   20.6s remaining:   28.9s\n",
      "[Parallel(n_jobs=-1)]: Done   7 out of  12 | elapsed:   20.6s remaining:   14.7s\n",
      "[Parallel(n_jobs=-1)]: Done   9 out of  12 | elapsed:   21.4s remaining:    7.1s\n",
      "[Parallel(n_jobs=-1)]: Done  12 out of  12 | elapsed:   21.6s finished\n",
      "[Parallel(n_jobs=-1)]: Using backend LokyBackend with 12 concurrent workers.\n"
     ]
    },
    {
     "name": "stdout",
     "output_type": "stream",
     "text": [
      "ERROR RATE 0.09052631578947369\n",
      "TIME FOR BATCH, 21.72940683364868\n",
      "PARAMS (2.0, 2.0, 2.0)\n",
      "COMPLETION RATE 192000/10000000\n",
      "PERCENTAGE CORRECT, 0.5333958333333333\n",
      "CONFIDENCE (0.5311615042372779, 0.5356276564483142)\n",
      "CONFIDENCE % 0.9571608078302559\n",
      "-----------------------------------------------\n"
     ]
    },
    {
     "name": "stderr",
     "output_type": "stream",
     "text": [
      "[Parallel(n_jobs=-1)]: Done   1 tasks      | elapsed:   20.3s\n",
      "[Parallel(n_jobs=-1)]: Done   3 out of  12 | elapsed:   20.3s remaining:  1.0min\n",
      "[Parallel(n_jobs=-1)]: Done   5 out of  12 | elapsed:   20.5s remaining:   28.8s\n",
      "[Parallel(n_jobs=-1)]: Done   7 out of  12 | elapsed:   20.6s remaining:   14.7s\n",
      "[Parallel(n_jobs=-1)]: Done   9 out of  12 | elapsed:   21.5s remaining:    7.1s\n",
      "[Parallel(n_jobs=-1)]: Done  12 out of  12 | elapsed:   21.7s finished\n"
     ]
    },
    {
     "name": "stdout",
     "output_type": "stream",
     "text": [
      "ERROR RATE 0.09052631578947369\n",
      "TIME FOR BATCH, 21.846686124801636\n",
      "PARAMS (2.0, 2.0, 2.0)\n",
      "COMPLETION RATE 216000/10000000\n",
      "PERCENTAGE CORRECT, 0.5340324074074074\n",
      "CONFIDENCE (0.5319259677511909, 0.5361366212509983)\n",
      "CONFIDENCE % 0.9036365547182587\n",
      "-----------------------------------------------\n"
     ]
    },
    {
     "name": "stderr",
     "output_type": "stream",
     "text": [
      "[Parallel(n_jobs=-1)]: Using backend LokyBackend with 12 concurrent workers.\n",
      "[Parallel(n_jobs=-1)]: Done   1 tasks      | elapsed:   20.5s\n",
      "[Parallel(n_jobs=-1)]: Done   3 out of  12 | elapsed:   20.6s remaining:  1.0min\n",
      "[Parallel(n_jobs=-1)]: Done   5 out of  12 | elapsed:   20.7s remaining:   29.0s\n",
      "[Parallel(n_jobs=-1)]: Done   7 out of  12 | elapsed:   20.8s remaining:   14.9s\n",
      "[Parallel(n_jobs=-1)]: Done   9 out of  12 | elapsed:   21.8s remaining:    7.2s\n",
      "[Parallel(n_jobs=-1)]: Done  12 out of  12 | elapsed:   22.2s finished\n",
      "[Parallel(n_jobs=-1)]: Using backend LokyBackend with 12 concurrent workers.\n"
     ]
    },
    {
     "name": "stdout",
     "output_type": "stream",
     "text": [
      "ERROR RATE 0.09052631578947369\n",
      "TIME FOR BATCH, 22.298300981521606\n",
      "PARAMS (2.0, 2.0, 2.0)\n",
      "COMPLETION RATE 240000/10000000\n",
      "PERCENTAGE CORRECT, 0.5335041666666667\n",
      "CONFIDENCE (0.5315062870432017, 0.5355000416106878)\n",
      "CONFIDENCE % 0.8561179504967513\n",
      "-----------------------------------------------\n"
     ]
    },
    {
     "name": "stderr",
     "output_type": "stream",
     "text": [
      "[Parallel(n_jobs=-1)]: Done   1 tasks      | elapsed:   21.5s\n",
      "[Parallel(n_jobs=-1)]: Done   3 out of  12 | elapsed:   21.6s remaining:  1.1min\n",
      "[Parallel(n_jobs=-1)]: Done   5 out of  12 | elapsed:   21.9s remaining:   30.7s\n",
      "[Parallel(n_jobs=-1)]: Done   7 out of  12 | elapsed:   22.1s remaining:   15.8s\n",
      "[Parallel(n_jobs=-1)]: Done   9 out of  12 | elapsed:   23.1s remaining:    7.6s\n",
      "[Parallel(n_jobs=-1)]: Done  12 out of  12 | elapsed:   23.8s finished\n"
     ]
    },
    {
     "name": "stdout",
     "output_type": "stream",
     "text": [
      "ERROR RATE 0.09052631578947369\n",
      "TIME FOR BATCH, 23.86793875694275\n",
      "PARAMS (2.0, 2.0, 2.0)\n",
      "COMPLETION RATE 264000/10000000\n",
      "PERCENTAGE CORRECT, 0.5337651515151515\n",
      "CONFIDENCE (0.5318598826165035, 0.5356685987131927)\n",
      "CONFIDENCE % 0.8169093556748527\n",
      "-----------------------------------------------\n"
     ]
    },
    {
     "name": "stderr",
     "output_type": "stream",
     "text": [
      "[Parallel(n_jobs=-1)]: Using backend LokyBackend with 12 concurrent workers.\n",
      "[Parallel(n_jobs=-1)]: Done   1 tasks      | elapsed:   21.5s\n",
      "[Parallel(n_jobs=-1)]: Done   3 out of  12 | elapsed:   21.6s remaining:  1.1min\n",
      "[Parallel(n_jobs=-1)]: Done   5 out of  12 | elapsed:   22.2s remaining:   31.1s\n",
      "[Parallel(n_jobs=-1)]: Done   7 out of  12 | elapsed:   22.5s remaining:   16.1s\n",
      "[Parallel(n_jobs=-1)]: Done   9 out of  12 | elapsed:   22.7s remaining:    7.5s\n",
      "[Parallel(n_jobs=-1)]: Done  12 out of  12 | elapsed:   22.9s finished\n",
      "[Parallel(n_jobs=-1)]: Using backend LokyBackend with 12 concurrent workers.\n"
     ]
    },
    {
     "name": "stdout",
     "output_type": "stream",
     "text": [
      "ERROR RATE 0.09052631578947369\n",
      "TIME FOR BATCH, 22.993682146072388\n",
      "PARAMS (2.0, 2.0, 2.0)\n",
      "COMPLETION RATE 288000/10000000\n",
      "PERCENTAGE CORRECT, 0.5340277777777778\n",
      "CONFIDENCE (0.5322048925482011, 0.5358507296529086)\n",
      "CONFIDENCE % 0.7824151163604661\n",
      "-----------------------------------------------\n"
     ]
    },
    {
     "name": "stderr",
     "output_type": "stream",
     "text": [
      "[Parallel(n_jobs=-1)]: Done   1 tasks      | elapsed:   21.3s\n",
      "[Parallel(n_jobs=-1)]: Done   3 out of  12 | elapsed:   21.4s remaining:  1.1min\n",
      "[Parallel(n_jobs=-1)]: Done   5 out of  12 | elapsed:   21.7s remaining:   30.4s\n",
      "[Parallel(n_jobs=-1)]: Done   7 out of  12 | elapsed:   22.2s remaining:   15.8s\n",
      "[Parallel(n_jobs=-1)]: Done   9 out of  12 | elapsed:   23.1s remaining:    7.6s\n",
      "[Parallel(n_jobs=-1)]: Done  12 out of  12 | elapsed:   23.8s finished\n",
      "[Parallel(n_jobs=-1)]: Using backend LokyBackend with 12 concurrent workers.\n"
     ]
    },
    {
     "name": "stdout",
     "output_type": "stream",
     "text": [
      "ERROR RATE 0.09052631578947369\n",
      "TIME FOR BATCH, 23.917590379714966\n",
      "PARAMS (2.0, 2.0, 2.0)\n",
      "COMPLETION RATE 312000/10000000\n",
      "PERCENTAGE CORRECT, 0.5336057692307692\n",
      "CONFIDENCE (0.5318541953875418, 0.5353574038627299)\n",
      "CONFIDENCE % 0.7511260311711518\n",
      "-----------------------------------------------\n"
     ]
    },
    {
     "name": "stderr",
     "output_type": "stream",
     "text": [
      "[Parallel(n_jobs=-1)]: Done   1 tasks      | elapsed:   20.5s\n",
      "[Parallel(n_jobs=-1)]: Done   3 out of  12 | elapsed:   20.6s remaining:  1.0min\n",
      "[Parallel(n_jobs=-1)]: Done   5 out of  12 | elapsed:   21.0s remaining:   29.5s\n",
      "[Parallel(n_jobs=-1)]: Done   7 out of  12 | elapsed:   21.2s remaining:   15.1s\n",
      "[Parallel(n_jobs=-1)]: Done   9 out of  12 | elapsed:   21.8s remaining:    7.2s\n",
      "[Parallel(n_jobs=-1)]: Done  12 out of  12 | elapsed:   21.9s finished\n"
     ]
    },
    {
     "name": "stdout",
     "output_type": "stream",
     "text": [
      "ERROR RATE 0.09052631578947369\n",
      "TIME FOR BATCH, 22.028584957122803\n",
      "PARAMS (2.0, 2.0, 2.0)\n",
      "COMPLETION RATE 336000/10000000\n",
      "PERCENTAGE CORRECT, 0.5337083333333333\n",
      "CONFIDENCE (0.5320208600896782, 0.5353958630882749)\n",
      "CONFIDENCE % 0.7237965504988053\n",
      "-----------------------------------------------\n"
     ]
    },
    {
     "name": "stderr",
     "output_type": "stream",
     "text": [
      "[Parallel(n_jobs=-1)]: Using backend LokyBackend with 12 concurrent workers.\n",
      "[Parallel(n_jobs=-1)]: Done   1 tasks      | elapsed:   20.8s\n",
      "[Parallel(n_jobs=-1)]: Done   3 out of  12 | elapsed:   20.9s remaining:  1.1min\n",
      "[Parallel(n_jobs=-1)]: Done   5 out of  12 | elapsed:   21.5s remaining:   30.1s\n",
      "[Parallel(n_jobs=-1)]: Done   7 out of  12 | elapsed:   21.7s remaining:   15.5s\n",
      "[Parallel(n_jobs=-1)]: Done   9 out of  12 | elapsed:   22.8s remaining:    7.5s\n",
      "[Parallel(n_jobs=-1)]: Done  12 out of  12 | elapsed:   23.0s finished\n"
     ]
    },
    {
     "name": "stdout",
     "output_type": "stream",
     "text": [
      "ERROR RATE 0.09052631578947369\n",
      "TIME FOR BATCH, 23.130715370178223\n",
      "PARAMS (2.0, 2.0, 2.0)\n",
      "COMPLETION RATE 360000/10000000\n",
      "PERCENTAGE CORRECT, 0.5334583333333334\n",
      "CONFIDENCE (0.5318278026317309, 0.5350889164523563)\n",
      "CONFIDENCE % 0.6989973358489822\n",
      "-----------------------------------------------\n"
     ]
    },
    {
     "name": "stderr",
     "output_type": "stream",
     "text": [
      "[Parallel(n_jobs=-1)]: Using backend LokyBackend with 12 concurrent workers.\n",
      "[Parallel(n_jobs=-1)]: Done   1 tasks      | elapsed:   20.5s\n",
      "[Parallel(n_jobs=-1)]: Done   3 out of  12 | elapsed:   20.6s remaining:  1.0min\n",
      "[Parallel(n_jobs=-1)]: Done   5 out of  12 | elapsed:   21.0s remaining:   29.4s\n",
      "[Parallel(n_jobs=-1)]: Done   7 out of  12 | elapsed:   21.4s remaining:   15.3s\n",
      "[Parallel(n_jobs=-1)]: Done   9 out of  12 | elapsed:   21.6s remaining:    7.1s\n",
      "[Parallel(n_jobs=-1)]: Done  12 out of  12 | elapsed:   21.8s finished\n"
     ]
    },
    {
     "name": "stdout",
     "output_type": "stream",
     "text": [
      "ERROR RATE 0.09052631578947369\n",
      "TIME FOR BATCH, 21.870492458343506\n",
      "PARAMS (2.0, 2.0, 2.0)\n",
      "COMPLETION RATE 384000/10000000\n",
      "PERCENTAGE CORRECT, 0.5332473958333334\n",
      "CONFIDENCE (0.5316679920148977, 0.5348255463697102)\n",
      "CONFIDENCE % 0.6764942126996863\n",
      "-----------------------------------------------\n"
     ]
    },
    {
     "name": "stderr",
     "output_type": "stream",
     "text": [
      "[Parallel(n_jobs=-1)]: Using backend LokyBackend with 12 concurrent workers.\n",
      "[Parallel(n_jobs=-1)]: Done   1 tasks      | elapsed:   21.1s\n",
      "[Parallel(n_jobs=-1)]: Done   3 out of  12 | elapsed:   21.2s remaining:  1.1min\n",
      "[Parallel(n_jobs=-1)]: Done   5 out of  12 | elapsed:   22.2s remaining:   31.2s\n",
      "[Parallel(n_jobs=-1)]: Done   7 out of  12 | elapsed:   22.5s remaining:   16.0s\n",
      "[Parallel(n_jobs=-1)]: Done   9 out of  12 | elapsed:   23.1s remaining:    7.6s\n",
      "[Parallel(n_jobs=-1)]: Done  12 out of  12 | elapsed:   23.4s finished\n"
     ]
    },
    {
     "name": "stdout",
     "output_type": "stream",
     "text": [
      "ERROR RATE 0.09052631578947369\n",
      "TIME FOR BATCH, 23.54021668434143\n",
      "PARAMS (2.0, 2.0, 2.0)\n",
      "COMPLETION RATE 408000/10000000\n",
      "PERCENTAGE CORRECT, 0.5330882352941176\n",
      "CONFIDENCE (0.5315563943089248, 0.5346188963824989)\n",
      "CONFIDENCE % 0.6559059559150977\n",
      "-----------------------------------------------\n"
     ]
    },
    {
     "name": "stderr",
     "output_type": "stream",
     "text": [
      "[Parallel(n_jobs=-1)]: Using backend LokyBackend with 12 concurrent workers.\n",
      "[Parallel(n_jobs=-1)]: Done   1 tasks      | elapsed:   20.6s\n",
      "[Parallel(n_jobs=-1)]: Done   3 out of  12 | elapsed:   21.0s remaining:  1.1min\n",
      "[Parallel(n_jobs=-1)]: Done   5 out of  12 | elapsed:   21.3s remaining:   29.9s\n",
      "[Parallel(n_jobs=-1)]: Done   7 out of  12 | elapsed:   21.5s remaining:   15.3s\n",
      "[Parallel(n_jobs=-1)]: Done   9 out of  12 | elapsed:   22.5s remaining:    7.4s\n",
      "[Parallel(n_jobs=-1)]: Done  12 out of  12 | elapsed:   22.7s finished\n",
      "[Parallel(n_jobs=-1)]: Using backend LokyBackend with 12 concurrent workers.\n"
     ]
    },
    {
     "name": "stdout",
     "output_type": "stream",
     "text": [
      "ERROR RATE 0.09052631578947369\n",
      "TIME FOR BATCH, 22.85489821434021\n",
      "PARAMS (2.0, 2.0, 2.0)\n",
      "COMPLETION RATE 432000/10000000\n",
      "PERCENTAGE CORRECT, 0.5332106481481481\n",
      "CONFIDENCE (0.531722242852271, 0.5346990967688311)\n",
      "CONFIDENCE % 0.6377296107441824\n",
      "-----------------------------------------------\n"
     ]
    },
    {
     "name": "stderr",
     "output_type": "stream",
     "text": [
      "[Parallel(n_jobs=-1)]: Done   1 tasks      | elapsed:   21.9s\n",
      "[Parallel(n_jobs=-1)]: Done   3 out of  12 | elapsed:   22.0s remaining:  1.1min\n",
      "[Parallel(n_jobs=-1)]: Done   5 out of  12 | elapsed:   23.0s remaining:   32.3s\n",
      "[Parallel(n_jobs=-1)]: Done   7 out of  12 | elapsed:   23.5s remaining:   16.7s\n",
      "[Parallel(n_jobs=-1)]: Done   9 out of  12 | elapsed:   24.1s remaining:    8.0s\n",
      "[Parallel(n_jobs=-1)]: Done  12 out of  12 | elapsed:   24.9s finished\n",
      "[Parallel(n_jobs=-1)]: Using backend LokyBackend with 12 concurrent workers.\n"
     ]
    },
    {
     "name": "stdout",
     "output_type": "stream",
     "text": [
      "ERROR RATE 0.09052631578947369\n",
      "TIME FOR BATCH, 25.046558141708374\n",
      "PARAMS (2.0, 2.0, 2.0)\n",
      "COMPLETION RATE 456000/10000000\n",
      "PERCENTAGE CORRECT, 0.533219298245614\n",
      "CONFIDENCE (0.531770852876585, 0.5346677846058274)\n",
      "CONFIDENCE % 0.6206194297138624\n",
      "-----------------------------------------------\n"
     ]
    },
    {
     "name": "stderr",
     "output_type": "stream",
     "text": [
      "[Parallel(n_jobs=-1)]: Done   1 tasks      | elapsed:   20.7s\n",
      "[Parallel(n_jobs=-1)]: Done   3 out of  12 | elapsed:   20.8s remaining:  1.0min\n",
      "[Parallel(n_jobs=-1)]: Done   5 out of  12 | elapsed:   21.2s remaining:   29.7s\n",
      "[Parallel(n_jobs=-1)]: Done   7 out of  12 | elapsed:   21.3s remaining:   15.2s\n",
      "[Parallel(n_jobs=-1)]: Done   9 out of  12 | elapsed:   22.4s remaining:    7.4s\n",
      "[Parallel(n_jobs=-1)]: Done  12 out of  12 | elapsed:   22.5s finished\n"
     ]
    },
    {
     "name": "stdout",
     "output_type": "stream",
     "text": [
      "ERROR RATE 0.09052631578947369\n",
      "TIME FOR BATCH, 22.610076665878296\n",
      "PARAMS (2.0, 2.0, 2.0)\n",
      "COMPLETION RATE 480000/10000000\n",
      "PERCENTAGE CORRECT, 0.5330729166666667\n",
      "CONFIDENCE (0.531660435250723, 0.5344843952143363)\n",
      "CONFIDENCE % 0.6047967797141675\n",
      "-----------------------------------------------\n"
     ]
    },
    {
     "name": "stderr",
     "output_type": "stream",
     "text": [
      "[Parallel(n_jobs=-1)]: Using backend LokyBackend with 12 concurrent workers.\n",
      "[Parallel(n_jobs=-1)]: Done   1 tasks      | elapsed:   20.7s\n",
      "[Parallel(n_jobs=-1)]: Done   3 out of  12 | elapsed:   20.8s remaining:  1.0min\n",
      "[Parallel(n_jobs=-1)]: Done   5 out of  12 | elapsed:   21.3s remaining:   29.9s\n",
      "[Parallel(n_jobs=-1)]: Done   7 out of  12 | elapsed:   21.5s remaining:   15.3s\n",
      "[Parallel(n_jobs=-1)]: Done   9 out of  12 | elapsed:   22.4s remaining:    7.4s\n",
      "[Parallel(n_jobs=-1)]: Done  12 out of  12 | elapsed:   22.7s finished\n"
     ]
    },
    {
     "name": "stdout",
     "output_type": "stream",
     "text": [
      "ERROR RATE 0.09052631578947369\n",
      "TIME FOR BATCH, 22.766724824905396\n",
      "PARAMS (2.0, 2.0, 2.0)\n",
      "COMPLETION RATE 504000/10000000\n",
      "PERCENTAGE CORRECT, 0.5329623015873016\n",
      "CONFIDENCE (0.5315843429949763, 0.5343402970199551)\n",
      "CONFIDENCE % 0.5900924131703723\n",
      "-----------------------------------------------\n"
     ]
    },
    {
     "name": "stderr",
     "output_type": "stream",
     "text": [
      "[Parallel(n_jobs=-1)]: Using backend LokyBackend with 12 concurrent workers.\n",
      "[Parallel(n_jobs=-1)]: Done   1 tasks      | elapsed:   20.6s\n",
      "[Parallel(n_jobs=-1)]: Done   3 out of  12 | elapsed:   20.7s remaining:  1.0min\n",
      "[Parallel(n_jobs=-1)]: Done   5 out of  12 | elapsed:   21.8s remaining:   30.6s\n",
      "[Parallel(n_jobs=-1)]: Done   7 out of  12 | elapsed:   22.1s remaining:   15.7s\n",
      "[Parallel(n_jobs=-1)]: Done   9 out of  12 | elapsed:   22.6s remaining:    7.5s\n",
      "[Parallel(n_jobs=-1)]: Done  12 out of  12 | elapsed:   23.4s finished\n",
      "[Parallel(n_jobs=-1)]: Using backend LokyBackend with 12 concurrent workers.\n"
     ]
    },
    {
     "name": "stdout",
     "output_type": "stream",
     "text": [
      "ERROR RATE 0.09157894736842105\n",
      "TIME FOR BATCH, 23.51649308204651\n",
      "PARAMS (2.0, 2.0, 2.0)\n",
      "COMPLETION RATE 24000/10000000\n",
      "PERCENTAGE CORRECT, 0.520625\n",
      "CONFIDENCE (0.5142918360569302, 0.5269586561383264)\n",
      "CONFIDENCE % 2.6423614250630907\n",
      "-----------------------------------------------\n"
     ]
    },
    {
     "name": "stderr",
     "output_type": "stream",
     "text": [
      "[Parallel(n_jobs=-1)]: Done   1 tasks      | elapsed:   21.1s\n",
      "[Parallel(n_jobs=-1)]: Done   3 out of  12 | elapsed:   21.2s remaining:  1.1min\n",
      "[Parallel(n_jobs=-1)]: Done   5 out of  12 | elapsed:   22.8s remaining:   32.0s\n",
      "[Parallel(n_jobs=-1)]: Done   7 out of  12 | elapsed:   23.0s remaining:   16.4s\n",
      "[Parallel(n_jobs=-1)]: Done   9 out of  12 | elapsed:   23.6s remaining:    7.8s\n",
      "[Parallel(n_jobs=-1)]: Done  12 out of  12 | elapsed:   24.0s finished\n",
      "[Parallel(n_jobs=-1)]: Using backend LokyBackend with 12 concurrent workers.\n"
     ]
    },
    {
     "name": "stdout",
     "output_type": "stream",
     "text": [
      "ERROR RATE 0.09157894736842105\n",
      "TIME FOR BATCH, 24.060640811920166\n",
      "PARAMS (2.0, 2.0, 2.0)\n",
      "COMPLETION RATE 48000/10000000\n",
      "PERCENTAGE CORRECT, 0.5205\n",
      "CONFIDENCE (0.5160209285074335, 0.5249688963611768)\n",
      "CONFIDENCE % 1.866103827683691\n",
      "-----------------------------------------------\n"
     ]
    },
    {
     "name": "stderr",
     "output_type": "stream",
     "text": [
      "[Parallel(n_jobs=-1)]: Done   1 tasks      | elapsed:   20.9s\n",
      "[Parallel(n_jobs=-1)]: Done   3 out of  12 | elapsed:   21.0s remaining:  1.1min\n",
      "[Parallel(n_jobs=-1)]: Done   5 out of  12 | elapsed:   22.0s remaining:   30.8s\n",
      "[Parallel(n_jobs=-1)]: Done   7 out of  12 | elapsed:   22.4s remaining:   15.9s\n",
      "[Parallel(n_jobs=-1)]: Done   9 out of  12 | elapsed:   22.9s remaining:    7.6s\n",
      "[Parallel(n_jobs=-1)]: Done  12 out of  12 | elapsed:   23.2s finished\n",
      "[Parallel(n_jobs=-1)]: Using backend LokyBackend with 12 concurrent workers.\n"
     ]
    },
    {
     "name": "stdout",
     "output_type": "stream",
     "text": [
      "ERROR RATE 0.09157894736842105\n",
      "TIME FOR BATCH, 23.292116165161133\n",
      "PARAMS (2.0, 2.0, 2.0)\n",
      "COMPLETION RATE 72000/10000000\n",
      "PERCENTAGE CORRECT, 0.5216527777777777\n",
      "CONFIDENCE (0.5180000705931653, 0.525305655490268)\n",
      "CONFIDENCE % 1.5272556330867004\n",
      "-----------------------------------------------\n"
     ]
    },
    {
     "name": "stderr",
     "output_type": "stream",
     "text": [
      "[Parallel(n_jobs=-1)]: Done   1 tasks      | elapsed:   21.3s\n",
      "[Parallel(n_jobs=-1)]: Done   3 out of  12 | elapsed:   21.5s remaining:  1.1min\n",
      "[Parallel(n_jobs=-1)]: Done   5 out of  12 | elapsed:   22.0s remaining:   30.8s\n",
      "[Parallel(n_jobs=-1)]: Done   7 out of  12 | elapsed:   22.1s remaining:   15.7s\n",
      "[Parallel(n_jobs=-1)]: Done   9 out of  12 | elapsed:   22.2s remaining:    7.3s\n",
      "[Parallel(n_jobs=-1)]: Done  12 out of  12 | elapsed:   22.5s finished\n",
      "[Parallel(n_jobs=-1)]: Using backend LokyBackend with 12 concurrent workers.\n"
     ]
    },
    {
     "name": "stdout",
     "output_type": "stream",
     "text": [
      "ERROR RATE 0.09157894736842105\n",
      "TIME FOR BATCH, 22.59164261817932\n",
      "PARAMS (2.0, 2.0, 2.0)\n",
      "COMPLETION RATE 96000/10000000\n",
      "PERCENTAGE CORRECT, 0.5231979166666667\n",
      "CONFIDENCE (0.5200365170213371, 0.5263594527316985)\n",
      "CONFIDENCE % 1.3261132724415925\n",
      "-----------------------------------------------\n"
     ]
    },
    {
     "name": "stderr",
     "output_type": "stream",
     "text": [
      "[Parallel(n_jobs=-1)]: Done   1 tasks      | elapsed:   21.4s\n",
      "[Parallel(n_jobs=-1)]: Done   3 out of  12 | elapsed:   21.4s remaining:  1.1min\n",
      "[Parallel(n_jobs=-1)]: Done   5 out of  12 | elapsed:   21.6s remaining:   30.3s\n",
      "[Parallel(n_jobs=-1)]: Done   7 out of  12 | elapsed:   21.6s remaining:   15.4s\n",
      "[Parallel(n_jobs=-1)]: Done   9 out of  12 | elapsed:   22.3s remaining:    7.4s\n",
      "[Parallel(n_jobs=-1)]: Done  12 out of  12 | elapsed:   22.7s finished\n"
     ]
    },
    {
     "name": "stdout",
     "output_type": "stream",
     "text": [
      "ERROR RATE 0.09157894736842105\n",
      "TIME FOR BATCH, 22.79865336418152\n",
      "PARAMS (2.0, 2.0, 2.0)\n",
      "COMPLETION RATE 120000/10000000\n",
      "PERCENTAGE CORRECT, 0.522525\n",
      "CONFIDENCE (0.5196958796799924, 0.5253542267060265)\n",
      "CONFIDENCE % 1.1850561864043294\n",
      "-----------------------------------------------\n"
     ]
    },
    {
     "name": "stderr",
     "output_type": "stream",
     "text": [
      "[Parallel(n_jobs=-1)]: Using backend LokyBackend with 12 concurrent workers.\n",
      "[Parallel(n_jobs=-1)]: Done   1 tasks      | elapsed:   22.1s\n",
      "[Parallel(n_jobs=-1)]: Done   3 out of  12 | elapsed:   22.2s remaining:  1.1min\n",
      "[Parallel(n_jobs=-1)]: Done   5 out of  12 | elapsed:   22.7s remaining:   31.8s\n",
      "[Parallel(n_jobs=-1)]: Done   7 out of  12 | elapsed:   22.7s remaining:   16.2s\n",
      "[Parallel(n_jobs=-1)]: Done   9 out of  12 | elapsed:   23.4s remaining:    7.7s\n",
      "[Parallel(n_jobs=-1)]: Done  12 out of  12 | elapsed:   23.7s finished\n",
      "[Parallel(n_jobs=-1)]: Using backend LokyBackend with 12 concurrent workers.\n"
     ]
    },
    {
     "name": "stdout",
     "output_type": "stream",
     "text": [
      "ERROR RATE 0.09157894736842105\n",
      "TIME FOR BATCH, 23.760551691055298\n",
      "PARAMS (2.0, 2.0, 2.0)\n",
      "COMPLETION RATE 144000/10000000\n",
      "PERCENTAGE CORRECT, 0.5230138888888889\n",
      "CONFIDENCE (0.5204305957409545, 0.5255938000215148)\n",
      "CONFIDENCE % 1.0824642815139613\n",
      "-----------------------------------------------\n"
     ]
    },
    {
     "name": "stderr",
     "output_type": "stream",
     "text": [
      "[Parallel(n_jobs=-1)]: Done   1 tasks      | elapsed:   21.4s\n",
      "[Parallel(n_jobs=-1)]: Done   3 out of  12 | elapsed:   21.5s remaining:  1.1min\n",
      "[Parallel(n_jobs=-1)]: Done   5 out of  12 | elapsed:   21.9s remaining:   30.8s\n",
      "[Parallel(n_jobs=-1)]: Done   7 out of  12 | elapsed:   22.2s remaining:   15.8s\n",
      "[Parallel(n_jobs=-1)]: Done   9 out of  12 | elapsed:   22.7s remaining:    7.5s\n",
      "[Parallel(n_jobs=-1)]: Done  12 out of  12 | elapsed:   23.0s finished\n",
      "[Parallel(n_jobs=-1)]: Using backend LokyBackend with 12 concurrent workers.\n"
     ]
    },
    {
     "name": "stdout",
     "output_type": "stream",
     "text": [
      "ERROR RATE 0.09157894736842105\n",
      "TIME FOR BATCH, 23.104655981063843\n",
      "PARAMS (2.0, 2.0, 2.0)\n",
      "COMPLETION RATE 168000/10000000\n",
      "PERCENTAGE CORRECT, 0.5227559523809524\n",
      "CONFIDENCE (0.5203661055228097, 0.5251458756772404)\n",
      "CONFIDENCE % 1.001535834396834\n",
      "-----------------------------------------------\n"
     ]
    },
    {
     "name": "stderr",
     "output_type": "stream",
     "text": [
      "[Parallel(n_jobs=-1)]: Done   1 tasks      | elapsed:   21.0s\n",
      "[Parallel(n_jobs=-1)]: Done   3 out of  12 | elapsed:   21.2s remaining:  1.1min\n",
      "[Parallel(n_jobs=-1)]: Done   5 out of  12 | elapsed:   22.8s remaining:   32.0s\n",
      "[Parallel(n_jobs=-1)]: Done   7 out of  12 | elapsed:   23.2s remaining:   16.5s\n",
      "[Parallel(n_jobs=-1)]: Done   9 out of  12 | elapsed:   23.7s remaining:    7.8s\n",
      "[Parallel(n_jobs=-1)]: Done  12 out of  12 | elapsed:   24.2s finished\n",
      "[Parallel(n_jobs=-1)]: Using backend LokyBackend with 12 concurrent workers.\n"
     ]
    },
    {
     "name": "stdout",
     "output_type": "stream",
     "text": [
      "ERROR RATE 0.09157894736842105\n",
      "TIME FOR BATCH, 24.26272201538086\n",
      "PARAMS (2.0, 2.0, 2.0)\n",
      "COMPLETION RATE 192000/10000000\n",
      "PERCENTAGE CORRECT, 0.5230625\n",
      "CONFIDENCE (0.5208255515252331, 0.5252969120977388)\n",
      "CONFIDENCE % 0.9375149935800045\n",
      "-----------------------------------------------\n"
     ]
    },
    {
     "name": "stderr",
     "output_type": "stream",
     "text": [
      "[Parallel(n_jobs=-1)]: Done   1 tasks      | elapsed:   20.2s\n",
      "[Parallel(n_jobs=-1)]: Done   3 out of  12 | elapsed:   20.3s remaining:  1.0min\n",
      "[Parallel(n_jobs=-1)]: Done   5 out of  12 | elapsed:   21.1s remaining:   29.5s\n",
      "[Parallel(n_jobs=-1)]: Done   7 out of  12 | elapsed:   21.5s remaining:   15.3s\n",
      "[Parallel(n_jobs=-1)]: Done   9 out of  12 | elapsed:   22.2s remaining:    7.3s\n",
      "[Parallel(n_jobs=-1)]: Done  12 out of  12 | elapsed:   22.7s finished\n",
      "[Parallel(n_jobs=-1)]: Using backend LokyBackend with 12 concurrent workers.\n"
     ]
    },
    {
     "name": "stdout",
     "output_type": "stream",
     "text": [
      "ERROR RATE 0.09157894736842105\n",
      "TIME FOR BATCH, 22.7877516746521\n",
      "PARAMS (2.0, 2.0, 2.0)\n",
      "COMPLETION RATE 216000/10000000\n",
      "PERCENTAGE CORRECT, 0.5236064814814815\n",
      "CONFIDENCE (0.5214977133301011, 0.5257129964798317)\n",
      "CONFIDENCE % 0.8848321788338464\n",
      "-----------------------------------------------\n"
     ]
    },
    {
     "name": "stderr",
     "output_type": "stream",
     "text": [
      "[Parallel(n_jobs=-1)]: Done   1 tasks      | elapsed:   21.1s\n",
      "[Parallel(n_jobs=-1)]: Done   3 out of  12 | elapsed:   21.3s remaining:  1.1min\n",
      "[Parallel(n_jobs=-1)]: Done   5 out of  12 | elapsed:   22.5s remaining:   31.6s\n",
      "[Parallel(n_jobs=-1)]: Done   7 out of  12 | elapsed:   23.3s remaining:   16.6s\n",
      "[Parallel(n_jobs=-1)]: Done   9 out of  12 | elapsed:   23.6s remaining:    7.8s\n",
      "[Parallel(n_jobs=-1)]: Done  12 out of  12 | elapsed:   24.1s finished\n",
      "[Parallel(n_jobs=-1)]: Using backend LokyBackend with 12 concurrent workers.\n"
     ]
    },
    {
     "name": "stdout",
     "output_type": "stream",
     "text": [
      "ERROR RATE 0.09157894736842105\n",
      "TIME FOR BATCH, 24.22176504135132\n",
      "PARAMS (2.0, 2.0, 2.0)\n",
      "COMPLETION RATE 240000/10000000\n",
      "PERCENTAGE CORRECT, 0.5240625\n",
      "CONFIDENCE (0.5220625259358965, 0.5260604471851588)\n",
      "CONFIDENCE % 0.8400097175074956\n",
      "-----------------------------------------------\n"
     ]
    },
    {
     "name": "stderr",
     "output_type": "stream",
     "text": [
      "[Parallel(n_jobs=-1)]: Done   1 tasks      | elapsed:   19.5s\n",
      "[Parallel(n_jobs=-1)]: Done   3 out of  12 | elapsed:   21.5s remaining:  1.1min\n",
      "[Parallel(n_jobs=-1)]: Done   5 out of  12 | elapsed:   21.5s remaining:   30.2s\n",
      "[Parallel(n_jobs=-1)]: Done   7 out of  12 | elapsed:   22.3s remaining:   15.9s\n",
      "[Parallel(n_jobs=-1)]: Done   9 out of  12 | elapsed:   23.7s remaining:    7.8s\n",
      "[Parallel(n_jobs=-1)]: Done  12 out of  12 | elapsed:   24.5s finished\n",
      "[Parallel(n_jobs=-1)]: Using backend LokyBackend with 12 concurrent workers.\n"
     ]
    },
    {
     "name": "stdout",
     "output_type": "stream",
     "text": [
      "ERROR RATE 0.09157894736842105\n",
      "TIME FOR BATCH, 24.577746629714966\n",
      "PARAMS (2.0, 2.0, 2.0)\n",
      "COMPLETION RATE 264000/10000000\n",
      "PERCENTAGE CORRECT, 0.5240757575757575\n",
      "CONFIDENCE (0.5221685843353073, 0.5259810883138112)\n",
      "CONFIDENCE % 0.8010737085137515\n",
      "-----------------------------------------------\n"
     ]
    },
    {
     "name": "stderr",
     "output_type": "stream",
     "text": [
      "[Parallel(n_jobs=-1)]: Done   1 tasks      | elapsed:   20.8s\n",
      "[Parallel(n_jobs=-1)]: Done   3 out of  12 | elapsed:   20.9s remaining:  1.0min\n",
      "[Parallel(n_jobs=-1)]: Done   5 out of  12 | elapsed:   21.3s remaining:   29.9s\n",
      "[Parallel(n_jobs=-1)]: Done   7 out of  12 | elapsed:   21.4s remaining:   15.3s\n",
      "[Parallel(n_jobs=-1)]: Done   9 out of  12 | elapsed:   22.1s remaining:    7.3s\n",
      "[Parallel(n_jobs=-1)]: Done  12 out of  12 | elapsed:   22.5s finished\n",
      "[Parallel(n_jobs=-1)]: Using backend LokyBackend with 12 concurrent workers.\n"
     ]
    },
    {
     "name": "stdout",
     "output_type": "stream",
     "text": [
      "ERROR RATE 0.09157894736842105\n",
      "TIME FOR BATCH, 22.64876103401184\n",
      "PARAMS (2.0, 2.0, 2.0)\n",
      "COMPLETION RATE 288000/10000000\n",
      "PERCENTAGE CORRECT, 0.523875\n",
      "CONFIDENCE (0.5220503687096825, 0.5256996779605487)\n",
      "CONFIDENCE % 0.7664603309774243\n",
      "-----------------------------------------------\n"
     ]
    },
    {
     "name": "stderr",
     "output_type": "stream",
     "text": [
      "[Parallel(n_jobs=-1)]: Done   1 tasks      | elapsed:   20.5s\n",
      "[Parallel(n_jobs=-1)]: Done   3 out of  12 | elapsed:   20.7s remaining:  1.0min\n",
      "[Parallel(n_jobs=-1)]: Done   5 out of  12 | elapsed:   21.6s remaining:   30.3s\n",
      "[Parallel(n_jobs=-1)]: Done   7 out of  12 | elapsed:   21.6s remaining:   15.4s\n",
      "[Parallel(n_jobs=-1)]: Done   9 out of  12 | elapsed:   23.2s remaining:    7.7s\n",
      "[Parallel(n_jobs=-1)]: Done  12 out of  12 | elapsed:   23.4s finished\n"
     ]
    },
    {
     "name": "stdout",
     "output_type": "stream",
     "text": [
      "ERROR RATE 0.09157894736842105\n",
      "TIME FOR BATCH, 23.525583028793335\n",
      "PARAMS (2.0, 2.0, 2.0)\n",
      "COMPLETION RATE 312000/10000000\n",
      "PERCENTAGE CORRECT, 0.5241602564102564\n",
      "CONFIDENCE (0.5224070714569868, 0.5259134849993967)\n",
      "CONFIDENCE % 0.7368895914320721\n",
      "-----------------------------------------------\n"
     ]
    },
    {
     "name": "stderr",
     "output_type": "stream",
     "text": [
      "[Parallel(n_jobs=-1)]: Using backend LokyBackend with 12 concurrent workers.\n",
      "[Parallel(n_jobs=-1)]: Done   1 tasks      | elapsed:   21.6s\n",
      "[Parallel(n_jobs=-1)]: Done   3 out of  12 | elapsed:   21.6s remaining:  1.1min\n",
      "[Parallel(n_jobs=-1)]: Done   5 out of  12 | elapsed:   22.8s remaining:   32.0s\n",
      "[Parallel(n_jobs=-1)]: Done   7 out of  12 | elapsed:   22.9s remaining:   16.3s\n",
      "[Parallel(n_jobs=-1)]: Done   9 out of  12 | elapsed:   23.5s remaining:    7.8s\n",
      "[Parallel(n_jobs=-1)]: Done  12 out of  12 | elapsed:   24.3s finished\n",
      "[Parallel(n_jobs=-1)]: Using backend LokyBackend with 12 concurrent workers.\n"
     ]
    },
    {
     "name": "stdout",
     "output_type": "stream",
     "text": [
      "ERROR RATE 0.09157894736842105\n",
      "TIME FOR BATCH, 24.3619441986084\n",
      "PARAMS (2.0, 2.0, 2.0)\n",
      "COMPLETION RATE 336000/10000000\n",
      "PERCENTAGE CORRECT, 0.5244375\n",
      "CONFIDENCE (0.522748530883662, 0.5261265100060957)\n",
      "CONFIDENCE % 0.710312340109586\n",
      "-----------------------------------------------\n"
     ]
    },
    {
     "name": "stderr",
     "output_type": "stream",
     "text": [
      "[Parallel(n_jobs=-1)]: Done   1 tasks      | elapsed:   20.7s\n",
      "[Parallel(n_jobs=-1)]: Done   3 out of  12 | elapsed:   20.9s remaining:  1.0min\n",
      "[Parallel(n_jobs=-1)]: Done   5 out of  12 | elapsed:   21.6s remaining:   30.3s\n",
      "[Parallel(n_jobs=-1)]: Done   7 out of  12 | elapsed:   21.6s remaining:   15.4s\n",
      "[Parallel(n_jobs=-1)]: Done   9 out of  12 | elapsed:   22.6s remaining:    7.5s\n",
      "[Parallel(n_jobs=-1)]: Done  12 out of  12 | elapsed:   23.4s finished\n",
      "[Parallel(n_jobs=-1)]: Using backend LokyBackend with 12 concurrent workers.\n"
     ]
    },
    {
     "name": "stdout",
     "output_type": "stream",
     "text": [
      "ERROR RATE 0.09157894736842105\n",
      "TIME FOR BATCH, 23.471664905548096\n",
      "PARAMS (2.0, 2.0, 2.0)\n",
      "COMPLETION RATE 360000/10000000\n",
      "PERCENTAGE CORRECT, 0.5244916666666667\n",
      "CONFIDENCE (0.5228597400447914, 0.5261236315865512)\n",
      "CONFIDENCE % 0.6864004924750216\n",
      "-----------------------------------------------\n"
     ]
    },
    {
     "name": "stderr",
     "output_type": "stream",
     "text": [
      "[Parallel(n_jobs=-1)]: Done   1 tasks      | elapsed:   20.8s\n",
      "[Parallel(n_jobs=-1)]: Done   3 out of  12 | elapsed:   21.0s remaining:  1.1min\n",
      "[Parallel(n_jobs=-1)]: Done   5 out of  12 | elapsed:   21.5s remaining:   30.1s\n",
      "[Parallel(n_jobs=-1)]: Done   7 out of  12 | elapsed:   21.6s remaining:   15.4s\n",
      "[Parallel(n_jobs=-1)]: Done   9 out of  12 | elapsed:   23.2s remaining:    7.7s\n",
      "[Parallel(n_jobs=-1)]: Done  12 out of  12 | elapsed:   23.5s finished\n",
      "[Parallel(n_jobs=-1)]: Using backend LokyBackend with 12 concurrent workers.\n"
     ]
    },
    {
     "name": "stdout",
     "output_type": "stream",
     "text": [
      "ERROR RATE 0.09157894736842105\n",
      "TIME FOR BATCH, 23.62910771369934\n",
      "PARAMS (2.0, 2.0, 2.0)\n",
      "COMPLETION RATE 384000/10000000\n",
      "PERCENTAGE CORRECT, 0.5247057291666667\n",
      "CONFIDENCE (0.5231250169644168, 0.5262851754897139)\n",
      "CONFIDENCE % 0.6648846239523037\n",
      "-----------------------------------------------\n"
     ]
    },
    {
     "name": "stderr",
     "output_type": "stream",
     "text": [
      "[Parallel(n_jobs=-1)]: Done   1 tasks      | elapsed:   20.0s\n",
      "[Parallel(n_jobs=-1)]: Done   3 out of  12 | elapsed:   20.3s remaining:  1.0min\n",
      "[Parallel(n_jobs=-1)]: Done   5 out of  12 | elapsed:   20.6s remaining:   28.9s\n",
      "[Parallel(n_jobs=-1)]: Done   7 out of  12 | elapsed:   20.7s remaining:   14.8s\n",
      "[Parallel(n_jobs=-1)]: Done   9 out of  12 | elapsed:   21.6s remaining:    7.1s\n",
      "[Parallel(n_jobs=-1)]: Done  12 out of  12 | elapsed:   21.8s finished\n",
      "[Parallel(n_jobs=-1)]: Using backend LokyBackend with 12 concurrent workers.\n"
     ]
    },
    {
     "name": "stdout",
     "output_type": "stream",
     "text": [
      "ERROR RATE 0.09157894736842105\n",
      "TIME FOR BATCH, 21.92534589767456\n",
      "PARAMS (2.0, 2.0, 2.0)\n",
      "COMPLETION RATE 408000/10000000\n",
      "PERCENTAGE CORRECT, 0.52475\n",
      "CONFIDENCE (0.5232169277550341, 0.5262831064359883)\n",
      "CONFIDENCE % 0.645171737181306\n",
      "-----------------------------------------------\n"
     ]
    },
    {
     "name": "stderr",
     "output_type": "stream",
     "text": [
      "[Parallel(n_jobs=-1)]: Done   1 tasks      | elapsed:   20.7s\n",
      "[Parallel(n_jobs=-1)]: Done   3 out of  12 | elapsed:   20.9s remaining:  1.0min\n",
      "[Parallel(n_jobs=-1)]: Done   5 out of  12 | elapsed:   21.7s remaining:   30.4s\n",
      "[Parallel(n_jobs=-1)]: Done   7 out of  12 | elapsed:   21.9s remaining:   15.6s\n",
      "[Parallel(n_jobs=-1)]: Done   9 out of  12 | elapsed:   22.2s remaining:    7.3s\n",
      "[Parallel(n_jobs=-1)]: Done  12 out of  12 | elapsed:   22.3s finished\n"
     ]
    },
    {
     "name": "stdout",
     "output_type": "stream",
     "text": [
      "ERROR RATE 0.09157894736842105\n",
      "TIME FOR BATCH, 22.360796213150024\n",
      "PARAMS (2.0, 2.0, 2.0)\n",
      "COMPLETION RATE 432000/10000000\n",
      "PERCENTAGE CORRECT, 0.5244699074074074\n",
      "CONFIDENCE (0.5229803389892005, 0.5259595076835805)\n",
      "CONFIDENCE % 0.6264942515283377\n",
      "-----------------------------------------------\n"
     ]
    },
    {
     "name": "stderr",
     "output_type": "stream",
     "text": [
      "[Parallel(n_jobs=-1)]: Using backend LokyBackend with 12 concurrent workers.\n",
      "[Parallel(n_jobs=-1)]: Done   1 tasks      | elapsed:   20.0s\n",
      "[Parallel(n_jobs=-1)]: Done   3 out of  12 | elapsed:   20.1s remaining:  1.0min\n",
      "[Parallel(n_jobs=-1)]: Done   5 out of  12 | elapsed:   20.2s remaining:   28.3s\n",
      "[Parallel(n_jobs=-1)]: Done   7 out of  12 | elapsed:   20.3s remaining:   14.5s\n",
      "[Parallel(n_jobs=-1)]: Done   9 out of  12 | elapsed:   20.7s remaining:    6.8s\n",
      "[Parallel(n_jobs=-1)]: Done  12 out of  12 | elapsed:   20.8s finished\n"
     ]
    },
    {
     "name": "stdout",
     "output_type": "stream",
     "text": [
      "ERROR RATE 0.09157894736842105\n",
      "TIME FOR BATCH, 20.877232551574707\n",
      "PARAMS (2.0, 2.0, 2.0)\n",
      "COMPLETION RATE 456000/10000000\n",
      "PERCENTAGE CORRECT, 0.5246798245614035\n",
      "CONFIDENCE (0.5232291810253101, 0.5261294020887406)\n",
      "CONFIDENCE % 0.6101615738810826\n",
      "-----------------------------------------------\n"
     ]
    },
    {
     "name": "stderr",
     "output_type": "stream",
     "text": [
      "[Parallel(n_jobs=-1)]: Using backend LokyBackend with 12 concurrent workers.\n",
      "[Parallel(n_jobs=-1)]: Done   1 tasks      | elapsed:   20.1s\n",
      "[Parallel(n_jobs=-1)]: Done   3 out of  12 | elapsed:   20.3s remaining:  1.0min\n",
      "[Parallel(n_jobs=-1)]: Done   5 out of  12 | elapsed:   20.9s remaining:   29.3s\n",
      "[Parallel(n_jobs=-1)]: Done   7 out of  12 | elapsed:   21.0s remaining:   15.0s\n",
      "[Parallel(n_jobs=-1)]: Done   9 out of  12 | elapsed:   21.4s remaining:    7.1s\n",
      "[Parallel(n_jobs=-1)]: Done  12 out of  12 | elapsed:   21.5s finished\n"
     ]
    },
    {
     "name": "stdout",
     "output_type": "stream",
     "text": [
      "ERROR RATE 0.09157894736842105\n",
      "TIME FOR BATCH, 21.559865474700928\n",
      "PARAMS (2.0, 2.0, 2.0)\n",
      "COMPLETION RATE 480000/10000000\n",
      "PERCENTAGE CORRECT, 0.5247979166666666\n",
      "CONFIDENCE (0.5233843886995861, 0.5262114737683223)\n",
      "CONFIDENCE % 0.5949227008655841\n",
      "-----------------------------------------------\n"
     ]
    },
    {
     "name": "stderr",
     "output_type": "stream",
     "text": [
      "[Parallel(n_jobs=-1)]: Using backend LokyBackend with 12 concurrent workers.\n",
      "[Parallel(n_jobs=-1)]: Done   1 tasks      | elapsed:   20.1s\n",
      "[Parallel(n_jobs=-1)]: Done   3 out of  12 | elapsed:   20.2s remaining:  1.0min\n",
      "[Parallel(n_jobs=-1)]: Done   5 out of  12 | elapsed:   20.5s remaining:   28.8s\n",
      "[Parallel(n_jobs=-1)]: Done   7 out of  12 | elapsed:   20.6s remaining:   14.7s\n",
      "[Parallel(n_jobs=-1)]: Done   9 out of  12 | elapsed:   20.9s remaining:    6.9s\n",
      "[Parallel(n_jobs=-1)]: Done  12 out of  12 | elapsed:   21.0s finished\n"
     ]
    },
    {
     "name": "stdout",
     "output_type": "stream",
     "text": [
      "ERROR RATE 0.09263157894736843\n",
      "TIME FOR BATCH, 21.151912450790405\n",
      "PARAMS (2.0, 2.0, 2.0)\n",
      "COMPLETION RATE 24000/10000000\n",
      "PERCENTAGE CORRECT, 0.518625\n",
      "CONFIDENCE (0.512291812200139, 0.5249586316188312)\n",
      "CONFIDENCE % 2.631382896638211\n",
      "-----------------------------------------------\n"
     ]
    },
    {
     "name": "stderr",
     "output_type": "stream",
     "text": [
      "[Parallel(n_jobs=-1)]: Using backend LokyBackend with 12 concurrent workers.\n",
      "[Parallel(n_jobs=-1)]: Done   1 tasks      | elapsed:   20.9s\n",
      "[Parallel(n_jobs=-1)]: Done   3 out of  12 | elapsed:   20.9s remaining:  1.1min\n",
      "[Parallel(n_jobs=-1)]: Done   5 out of  12 | elapsed:   22.4s remaining:   31.4s\n",
      "[Parallel(n_jobs=-1)]: Done   7 out of  12 | elapsed:   22.5s remaining:   16.1s\n",
      "[Parallel(n_jobs=-1)]: Done   9 out of  12 | elapsed:   23.1s remaining:    7.6s\n",
      "[Parallel(n_jobs=-1)]: Done  12 out of  12 | elapsed:   23.9s finished\n",
      "[Parallel(n_jobs=-1)]: Using backend LokyBackend with 12 concurrent workers.\n"
     ]
    },
    {
     "name": "stdout",
     "output_type": "stream",
     "text": [
      "ERROR RATE 0.09263157894736843\n",
      "TIME FOR BATCH, 24.04774045944214\n",
      "PARAMS (2.0, 2.0, 2.0)\n",
      "COMPLETION RATE 48000/10000000\n",
      "PERCENTAGE CORRECT, 0.5180833333333333\n",
      "CONFIDENCE (0.5136042473696446, 0.5225522152577569)\n",
      "CONFIDENCE % 1.856745887209874\n",
      "-----------------------------------------------\n"
     ]
    },
    {
     "name": "stderr",
     "output_type": "stream",
     "text": [
      "[Parallel(n_jobs=-1)]: Done   1 tasks      | elapsed:   20.6s\n",
      "[Parallel(n_jobs=-1)]: Done   3 out of  12 | elapsed:   20.8s remaining:  1.0min\n",
      "[Parallel(n_jobs=-1)]: Done   5 out of  12 | elapsed:   21.9s remaining:   30.6s\n",
      "[Parallel(n_jobs=-1)]: Done   7 out of  12 | elapsed:   21.9s remaining:   15.6s\n",
      "[Parallel(n_jobs=-1)]: Done   9 out of  12 | elapsed:   22.7s remaining:    7.5s\n",
      "[Parallel(n_jobs=-1)]: Done  12 out of  12 | elapsed:   23.1s finished\n",
      "[Parallel(n_jobs=-1)]: Using backend LokyBackend with 12 concurrent workers.\n"
     ]
    },
    {
     "name": "stdout",
     "output_type": "stream",
     "text": [
      "ERROR RATE 0.09263157894736843\n",
      "TIME FOR BATCH, 23.17844319343567\n",
      "PARAMS (2.0, 2.0, 2.0)\n",
      "COMPLETION RATE 72000/10000000\n",
      "PERCENTAGE CORRECT, 0.517625\n",
      "CONFIDENCE (0.5139722768807029, 0.5212778615343128)\n",
      "CONFIDENCE % 1.5145031673718299\n",
      "-----------------------------------------------\n"
     ]
    },
    {
     "name": "stderr",
     "output_type": "stream",
     "text": [
      "[Parallel(n_jobs=-1)]: Done   1 tasks      | elapsed:   20.4s\n",
      "[Parallel(n_jobs=-1)]: Done   3 out of  12 | elapsed:   20.5s remaining:  1.0min\n",
      "[Parallel(n_jobs=-1)]: Done   5 out of  12 | elapsed:   21.0s remaining:   29.4s\n",
      "[Parallel(n_jobs=-1)]: Done   7 out of  12 | elapsed:   21.1s remaining:   15.0s\n",
      "[Parallel(n_jobs=-1)]: Done   9 out of  12 | elapsed:   21.6s remaining:    7.1s\n",
      "[Parallel(n_jobs=-1)]: Done  12 out of  12 | elapsed:   22.0s finished\n",
      "[Parallel(n_jobs=-1)]: Using backend LokyBackend with 12 concurrent workers.\n"
     ]
    },
    {
     "name": "stdout",
     "output_type": "stream",
     "text": [
      "ERROR RATE 0.09263157894736843\n",
      "TIME FOR BATCH, 22.115196704864502\n",
      "PARAMS (2.0, 2.0, 2.0)\n",
      "COMPLETION RATE 96000/10000000\n",
      "PERCENTAGE CORRECT, 0.5185208333333333\n",
      "CONFIDENCE (0.5153594198429705, 0.5216823553426633)\n",
      "CONFIDENCE % 1.3132313789332029\n",
      "-----------------------------------------------\n"
     ]
    },
    {
     "name": "stderr",
     "output_type": "stream",
     "text": [
      "[Parallel(n_jobs=-1)]: Done   1 tasks      | elapsed:   20.5s\n",
      "[Parallel(n_jobs=-1)]: Done   3 out of  12 | elapsed:   20.6s remaining:  1.0min\n",
      "[Parallel(n_jobs=-1)]: Done   5 out of  12 | elapsed:   21.3s remaining:   29.9s\n",
      "[Parallel(n_jobs=-1)]: Done   7 out of  12 | elapsed:   21.8s remaining:   15.5s\n",
      "[Parallel(n_jobs=-1)]: Done   9 out of  12 | elapsed:   21.8s remaining:    7.2s\n",
      "[Parallel(n_jobs=-1)]: Done  12 out of  12 | elapsed:   22.2s finished\n",
      "[Parallel(n_jobs=-1)]: Using backend LokyBackend with 12 concurrent workers.\n"
     ]
    },
    {
     "name": "stdout",
     "output_type": "stream",
     "text": [
      "ERROR RATE 0.09263157894736843\n",
      "TIME FOR BATCH, 22.275555849075317\n",
      "PARAMS (2.0, 2.0, 2.0)\n",
      "COMPLETION RATE 120000/10000000\n",
      "PERCENTAGE CORRECT, 0.5175916666666667\n",
      "CONFIDENCE (0.5147625346276983, 0.5204208815066034)\n",
      "CONFIDENCE % 1.172937216860909\n",
      "-----------------------------------------------\n"
     ]
    },
    {
     "name": "stderr",
     "output_type": "stream",
     "text": [
      "[Parallel(n_jobs=-1)]: Done   1 tasks      | elapsed:   21.1s\n",
      "[Parallel(n_jobs=-1)]: Done   3 out of  12 | elapsed:   21.3s remaining:  1.1min\n",
      "[Parallel(n_jobs=-1)]: Done   5 out of  12 | elapsed:   21.9s remaining:   30.8s\n",
      "[Parallel(n_jobs=-1)]: Done   7 out of  12 | elapsed:   22.2s remaining:   15.8s\n",
      "[Parallel(n_jobs=-1)]: Done   9 out of  12 | elapsed:   22.7s remaining:    7.5s\n",
      "[Parallel(n_jobs=-1)]: Done  12 out of  12 | elapsed:   22.8s finished\n"
     ]
    },
    {
     "name": "stdout",
     "output_type": "stream",
     "text": [
      "ERROR RATE 0.09263157894736843\n",
      "TIME FOR BATCH, 22.88119387626648\n",
      "PARAMS (2.0, 2.0, 2.0)\n",
      "COMPLETION RATE 144000/10000000\n",
      "PERCENTAGE CORRECT, 0.5177986111111111\n",
      "CONFIDENCE (0.5152153075928003, 0.5203819846094259)\n",
      "CONFIDENCE % 1.071477008502784\n",
      "-----------------------------------------------\n"
     ]
    },
    {
     "name": "stderr",
     "output_type": "stream",
     "text": [
      "[Parallel(n_jobs=-1)]: Using backend LokyBackend with 12 concurrent workers.\n",
      "[Parallel(n_jobs=-1)]: Done   1 tasks      | elapsed:   21.0s\n",
      "[Parallel(n_jobs=-1)]: Done   3 out of  12 | elapsed:   21.1s remaining:  1.1min\n",
      "[Parallel(n_jobs=-1)]: Done   5 out of  12 | elapsed:   21.3s remaining:   29.8s\n",
      "[Parallel(n_jobs=-1)]: Done   7 out of  12 | elapsed:   21.4s remaining:   15.2s\n",
      "[Parallel(n_jobs=-1)]: Done   9 out of  12 | elapsed:   21.4s remaining:    7.1s\n",
      "[Parallel(n_jobs=-1)]: Done  12 out of  12 | elapsed:   21.6s finished\n",
      "[Parallel(n_jobs=-1)]: Using backend LokyBackend with 12 concurrent workers.\n"
     ]
    },
    {
     "name": "stdout",
     "output_type": "stream",
     "text": [
      "ERROR RATE 0.09263157894736843\n",
      "TIME FOR BATCH, 21.69062376022339\n",
      "PARAMS (2.0, 2.0, 2.0)\n",
      "COMPLETION RATE 168000/10000000\n",
      "PERCENTAGE CORRECT, 0.517422619047619\n",
      "CONFIDENCE (0.5150327631656283, 0.519812533217197)\n",
      "CONFIDENCE % 0.9904670712364699\n",
      "-----------------------------------------------\n"
     ]
    },
    {
     "name": "stderr",
     "output_type": "stream",
     "text": [
      "[Parallel(n_jobs=-1)]: Done   1 tasks      | elapsed:   21.1s\n",
      "[Parallel(n_jobs=-1)]: Done   3 out of  12 | elapsed:   21.2s remaining:  1.1min\n",
      "[Parallel(n_jobs=-1)]: Done   5 out of  12 | elapsed:   21.4s remaining:   30.0s\n",
      "[Parallel(n_jobs=-1)]: Done   7 out of  12 | elapsed:   21.4s remaining:   15.2s\n",
      "[Parallel(n_jobs=-1)]: Done   9 out of  12 | elapsed:   21.6s remaining:    7.1s\n",
      "[Parallel(n_jobs=-1)]: Done  12 out of  12 | elapsed:   21.6s finished\n"
     ]
    },
    {
     "name": "stdout",
     "output_type": "stream",
     "text": [
      "ERROR RATE 0.09263157894736843\n",
      "TIME FOR BATCH, 21.736762762069702\n",
      "PARAMS (2.0, 2.0, 2.0)\n",
      "COMPLETION RATE 192000/10000000\n",
      "PERCENTAGE CORRECT, 0.51809375\n",
      "CONFIDENCE (0.5158567941170114, 0.5203307591857831)\n",
      "CONFIDENCE % 0.9283890940969814\n",
      "-----------------------------------------------\n"
     ]
    },
    {
     "name": "stderr",
     "output_type": "stream",
     "text": [
      "[Parallel(n_jobs=-1)]: Using backend LokyBackend with 12 concurrent workers.\n",
      "[Parallel(n_jobs=-1)]: Done   1 tasks      | elapsed:   21.5s\n",
      "[Parallel(n_jobs=-1)]: Done   3 out of  12 | elapsed:   22.0s remaining:  1.1min\n",
      "[Parallel(n_jobs=-1)]: Done   5 out of  12 | elapsed:   22.3s remaining:   31.3s\n",
      "[Parallel(n_jobs=-1)]: Done   7 out of  12 | elapsed:   22.6s remaining:   16.1s\n",
      "[Parallel(n_jobs=-1)]: Done   9 out of  12 | elapsed:   22.8s remaining:    7.5s\n",
      "[Parallel(n_jobs=-1)]: Done  12 out of  12 | elapsed:   23.1s finished\n"
     ]
    },
    {
     "name": "stdout",
     "output_type": "stream",
     "text": [
      "ERROR RATE 0.09263157894736843\n",
      "TIME FOR BATCH, 23.1861834526062\n",
      "PARAMS (2.0, 2.0, 2.0)\n",
      "COMPLETION RATE 216000/10000000\n",
      "PERCENTAGE CORRECT, 0.5176898148148148\n",
      "CONFIDENCE (0.5155810388295305, 0.5197986370611962)\n",
      "CONFIDENCE % 0.874457633534384\n",
      "-----------------------------------------------\n"
     ]
    },
    {
     "name": "stderr",
     "output_type": "stream",
     "text": [
      "[Parallel(n_jobs=-1)]: Using backend LokyBackend with 12 concurrent workers.\n",
      "[Parallel(n_jobs=-1)]: Done   1 tasks      | elapsed:   20.7s\n",
      "[Parallel(n_jobs=-1)]: Done   3 out of  12 | elapsed:   20.8s remaining:  1.0min\n",
      "[Parallel(n_jobs=-1)]: Done   5 out of  12 | elapsed:   21.0s remaining:   29.5s\n",
      "[Parallel(n_jobs=-1)]: Done   7 out of  12 | elapsed:   21.1s remaining:   15.0s\n",
      "[Parallel(n_jobs=-1)]: Done   9 out of  12 | elapsed:   21.1s remaining:    7.0s\n",
      "[Parallel(n_jobs=-1)]: Done  12 out of  12 | elapsed:   21.2s finished\n",
      "[Parallel(n_jobs=-1)]: Using backend LokyBackend with 12 concurrent workers.\n"
     ]
    },
    {
     "name": "stdout",
     "output_type": "stream",
     "text": [
      "ERROR RATE 0.09263157894736843\n",
      "TIME FOR BATCH, 21.35148310661316\n",
      "PARAMS (2.0, 2.0, 2.0)\n",
      "COMPLETION RATE 240000/10000000\n",
      "PERCENTAGE CORRECT, 0.5173375\n",
      "CONFIDENCE (0.5153375179435689, 0.5193375227481227)\n",
      "CONFIDENCE % 0.8287374313425778\n",
      "-----------------------------------------------\n"
     ]
    },
    {
     "name": "stderr",
     "output_type": "stream",
     "text": [
      "[Parallel(n_jobs=-1)]: Done   1 tasks      | elapsed:   21.1s\n",
      "[Parallel(n_jobs=-1)]: Done   3 out of  12 | elapsed:   21.5s remaining:  1.1min\n",
      "[Parallel(n_jobs=-1)]: Done   5 out of  12 | elapsed:   21.5s remaining:   30.1s\n",
      "[Parallel(n_jobs=-1)]: Done   7 out of  12 | elapsed:   21.6s remaining:   15.4s\n",
      "[Parallel(n_jobs=-1)]: Done   9 out of  12 | elapsed:   21.7s remaining:    7.2s\n",
      "[Parallel(n_jobs=-1)]: Done  12 out of  12 | elapsed:   22.0s finished\n",
      "[Parallel(n_jobs=-1)]: Using backend LokyBackend with 12 concurrent workers.\n"
     ]
    },
    {
     "name": "stdout",
     "output_type": "stream",
     "text": [
      "ERROR RATE 0.09263157894736843\n",
      "TIME FOR BATCH, 22.069433450698853\n",
      "PARAMS (2.0, 2.0, 2.0)\n",
      "COMPLETION RATE 264000/10000000\n",
      "PERCENTAGE CORRECT, 0.5165113636363636\n",
      "CONFIDENCE (0.5146041822115637, 0.5184185803133032)\n",
      "CONFIDENCE % 0.7889323170918774\n",
      "-----------------------------------------------\n"
     ]
    },
    {
     "name": "stderr",
     "output_type": "stream",
     "text": [
      "[Parallel(n_jobs=-1)]: Done   1 tasks      | elapsed:   20.7s\n",
      "[Parallel(n_jobs=-1)]: Done   3 out of  12 | elapsed:   20.7s remaining:  1.0min\n",
      "[Parallel(n_jobs=-1)]: Done   5 out of  12 | elapsed:   20.9s remaining:   29.3s\n",
      "[Parallel(n_jobs=-1)]: Done   7 out of  12 | elapsed:   21.0s remaining:   15.0s\n",
      "[Parallel(n_jobs=-1)]: Done   9 out of  12 | elapsed:   21.1s remaining:    7.0s\n",
      "[Parallel(n_jobs=-1)]: Done  12 out of  12 | elapsed:   21.2s finished\n"
     ]
    },
    {
     "name": "stdout",
     "output_type": "stream",
     "text": [
      "ERROR RATE 0.09263157894736843\n",
      "TIME FOR BATCH, 21.298027276992798\n",
      "PARAMS (2.0, 2.0, 2.0)\n",
      "COMPLETION RATE 288000/10000000\n",
      "PERCENTAGE CORRECT, 0.5163020833333334\n",
      "CONFIDENCE (0.514475708592662, 0.5181284900376506)\n",
      "CONFIDENCE % 0.755178246406601\n",
      "-----------------------------------------------\n"
     ]
    },
    {
     "name": "stderr",
     "output_type": "stream",
     "text": [
      "[Parallel(n_jobs=-1)]: Using backend LokyBackend with 12 concurrent workers.\n",
      "[Parallel(n_jobs=-1)]: Done   1 tasks      | elapsed:   20.7s\n",
      "[Parallel(n_jobs=-1)]: Done   3 out of  12 | elapsed:   20.9s remaining:  1.0min\n",
      "[Parallel(n_jobs=-1)]: Done   5 out of  12 | elapsed:   21.4s remaining:   29.9s\n",
      "[Parallel(n_jobs=-1)]: Done   7 out of  12 | elapsed:   21.5s remaining:   15.3s\n",
      "[Parallel(n_jobs=-1)]: Done   9 out of  12 | elapsed:   21.6s remaining:    7.1s\n",
      "[Parallel(n_jobs=-1)]: Done  12 out of  12 | elapsed:   21.7s finished\n"
     ]
    },
    {
     "name": "stdout",
     "output_type": "stream",
     "text": [
      "ERROR RATE 0.09263157894736843\n",
      "TIME FOR BATCH, 21.81211256980896\n",
      "PARAMS (2.0, 2.0, 2.0)\n",
      "COMPLETION RATE 312000/10000000\n",
      "PERCENTAGE CORRECT, 0.5160673076923077\n",
      "CONFIDENCE (0.5143125129108329, 0.517822131558453)\n",
      "CONFIDENCE % 0.7252286740298677\n",
      "-----------------------------------------------\n"
     ]
    },
    {
     "name": "stderr",
     "output_type": "stream",
     "text": [
      "[Parallel(n_jobs=-1)]: Using backend LokyBackend with 12 concurrent workers.\n",
      "[Parallel(n_jobs=-1)]: Done   1 tasks      | elapsed:   21.1s\n",
      "[Parallel(n_jobs=-1)]: Done   3 out of  12 | elapsed:   21.2s remaining:  1.1min\n",
      "[Parallel(n_jobs=-1)]: Done   5 out of  12 | elapsed:   21.3s remaining:   29.9s\n",
      "[Parallel(n_jobs=-1)]: Done   7 out of  12 | elapsed:   21.3s remaining:   15.2s\n",
      "[Parallel(n_jobs=-1)]: Done   9 out of  12 | elapsed:   21.4s remaining:    7.1s\n",
      "[Parallel(n_jobs=-1)]: Done  12 out of  12 | elapsed:   21.6s finished\n"
     ]
    },
    {
     "name": "stdout",
     "output_type": "stream",
     "text": [
      "ERROR RATE 0.09263157894736843\n",
      "TIME FOR BATCH, 21.678640127182007\n",
      "PARAMS (2.0, 2.0, 2.0)\n",
      "COMPLETION RATE 336000/10000000\n",
      "PERCENTAGE CORRECT, 0.5158244047619047\n",
      "CONFIDENCE (0.5141339403800782, 0.5175148956663629)\n",
      "CONFIDENCE % 0.6982911405565749\n",
      "-----------------------------------------------\n"
     ]
    },
    {
     "name": "stderr",
     "output_type": "stream",
     "text": [
      "[Parallel(n_jobs=-1)]: Using backend LokyBackend with 12 concurrent workers.\n",
      "[Parallel(n_jobs=-1)]: Done   1 tasks      | elapsed:   20.8s\n",
      "[Parallel(n_jobs=-1)]: Done   3 out of  12 | elapsed:   20.9s remaining:  1.0min\n",
      "[Parallel(n_jobs=-1)]: Done   5 out of  12 | elapsed:   21.0s remaining:   29.4s\n",
      "[Parallel(n_jobs=-1)]: Done   7 out of  12 | elapsed:   21.1s remaining:   15.0s\n",
      "[Parallel(n_jobs=-1)]: Done   9 out of  12 | elapsed:   21.4s remaining:    7.1s\n",
      "[Parallel(n_jobs=-1)]: Done  12 out of  12 | elapsed:   21.5s finished\n"
     ]
    },
    {
     "name": "stdout",
     "output_type": "stream",
     "text": [
      "ERROR RATE 0.09263157894736843\n",
      "TIME FOR BATCH, 21.65054965019226\n",
      "PARAMS (2.0, 2.0, 2.0)\n",
      "COMPLETION RATE 360000/10000000\n",
      "PERCENTAGE CORRECT, 0.5156583333333333\n",
      "CONFIDENCE (0.5140250109470703, 0.5172916802370434)\n",
      "CONFIDENCE % 0.6744555578823009\n",
      "-----------------------------------------------\n"
     ]
    },
    {
     "name": "stderr",
     "output_type": "stream",
     "text": [
      "[Parallel(n_jobs=-1)]: Using backend LokyBackend with 12 concurrent workers.\n",
      "[Parallel(n_jobs=-1)]: Done   1 tasks      | elapsed:   21.0s\n",
      "[Parallel(n_jobs=-1)]: Done   3 out of  12 | elapsed:   21.0s remaining:  1.1min\n",
      "[Parallel(n_jobs=-1)]: Done   5 out of  12 | elapsed:   21.2s remaining:   29.7s\n",
      "[Parallel(n_jobs=-1)]: Done   7 out of  12 | elapsed:   21.4s remaining:   15.2s\n",
      "[Parallel(n_jobs=-1)]: Done   9 out of  12 | elapsed:   21.5s remaining:    7.1s\n",
      "[Parallel(n_jobs=-1)]: Done  12 out of  12 | elapsed:   21.6s finished\n"
     ]
    },
    {
     "name": "stdout",
     "output_type": "stream",
     "text": [
      "ERROR RATE 0.09263157894736843\n",
      "TIME FOR BATCH, 21.748645067214966\n",
      "PARAMS (2.0, 2.0, 2.0)\n",
      "COMPLETION RATE 384000/10000000\n",
      "PERCENTAGE CORRECT, 0.5158463541666667\n",
      "CONFIDENCE (0.5142643333837613, 0.5174270961020906)\n",
      "CONFIDENCE % 0.6532559953949062\n",
      "-----------------------------------------------\n"
     ]
    },
    {
     "name": "stderr",
     "output_type": "stream",
     "text": [
      "[Parallel(n_jobs=-1)]: Using backend LokyBackend with 12 concurrent workers.\n",
      "[Parallel(n_jobs=-1)]: Done   1 tasks      | elapsed:   20.4s\n",
      "[Parallel(n_jobs=-1)]: Done   3 out of  12 | elapsed:   20.7s remaining:  1.0min\n",
      "[Parallel(n_jobs=-1)]: Done   5 out of  12 | elapsed:   20.8s remaining:   29.1s\n",
      "[Parallel(n_jobs=-1)]: Done   7 out of  12 | elapsed:   20.9s remaining:   14.9s\n",
      "[Parallel(n_jobs=-1)]: Done   9 out of  12 | elapsed:   21.2s remaining:    7.0s\n",
      "[Parallel(n_jobs=-1)]: Done  12 out of  12 | elapsed:   21.5s finished\n",
      "[Parallel(n_jobs=-1)]: Using backend LokyBackend with 12 concurrent workers.\n"
     ]
    },
    {
     "name": "stdout",
     "output_type": "stream",
     "text": [
      "ERROR RATE 0.09263157894736843\n",
      "TIME FOR BATCH, 21.650150537490845\n",
      "PARAMS (2.0, 2.0, 2.0)\n",
      "COMPLETION RATE 408000/10000000\n",
      "PERCENTAGE CORRECT, 0.5158259803921569\n",
      "CONFIDENCE (0.5142916765115313, 0.5173603061450192)\n",
      "CONFIDENCE % 0.633786512538054\n",
      "-----------------------------------------------\n"
     ]
    },
    {
     "name": "stderr",
     "output_type": "stream",
     "text": [
      "[Parallel(n_jobs=-1)]: Done   1 tasks      | elapsed:   21.4s\n",
      "[Parallel(n_jobs=-1)]: Done   3 out of  12 | elapsed:   22.1s remaining:  1.1min\n",
      "[Parallel(n_jobs=-1)]: Done   5 out of  12 | elapsed:   22.3s remaining:   31.3s\n",
      "[Parallel(n_jobs=-1)]: Done   7 out of  12 | elapsed:   22.4s remaining:   16.0s\n",
      "[Parallel(n_jobs=-1)]: Done   9 out of  12 | elapsed:   22.5s remaining:    7.4s\n",
      "[Parallel(n_jobs=-1)]: Done  12 out of  12 | elapsed:   22.9s finished\n"
     ]
    },
    {
     "name": "stdout",
     "output_type": "stream",
     "text": [
      "ERROR RATE 0.09263157894736843\n",
      "TIME FOR BATCH, 22.991267919540405\n",
      "PARAMS (2.0, 2.0, 2.0)\n",
      "COMPLETION RATE 432000/10000000\n",
      "PERCENTAGE CORRECT, 0.5160046296296297\n",
      "CONFIDENCE (0.5145138983141465, 0.5174953818002672)\n",
      "CONFIDENCE % 0.6160148771338804\n",
      "-----------------------------------------------\n"
     ]
    },
    {
     "name": "stderr",
     "output_type": "stream",
     "text": [
      "[Parallel(n_jobs=-1)]: Using backend LokyBackend with 12 concurrent workers.\n",
      "[Parallel(n_jobs=-1)]: Done   1 tasks      | elapsed:   20.8s\n",
      "[Parallel(n_jobs=-1)]: Done   3 out of  12 | elapsed:   20.9s remaining:  1.1min\n",
      "[Parallel(n_jobs=-1)]: Done   5 out of  12 | elapsed:   21.5s remaining:   30.1s\n",
      "[Parallel(n_jobs=-1)]: Done   7 out of  12 | elapsed:   21.6s remaining:   15.4s\n",
      "[Parallel(n_jobs=-1)]: Done   9 out of  12 | elapsed:   21.6s remaining:    7.1s\n",
      "[Parallel(n_jobs=-1)]: Done  12 out of  12 | elapsed:   21.8s finished\n"
     ]
    },
    {
     "name": "stdout",
     "output_type": "stream",
     "text": [
      "ERROR RATE 0.09263157894736843\n",
      "TIME FOR BATCH, 21.889934539794922\n",
      "PARAMS (2.0, 2.0, 2.0)\n",
      "COMPLETION RATE 456000/10000000\n",
      "PERCENTAGE CORRECT, 0.5158530701754386\n",
      "CONFIDENCE (0.5144024211221591, 0.5173037387529449)\n",
      "CONFIDENCE % 0.5992638705438382\n",
      "-----------------------------------------------\n"
     ]
    },
    {
     "name": "stderr",
     "output_type": "stream",
     "text": [
      "[Parallel(n_jobs=-1)]: Using backend LokyBackend with 12 concurrent workers.\n",
      "[Parallel(n_jobs=-1)]: Done   1 tasks      | elapsed:   20.6s\n",
      "[Parallel(n_jobs=-1)]: Done   3 out of  12 | elapsed:   20.8s remaining:  1.0min\n",
      "[Parallel(n_jobs=-1)]: Done   5 out of  12 | elapsed:   20.9s remaining:   29.3s\n",
      "[Parallel(n_jobs=-1)]: Done   7 out of  12 | elapsed:   21.0s remaining:   14.9s\n",
      "[Parallel(n_jobs=-1)]: Done   9 out of  12 | elapsed:   21.1s remaining:    7.0s\n",
      "[Parallel(n_jobs=-1)]: Done  12 out of  12 | elapsed:   21.2s finished\n",
      "[Parallel(n_jobs=-1)]: Using backend LokyBackend with 12 concurrent workers.\n"
     ]
    },
    {
     "name": "stdout",
     "output_type": "stream",
     "text": [
      "ERROR RATE 0.09368421052631579\n",
      "TIME FOR BATCH, 21.291665077209473\n",
      "PARAMS (2.0, 2.0, 2.0)\n",
      "COMPLETION RATE 24000/10000000\n",
      "PERCENTAGE CORRECT, 0.503875\n",
      "CONFIDENCE (0.49754163753676206, 0.5102084542493092)\n",
      "CONFIDENCE % 2.5531502570011795\n",
      "-----------------------------------------------\n"
     ]
    },
    {
     "name": "stderr",
     "output_type": "stream",
     "text": [
      "[Parallel(n_jobs=-1)]: Done   1 tasks      | elapsed:   21.2s\n",
      "[Parallel(n_jobs=-1)]: Done   3 out of  12 | elapsed:   21.4s remaining:  1.1min\n",
      "[Parallel(n_jobs=-1)]: Done   5 out of  12 | elapsed:   21.5s remaining:   30.1s\n",
      "[Parallel(n_jobs=-1)]: Done   7 out of  12 | elapsed:   21.8s remaining:   15.6s\n",
      "[Parallel(n_jobs=-1)]: Done   9 out of  12 | elapsed:   21.8s remaining:    7.2s\n",
      "[Parallel(n_jobs=-1)]: Done  12 out of  12 | elapsed:   22.1s finished\n",
      "[Parallel(n_jobs=-1)]: Using backend LokyBackend with 12 concurrent workers.\n"
     ]
    },
    {
     "name": "stdout",
     "output_type": "stream",
     "text": [
      "ERROR RATE 0.09368421052631579\n",
      "TIME FOR BATCH, 22.206244707107544\n",
      "PARAMS (2.0, 2.0, 2.0)\n",
      "COMPLETION RATE 48000/10000000\n",
      "PERCENTAGE CORRECT, 0.5071875\n",
      "CONFIDENCE (0.5027083492939738, 0.5116667359334899)\n",
      "CONFIDENCE % 1.817808322539727\n",
      "-----------------------------------------------\n"
     ]
    },
    {
     "name": "stderr",
     "output_type": "stream",
     "text": [
      "[Parallel(n_jobs=-1)]: Done   1 tasks      | elapsed:   21.1s\n",
      "[Parallel(n_jobs=-1)]: Done   3 out of  12 | elapsed:   21.2s remaining:  1.1min\n",
      "[Parallel(n_jobs=-1)]: Done   5 out of  12 | elapsed:   21.4s remaining:   30.0s\n",
      "[Parallel(n_jobs=-1)]: Done   7 out of  12 | elapsed:   21.4s remaining:   15.3s\n",
      "[Parallel(n_jobs=-1)]: Done   9 out of  12 | elapsed:   21.8s remaining:    7.2s\n",
      "[Parallel(n_jobs=-1)]: Done  12 out of  12 | elapsed:   22.1s finished\n",
      "[Parallel(n_jobs=-1)]: Using backend LokyBackend with 12 concurrent workers.\n"
     ]
    },
    {
     "name": "stdout",
     "output_type": "stream",
     "text": [
      "ERROR RATE 0.09368421052631579\n",
      "TIME FOR BATCH, 22.162989139556885\n",
      "PARAMS (2.0, 2.0, 2.0)\n",
      "COMPLETION RATE 72000/10000000\n",
      "PERCENTAGE CORRECT, 0.5095833333333334\n",
      "CONFIDENCE (0.5059305786600843, 0.5132361629640295)\n",
      "CONFIDENCE % 1.4896688470236672\n",
      "-----------------------------------------------\n"
     ]
    },
    {
     "name": "stderr",
     "output_type": "stream",
     "text": [
      "[Parallel(n_jobs=-1)]: Done   1 tasks      | elapsed:   21.5s\n",
      "[Parallel(n_jobs=-1)]: Done   3 out of  12 | elapsed:   21.6s remaining:  1.1min\n",
      "[Parallel(n_jobs=-1)]: Done   5 out of  12 | elapsed:   21.6s remaining:   30.3s\n",
      "[Parallel(n_jobs=-1)]: Done   7 out of  12 | elapsed:   21.7s remaining:   15.5s\n",
      "[Parallel(n_jobs=-1)]: Done   9 out of  12 | elapsed:   21.8s remaining:    7.2s\n",
      "[Parallel(n_jobs=-1)]: Done  12 out of  12 | elapsed:   22.0s finished\n"
     ]
    },
    {
     "name": "stdout",
     "output_type": "stream",
     "text": [
      "ERROR RATE 0.09368421052631579\n",
      "TIME FOR BATCH, 22.11838960647583\n",
      "PARAMS (2.0, 2.0, 2.0)\n",
      "COMPLETION RATE 96000/10000000\n",
      "PERCENTAGE CORRECT, 0.5104895833333334\n",
      "CONFIDENCE (0.5073229382723567, 0.513656290523723)\n",
      "CONFIDENCE % 1.2938135810251679\n",
      "-----------------------------------------------\n"
     ]
    },
    {
     "name": "stderr",
     "output_type": "stream",
     "text": [
      "[Parallel(n_jobs=-1)]: Using backend LokyBackend with 12 concurrent workers.\n",
      "[Parallel(n_jobs=-1)]: Done   1 tasks      | elapsed:   21.3s\n",
      "[Parallel(n_jobs=-1)]: Done   3 out of  12 | elapsed:   21.4s remaining:  1.1min\n",
      "[Parallel(n_jobs=-1)]: Done   5 out of  12 | elapsed:   21.5s remaining:   30.1s\n",
      "[Parallel(n_jobs=-1)]: Done   7 out of  12 | elapsed:   21.5s remaining:   15.3s\n",
      "[Parallel(n_jobs=-1)]: Done   9 out of  12 | elapsed:   21.5s remaining:    7.1s\n",
      "[Parallel(n_jobs=-1)]: Done  12 out of  12 | elapsed:   21.6s finished\n"
     ]
    },
    {
     "name": "stdout",
     "output_type": "stream",
     "text": [
      "ERROR RATE 0.09368421052631579\n",
      "TIME FOR BATCH, 21.68524956703186\n",
      "PARAMS (2.0, 2.0, 2.0)\n",
      "COMPLETION RATE 120000/10000000\n",
      "PERCENTAGE CORRECT, 0.510475\n",
      "CONFIDENCE (0.5076458511978228, 0.5133041979218289)\n",
      "CONFIDENCE % 1.1558851384517876\n",
      "-----------------------------------------------\n"
     ]
    },
    {
     "name": "stderr",
     "output_type": "stream",
     "text": [
      "[Parallel(n_jobs=-1)]: Using backend LokyBackend with 12 concurrent workers.\n",
      "[Parallel(n_jobs=-1)]: Done   1 tasks      | elapsed:   20.7s\n",
      "[Parallel(n_jobs=-1)]: Done   3 out of  12 | elapsed:   20.8s remaining:  1.0min\n",
      "[Parallel(n_jobs=-1)]: Done   5 out of  12 | elapsed:   20.9s remaining:   29.3s\n",
      "[Parallel(n_jobs=-1)]: Done   7 out of  12 | elapsed:   21.0s remaining:   15.0s\n",
      "[Parallel(n_jobs=-1)]: Done   9 out of  12 | elapsed:   21.3s remaining:    7.0s\n",
      "[Parallel(n_jobs=-1)]: Done  12 out of  12 | elapsed:   21.4s finished\n"
     ]
    },
    {
     "name": "stdout",
     "output_type": "stream",
     "text": [
      "ERROR RATE 0.09368421052631579\n",
      "TIME FOR BATCH, 21.47563600540161\n",
      "PARAMS (2.0, 2.0, 2.0)\n",
      "COMPLETION RATE 144000/10000000\n",
      "PERCENTAGE CORRECT, 0.5116111111111111\n",
      "CONFIDENCE (0.5090277954072103, 0.5141944723156893)\n",
      "CONFIDENCE % 1.05790222218884\n",
      "-----------------------------------------------\n"
     ]
    },
    {
     "name": "stderr",
     "output_type": "stream",
     "text": [
      "[Parallel(n_jobs=-1)]: Using backend LokyBackend with 12 concurrent workers.\n",
      "[Parallel(n_jobs=-1)]: Done   1 tasks      | elapsed:   21.5s\n",
      "[Parallel(n_jobs=-1)]: Done   3 out of  12 | elapsed:   21.5s remaining:  1.1min\n",
      "[Parallel(n_jobs=-1)]: Done   5 out of  12 | elapsed:   23.0s remaining:   32.2s\n",
      "[Parallel(n_jobs=-1)]: Done   7 out of  12 | elapsed:   23.4s remaining:   16.7s\n",
      "[Parallel(n_jobs=-1)]: Done   9 out of  12 | elapsed:   24.3s remaining:    8.0s\n",
      "[Parallel(n_jobs=-1)]: Done  12 out of  12 | elapsed:   24.7s finished\n"
     ]
    },
    {
     "name": "stdout",
     "output_type": "stream",
     "text": [
      "ERROR RATE 0.09368421052631579\n",
      "TIME FOR BATCH, 24.815447330474854\n",
      "PARAMS (2.0, 2.0, 2.0)\n",
      "COMPLETION RATE 168000/10000000\n",
      "PERCENTAGE CORRECT, 0.5104583333333333\n",
      "CONFIDENCE (0.5080654897394044, 0.512851212197689)\n",
      "CONFIDENCE % 0.9775924674340993\n",
      "-----------------------------------------------\n"
     ]
    },
    {
     "name": "stderr",
     "output_type": "stream",
     "text": [
      "[Parallel(n_jobs=-1)]: Using backend LokyBackend with 12 concurrent workers.\n",
      "[Parallel(n_jobs=-1)]: Done   1 tasks      | elapsed:   21.5s\n",
      "[Parallel(n_jobs=-1)]: Done   3 out of  12 | elapsed:   22.2s remaining:  1.1min\n",
      "[Parallel(n_jobs=-1)]: Done   5 out of  12 | elapsed:   22.7s remaining:   31.8s\n",
      "[Parallel(n_jobs=-1)]: Done   7 out of  12 | elapsed:   24.2s remaining:   17.3s\n",
      "[Parallel(n_jobs=-1)]: Done   9 out of  12 | elapsed:   24.4s remaining:    8.1s\n",
      "[Parallel(n_jobs=-1)]: Done  12 out of  12 | elapsed:   25.4s finished\n",
      "[Parallel(n_jobs=-1)]: Using backend LokyBackend with 12 concurrent workers.\n"
     ]
    },
    {
     "name": "stdout",
     "output_type": "stream",
     "text": [
      "ERROR RATE 0.09368421052631579\n",
      "TIME FOR BATCH, 25.538447618484497\n",
      "PARAMS (2.0, 2.0, 2.0)\n",
      "COMPLETION RATE 192000/10000000\n",
      "PERCENTAGE CORRECT, 0.51065625\n",
      "CONFIDENCE (0.5084192831433871, 0.5128932481270697)\n",
      "CONFIDENCE % 0.9142785585148634\n",
      "-----------------------------------------------\n"
     ]
    },
    {
     "name": "stderr",
     "output_type": "stream",
     "text": [
      "[Parallel(n_jobs=-1)]: Done   1 tasks      | elapsed:   21.1s\n",
      "[Parallel(n_jobs=-1)]: Done   3 out of  12 | elapsed:   21.7s remaining:  1.1min\n",
      "[Parallel(n_jobs=-1)]: Done   5 out of  12 | elapsed:   22.0s remaining:   30.9s\n",
      "[Parallel(n_jobs=-1)]: Done   7 out of  12 | elapsed:   22.8s remaining:   16.2s\n",
      "[Parallel(n_jobs=-1)]: Done   9 out of  12 | elapsed:   23.1s remaining:    7.6s\n",
      "[Parallel(n_jobs=-1)]: Done  12 out of  12 | elapsed:   24.1s finished\n",
      "[Parallel(n_jobs=-1)]: Using backend LokyBackend with 12 concurrent workers.\n"
     ]
    },
    {
     "name": "stdout",
     "output_type": "stream",
     "text": [
      "ERROR RATE 0.09368421052631579\n",
      "TIME FOR BATCH, 24.19242238998413\n",
      "PARAMS (2.0, 2.0, 2.0)\n",
      "COMPLETION RATE 216000/10000000\n",
      "PERCENTAGE CORRECT, 0.5106388888888889\n",
      "CONFIDENCE (0.5085301036648385, 0.5127477018308456)\n",
      "CONFIDENCE % 0.8618580574232565\n",
      "-----------------------------------------------\n"
     ]
    },
    {
     "name": "stderr",
     "output_type": "stream",
     "text": [
      "[Parallel(n_jobs=-1)]: Done   1 tasks      | elapsed:   20.4s\n",
      "[Parallel(n_jobs=-1)]: Done   3 out of  12 | elapsed:   20.5s remaining:  1.0min\n",
      "[Parallel(n_jobs=-1)]: Done   5 out of  12 | elapsed:   20.7s remaining:   29.0s\n",
      "[Parallel(n_jobs=-1)]: Done   7 out of  12 | elapsed:   20.9s remaining:   14.9s\n",
      "[Parallel(n_jobs=-1)]: Done   9 out of  12 | elapsed:   22.1s remaining:    7.3s\n",
      "[Parallel(n_jobs=-1)]: Done  12 out of  12 | elapsed:   22.2s finished\n"
     ]
    },
    {
     "name": "stdout",
     "output_type": "stream",
     "text": [
      "ERROR RATE 0.09368421052631579\n",
      "TIME FOR BATCH, 22.32689356803894\n",
      "PARAMS (2.0, 2.0, 2.0)\n",
      "COMPLETION RATE 240000/10000000\n",
      "PERCENTAGE CORRECT, 0.5109458333333333\n",
      "CONFIDENCE (0.5089437605158845, 0.5129458485097829)\n",
      "CONFIDENCE % 0.8183322557450193\n",
      "-----------------------------------------------\n"
     ]
    },
    {
     "name": "stderr",
     "output_type": "stream",
     "text": [
      "[Parallel(n_jobs=-1)]: Using backend LokyBackend with 12 concurrent workers.\n",
      "[Parallel(n_jobs=-1)]: Done   1 tasks      | elapsed:   21.4s\n",
      "[Parallel(n_jobs=-1)]: Done   3 out of  12 | elapsed:   21.5s remaining:  1.1min\n",
      "[Parallel(n_jobs=-1)]: Done   5 out of  12 | elapsed:   21.6s remaining:   30.3s\n",
      "[Parallel(n_jobs=-1)]: Done   7 out of  12 | elapsed:   21.7s remaining:   15.5s\n",
      "[Parallel(n_jobs=-1)]: Done   9 out of  12 | elapsed:   22.1s remaining:    7.3s\n",
      "[Parallel(n_jobs=-1)]: Done  12 out of  12 | elapsed:   22.6s finished\n",
      "[Parallel(n_jobs=-1)]: Using backend LokyBackend with 12 concurrent workers.\n"
     ]
    },
    {
     "name": "stdout",
     "output_type": "stream",
     "text": [
      "ERROR RATE 0.09368421052631579\n",
      "TIME FOR BATCH, 22.702138900756836\n",
      "PARAMS (2.0, 2.0, 2.0)\n",
      "COMPLETION RATE 264000/10000000\n",
      "PERCENTAGE CORRECT, 0.5107727272727273\n",
      "CONFIDENCE (0.5088655397050175, 0.5126799377728906)\n",
      "CONFIDENCE % 0.7796781333569455\n",
      "-----------------------------------------------\n"
     ]
    },
    {
     "name": "stderr",
     "output_type": "stream",
     "text": [
      "[Parallel(n_jobs=-1)]: Done   1 tasks      | elapsed:   20.7s\n",
      "[Parallel(n_jobs=-1)]: Done   3 out of  12 | elapsed:   20.9s remaining:  1.0min\n",
      "[Parallel(n_jobs=-1)]: Done   5 out of  12 | elapsed:   21.8s remaining:   30.6s\n",
      "[Parallel(n_jobs=-1)]: Done   7 out of  12 | elapsed:   22.1s remaining:   15.7s\n",
      "[Parallel(n_jobs=-1)]: Done   9 out of  12 | elapsed:   22.6s remaining:    7.5s\n",
      "[Parallel(n_jobs=-1)]: Done  12 out of  12 | elapsed:   22.7s finished\n"
     ]
    },
    {
     "name": "stdout",
     "output_type": "stream",
     "text": [
      "ERROR RATE 0.09368421052631579\n",
      "TIME FOR BATCH, 22.800732135772705\n",
      "PARAMS (2.0, 2.0, 2.0)\n",
      "COMPLETION RATE 288000/10000000\n",
      "PERCENTAGE CORRECT, 0.5111111111111111\n",
      "CONFIDENCE (0.5092847312676263, 0.5129375126870103)\n",
      "CONFIDENCE % 0.7471598357830839\n",
      "-----------------------------------------------\n"
     ]
    },
    {
     "name": "stderr",
     "output_type": "stream",
     "text": [
      "[Parallel(n_jobs=-1)]: Using backend LokyBackend with 12 concurrent workers.\n",
      "[Parallel(n_jobs=-1)]: Done   1 tasks      | elapsed:   21.1s\n",
      "[Parallel(n_jobs=-1)]: Done   3 out of  12 | elapsed:   21.4s remaining:  1.1min\n",
      "[Parallel(n_jobs=-1)]: Done   5 out of  12 | elapsed:   22.7s remaining:   31.8s\n",
      "[Parallel(n_jobs=-1)]: Done   7 out of  12 | elapsed:   22.9s remaining:   16.3s\n",
      "[Parallel(n_jobs=-1)]: Done   9 out of  12 | elapsed:   23.6s remaining:    7.8s\n",
      "[Parallel(n_jobs=-1)]: Done  12 out of  12 | elapsed:   24.1s finished\n",
      "[Parallel(n_jobs=-1)]: Using backend LokyBackend with 12 concurrent workers.\n"
     ]
    },
    {
     "name": "stdout",
     "output_type": "stream",
     "text": [
      "ERROR RATE 0.09368421052631579\n",
      "TIME FOR BATCH, 24.178871154785156\n",
      "PARAMS (2.0, 2.0, 2.0)\n",
      "COMPLETION RATE 312000/10000000\n",
      "PERCENTAGE CORRECT, 0.5109294871794872\n",
      "CONFIDENCE (0.5091746877400216, 0.5126843063553198)\n",
      "CONFIDENCE % 0.7176099403453937\n",
      "-----------------------------------------------\n"
     ]
    },
    {
     "name": "stderr",
     "output_type": "stream",
     "text": [
      "[Parallel(n_jobs=-1)]: Done   1 tasks      | elapsed:   20.3s\n",
      "[Parallel(n_jobs=-1)]: Done   3 out of  12 | elapsed:   20.5s remaining:  1.0min\n",
      "[Parallel(n_jobs=-1)]: Done   5 out of  12 | elapsed:   21.5s remaining:   30.1s\n",
      "[Parallel(n_jobs=-1)]: Done   7 out of  12 | elapsed:   21.9s remaining:   15.6s\n",
      "[Parallel(n_jobs=-1)]: Done   9 out of  12 | elapsed:   22.2s remaining:    7.3s\n",
      "[Parallel(n_jobs=-1)]: Done  12 out of  12 | elapsed:   22.5s finished\n",
      "[Parallel(n_jobs=-1)]: Using backend LokyBackend with 12 concurrent workers.\n"
     ]
    },
    {
     "name": "stdout",
     "output_type": "stream",
     "text": [
      "ERROR RATE 0.09368421052631579\n",
      "TIME FOR BATCH, 22.605690240859985\n",
      "PARAMS (2.0, 2.0, 2.0)\n",
      "COMPLETION RATE 336000/10000000\n",
      "PERCENTAGE CORRECT, 0.510827380952381\n",
      "CONFIDENCE (0.509136912371392, 0.5125178676370057)\n",
      "CONFIDENCE % 0.6911579131710434\n",
      "-----------------------------------------------\n"
     ]
    },
    {
     "name": "stderr",
     "output_type": "stream",
     "text": [
      "[Parallel(n_jobs=-1)]: Done   1 tasks      | elapsed:   20.7s\n",
      "[Parallel(n_jobs=-1)]: Done   3 out of  12 | elapsed:   20.9s remaining:  1.0min\n",
      "[Parallel(n_jobs=-1)]: Done   5 out of  12 | elapsed:   20.9s remaining:   29.4s\n",
      "[Parallel(n_jobs=-1)]: Done   7 out of  12 | elapsed:   21.1s remaining:   15.0s\n",
      "[Parallel(n_jobs=-1)]: Done   9 out of  12 | elapsed:   21.3s remaining:    7.0s\n",
      "[Parallel(n_jobs=-1)]: Done  12 out of  12 | elapsed:   21.7s finished\n",
      "[Parallel(n_jobs=-1)]: Using backend LokyBackend with 12 concurrent workers.\n"
     ]
    },
    {
     "name": "stdout",
     "output_type": "stream",
     "text": [
      "ERROR RATE 0.09368421052631579\n",
      "TIME FOR BATCH, 21.793505430221558\n",
      "PARAMS (2.0, 2.0, 2.0)\n",
      "COMPLETION RATE 360000/10000000\n",
      "PERCENTAGE CORRECT, 0.5102805555555555\n",
      "CONFIDENCE (0.5086472289482995, 0.5119138982192797)\n",
      "CONFIDENCE % 0.6670491253795345\n",
      "-----------------------------------------------\n"
     ]
    },
    {
     "name": "stderr",
     "output_type": "stream",
     "text": [
      "[Parallel(n_jobs=-1)]: Done   1 tasks      | elapsed:   20.9s\n",
      "[Parallel(n_jobs=-1)]: Done   3 out of  12 | elapsed:   21.0s remaining:  1.1min\n",
      "[Parallel(n_jobs=-1)]: Done   5 out of  12 | elapsed:   21.2s remaining:   29.7s\n",
      "[Parallel(n_jobs=-1)]: Done   7 out of  12 | elapsed:   21.2s remaining:   15.1s\n",
      "[Parallel(n_jobs=-1)]: Done   9 out of  12 | elapsed:   21.4s remaining:    7.1s\n",
      "[Parallel(n_jobs=-1)]: Done  12 out of  12 | elapsed:   21.4s finished\n"
     ]
    },
    {
     "name": "stdout",
     "output_type": "stream",
     "text": [
      "ERROR RATE 0.09368421052631579\n",
      "TIME FOR BATCH, 21.51754093170166\n",
      "PARAMS (2.0, 2.0, 2.0)\n",
      "COMPLETION RATE 384000/10000000\n",
      "PERCENTAGE CORRECT, 0.5098359375\n",
      "CONFIDENCE (0.5082539122826619, 0.5114179771605875)\n",
      "CONFIDENCE % 0.6455113950597984\n",
      "-----------------------------------------------\n"
     ]
    },
    {
     "name": "stderr",
     "output_type": "stream",
     "text": [
      "[Parallel(n_jobs=-1)]: Using backend LokyBackend with 12 concurrent workers.\n",
      "[Parallel(n_jobs=-1)]: Done   1 tasks      | elapsed:   20.9s\n",
      "[Parallel(n_jobs=-1)]: Done   3 out of  12 | elapsed:   21.1s remaining:  1.1min\n",
      "[Parallel(n_jobs=-1)]: Done   5 out of  12 | elapsed:   21.2s remaining:   29.8s\n",
      "[Parallel(n_jobs=-1)]: Done   7 out of  12 | elapsed:   21.6s remaining:   15.4s\n",
      "[Parallel(n_jobs=-1)]: Done   9 out of  12 | elapsed:   21.8s remaining:    7.2s\n",
      "[Parallel(n_jobs=-1)]: Done  12 out of  12 | elapsed:   22.1s finished\n",
      "[Parallel(n_jobs=-1)]: Using backend LokyBackend with 12 concurrent workers.\n"
     ]
    },
    {
     "name": "stdout",
     "output_type": "stream",
     "text": [
      "ERROR RATE 0.09368421052631579\n",
      "TIME FOR BATCH, 22.204141855239868\n",
      "PARAMS (2.0, 2.0, 2.0)\n",
      "COMPLETION RATE 408000/10000000\n",
      "PERCENTAGE CORRECT, 0.5094632352941176\n",
      "CONFIDENCE (0.5079289270083467, 0.5109975566218798)\n",
      "CONFIDENCE % 0.6255656730180167\n",
      "-----------------------------------------------\n"
     ]
    },
    {
     "name": "stderr",
     "output_type": "stream",
     "text": [
      "[Parallel(n_jobs=-1)]: Done   1 tasks      | elapsed:   20.9s\n",
      "[Parallel(n_jobs=-1)]: Done   3 out of  12 | elapsed:   21.0s remaining:  1.1min\n",
      "[Parallel(n_jobs=-1)]: Done   5 out of  12 | elapsed:   21.5s remaining:   30.2s\n",
      "[Parallel(n_jobs=-1)]: Done   7 out of  12 | elapsed:   22.1s remaining:   15.7s\n",
      "[Parallel(n_jobs=-1)]: Done   9 out of  12 | elapsed:   22.4s remaining:    7.4s\n",
      "[Parallel(n_jobs=-1)]: Done  12 out of  12 | elapsed:   23.0s finished\n"
     ]
    },
    {
     "name": "stdout",
     "output_type": "stream",
     "text": [
      "ERROR RATE 0.09368421052631579\n",
      "TIME FOR BATCH, 23.140702486038208\n",
      "PARAMS (2.0, 2.0, 2.0)\n",
      "COMPLETION RATE 432000/10000000\n",
      "PERCENTAGE CORRECT, 0.509199074074074\n",
      "CONFIDENCE (0.5077071809411651, 0.510689821779502)\n",
      "CONFIDENCE % 0.607708885778882\n",
      "-----------------------------------------------\n"
     ]
    },
    {
     "name": "stderr",
     "output_type": "stream",
     "text": [
      "[Parallel(n_jobs=-1)]: Using backend LokyBackend with 12 concurrent workers.\n",
      "[Parallel(n_jobs=-1)]: Done   1 tasks      | elapsed:   21.1s\n",
      "[Parallel(n_jobs=-1)]: Done   3 out of  12 | elapsed:   21.3s remaining:  1.1min\n",
      "[Parallel(n_jobs=-1)]: Done   5 out of  12 | elapsed:   22.4s remaining:   31.3s\n",
      "[Parallel(n_jobs=-1)]: Done   7 out of  12 | elapsed:   22.9s remaining:   16.3s\n",
      "[Parallel(n_jobs=-1)]: Done   9 out of  12 | elapsed:   23.4s remaining:    7.7s\n",
      "[Parallel(n_jobs=-1)]: Done  12 out of  12 | elapsed:   23.7s finished\n"
     ]
    },
    {
     "name": "stdout",
     "output_type": "stream",
     "text": [
      "ERROR RATE 0.09368421052631579\n",
      "TIME FOR BATCH, 23.782055616378784\n",
      "PARAMS (2.0, 2.0, 2.0)\n",
      "COMPLETION RATE 456000/10000000\n",
      "PERCENTAGE CORRECT, 0.5087543859649123\n",
      "CONFIDENCE (0.5073026360674188, 0.510206146682683)\n",
      "CONFIDENCE % 0.5910506948682692\n",
      "-----------------------------------------------\n"
     ]
    },
    {
     "name": "stderr",
     "output_type": "stream",
     "text": [
      "[Parallel(n_jobs=-1)]: Using backend LokyBackend with 12 concurrent workers.\n",
      "[Parallel(n_jobs=-1)]: Done   1 tasks      | elapsed:   20.6s\n",
      "[Parallel(n_jobs=-1)]: Done   3 out of  12 | elapsed:   20.6s remaining:  1.0min\n",
      "[Parallel(n_jobs=-1)]: Done   5 out of  12 | elapsed:   20.9s remaining:   29.2s\n",
      "[Parallel(n_jobs=-1)]: Done   7 out of  12 | elapsed:   21.0s remaining:   15.0s\n",
      "[Parallel(n_jobs=-1)]: Done   9 out of  12 | elapsed:   21.1s remaining:    7.0s\n",
      "[Parallel(n_jobs=-1)]: Done  12 out of  12 | elapsed:   21.3s finished\n"
     ]
    },
    {
     "name": "stdout",
     "output_type": "stream",
     "text": [
      "ERROR RATE 0.09473684210526316\n",
      "TIME FOR BATCH, 21.370184659957886\n",
      "PARAMS (2.0, 2.0, 2.0)\n",
      "COMPLETION RATE 24000/10000000\n",
      "PERCENTAGE CORRECT, 0.50175\n",
      "CONFIDENCE (0.49541661241424306, 0.5080834290298458)\n",
      "CONFIDENCE % 2.542261237451633\n",
      "-----------------------------------------------\n"
     ]
    },
    {
     "name": "stderr",
     "output_type": "stream",
     "text": [
      "[Parallel(n_jobs=-1)]: Using backend LokyBackend with 12 concurrent workers.\n",
      "[Parallel(n_jobs=-1)]: Done   1 tasks      | elapsed:   21.5s\n",
      "[Parallel(n_jobs=-1)]: Done   3 out of  12 | elapsed:   21.8s remaining:  1.1min\n",
      "[Parallel(n_jobs=-1)]: Done   5 out of  12 | elapsed:   23.5s remaining:   32.9s\n",
      "[Parallel(n_jobs=-1)]: Done   7 out of  12 | elapsed:   23.9s remaining:   17.1s\n",
      "[Parallel(n_jobs=-1)]: Done   9 out of  12 | elapsed:   24.2s remaining:    8.0s\n",
      "[Parallel(n_jobs=-1)]: Done  12 out of  12 | elapsed:   24.6s finished\n",
      "[Parallel(n_jobs=-1)]: Using backend LokyBackend with 12 concurrent workers.\n"
     ]
    },
    {
     "name": "stdout",
     "output_type": "stream",
     "text": [
      "ERROR RATE 0.09473684210526316\n",
      "TIME FOR BATCH, 24.669445037841797\n",
      "PARAMS (2.0, 2.0, 2.0)\n",
      "COMPLETION RATE 48000/10000000\n",
      "PERCENTAGE CORRECT, 0.5039166666666667\n",
      "CONFIDENCE (0.49943749660100856, 0.5083958831503668)\n",
      "CONFIDENCE % 1.8058229227666476\n",
      "-----------------------------------------------\n"
     ]
    },
    {
     "name": "stderr",
     "output_type": "stream",
     "text": [
      "[Parallel(n_jobs=-1)]: Done   1 tasks      | elapsed:   20.9s\n",
      "[Parallel(n_jobs=-1)]: Done   3 out of  12 | elapsed:   21.4s remaining:  1.1min\n",
      "[Parallel(n_jobs=-1)]: Done   5 out of  12 | elapsed:   21.8s remaining:   30.5s\n",
      "[Parallel(n_jobs=-1)]: Done   7 out of  12 | elapsed:   22.3s remaining:   15.9s\n",
      "[Parallel(n_jobs=-1)]: Done   9 out of  12 | elapsed:   22.7s remaining:    7.5s\n",
      "[Parallel(n_jobs=-1)]: Done  12 out of  12 | elapsed:   23.3s finished\n",
      "[Parallel(n_jobs=-1)]: Using backend LokyBackend with 12 concurrent workers.\n"
     ]
    },
    {
     "name": "stdout",
     "output_type": "stream",
     "text": [
      "ERROR RATE 0.09473684210526316\n",
      "TIME FOR BATCH, 23.436187982559204\n",
      "PARAMS (2.0, 2.0, 2.0)\n",
      "COMPLETION RATE 72000/10000000\n",
      "PERCENTAGE CORRECT, 0.5015\n",
      "CONFIDENCE (0.4978472137747111, 0.5051527979391713)\n",
      "CONFIDENCE % 1.465513373011084\n",
      "-----------------------------------------------\n"
     ]
    },
    {
     "name": "stderr",
     "output_type": "stream",
     "text": [
      "[Parallel(n_jobs=-1)]: Done   1 tasks      | elapsed:   21.3s\n",
      "[Parallel(n_jobs=-1)]: Done   3 out of  12 | elapsed:   21.4s remaining:  1.1min\n",
      "[Parallel(n_jobs=-1)]: Done   5 out of  12 | elapsed:   21.7s remaining:   30.4s\n",
      "[Parallel(n_jobs=-1)]: Done   7 out of  12 | elapsed:   22.0s remaining:   15.7s\n",
      "[Parallel(n_jobs=-1)]: Done   9 out of  12 | elapsed:   22.0s remaining:    7.3s\n",
      "[Parallel(n_jobs=-1)]: Done  12 out of  12 | elapsed:   22.1s finished\n"
     ]
    },
    {
     "name": "stdout",
     "output_type": "stream",
     "text": [
      "ERROR RATE 0.09473684210526316\n",
      "TIME FOR BATCH, 22.23685359954834\n",
      "PARAMS (2.0, 2.0, 2.0)\n",
      "COMPLETION RATE 96000/10000000\n",
      "PERCENTAGE CORRECT, 0.5016770833333334\n",
      "CONFIDENCE (0.49851041221559156, 0.5048437643626833)\n",
      "CONFIDENCE % 1.270933351702183\n",
      "-----------------------------------------------\n"
     ]
    },
    {
     "name": "stderr",
     "output_type": "stream",
     "text": [
      "[Parallel(n_jobs=-1)]: Using backend LokyBackend with 12 concurrent workers.\n",
      "[Parallel(n_jobs=-1)]: Done   1 tasks      | elapsed:   22.3s\n",
      "[Parallel(n_jobs=-1)]: Done   3 out of  12 | elapsed:   22.7s remaining:  1.1min\n",
      "[Parallel(n_jobs=-1)]: Done   5 out of  12 | elapsed:   23.4s remaining:   32.7s\n",
      "[Parallel(n_jobs=-1)]: Done   7 out of  12 | elapsed:   23.5s remaining:   16.8s\n",
      "[Parallel(n_jobs=-1)]: Done   9 out of  12 | elapsed:   23.6s remaining:    7.8s\n",
      "[Parallel(n_jobs=-1)]: Done  12 out of  12 | elapsed:   23.9s finished\n",
      "[Parallel(n_jobs=-1)]: Using backend LokyBackend with 12 concurrent workers.\n"
     ]
    },
    {
     "name": "stdout",
     "output_type": "stream",
     "text": [
      "ERROR RATE 0.09473684210526316\n",
      "TIME FOR BATCH, 24.007005214691162\n",
      "PARAMS (2.0, 2.0, 2.0)\n",
      "COMPLETION RATE 120000/10000000\n",
      "PERCENTAGE CORRECT, 0.5018166666666667\n",
      "CONFIDENCE (0.49898749759441396, 0.50464584424126)\n",
      "CONFIDENCE % 1.1357960550358417\n",
      "-----------------------------------------------\n"
     ]
    },
    {
     "name": "stderr",
     "output_type": "stream",
     "text": [
      "[Parallel(n_jobs=-1)]: Done   1 tasks      | elapsed:   21.3s\n",
      "[Parallel(n_jobs=-1)]: Done   3 out of  12 | elapsed:   21.6s remaining:  1.1min\n",
      "[Parallel(n_jobs=-1)]: Done   5 out of  12 | elapsed:   22.1s remaining:   31.0s\n",
      "[Parallel(n_jobs=-1)]: Done   7 out of  12 | elapsed:   22.2s remaining:   15.8s\n",
      "[Parallel(n_jobs=-1)]: Done   9 out of  12 | elapsed:   22.3s remaining:    7.4s\n",
      "[Parallel(n_jobs=-1)]: Done  12 out of  12 | elapsed:   22.5s finished\n",
      "[Parallel(n_jobs=-1)]: Using backend LokyBackend with 12 concurrent workers.\n"
     ]
    },
    {
     "name": "stdout",
     "output_type": "stream",
     "text": [
      "ERROR RATE 0.09473684210526316\n",
      "TIME FOR BATCH, 22.58914566040039\n",
      "PARAMS (2.0, 2.0, 2.0)\n",
      "COMPLETION RATE 144000/10000000\n",
      "PERCENTAGE CORRECT, 0.5011527777777778\n",
      "CONFIDENCE (0.4985694416152642, 0.5037361184470908)\n",
      "CONFIDENCE % 1.0357232839366162\n",
      "-----------------------------------------------\n"
     ]
    },
    {
     "name": "stderr",
     "output_type": "stream",
     "text": [
      "[Parallel(n_jobs=-1)]: Done   1 tasks      | elapsed:   21.6s\n",
      "[Parallel(n_jobs=-1)]: Done   3 out of  12 | elapsed:   21.9s remaining:  1.1min\n",
      "[Parallel(n_jobs=-1)]: Done   5 out of  12 | elapsed:   22.4s remaining:   31.4s\n",
      "[Parallel(n_jobs=-1)]: Done   7 out of  12 | elapsed:   22.4s remaining:   16.0s\n",
      "[Parallel(n_jobs=-1)]: Done   9 out of  12 | elapsed:   22.5s remaining:    7.4s\n",
      "[Parallel(n_jobs=-1)]: Done  12 out of  12 | elapsed:   22.5s finished\n"
     ]
    },
    {
     "name": "stdout",
     "output_type": "stream",
     "text": [
      "ERROR RATE 0.09473684210526316\n",
      "TIME FOR BATCH, 22.622259616851807\n",
      "PARAMS (2.0, 2.0, 2.0)\n",
      "COMPLETION RATE 168000/10000000\n",
      "PERCENTAGE CORRECT, 0.5007321428571428\n",
      "CONFIDENCE (0.49833928288141505, 0.5031250052969529)\n",
      "CONFIDENCE % 0.9585480713549159\n",
      "-----------------------------------------------\n"
     ]
    },
    {
     "name": "stderr",
     "output_type": "stream",
     "text": [
      "[Parallel(n_jobs=-1)]: Using backend LokyBackend with 12 concurrent workers.\n",
      "[Parallel(n_jobs=-1)]: Done   1 tasks      | elapsed:   21.2s\n",
      "[Parallel(n_jobs=-1)]: Done   3 out of  12 | elapsed:   21.5s remaining:  1.1min\n",
      "[Parallel(n_jobs=-1)]: Done   5 out of  12 | elapsed:   21.7s remaining:   30.4s\n",
      "[Parallel(n_jobs=-1)]: Done   7 out of  12 | elapsed:   21.8s remaining:   15.5s\n",
      "[Parallel(n_jobs=-1)]: Done   9 out of  12 | elapsed:   21.9s remaining:    7.2s\n",
      "[Parallel(n_jobs=-1)]: Done  12 out of  12 | elapsed:   22.0s finished\n"
     ]
    },
    {
     "name": "stdout",
     "output_type": "stream",
     "text": [
      "ERROR RATE 0.09473684210526316\n",
      "TIME FOR BATCH, 22.100178480148315\n",
      "PARAMS (2.0, 2.0, 2.0)\n",
      "COMPLETION RATE 192000/10000000\n",
      "PERCENTAGE CORRECT, 0.500515625\n",
      "CONFIDENCE (0.4982786432841767, 0.5027526082262049)\n",
      "CONFIDENCE % 0.8957166962486525\n",
      "-----------------------------------------------\n"
     ]
    },
    {
     "name": "stderr",
     "output_type": "stream",
     "text": [
      "[Parallel(n_jobs=-1)]: Using backend LokyBackend with 12 concurrent workers.\n",
      "[Parallel(n_jobs=-1)]: Done   1 tasks      | elapsed:   21.5s\n",
      "[Parallel(n_jobs=-1)]: Done   3 out of  12 | elapsed:   21.6s remaining:  1.1min\n",
      "[Parallel(n_jobs=-1)]: Done   5 out of  12 | elapsed:   21.7s remaining:   30.4s\n",
      "[Parallel(n_jobs=-1)]: Done   7 out of  12 | elapsed:   21.9s remaining:   15.6s\n",
      "[Parallel(n_jobs=-1)]: Done   9 out of  12 | elapsed:   22.2s remaining:    7.3s\n",
      "[Parallel(n_jobs=-1)]: Done  12 out of  12 | elapsed:   22.4s finished\n"
     ]
    },
    {
     "name": "stdout",
     "output_type": "stream",
     "text": [
      "ERROR RATE 0.09473684210526316\n",
      "TIME FOR BATCH, 22.484967708587646\n",
      "PARAMS (2.0, 2.0, 2.0)\n",
      "COMPLETION RATE 216000/10000000\n",
      "PERCENTAGE CORRECT, 0.5003148148148148\n",
      "CONFIDENCE (0.49820601615860116, 0.5024236142893347)\n",
      "CONFIDENCE % 0.844051065706594\n",
      "-----------------------------------------------\n"
     ]
    },
    {
     "name": "stderr",
     "output_type": "stream",
     "text": [
      "[Parallel(n_jobs=-1)]: Using backend LokyBackend with 12 concurrent workers.\n",
      "[Parallel(n_jobs=-1)]: Done   1 tasks      | elapsed:   21.4s\n",
      "[Parallel(n_jobs=-1)]: Done   3 out of  12 | elapsed:   21.5s remaining:  1.1min\n",
      "[Parallel(n_jobs=-1)]: Done   5 out of  12 | elapsed:   22.6s remaining:   31.7s\n",
      "[Parallel(n_jobs=-1)]: Done   7 out of  12 | elapsed:   24.5s remaining:   17.4s\n",
      "[Parallel(n_jobs=-1)]: Done   9 out of  12 | elapsed:   24.8s remaining:    8.2s\n",
      "[Parallel(n_jobs=-1)]: Done  12 out of  12 | elapsed:   26.3s finished\n"
     ]
    },
    {
     "name": "stdout",
     "output_type": "stream",
     "text": [
      "ERROR RATE 0.09473684210526316\n",
      "TIME FOR BATCH, 26.384849548339844\n",
      "PARAMS (2.0, 2.0, 2.0)\n",
      "COMPLETION RATE 240000/10000000\n",
      "PERCENTAGE CORRECT, 0.5008083333333333\n",
      "CONFIDENCE (0.49880624856629296, 0.5028104200100096)\n",
      "CONFIDENCE % 0.8021310673021401\n",
      "-----------------------------------------------\n"
     ]
    },
    {
     "name": "stderr",
     "output_type": "stream",
     "text": [
      "[Parallel(n_jobs=-1)]: Using backend LokyBackend with 12 concurrent workers.\n",
      "[Parallel(n_jobs=-1)]: Done   1 tasks      | elapsed:   20.0s\n",
      "[Parallel(n_jobs=-1)]: Done   3 out of  12 | elapsed:   20.3s remaining:  1.0min\n",
      "[Parallel(n_jobs=-1)]: Done   5 out of  12 | elapsed:   20.3s remaining:   28.4s\n",
      "[Parallel(n_jobs=-1)]: Done   7 out of  12 | elapsed:   20.5s remaining:   14.6s\n",
      "[Parallel(n_jobs=-1)]: Done   9 out of  12 | elapsed:   20.7s remaining:    6.8s\n",
      "[Parallel(n_jobs=-1)]: Done  12 out of  12 | elapsed:   20.9s finished\n"
     ]
    },
    {
     "name": "stdout",
     "output_type": "stream",
     "text": [
      "ERROR RATE 0.09473684210526316\n",
      "TIME FOR BATCH, 21.016830682754517\n",
      "PARAMS (2.0, 2.0, 2.0)\n",
      "COMPLETION RATE 264000/10000000\n",
      "PERCENTAGE CORRECT, 0.5008674242424243\n",
      "CONFIDENCE (0.4989583321911858, 0.5027765181541411)\n",
      "CONFIDENCE % 0.7649642897300727\n",
      "-----------------------------------------------\n"
     ]
    },
    {
     "name": "stderr",
     "output_type": "stream",
     "text": [
      "[Parallel(n_jobs=-1)]: Using backend LokyBackend with 12 concurrent workers.\n",
      "[Parallel(n_jobs=-1)]: Done   1 tasks      | elapsed:   20.5s\n",
      "[Parallel(n_jobs=-1)]: Done   3 out of  12 | elapsed:   20.6s remaining:  1.0min\n",
      "[Parallel(n_jobs=-1)]: Done   5 out of  12 | elapsed:   21.7s remaining:   30.4s\n",
      "[Parallel(n_jobs=-1)]: Done   7 out of  12 | elapsed:   21.8s remaining:   15.5s\n",
      "[Parallel(n_jobs=-1)]: Done   9 out of  12 | elapsed:   22.0s remaining:    7.3s\n",
      "[Parallel(n_jobs=-1)]: Done  12 out of  12 | elapsed:   22.1s finished\n"
     ]
    },
    {
     "name": "stdout",
     "output_type": "stream",
     "text": [
      "ERROR RATE 0.09473684210526316\n",
      "TIME FOR BATCH, 22.22547721862793\n",
      "PARAMS (2.0, 2.0, 2.0)\n",
      "COMPLETION RATE 288000/10000000\n",
      "PERCENTAGE CORRECT, 0.5009305555555555\n",
      "CONFIDENCE (0.49910416576841243, 0.5027569471578953)\n",
      "CONFIDENCE % 0.7319184594739311\n",
      "-----------------------------------------------\n"
     ]
    },
    {
     "name": "stderr",
     "output_type": "stream",
     "text": [
      "[Parallel(n_jobs=-1)]: Using backend LokyBackend with 12 concurrent workers.\n",
      "[Parallel(n_jobs=-1)]: Done   1 tasks      | elapsed:   20.5s\n",
      "[Parallel(n_jobs=-1)]: Done   3 out of  12 | elapsed:   20.6s remaining:  1.0min\n",
      "[Parallel(n_jobs=-1)]: Done   5 out of  12 | elapsed:   20.7s remaining:   29.0s\n",
      "[Parallel(n_jobs=-1)]: Done   7 out of  12 | elapsed:   21.0s remaining:   15.0s\n",
      "[Parallel(n_jobs=-1)]: Done   9 out of  12 | elapsed:   21.7s remaining:    7.2s\n",
      "[Parallel(n_jobs=-1)]: Done  12 out of  12 | elapsed:   22.0s finished\n",
      "[Parallel(n_jobs=-1)]: Using backend LokyBackend with 12 concurrent workers.\n"
     ]
    },
    {
     "name": "stdout",
     "output_type": "stream",
     "text": [
      "ERROR RATE 0.09473684210526316\n",
      "TIME FOR BATCH, 22.101020336151123\n",
      "PARAMS (2.0, 2.0, 2.0)\n",
      "COMPLETION RATE 312000/10000000\n",
      "PERCENTAGE CORRECT, 0.5007467948717949\n",
      "CONFIDENCE (0.4989919862481109, 0.5025016048405034)\n",
      "CONFIDENCE % 0.7029736727461304\n",
      "-----------------------------------------------\n"
     ]
    },
    {
     "name": "stderr",
     "output_type": "stream",
     "text": [
      "[Parallel(n_jobs=-1)]: Done   1 tasks      | elapsed:   20.4s\n",
      "[Parallel(n_jobs=-1)]: Done   3 out of  12 | elapsed:   20.5s remaining:  1.0min\n",
      "[Parallel(n_jobs=-1)]: Done   5 out of  12 | elapsed:   20.6s remaining:   28.9s\n",
      "[Parallel(n_jobs=-1)]: Done   7 out of  12 | elapsed:   20.7s remaining:   14.7s\n",
      "[Parallel(n_jobs=-1)]: Done   9 out of  12 | elapsed:   20.7s remaining:    6.8s\n",
      "[Parallel(n_jobs=-1)]: Done  12 out of  12 | elapsed:   20.8s finished\n"
     ]
    },
    {
     "name": "stdout",
     "output_type": "stream",
     "text": [
      "ERROR RATE 0.09473684210526316\n",
      "TIME FOR BATCH, 20.867725372314453\n",
      "PARAMS (2.0, 2.0, 2.0)\n",
      "COMPLETION RATE 336000/10000000\n",
      "PERCENTAGE CORRECT, 0.5006428571428572\n",
      "CONFIDENCE (0.4989508919505823, 0.5023348234139515)\n",
      "CONFIDENCE % 0.6776575666881611\n",
      "-----------------------------------------------\n"
     ]
    },
    {
     "name": "stderr",
     "output_type": "stream",
     "text": [
      "[Parallel(n_jobs=-1)]: Using backend LokyBackend with 12 concurrent workers.\n",
      "[Parallel(n_jobs=-1)]: Done   1 tasks      | elapsed:   20.6s\n",
      "[Parallel(n_jobs=-1)]: Done   3 out of  12 | elapsed:   20.7s remaining:  1.0min\n",
      "[Parallel(n_jobs=-1)]: Done   5 out of  12 | elapsed:   20.7s remaining:   29.1s\n",
      "[Parallel(n_jobs=-1)]: Done   7 out of  12 | elapsed:   20.8s remaining:   14.8s\n",
      "[Parallel(n_jobs=-1)]: Done   9 out of  12 | elapsed:   21.1s remaining:    7.0s\n",
      "[Parallel(n_jobs=-1)]: Done  12 out of  12 | elapsed:   21.3s finished\n"
     ]
    },
    {
     "name": "stdout",
     "output_type": "stream",
     "text": [
      "ERROR RATE 0.09473684210526316\n",
      "TIME FOR BATCH, 21.372975826263428\n",
      "PARAMS (2.0, 2.0, 2.0)\n",
      "COMPLETION RATE 360000/10000000\n",
      "PERCENTAGE CORRECT, 0.500575\n",
      "CONFIDENCE (0.4989416658195174, 0.5022083350758818)\n",
      "CONFIDENCE % 0.6540860502306511\n",
      "-----------------------------------------------\n"
     ]
    },
    {
     "name": "stderr",
     "output_type": "stream",
     "text": [
      "[Parallel(n_jobs=-1)]: Using backend LokyBackend with 12 concurrent workers.\n",
      "[Parallel(n_jobs=-1)]: Done   1 tasks      | elapsed:   20.9s\n",
      "[Parallel(n_jobs=-1)]: Done   3 out of  12 | elapsed:   21.1s remaining:  1.1min\n",
      "[Parallel(n_jobs=-1)]: Done   5 out of  12 | elapsed:   21.4s remaining:   30.0s\n",
      "[Parallel(n_jobs=-1)]: Done   7 out of  12 | elapsed:   21.5s remaining:   15.3s\n",
      "[Parallel(n_jobs=-1)]: Done   9 out of  12 | elapsed:   21.6s remaining:    7.1s\n",
      "[Parallel(n_jobs=-1)]: Done  12 out of  12 | elapsed:   21.9s finished\n",
      "[Parallel(n_jobs=-1)]: Using backend LokyBackend with 12 concurrent workers.\n"
     ]
    },
    {
     "name": "stdout",
     "output_type": "stream",
     "text": [
      "ERROR RATE 0.09473684210526316\n",
      "TIME FOR BATCH, 22.029070615768433\n",
      "PARAMS (2.0, 2.0, 2.0)\n",
      "COMPLETION RATE 384000/10000000\n",
      "PERCENTAGE CORRECT, 0.5006223958333333\n",
      "CONFIDENCE (0.4990403638588521, 0.5022044287206843)\n",
      "CONFIDENCE % 0.633601674450779\n",
      "-----------------------------------------------\n"
     ]
    },
    {
     "name": "stderr",
     "output_type": "stream",
     "text": [
      "[Parallel(n_jobs=-1)]: Done   1 tasks      | elapsed:   20.8s\n",
      "[Parallel(n_jobs=-1)]: Done   3 out of  12 | elapsed:   21.2s remaining:  1.1min\n",
      "[Parallel(n_jobs=-1)]: Done   5 out of  12 | elapsed:   21.3s remaining:   29.8s\n",
      "[Parallel(n_jobs=-1)]: Done   7 out of  12 | elapsed:   21.4s remaining:   15.2s\n",
      "[Parallel(n_jobs=-1)]: Done   9 out of  12 | elapsed:   21.6s remaining:    7.1s\n",
      "[Parallel(n_jobs=-1)]: Done  12 out of  12 | elapsed:   21.8s finished\n"
     ]
    },
    {
     "name": "stdout",
     "output_type": "stream",
     "text": [
      "ERROR RATE 0.09473684210526316\n",
      "TIME FOR BATCH, 21.88288426399231\n",
      "PARAMS (2.0, 2.0, 2.0)\n",
      "COMPLETION RATE 408000/10000000\n",
      "PERCENTAGE CORRECT, 0.5009607843137255\n",
      "CONFIDENCE (0.49942647017244124, 0.50249509977727)\n",
      "CONFIDENCE % 0.6149075079418025\n",
      "-----------------------------------------------\n"
     ]
    },
    {
     "name": "stderr",
     "output_type": "stream",
     "text": [
      "[Parallel(n_jobs=-1)]: Using backend LokyBackend with 12 concurrent workers.\n",
      "[Parallel(n_jobs=-1)]: Done   1 tasks      | elapsed:   20.4s\n",
      "[Parallel(n_jobs=-1)]: Done   3 out of  12 | elapsed:   20.5s remaining:  1.0min\n",
      "[Parallel(n_jobs=-1)]: Done   5 out of  12 | elapsed:   20.6s remaining:   28.8s\n",
      "[Parallel(n_jobs=-1)]: Done   7 out of  12 | elapsed:   20.7s remaining:   14.7s\n",
      "[Parallel(n_jobs=-1)]: Done   9 out of  12 | elapsed:   20.8s remaining:    6.9s\n",
      "[Parallel(n_jobs=-1)]: Done  12 out of  12 | elapsed:   21.0s finished\n"
     ]
    },
    {
     "name": "stdout",
     "output_type": "stream",
     "text": [
      "ERROR RATE 0.09473684210526316\n",
      "TIME FOR BATCH, 21.145052194595337\n",
      "PARAMS (2.0, 2.0, 2.0)\n",
      "COMPLETION RATE 432000/10000000\n",
      "PERCENTAGE CORRECT, 0.5007199074074075\n",
      "CONFIDENCE (0.49922800873548834, 0.5022118070201385)\n",
      "CONFIDENCE % 0.5976201192313245\n",
      "-----------------------------------------------\n"
     ]
    },
    {
     "name": "stderr",
     "output_type": "stream",
     "text": [
      "[Parallel(n_jobs=-1)]: Using backend LokyBackend with 12 concurrent workers.\n",
      "[Parallel(n_jobs=-1)]: Done   1 tasks      | elapsed:   19.8s\n",
      "[Parallel(n_jobs=-1)]: Done   3 out of  12 | elapsed:   19.8s remaining:   59.7s\n",
      "[Parallel(n_jobs=-1)]: Done   5 out of  12 | elapsed:   20.0s remaining:   28.1s\n",
      "[Parallel(n_jobs=-1)]: Done   7 out of  12 | elapsed:   20.1s remaining:   14.3s\n",
      "[Parallel(n_jobs=-1)]: Done   9 out of  12 | elapsed:   20.2s remaining:    6.7s\n",
      "[Parallel(n_jobs=-1)]: Done  12 out of  12 | elapsed:   20.4s finished\n",
      "[Parallel(n_jobs=-1)]: Using backend LokyBackend with 12 concurrent workers.\n"
     ]
    },
    {
     "name": "stdout",
     "output_type": "stream",
     "text": [
      "ERROR RATE 0.09578947368421054\n",
      "TIME FOR BATCH, 20.52583956718445\n",
      "PARAMS (2.0, 2.0, 2.0)\n",
      "COMPLETION RATE 24000/10000000\n",
      "PERCENTAGE CORRECT, 0.4930833333333333\n",
      "CONFIDENCE (0.4867498428782025, 0.49941665985792366)\n",
      "CONFIDENCE % 2.4987967081481828\n",
      "-----------------------------------------------\n"
     ]
    },
    {
     "name": "stderr",
     "output_type": "stream",
     "text": [
      "[Parallel(n_jobs=-1)]: Done   1 tasks      | elapsed:   20.7s\n",
      "[Parallel(n_jobs=-1)]: Done   3 out of  12 | elapsed:   20.8s remaining:  1.0min\n",
      "[Parallel(n_jobs=-1)]: Done   5 out of  12 | elapsed:   20.9s remaining:   29.3s\n",
      "[Parallel(n_jobs=-1)]: Done   7 out of  12 | elapsed:   21.0s remaining:   14.9s\n",
      "[Parallel(n_jobs=-1)]: Done   9 out of  12 | elapsed:   21.2s remaining:    7.0s\n",
      "[Parallel(n_jobs=-1)]: Done  12 out of  12 | elapsed:   21.3s finished\n"
     ]
    },
    {
     "name": "stdout",
     "output_type": "stream",
     "text": [
      "ERROR RATE 0.09578947368421054\n",
      "TIME FOR BATCH, 21.434973001480103\n",
      "PARAMS (2.0, 2.0, 2.0)\n",
      "COMPLETION RATE 48000/10000000\n",
      "PERCENTAGE CORRECT, 0.49233333333333335\n",
      "CONFIDENCE (0.4878540945300972, 0.49681248120823474)\n",
      "CONFIDENCE % 1.764619831543834\n",
      "-----------------------------------------------\n"
     ]
    },
    {
     "name": "stderr",
     "output_type": "stream",
     "text": [
      "[Parallel(n_jobs=-1)]: Using backend LokyBackend with 12 concurrent workers.\n",
      "[Parallel(n_jobs=-1)]: Done   1 tasks      | elapsed:   19.8s\n",
      "[Parallel(n_jobs=-1)]: Done   3 out of  12 | elapsed:   20.0s remaining:  1.0min\n",
      "[Parallel(n_jobs=-1)]: Done   5 out of  12 | elapsed:   20.1s remaining:   28.1s\n",
      "[Parallel(n_jobs=-1)]: Done   7 out of  12 | elapsed:   20.1s remaining:   14.3s\n",
      "[Parallel(n_jobs=-1)]: Done   9 out of  12 | elapsed:   20.2s remaining:    6.7s\n",
      "[Parallel(n_jobs=-1)]: Done  12 out of  12 | elapsed:   20.3s finished\n"
     ]
    },
    {
     "name": "stdout",
     "output_type": "stream",
     "text": [
      "ERROR RATE 0.09578947368421054\n",
      "TIME FOR BATCH, 20.368997812271118\n",
      "PARAMS (2.0, 2.0, 2.0)\n",
      "COMPLETION RATE 72000/10000000\n",
      "PERCENTAGE CORRECT, 0.4949722222222222\n",
      "CONFIDENCE (0.49131941048286876, 0.4986249946829676)\n",
      "CONFIDENCE % 1.4465707673041024\n",
      "-----------------------------------------------\n"
     ]
    },
    {
     "name": "stderr",
     "output_type": "stream",
     "text": [
      "[Parallel(n_jobs=-1)]: Using backend LokyBackend with 12 concurrent workers.\n",
      "[Parallel(n_jobs=-1)]: Done   1 tasks      | elapsed:   20.8s\n",
      "[Parallel(n_jobs=-1)]: Done   3 out of  12 | elapsed:   20.8s remaining:  1.0min\n",
      "[Parallel(n_jobs=-1)]: Done   5 out of  12 | elapsed:   20.9s remaining:   29.3s\n",
      "[Parallel(n_jobs=-1)]: Done   7 out of  12 | elapsed:   20.9s remaining:   14.9s\n",
      "[Parallel(n_jobs=-1)]: Done   9 out of  12 | elapsed:   21.2s remaining:    7.0s\n",
      "[Parallel(n_jobs=-1)]: Done  12 out of  12 | elapsed:   21.4s finished\n"
     ]
    },
    {
     "name": "stdout",
     "output_type": "stream",
     "text": [
      "ERROR RATE 0.09578947368421054\n",
      "TIME FOR BATCH, 21.51835060119629\n",
      "PARAMS (2.0, 2.0, 2.0)\n",
      "COMPLETION RATE 96000/10000000\n",
      "PERCENTAGE CORRECT, 0.4938125\n",
      "CONFIDENCE (0.4906458056166344, 0.4969791577867084)\n",
      "CONFIDENCE % 1.2511869949522705\n",
      "-----------------------------------------------\n"
     ]
    },
    {
     "name": "stderr",
     "output_type": "stream",
     "text": [
      "[Parallel(n_jobs=-1)]: Using backend LokyBackend with 12 concurrent workers.\n",
      "[Parallel(n_jobs=-1)]: Done   1 tasks      | elapsed:   20.9s\n",
      "[Parallel(n_jobs=-1)]: Done   3 out of  12 | elapsed:   21.1s remaining:  1.1min\n",
      "[Parallel(n_jobs=-1)]: Done   5 out of  12 | elapsed:   21.2s remaining:   29.7s\n",
      "[Parallel(n_jobs=-1)]: Done   7 out of  12 | elapsed:   21.4s remaining:   15.3s\n",
      "[Parallel(n_jobs=-1)]: Done   9 out of  12 | elapsed:   22.1s remaining:    7.3s\n",
      "[Parallel(n_jobs=-1)]: Done  12 out of  12 | elapsed:   22.4s finished\n",
      "[Parallel(n_jobs=-1)]: Using backend LokyBackend with 12 concurrent workers.\n"
     ]
    },
    {
     "name": "stdout",
     "output_type": "stream",
     "text": [
      "ERROR RATE 0.09578947368421054\n",
      "TIME FOR BATCH, 22.505895853042603\n",
      "PARAMS (2.0, 2.0, 2.0)\n",
      "COMPLETION RATE 120000/10000000\n",
      "PERCENTAGE CORRECT, 0.49205\n",
      "CONFIDENCE (0.489220808031682, 0.4948791547216387)\n",
      "CONFIDENCE % 1.1139574150913838\n",
      "-----------------------------------------------\n"
     ]
    },
    {
     "name": "stderr",
     "output_type": "stream",
     "text": [
      "[Parallel(n_jobs=-1)]: Done   1 tasks      | elapsed:   20.4s\n",
      "[Parallel(n_jobs=-1)]: Done   3 out of  12 | elapsed:   20.6s remaining:  1.0min\n",
      "[Parallel(n_jobs=-1)]: Done   5 out of  12 | elapsed:   20.6s remaining:   28.9s\n",
      "[Parallel(n_jobs=-1)]: Done   7 out of  12 | elapsed:   20.7s remaining:   14.7s\n",
      "[Parallel(n_jobs=-1)]: Done   9 out of  12 | elapsed:   21.3s remaining:    7.0s\n",
      "[Parallel(n_jobs=-1)]: Done  12 out of  12 | elapsed:   21.5s finished\n"
     ]
    },
    {
     "name": "stdout",
     "output_type": "stream",
     "text": [
      "ERROR RATE 0.09578947368421054\n",
      "TIME FOR BATCH, 21.59299087524414\n",
      "PARAMS (2.0, 2.0, 2.0)\n",
      "COMPLETION RATE 144000/10000000\n",
      "PERCENTAGE CORRECT, 0.49280555555555555\n",
      "CONFIDENCE (0.4902222030519648, 0.4953888799109339)\n",
      "CONFIDENCE % 1.018677731107331\n",
      "-----------------------------------------------\n"
     ]
    },
    {
     "name": "stderr",
     "output_type": "stream",
     "text": [
      "[Parallel(n_jobs=-1)]: Using backend LokyBackend with 12 concurrent workers.\n",
      "[Parallel(n_jobs=-1)]: Done   1 tasks      | elapsed:   20.8s\n",
      "[Parallel(n_jobs=-1)]: Done   3 out of  12 | elapsed:   21.0s remaining:  1.1min\n",
      "[Parallel(n_jobs=-1)]: Done   5 out of  12 | elapsed:   21.1s remaining:   29.6s\n",
      "[Parallel(n_jobs=-1)]: Done   7 out of  12 | elapsed:   21.2s remaining:   15.1s\n",
      "[Parallel(n_jobs=-1)]: Done   9 out of  12 | elapsed:   21.6s remaining:    7.1s\n",
      "[Parallel(n_jobs=-1)]: Done  12 out of  12 | elapsed:   21.8s finished\n",
      "[Parallel(n_jobs=-1)]: Using backend LokyBackend with 12 concurrent workers.\n"
     ]
    },
    {
     "name": "stdout",
     "output_type": "stream",
     "text": [
      "ERROR RATE 0.09578947368421054\n",
      "TIME FOR BATCH, 21.92889165878296\n",
      "PARAMS (2.0, 2.0, 2.0)\n",
      "COMPLETION RATE 168000/10000000\n",
      "PERCENTAGE CORRECT, 0.4933452380952381\n",
      "CONFIDENCE (0.4909523656793061, 0.49573808810248654)\n",
      "CONFIDENCE % 0.9445726721660658\n",
      "-----------------------------------------------\n"
     ]
    },
    {
     "name": "stderr",
     "output_type": "stream",
     "text": [
      "[Parallel(n_jobs=-1)]: Done   1 tasks      | elapsed:   20.8s\n",
      "[Parallel(n_jobs=-1)]: Done   3 out of  12 | elapsed:   20.8s remaining:  1.0min\n",
      "[Parallel(n_jobs=-1)]: Done   5 out of  12 | elapsed:   21.1s remaining:   29.6s\n",
      "[Parallel(n_jobs=-1)]: Done   7 out of  12 | elapsed:   21.1s remaining:   15.1s\n",
      "[Parallel(n_jobs=-1)]: Done   9 out of  12 | elapsed:   21.2s remaining:    7.0s\n",
      "[Parallel(n_jobs=-1)]: Done  12 out of  12 | elapsed:   21.3s finished\n",
      "[Parallel(n_jobs=-1)]: Using backend LokyBackend with 12 concurrent workers.\n"
     ]
    },
    {
     "name": "stdout",
     "output_type": "stream",
     "text": [
      "ERROR RATE 0.09578947368421054\n",
      "TIME FOR BATCH, 21.398722648620605\n",
      "PARAMS (2.0, 2.0, 2.0)\n",
      "COMPLETION RATE 192000/10000000\n",
      "PERCENTAGE CORRECT, 0.49326041666666665\n",
      "CONFIDENCE (0.49102342431174917, 0.4954973892697413)\n",
      "CONFIDENCE % 0.8828923386174773\n",
      "-----------------------------------------------\n"
     ]
    },
    {
     "name": "stderr",
     "output_type": "stream",
     "text": [
      "[Parallel(n_jobs=-1)]: Done   1 tasks      | elapsed:   19.8s\n",
      "[Parallel(n_jobs=-1)]: Done   3 out of  12 | elapsed:   20.0s remaining:  1.0min\n",
      "[Parallel(n_jobs=-1)]: Done   5 out of  12 | elapsed:   20.0s remaining:   28.0s\n",
      "[Parallel(n_jobs=-1)]: Done   7 out of  12 | elapsed:   20.0s remaining:   14.3s\n",
      "[Parallel(n_jobs=-1)]: Done   9 out of  12 | elapsed:   20.2s remaining:    6.7s\n",
      "[Parallel(n_jobs=-1)]: Done  12 out of  12 | elapsed:   20.3s finished\n",
      "[Parallel(n_jobs=-1)]: Using backend LokyBackend with 12 concurrent workers.\n"
     ]
    },
    {
     "name": "stdout",
     "output_type": "stream",
     "text": [
      "ERROR RATE 0.09578947368421054\n",
      "TIME FOR BATCH, 20.424593448638916\n",
      "PARAMS (2.0, 2.0, 2.0)\n",
      "COMPLETION RATE 216000/10000000\n",
      "PERCENTAGE CORRECT, 0.4926527777777778\n",
      "CONFIDENCE (0.4905439691435669, 0.49476156729044474)\n",
      "CONFIDENCE % 0.8313040777880696\n",
      "-----------------------------------------------\n"
     ]
    },
    {
     "name": "stderr",
     "output_type": "stream",
     "text": [
      "[Parallel(n_jobs=-1)]: Done   1 tasks      | elapsed:   20.9s\n",
      "[Parallel(n_jobs=-1)]: Done   3 out of  12 | elapsed:   21.1s remaining:  1.1min\n",
      "[Parallel(n_jobs=-1)]: Done   5 out of  12 | elapsed:   21.2s remaining:   29.7s\n",
      "[Parallel(n_jobs=-1)]: Done   7 out of  12 | elapsed:   21.3s remaining:   15.2s\n",
      "[Parallel(n_jobs=-1)]: Done   9 out of  12 | elapsed:   21.5s remaining:    7.1s\n",
      "[Parallel(n_jobs=-1)]: Done  12 out of  12 | elapsed:   21.6s finished\n"
     ]
    },
    {
     "name": "stdout",
     "output_type": "stream",
     "text": [
      "ERROR RATE 0.09578947368421054\n",
      "TIME FOR BATCH, 21.756805658340454\n",
      "PARAMS (2.0, 2.0, 2.0)\n",
      "COMPLETION RATE 240000/10000000\n",
      "PERCENTAGE CORRECT, 0.4928666666666667\n",
      "CONFIDENCE (0.49086457252810545, 0.494868743986677)\n",
      "CONFIDENCE % 0.7895697630941706\n",
      "-----------------------------------------------\n"
     ]
    },
    {
     "name": "stderr",
     "output_type": "stream",
     "text": [
      "[Parallel(n_jobs=-1)]: Using backend LokyBackend with 12 concurrent workers.\n",
      "[Parallel(n_jobs=-1)]: Done   1 tasks      | elapsed:   20.5s\n",
      "[Parallel(n_jobs=-1)]: Done   3 out of  12 | elapsed:   20.8s remaining:  1.0min\n",
      "[Parallel(n_jobs=-1)]: Done   5 out of  12 | elapsed:   21.0s remaining:   29.4s\n",
      "[Parallel(n_jobs=-1)]: Done   7 out of  12 | elapsed:   21.2s remaining:   15.1s\n",
      "[Parallel(n_jobs=-1)]: Done   9 out of  12 | elapsed:   21.5s remaining:    7.1s\n",
      "[Parallel(n_jobs=-1)]: Done  12 out of  12 | elapsed:   21.6s finished\n"
     ]
    },
    {
     "name": "stdout",
     "output_type": "stream",
     "text": [
      "ERROR RATE 0.09578947368421054\n",
      "TIME FOR BATCH, 21.749166011810303\n",
      "PARAMS (2.0, 2.0, 2.0)\n",
      "COMPLETION RATE 264000/10000000\n",
      "PERCENTAGE CORRECT, 0.49269318181818184\n",
      "CONFIDENCE (0.4907859750224256, 0.4946003730758942)\n",
      "CONFIDENCE % 0.7518917382461712\n",
      "-----------------------------------------------\n"
     ]
    },
    {
     "name": "stderr",
     "output_type": "stream",
     "text": [
      "[Parallel(n_jobs=-1)]: Using backend LokyBackend with 12 concurrent workers.\n",
      "[Parallel(n_jobs=-1)]: Done   1 tasks      | elapsed:   20.9s\n",
      "[Parallel(n_jobs=-1)]: Done   3 out of  12 | elapsed:   21.3s remaining:  1.1min\n",
      "[Parallel(n_jobs=-1)]: Done   5 out of  12 | elapsed:   21.6s remaining:   30.2s\n",
      "[Parallel(n_jobs=-1)]: Done   7 out of  12 | elapsed:   21.9s remaining:   15.6s\n",
      "[Parallel(n_jobs=-1)]: Done   9 out of  12 | elapsed:   21.9s remaining:    7.2s\n",
      "[Parallel(n_jobs=-1)]: Done  12 out of  12 | elapsed:   22.0s finished\n"
     ]
    },
    {
     "name": "stdout",
     "output_type": "stream",
     "text": [
      "ERROR RATE 0.09578947368421054\n",
      "TIME FOR BATCH, 22.152305126190186\n",
      "PARAMS (2.0, 2.0, 2.0)\n",
      "COMPLETION RATE 288000/10000000\n",
      "PERCENTAGE CORRECT, 0.4931597222222222\n",
      "CONFIDENCE (0.49133332484400305, 0.49498610624251)\n",
      "CONFIDENCE % 0.7206967478043431\n",
      "-----------------------------------------------\n"
     ]
    },
    {
     "name": "stderr",
     "output_type": "stream",
     "text": [
      "[Parallel(n_jobs=-1)]: Using backend LokyBackend with 12 concurrent workers.\n",
      "[Parallel(n_jobs=-1)]: Done   1 tasks      | elapsed:   20.6s\n",
      "[Parallel(n_jobs=-1)]: Done   3 out of  12 | elapsed:   20.8s remaining:  1.0min\n",
      "[Parallel(n_jobs=-1)]: Done   5 out of  12 | elapsed:   20.9s remaining:   29.3s\n",
      "[Parallel(n_jobs=-1)]: Done   7 out of  12 | elapsed:   21.1s remaining:   15.1s\n",
      "[Parallel(n_jobs=-1)]: Done   9 out of  12 | elapsed:   21.3s remaining:    7.0s\n",
      "[Parallel(n_jobs=-1)]: Done  12 out of  12 | elapsed:   21.5s finished\n",
      "[Parallel(n_jobs=-1)]: Using backend LokyBackend with 12 concurrent workers.\n"
     ]
    },
    {
     "name": "stdout",
     "output_type": "stream",
     "text": [
      "ERROR RATE 0.09578947368421054\n",
      "TIME FOR BATCH, 21.585227727890015\n",
      "PARAMS (2.0, 2.0, 2.0)\n",
      "COMPLETION RATE 312000/10000000\n",
      "PERCENTAGE CORRECT, 0.4933653846153846\n",
      "CONFIDENCE (0.49161056933437014, 0.4951201879342235)\n",
      "CONFIDENCE % 0.6927317031405421\n",
      "-----------------------------------------------\n"
     ]
    },
    {
     "name": "stderr",
     "output_type": "stream",
     "text": [
      "[Parallel(n_jobs=-1)]: Done   1 tasks      | elapsed:   20.8s\n",
      "[Parallel(n_jobs=-1)]: Done   3 out of  12 | elapsed:   21.0s remaining:  1.1min\n",
      "[Parallel(n_jobs=-1)]: Done   5 out of  12 | elapsed:   21.1s remaining:   29.6s\n",
      "[Parallel(n_jobs=-1)]: Done   7 out of  12 | elapsed:   21.4s remaining:   15.2s\n",
      "[Parallel(n_jobs=-1)]: Done   9 out of  12 | elapsed:   21.7s remaining:    7.2s\n",
      "[Parallel(n_jobs=-1)]: Done  12 out of  12 | elapsed:   21.9s finished\n",
      "[Parallel(n_jobs=-1)]: Using backend LokyBackend with 12 concurrent workers.\n"
     ]
    },
    {
     "name": "stdout",
     "output_type": "stream",
     "text": [
      "ERROR RATE 0.09578947368421054\n",
      "TIME FOR BATCH, 21.9863760471344\n",
      "PARAMS (2.0, 2.0, 2.0)\n",
      "COMPLETION RATE 336000/10000000\n",
      "PERCENTAGE CORRECT, 0.49332738095238093\n",
      "CONFIDENCE (0.4916368977554111, 0.49501934107579953)\n",
      "CONFIDENCE % 0.6675796546389959\n",
      "-----------------------------------------------\n"
     ]
    },
    {
     "name": "stderr",
     "output_type": "stream",
     "text": [
      "[Parallel(n_jobs=-1)]: Done   1 tasks      | elapsed:   20.8s\n",
      "[Parallel(n_jobs=-1)]: Done   3 out of  12 | elapsed:   21.2s remaining:  1.1min\n",
      "[Parallel(n_jobs=-1)]: Done   5 out of  12 | elapsed:   21.6s remaining:   30.3s\n",
      "[Parallel(n_jobs=-1)]: Done   7 out of  12 | elapsed:   21.8s remaining:   15.5s\n",
      "[Parallel(n_jobs=-1)]: Done   9 out of  12 | elapsed:   22.0s remaining:    7.3s\n",
      "[Parallel(n_jobs=-1)]: Done  12 out of  12 | elapsed:   22.2s finished\n"
     ]
    },
    {
     "name": "stdout",
     "output_type": "stream",
     "text": [
      "ERROR RATE 0.09578947368421054\n",
      "TIME FOR BATCH, 22.33945894241333\n",
      "PARAMS (2.0, 2.0, 2.0)\n",
      "COMPLETION RATE 360000/10000000\n",
      "PERCENTAGE CORRECT, 0.49333055555555555\n",
      "CONFIDENCE (0.49169721572240677, 0.4949638849846518)\n",
      "CONFIDENCE % 0.6447338196655836\n",
      "-----------------------------------------------\n"
     ]
    },
    {
     "name": "stderr",
     "output_type": "stream",
     "text": [
      "[Parallel(n_jobs=-1)]: Using backend LokyBackend with 12 concurrent workers.\n",
      "[Parallel(n_jobs=-1)]: Done   1 tasks      | elapsed:   21.7s\n",
      "[Parallel(n_jobs=-1)]: Done   3 out of  12 | elapsed:   21.9s remaining:  1.1min\n",
      "[Parallel(n_jobs=-1)]: Done   5 out of  12 | elapsed:   22.6s remaining:   31.7s\n",
      "[Parallel(n_jobs=-1)]: Done   7 out of  12 | elapsed:   22.7s remaining:   16.2s\n",
      "[Parallel(n_jobs=-1)]: Done   9 out of  12 | elapsed:   22.9s remaining:    7.6s\n",
      "[Parallel(n_jobs=-1)]: Done  12 out of  12 | elapsed:   23.1s finished\n"
     ]
    },
    {
     "name": "stdout",
     "output_type": "stream",
     "text": [
      "ERROR RATE 0.09578947368421054\n",
      "TIME FOR BATCH, 23.1648371219635\n",
      "PARAMS (2.0, 2.0, 2.0)\n",
      "COMPLETION RATE 384000/10000000\n",
      "PERCENTAGE CORRECT, 0.4934192708333333\n",
      "CONFIDENCE (0.491837233568448, 0.49500129844290286)\n",
      "CONFIDENCE % 0.6245924276787632\n",
      "-----------------------------------------------\n"
     ]
    },
    {
     "name": "stderr",
     "output_type": "stream",
     "text": [
      "[Parallel(n_jobs=-1)]: Using backend LokyBackend with 12 concurrent workers.\n",
      "[Parallel(n_jobs=-1)]: Done   1 tasks      | elapsed:   20.5s\n",
      "[Parallel(n_jobs=-1)]: Done   3 out of  12 | elapsed:   20.7s remaining:  1.0min\n",
      "[Parallel(n_jobs=-1)]: Done   5 out of  12 | elapsed:   20.7s remaining:   29.1s\n",
      "[Parallel(n_jobs=-1)]: Done   7 out of  12 | elapsed:   20.8s remaining:   14.8s\n",
      "[Parallel(n_jobs=-1)]: Done   9 out of  12 | elapsed:   20.8s remaining:    6.9s\n",
      "[Parallel(n_jobs=-1)]: Done  12 out of  12 | elapsed:   20.9s finished\n"
     ]
    },
    {
     "name": "stdout",
     "output_type": "stream",
     "text": [
      "ERROR RATE 0.09578947368421054\n",
      "TIME FOR BATCH, 21.02898335456848\n",
      "PARAMS (2.0, 2.0, 2.0)\n",
      "COMPLETION RATE 408000/10000000\n",
      "PERCENTAGE CORRECT, 0.4933651960784314\n",
      "CONFIDENCE (0.491830876705493, 0.49489950631462143)\n",
      "CONFIDENCE % 0.6056886706905855\n",
      "-----------------------------------------------\n"
     ]
    },
    {
     "name": "stderr",
     "output_type": "stream",
     "text": [
      "[Parallel(n_jobs=-1)]: Using backend LokyBackend with 12 concurrent workers.\n",
      "[Parallel(n_jobs=-1)]: Done   1 tasks      | elapsed:   20.5s\n",
      "[Parallel(n_jobs=-1)]: Done   3 out of  12 | elapsed:   20.5s remaining:  1.0min\n",
      "[Parallel(n_jobs=-1)]: Done   5 out of  12 | elapsed:   20.8s remaining:   29.2s\n",
      "[Parallel(n_jobs=-1)]: Done   7 out of  12 | elapsed:   20.9s remaining:   14.9s\n",
      "[Parallel(n_jobs=-1)]: Done   9 out of  12 | elapsed:   21.5s remaining:    7.1s\n",
      "[Parallel(n_jobs=-1)]: Done  12 out of  12 | elapsed:   21.7s finished\n"
     ]
    },
    {
     "name": "stdout",
     "output_type": "stream",
     "text": [
      "ERROR RATE 0.09578947368421054\n",
      "TIME FOR BATCH, 21.84105920791626\n",
      "PARAMS (2.0, 2.0, 2.0)\n",
      "COMPLETION RATE 432000/10000000\n",
      "PERCENTAGE CORRECT, 0.4933634259259259\n",
      "CONFIDENCE (0.49187152244260013, 0.4948553207356796)\n",
      "CONFIDENCE % 0.5889425370706128\n",
      "-----------------------------------------------\n"
     ]
    },
    {
     "name": "stderr",
     "output_type": "stream",
     "text": [
      "[Parallel(n_jobs=-1)]: Using backend LokyBackend with 12 concurrent workers.\n",
      "[Parallel(n_jobs=-1)]: Done   1 tasks      | elapsed:   21.2s\n",
      "[Parallel(n_jobs=-1)]: Done   3 out of  12 | elapsed:   21.4s remaining:  1.1min\n",
      "[Parallel(n_jobs=-1)]: Done   5 out of  12 | elapsed:   21.5s remaining:   30.2s\n",
      "[Parallel(n_jobs=-1)]: Done   7 out of  12 | elapsed:   21.6s remaining:   15.4s\n",
      "[Parallel(n_jobs=-1)]: Done   9 out of  12 | elapsed:   22.6s remaining:    7.5s\n",
      "[Parallel(n_jobs=-1)]: Done  12 out of  12 | elapsed:   22.9s finished\n",
      "[Parallel(n_jobs=-1)]: Using backend LokyBackend with 12 concurrent workers.\n"
     ]
    },
    {
     "name": "stdout",
     "output_type": "stream",
     "text": [
      "ERROR RATE 0.0968421052631579\n",
      "TIME FOR BATCH, 23.021440744400024\n",
      "PARAMS (2.0, 2.0, 2.0)\n",
      "COMPLETION RATE 24000/10000000\n",
      "PERCENTAGE CORRECT, 0.47904166666666664\n",
      "CONFIDENCE (0.472708006449028, 0.48537482662653986)\n",
      "CONFIDENCE % 2.431445927059783\n",
      "-----------------------------------------------\n"
     ]
    },
    {
     "name": "stderr",
     "output_type": "stream",
     "text": [
      "[Parallel(n_jobs=-1)]: Done   1 tasks      | elapsed:   21.3s\n",
      "[Parallel(n_jobs=-1)]: Done   3 out of  12 | elapsed:   21.3s remaining:  1.1min\n",
      "[Parallel(n_jobs=-1)]: Done   5 out of  12 | elapsed:   21.6s remaining:   30.3s\n",
      "[Parallel(n_jobs=-1)]: Done   7 out of  12 | elapsed:   21.7s remaining:   15.5s\n",
      "[Parallel(n_jobs=-1)]: Done   9 out of  12 | elapsed:   22.4s remaining:    7.4s\n",
      "[Parallel(n_jobs=-1)]: Done  12 out of  12 | elapsed:   22.7s finished\n"
     ]
    },
    {
     "name": "stdout",
     "output_type": "stream",
     "text": [
      "ERROR RATE 0.0968421052631579\n",
      "TIME FOR BATCH, 22.812663078308105\n",
      "PARAMS (2.0, 2.0, 2.0)\n",
      "COMPLETION RATE 48000/10000000\n",
      "PERCENTAGE CORRECT, 0.48464583333333333\n",
      "CONFIDENCE (0.48016654841502476, 0.48912493557650516)\n",
      "CONFIDENCE % 1.7382972217773338\n",
      "-----------------------------------------------\n"
     ]
    },
    {
     "name": "stderr",
     "output_type": "stream",
     "text": [
      "[Parallel(n_jobs=-1)]: Using backend LokyBackend with 12 concurrent workers.\n",
      "[Parallel(n_jobs=-1)]: Done   1 tasks      | elapsed:   21.1s\n",
      "[Parallel(n_jobs=-1)]: Done   3 out of  12 | elapsed:   21.3s remaining:  1.1min\n",
      "[Parallel(n_jobs=-1)]: Done   5 out of  12 | elapsed:   21.7s remaining:   30.5s\n",
      "[Parallel(n_jobs=-1)]: Done   7 out of  12 | elapsed:   21.9s remaining:   15.6s\n",
      "[Parallel(n_jobs=-1)]: Done   9 out of  12 | elapsed:   22.0s remaining:    7.3s\n",
      "[Parallel(n_jobs=-1)]: Done  12 out of  12 | elapsed:   22.1s finished\n",
      "[Parallel(n_jobs=-1)]: Using backend LokyBackend with 12 concurrent workers.\n"
     ]
    },
    {
     "name": "stdout",
     "output_type": "stream",
     "text": [
      "ERROR RATE 0.0968421052631579\n",
      "TIME FOR BATCH, 22.20593237876892\n",
      "PARAMS (2.0, 2.0, 2.0)\n",
      "COMPLETION RATE 72000/10000000\n",
      "PERCENTAGE CORRECT, 0.4860277777777778\n",
      "CONFIDENCE (0.4823749307986571, 0.48968051526489015)\n",
      "CONFIDENCE % 1.4213967507127978\n",
      "-----------------------------------------------\n"
     ]
    },
    {
     "name": "stderr",
     "output_type": "stream",
     "text": [
      "[Parallel(n_jobs=-1)]: Done   1 tasks      | elapsed:   21.2s\n",
      "[Parallel(n_jobs=-1)]: Done   3 out of  12 | elapsed:   21.2s remaining:  1.1min\n",
      "[Parallel(n_jobs=-1)]: Done   5 out of  12 | elapsed:   21.7s remaining:   30.4s\n",
      "[Parallel(n_jobs=-1)]: Done   7 out of  12 | elapsed:   21.8s remaining:   15.5s\n",
      "[Parallel(n_jobs=-1)]: Done   9 out of  12 | elapsed:   22.7s remaining:    7.5s\n",
      "[Parallel(n_jobs=-1)]: Done  12 out of  12 | elapsed:   22.8s finished\n"
     ]
    },
    {
     "name": "stdout",
     "output_type": "stream",
     "text": [
      "ERROR RATE 0.0968421052631579\n",
      "TIME FOR BATCH, 22.933155298233032\n",
      "PARAMS (2.0, 2.0, 2.0)\n",
      "COMPLETION RATE 96000/10000000\n",
      "PERCENTAGE CORRECT, 0.48475\n",
      "CONFIDENCE (0.4815884877185759, 0.48791663093010684)\n",
      "CONFIDENCE % 1.2281694733684556\n",
      "-----------------------------------------------\n"
     ]
    },
    {
     "name": "stderr",
     "output_type": "stream",
     "text": [
      "[Parallel(n_jobs=-1)]: Using backend LokyBackend with 12 concurrent workers.\n",
      "[Parallel(n_jobs=-1)]: Done   1 tasks      | elapsed:   20.4s\n",
      "[Parallel(n_jobs=-1)]: Done   3 out of  12 | elapsed:   20.5s remaining:  1.0min\n",
      "[Parallel(n_jobs=-1)]: Done   5 out of  12 | elapsed:   20.8s remaining:   29.1s\n",
      "[Parallel(n_jobs=-1)]: Done   7 out of  12 | elapsed:   20.9s remaining:   14.9s\n",
      "[Parallel(n_jobs=-1)]: Done   9 out of  12 | elapsed:   21.1s remaining:    7.0s\n",
      "[Parallel(n_jobs=-1)]: Done  12 out of  12 | elapsed:   21.3s finished\n",
      "[Parallel(n_jobs=-1)]: Using backend LokyBackend with 12 concurrent workers.\n"
     ]
    },
    {
     "name": "stdout",
     "output_type": "stream",
     "text": [
      "ERROR RATE 0.0968421052631579\n",
      "TIME FOR BATCH, 21.43833899497986\n",
      "PARAMS (2.0, 2.0, 2.0)\n",
      "COMPLETION RATE 120000/10000000\n",
      "PERCENTAGE CORRECT, 0.48609166666666664\n",
      "CONFIDENCE (0.48326246061471784, 0.4889208073996383)\n",
      "CONFIDENCE % 1.1010420376371484\n",
      "-----------------------------------------------\n"
     ]
    },
    {
     "name": "stderr",
     "output_type": "stream",
     "text": [
      "[Parallel(n_jobs=-1)]: Done   1 tasks      | elapsed:   21.3s\n",
      "[Parallel(n_jobs=-1)]: Done   3 out of  12 | elapsed:   21.4s remaining:  1.1min\n",
      "[Parallel(n_jobs=-1)]: Done   5 out of  12 | elapsed:   21.6s remaining:   30.2s\n",
      "[Parallel(n_jobs=-1)]: Done   7 out of  12 | elapsed:   21.9s remaining:   15.6s\n",
      "[Parallel(n_jobs=-1)]: Done   9 out of  12 | elapsed:   21.9s remaining:    7.2s\n",
      "[Parallel(n_jobs=-1)]: Done  12 out of  12 | elapsed:   21.9s finished\n"
     ]
    },
    {
     "name": "stdout",
     "output_type": "stream",
     "text": [
      "ERROR RATE 0.0968421052631579\n",
      "TIME FOR BATCH, 22.03182625770569\n",
      "PARAMS (2.0, 2.0, 2.0)\n",
      "COMPLETION RATE 144000/10000000\n",
      "PERCENTAGE CORRECT, 0.48669444444444443\n",
      "CONFIDENCE (0.4841110798858893, 0.48927775682047964)\n",
      "CONFIDENCE % 1.0065499737282964\n",
      "-----------------------------------------------\n"
     ]
    },
    {
     "name": "stderr",
     "output_type": "stream",
     "text": [
      "[Parallel(n_jobs=-1)]: Using backend LokyBackend with 12 concurrent workers.\n",
      "[Parallel(n_jobs=-1)]: Done   1 tasks      | elapsed:   20.9s\n",
      "[Parallel(n_jobs=-1)]: Done   3 out of  12 | elapsed:   21.1s remaining:  1.1min\n",
      "[Parallel(n_jobs=-1)]: Done   5 out of  12 | elapsed:   21.4s remaining:   30.0s\n",
      "[Parallel(n_jobs=-1)]: Done   7 out of  12 | elapsed:   21.4s remaining:   15.3s\n",
      "[Parallel(n_jobs=-1)]: Done   9 out of  12 | elapsed:   21.5s remaining:    7.1s\n",
      "[Parallel(n_jobs=-1)]: Done  12 out of  12 | elapsed:   21.6s finished\n"
     ]
    },
    {
     "name": "stdout",
     "output_type": "stream",
     "text": [
      "ERROR RATE 0.0968421052631579\n",
      "TIME FOR BATCH, 21.72500705718994\n",
      "PARAMS (2.0, 2.0, 2.0)\n",
      "COMPLETION RATE 168000/10000000\n",
      "PERCENTAGE CORRECT, 0.4865952380952381\n",
      "CONFIDENCE (0.4842053307253132, 0.4889880767091583)\n",
      "CONFIDENCE % 0.9315741377428648\n",
      "-----------------------------------------------\n"
     ]
    },
    {
     "name": "stderr",
     "output_type": "stream",
     "text": [
      "[Parallel(n_jobs=-1)]: Using backend LokyBackend with 12 concurrent workers.\n",
      "[Parallel(n_jobs=-1)]: Done   1 tasks      | elapsed:   20.9s\n",
      "[Parallel(n_jobs=-1)]: Done   3 out of  12 | elapsed:   21.3s remaining:  1.1min\n",
      "[Parallel(n_jobs=-1)]: Done   5 out of  12 | elapsed:   21.3s remaining:   29.9s\n",
      "[Parallel(n_jobs=-1)]: Done   7 out of  12 | elapsed:   21.4s remaining:   15.3s\n",
      "[Parallel(n_jobs=-1)]: Done   9 out of  12 | elapsed:   21.5s remaining:    7.1s\n",
      "[Parallel(n_jobs=-1)]: Done  12 out of  12 | elapsed:   21.8s finished\n",
      "[Parallel(n_jobs=-1)]: Using backend LokyBackend with 12 concurrent workers.\n"
     ]
    },
    {
     "name": "stdout",
     "output_type": "stream",
     "text": [
      "ERROR RATE 0.0968421052631579\n",
      "TIME FOR BATCH, 21.875553369522095\n",
      "PARAMS (2.0, 2.0, 2.0)\n",
      "COMPLETION RATE 192000/10000000\n",
      "PERCENTAGE CORRECT, 0.48609895833333333\n",
      "CONFIDENCE (0.48386195539747817, 0.4883359204147938)\n",
      "CONFIDENCE % 0.8705888205257968\n",
      "-----------------------------------------------\n"
     ]
    },
    {
     "name": "stderr",
     "output_type": "stream",
     "text": [
      "[Parallel(n_jobs=-1)]: Done   1 tasks      | elapsed:   21.2s\n",
      "[Parallel(n_jobs=-1)]: Done   3 out of  12 | elapsed:   21.3s remaining:  1.1min\n",
      "[Parallel(n_jobs=-1)]: Done   5 out of  12 | elapsed:   21.6s remaining:   30.3s\n",
      "[Parallel(n_jobs=-1)]: Done   7 out of  12 | elapsed:   21.9s remaining:   15.6s\n",
      "[Parallel(n_jobs=-1)]: Done   9 out of  12 | elapsed:   22.0s remaining:    7.3s\n",
      "[Parallel(n_jobs=-1)]: Done  12 out of  12 | elapsed:   22.0s finished\n"
     ]
    },
    {
     "name": "stdout",
     "output_type": "stream",
     "text": [
      "ERROR RATE 0.0968421052631579\n",
      "TIME FOR BATCH, 22.101463794708252\n",
      "PARAMS (2.0, 2.0, 2.0)\n",
      "COMPLETION RATE 216000/10000000\n",
      "PERCENTAGE CORRECT, 0.48606481481481484\n",
      "CONFIDENCE (0.4839559975399261, 0.48817359572905744)\n",
      "CONFIDENCE % 0.820647877535695\n",
      "-----------------------------------------------\n"
     ]
    },
    {
     "name": "stderr",
     "output_type": "stream",
     "text": [
      "[Parallel(n_jobs=-1)]: Using backend LokyBackend with 12 concurrent workers.\n",
      "[Parallel(n_jobs=-1)]: Done   1 tasks      | elapsed:   20.9s\n",
      "[Parallel(n_jobs=-1)]: Done   3 out of  12 | elapsed:   21.1s remaining:  1.1min\n",
      "[Parallel(n_jobs=-1)]: Done   5 out of  12 | elapsed:   21.6s remaining:   30.2s\n",
      "[Parallel(n_jobs=-1)]: Done   7 out of  12 | elapsed:   21.7s remaining:   15.5s\n",
      "[Parallel(n_jobs=-1)]: Done   9 out of  12 | elapsed:   21.7s remaining:    7.2s\n",
      "[Parallel(n_jobs=-1)]: Done  12 out of  12 | elapsed:   21.8s finished\n",
      "[Parallel(n_jobs=-1)]: Using backend LokyBackend with 12 concurrent workers.\n"
     ]
    },
    {
     "name": "stdout",
     "output_type": "stream",
     "text": [
      "ERROR RATE 0.0968421052631579\n",
      "TIME FOR BATCH, 21.92606019973755\n",
      "PARAMS (2.0, 2.0, 2.0)\n",
      "COMPLETION RATE 240000/10000000\n",
      "PERCENTAGE CORRECT, 0.48575\n",
      "CONFIDENCE (0.48374998092329907, 0.48774998569577255)\n",
      "CONFIDENCE % 0.7778327219199758\n",
      "-----------------------------------------------\n"
     ]
    },
    {
     "name": "stderr",
     "output_type": "stream",
     "text": [
      "[Parallel(n_jobs=-1)]: Done   1 tasks      | elapsed:   21.2s\n",
      "[Parallel(n_jobs=-1)]: Done   3 out of  12 | elapsed:   21.3s remaining:  1.1min\n",
      "[Parallel(n_jobs=-1)]: Done   5 out of  12 | elapsed:   21.5s remaining:   30.1s\n",
      "[Parallel(n_jobs=-1)]: Done   7 out of  12 | elapsed:   21.6s remaining:   15.4s\n",
      "[Parallel(n_jobs=-1)]: Done   9 out of  12 | elapsed:   21.7s remaining:    7.2s\n",
      "[Parallel(n_jobs=-1)]: Done  12 out of  12 | elapsed:   21.8s finished\n"
     ]
    },
    {
     "name": "stdout",
     "output_type": "stream",
     "text": [
      "ERROR RATE 0.0968421052631579\n",
      "TIME FOR BATCH, 21.884263038635254\n",
      "PARAMS (2.0, 2.0, 2.0)\n",
      "COMPLETION RATE 264000/10000000\n",
      "PERCENTAGE CORRECT, 0.48550757575757575\n",
      "CONFIDENCE (0.4836003612605291, 0.4874147593485403)\n",
      "CONFIDENCE % 0.741390525551042\n",
      "-----------------------------------------------\n"
     ]
    },
    {
     "name": "stderr",
     "output_type": "stream",
     "text": [
      "[Parallel(n_jobs=-1)]: Using backend LokyBackend with 12 concurrent workers.\n",
      "[Parallel(n_jobs=-1)]: Done   1 tasks      | elapsed:   20.8s\n",
      "[Parallel(n_jobs=-1)]: Done   3 out of  12 | elapsed:   20.9s remaining:  1.0min\n",
      "[Parallel(n_jobs=-1)]: Done   5 out of  12 | elapsed:   21.1s remaining:   29.5s\n",
      "[Parallel(n_jobs=-1)]: Done   7 out of  12 | elapsed:   21.1s remaining:   15.0s\n",
      "[Parallel(n_jobs=-1)]: Done   9 out of  12 | elapsed:   21.2s remaining:    7.0s\n",
      "[Parallel(n_jobs=-1)]: Done  12 out of  12 | elapsed:   21.4s finished\n"
     ]
    },
    {
     "name": "stdout",
     "output_type": "stream",
     "text": [
      "ERROR RATE 0.0968421052631579\n",
      "TIME FOR BATCH, 21.52766704559326\n",
      "PARAMS (2.0, 2.0, 2.0)\n",
      "COMPLETION RATE 288000/10000000\n",
      "PERCENTAGE CORRECT, 0.4849131944444444\n",
      "CONFIDENCE (0.4830867889413285, 0.4867395703879954)\n",
      "CONFIDENCE % 0.7091584189828257\n",
      "-----------------------------------------------\n"
     ]
    },
    {
     "name": "stderr",
     "output_type": "stream",
     "text": [
      "[Parallel(n_jobs=-1)]: Using backend LokyBackend with 12 concurrent workers.\n",
      "[Parallel(n_jobs=-1)]: Done   1 tasks      | elapsed:   20.8s\n",
      "[Parallel(n_jobs=-1)]: Done   3 out of  12 | elapsed:   20.8s remaining:  1.0min\n",
      "[Parallel(n_jobs=-1)]: Done   5 out of  12 | elapsed:   21.1s remaining:   29.6s\n",
      "[Parallel(n_jobs=-1)]: Done   7 out of  12 | elapsed:   21.2s remaining:   15.1s\n",
      "[Parallel(n_jobs=-1)]: Done   9 out of  12 | elapsed:   21.5s remaining:    7.1s\n",
      "[Parallel(n_jobs=-1)]: Done  12 out of  12 | elapsed:   21.7s finished\n"
     ]
    },
    {
     "name": "stdout",
     "output_type": "stream",
     "text": [
      "ERROR RATE 0.0968421052631579\n",
      "TIME FOR BATCH, 21.781174659729004\n",
      "PARAMS (2.0, 2.0, 2.0)\n",
      "COMPLETION RATE 312000/10000000\n",
      "PERCENTAGE CORRECT, 0.48493910256410255\n",
      "CONFIDENCE (0.48318427961881316, 0.4866938982611048)\n",
      "CONFIDENCE % 0.6813987743514252\n",
      "-----------------------------------------------\n"
     ]
    },
    {
     "name": "stderr",
     "output_type": "stream",
     "text": [
      "[Parallel(n_jobs=-1)]: Using backend LokyBackend with 12 concurrent workers.\n",
      "[Parallel(n_jobs=-1)]: Done   1 tasks      | elapsed:   21.0s\n",
      "[Parallel(n_jobs=-1)]: Done   3 out of  12 | elapsed:   21.1s remaining:  1.1min\n",
      "[Parallel(n_jobs=-1)]: Done   5 out of  12 | elapsed:   21.4s remaining:   30.1s\n",
      "[Parallel(n_jobs=-1)]: Done   7 out of  12 | elapsed:   21.7s remaining:   15.4s\n",
      "[Parallel(n_jobs=-1)]: Done   9 out of  12 | elapsed:   21.8s remaining:    7.2s\n",
      "[Parallel(n_jobs=-1)]: Done  12 out of  12 | elapsed:   22.0s finished\n"
     ]
    },
    {
     "name": "stdout",
     "output_type": "stream",
     "text": [
      "ERROR RATE 0.0968421052631579\n",
      "TIME FOR BATCH, 22.06170654296875\n",
      "PARAMS (2.0, 2.0, 2.0)\n",
      "COMPLETION RATE 336000/10000000\n",
      "PERCENTAGE CORRECT, 0.4850327380952381\n",
      "CONFIDENCE (0.48334224791418223, 0.4867232031995382)\n",
      "CONFIDENCE % 0.6565379074488146\n",
      "-----------------------------------------------\n"
     ]
    },
    {
     "name": "stderr",
     "output_type": "stream",
     "text": [
      "[Parallel(n_jobs=-1)]: Using backend LokyBackend with 12 concurrent workers.\n",
      "[Parallel(n_jobs=-1)]: Done   1 tasks      | elapsed:   20.6s\n",
      "[Parallel(n_jobs=-1)]: Done   3 out of  12 | elapsed:   20.7s remaining:  1.0min\n",
      "[Parallel(n_jobs=-1)]: Done   5 out of  12 | elapsed:   21.0s remaining:   29.5s\n",
      "[Parallel(n_jobs=-1)]: Done   7 out of  12 | elapsed:   21.2s remaining:   15.1s\n",
      "[Parallel(n_jobs=-1)]: Done   9 out of  12 | elapsed:   21.2s remaining:    7.0s\n",
      "[Parallel(n_jobs=-1)]: Done  12 out of  12 | elapsed:   21.3s finished\n",
      "[Parallel(n_jobs=-1)]: Using backend LokyBackend with 12 concurrent workers.\n"
     ]
    },
    {
     "name": "stdout",
     "output_type": "stream",
     "text": [
      "ERROR RATE 0.0968421052631579\n",
      "TIME FOR BATCH, 21.43695855140686\n",
      "PARAMS (2.0, 2.0, 2.0)\n",
      "COMPLETION RATE 360000/10000000\n",
      "PERCENTAGE CORRECT, 0.4845055555555556\n",
      "CONFIDENCE (0.482872208776877, 0.48613887807107536)\n",
      "CONFIDENCE % 0.633696314170548\n",
      "-----------------------------------------------\n"
     ]
    },
    {
     "name": "stderr",
     "output_type": "stream",
     "text": [
      "[Parallel(n_jobs=-1)]: Done   1 tasks      | elapsed:   20.7s\n",
      "[Parallel(n_jobs=-1)]: Done   3 out of  12 | elapsed:   20.8s remaining:  1.0min\n",
      "[Parallel(n_jobs=-1)]: Done   5 out of  12 | elapsed:   21.1s remaining:   29.5s\n",
      "[Parallel(n_jobs=-1)]: Done   7 out of  12 | elapsed:   21.2s remaining:   15.1s\n",
      "[Parallel(n_jobs=-1)]: Done   9 out of  12 | elapsed:   21.2s remaining:    7.0s\n",
      "[Parallel(n_jobs=-1)]: Done  12 out of  12 | elapsed:   21.3s finished\n",
      "[Parallel(n_jobs=-1)]: Using backend LokyBackend with 12 concurrent workers.\n"
     ]
    },
    {
     "name": "stdout",
     "output_type": "stream",
     "text": [
      "ERROR RATE 0.0968421052631579\n",
      "TIME FOR BATCH, 21.386959314346313\n",
      "PARAMS (2.0, 2.0, 2.0)\n",
      "COMPLETION RATE 384000/10000000\n",
      "PERCENTAGE CORRECT, 0.4843828125\n",
      "CONFIDENCE (0.48280207073411635, 0.48596483344878605)\n",
      "CONFIDENCE % 0.613393577899243\n",
      "-----------------------------------------------\n"
     ]
    },
    {
     "name": "stderr",
     "output_type": "stream",
     "text": [
      "[Parallel(n_jobs=-1)]: Done   1 tasks      | elapsed:   20.3s\n",
      "[Parallel(n_jobs=-1)]: Done   3 out of  12 | elapsed:   20.5s remaining:  1.0min\n",
      "[Parallel(n_jobs=-1)]: Done   5 out of  12 | elapsed:   20.5s remaining:   28.7s\n",
      "[Parallel(n_jobs=-1)]: Done   7 out of  12 | elapsed:   20.5s remaining:   14.6s\n",
      "[Parallel(n_jobs=-1)]: Done   9 out of  12 | elapsed:   20.6s remaining:    6.8s\n",
      "[Parallel(n_jobs=-1)]: Done  12 out of  12 | elapsed:   20.8s finished\n"
     ]
    },
    {
     "name": "stdout",
     "output_type": "stream",
     "text": [
      "ERROR RATE 0.0968421052631579\n",
      "TIME FOR BATCH, 20.855960845947266\n",
      "PARAMS (2.0, 2.0, 2.0)\n",
      "COMPLETION RATE 408000/10000000\n",
      "PERCENTAGE CORRECT, 0.4846593137254902\n",
      "CONFIDENCE (0.4831249883060118, 0.48619361794448357)\n",
      "CONFIDENCE % 0.5954565048328395\n",
      "-----------------------------------------------\n"
     ]
    },
    {
     "name": "stderr",
     "output_type": "stream",
     "text": [
      "[Parallel(n_jobs=-1)]: Using backend LokyBackend with 12 concurrent workers.\n",
      "[Parallel(n_jobs=-1)]: Done   1 tasks      | elapsed:   20.7s\n",
      "[Parallel(n_jobs=-1)]: Done   3 out of  12 | elapsed:   20.9s remaining:  1.0min\n",
      "[Parallel(n_jobs=-1)]: Done   5 out of  12 | elapsed:   21.1s remaining:   29.5s\n",
      "[Parallel(n_jobs=-1)]: Done   7 out of  12 | elapsed:   21.2s remaining:   15.1s\n",
      "[Parallel(n_jobs=-1)]: Done   9 out of  12 | elapsed:   21.2s remaining:    7.0s\n",
      "[Parallel(n_jobs=-1)]: Done  12 out of  12 | elapsed:   21.3s finished\n",
      "[Parallel(n_jobs=-1)]: Using backend LokyBackend with 12 concurrent workers.\n"
     ]
    },
    {
     "name": "stdout",
     "output_type": "stream",
     "text": [
      "ERROR RATE 0.09789473684210527\n",
      "TIME FOR BATCH, 21.403046369552612\n",
      "PARAMS (2.0, 2.0, 2.0)\n",
      "COMPLETION RATE 24000/10000000\n",
      "PERCENTAGE CORRECT, 0.47325\n",
      "CONFIDENCE (0.4669371132006886, 0.4795830903908484)\n",
      "CONFIDENCE % 2.4007550432197067\n",
      "-----------------------------------------------\n"
     ]
    },
    {
     "name": "stderr",
     "output_type": "stream",
     "text": [
      "[Parallel(n_jobs=-1)]: Done   1 tasks      | elapsed:   20.8s\n",
      "[Parallel(n_jobs=-1)]: Done   3 out of  12 | elapsed:   20.9s remaining:  1.0min\n",
      "[Parallel(n_jobs=-1)]: Done   5 out of  12 | elapsed:   21.1s remaining:   29.6s\n",
      "[Parallel(n_jobs=-1)]: Done   7 out of  12 | elapsed:   21.3s remaining:   15.2s\n",
      "[Parallel(n_jobs=-1)]: Done   9 out of  12 | elapsed:   21.3s remaining:    7.0s\n",
      "[Parallel(n_jobs=-1)]: Done  12 out of  12 | elapsed:   21.5s finished\n"
     ]
    },
    {
     "name": "stdout",
     "output_type": "stream",
     "text": [
      "ERROR RATE 0.09789473684210527\n",
      "TIME FOR BATCH, 21.579946517944336\n",
      "PARAMS (2.0, 2.0, 2.0)\n",
      "COMPLETION RATE 48000/10000000\n",
      "PERCENTAGE CORRECT, 0.47489583333333335\n",
      "CONFIDENCE (0.470426909198478, 0.479374877078217)\n",
      "CONFIDENCE % 1.704036731709868\n",
      "-----------------------------------------------\n"
     ]
    },
    {
     "name": "stderr",
     "output_type": "stream",
     "text": [
      "[Parallel(n_jobs=-1)]: Using backend LokyBackend with 12 concurrent workers.\n",
      "[Parallel(n_jobs=-1)]: Done   1 tasks      | elapsed:   20.6s\n",
      "[Parallel(n_jobs=-1)]: Done   3 out of  12 | elapsed:   20.7s remaining:  1.0min\n",
      "[Parallel(n_jobs=-1)]: Done   5 out of  12 | elapsed:   21.1s remaining:   29.6s\n",
      "[Parallel(n_jobs=-1)]: Done   7 out of  12 | elapsed:   21.1s remaining:   15.1s\n",
      "[Parallel(n_jobs=-1)]: Done   9 out of  12 | elapsed:   21.2s remaining:    7.0s\n",
      "[Parallel(n_jobs=-1)]: Done  12 out of  12 | elapsed:   21.3s finished\n"
     ]
    },
    {
     "name": "stdout",
     "output_type": "stream",
     "text": [
      "ERROR RATE 0.09789473684210527\n",
      "TIME FOR BATCH, 21.361621856689453\n",
      "PARAMS (2.0, 2.0, 2.0)\n",
      "COMPLETION RATE 72000/10000000\n",
      "PERCENTAGE CORRECT, 0.4747777777777778\n",
      "CONFIDENCE (0.4711248855769712, 0.47843047074401734)\n",
      "CONFIDENCE % 1.3909512693762518\n",
      "-----------------------------------------------\n"
     ]
    },
    {
     "name": "stderr",
     "output_type": "stream",
     "text": [
      "[Parallel(n_jobs=-1)]: Using backend LokyBackend with 12 concurrent workers.\n",
      "[Parallel(n_jobs=-1)]: Done   1 tasks      | elapsed:   20.5s\n",
      "[Parallel(n_jobs=-1)]: Done   3 out of  12 | elapsed:   20.7s remaining:  1.0min\n",
      "[Parallel(n_jobs=-1)]: Done   5 out of  12 | elapsed:   20.8s remaining:   29.1s\n",
      "[Parallel(n_jobs=-1)]: Done   7 out of  12 | elapsed:   21.0s remaining:   15.0s\n",
      "[Parallel(n_jobs=-1)]: Done   9 out of  12 | elapsed:   21.0s remaining:    6.9s\n",
      "[Parallel(n_jobs=-1)]: Done  12 out of  12 | elapsed:   21.0s finished\n",
      "[Parallel(n_jobs=-1)]: Using backend LokyBackend with 12 concurrent workers.\n"
     ]
    },
    {
     "name": "stdout",
     "output_type": "stream",
     "text": [
      "ERROR RATE 0.09789473684210527\n",
      "TIME FOR BATCH, 21.134517431259155\n",
      "PARAMS (2.0, 2.0, 2.0)\n",
      "COMPLETION RATE 96000/10000000\n",
      "PERCENTAGE CORRECT, 0.4766458333333333\n",
      "CONFIDENCE (0.47348429680476434, 0.4798072325134245)\n",
      "CONFIDENCE % 1.2081561801508207\n",
      "-----------------------------------------------\n"
     ]
    },
    {
     "name": "stderr",
     "output_type": "stream",
     "text": [
      "[Parallel(n_jobs=-1)]: Done   1 tasks      | elapsed:   20.9s\n",
      "[Parallel(n_jobs=-1)]: Done   3 out of  12 | elapsed:   21.0s remaining:  1.1min\n",
      "[Parallel(n_jobs=-1)]: Done   5 out of  12 | elapsed:   21.2s remaining:   29.7s\n",
      "[Parallel(n_jobs=-1)]: Done   7 out of  12 | elapsed:   21.2s remaining:   15.1s\n",
      "[Parallel(n_jobs=-1)]: Done   9 out of  12 | elapsed:   21.3s remaining:    7.0s\n",
      "[Parallel(n_jobs=-1)]: Done  12 out of  12 | elapsed:   21.5s finished\n"
     ]
    },
    {
     "name": "stdout",
     "output_type": "stream",
     "text": [
      "ERROR RATE 0.09789473684210527\n",
      "TIME FOR BATCH, 21.55799698829651\n",
      "PARAMS (2.0, 2.0, 2.0)\n",
      "COMPLETION RATE 120000/10000000\n",
      "PERCENTAGE CORRECT, 0.4759583333333333\n",
      "CONFIDENCE (0.4731332704740727, 0.4787874500149816)\n",
      "CONFIDENCE % 1.0789561022645504\n",
      "-----------------------------------------------\n"
     ]
    },
    {
     "name": "stderr",
     "output_type": "stream",
     "text": [
      "[Parallel(n_jobs=-1)]: Using backend LokyBackend with 12 concurrent workers.\n",
      "[Parallel(n_jobs=-1)]: Done   1 tasks      | elapsed:   21.6s\n",
      "[Parallel(n_jobs=-1)]: Done   3 out of  12 | elapsed:   21.8s remaining:  1.1min\n",
      "[Parallel(n_jobs=-1)]: Done   5 out of  12 | elapsed:   22.6s remaining:   31.7s\n",
      "[Parallel(n_jobs=-1)]: Done   7 out of  12 | elapsed:   22.9s remaining:   16.3s\n",
      "[Parallel(n_jobs=-1)]: Done   9 out of  12 | elapsed:   23.1s remaining:    7.6s\n",
      "[Parallel(n_jobs=-1)]: Done  12 out of  12 | elapsed:   23.6s finished\n",
      "[Parallel(n_jobs=-1)]: Using backend LokyBackend with 12 concurrent workers.\n"
     ]
    },
    {
     "name": "stdout",
     "output_type": "stream",
     "text": [
      "ERROR RATE 0.09789473684210527\n",
      "TIME FOR BATCH, 23.706522464752197\n",
      "PARAMS (2.0, 2.0, 2.0)\n",
      "COMPLETION RATE 144000/10000000\n",
      "PERCENTAGE CORRECT, 0.4757638888888889\n",
      "CONFIDENCE (0.4731839753076202, 0.47834717960037726)\n",
      "CONFIDENCE % 0.9849005406769353\n",
      "-----------------------------------------------\n"
     ]
    },
    {
     "name": "stderr",
     "output_type": "stream",
     "text": [
      "[Parallel(n_jobs=-1)]: Done   1 tasks      | elapsed:   22.8s\n",
      "[Parallel(n_jobs=-1)]: Done   3 out of  12 | elapsed:   23.4s remaining:  1.2min\n",
      "[Parallel(n_jobs=-1)]: Done   5 out of  12 | elapsed:   24.4s remaining:   34.2s\n",
      "[Parallel(n_jobs=-1)]: Done   7 out of  12 | elapsed:   25.0s remaining:   17.9s\n",
      "[Parallel(n_jobs=-1)]: Done   9 out of  12 | elapsed:   25.7s remaining:    8.5s\n",
      "[Parallel(n_jobs=-1)]: Done  12 out of  12 | elapsed:   26.3s finished\n",
      "[Parallel(n_jobs=-1)]: Using backend LokyBackend with 12 concurrent workers.\n"
     ]
    },
    {
     "name": "stdout",
     "output_type": "stream",
     "text": [
      "ERROR RATE 0.09789473684210527\n",
      "TIME FOR BATCH, 26.39255714416504\n",
      "PARAMS (2.0, 2.0, 2.0)\n",
      "COMPLETION RATE 168000/10000000\n",
      "PERCENTAGE CORRECT, 0.47589880952380953\n",
      "CONFIDENCE (0.4735088839171838, 0.4782886540901983)\n",
      "CONFIDENCE % 0.9119937637752024\n",
      "-----------------------------------------------\n"
     ]
    },
    {
     "name": "stderr",
     "output_type": "stream",
     "text": [
      "[Parallel(n_jobs=-1)]: Done   1 tasks      | elapsed:   21.6s\n",
      "[Parallel(n_jobs=-1)]: Done   3 out of  12 | elapsed:   21.6s remaining:  1.1min\n",
      "[Parallel(n_jobs=-1)]: Done   5 out of  12 | elapsed:   21.8s remaining:   30.5s\n",
      "[Parallel(n_jobs=-1)]: Done   7 out of  12 | elapsed:   22.7s remaining:   16.2s\n",
      "[Parallel(n_jobs=-1)]: Done   9 out of  12 | elapsed:   22.8s remaining:    7.5s\n",
      "[Parallel(n_jobs=-1)]: Done  12 out of  12 | elapsed:   23.4s finished\n",
      "[Parallel(n_jobs=-1)]: Using backend LokyBackend with 12 concurrent workers.\n"
     ]
    },
    {
     "name": "stdout",
     "output_type": "stream",
     "text": [
      "ERROR RATE 0.09789473684210527\n",
      "TIME FOR BATCH, 23.48314070701599\n",
      "PARAMS (2.0, 2.0, 2.0)\n",
      "COMPLETION RATE 192000/10000000\n",
      "PERCENTAGE CORRECT, 0.4759791666666667\n",
      "CONFIDENCE (0.473744753130095, 0.4782135098685587)\n",
      "CONFIDENCE % 0.8527822663151808\n",
      "-----------------------------------------------\n"
     ]
    },
    {
     "name": "stderr",
     "output_type": "stream",
     "text": [
      "[Parallel(n_jobs=-1)]: Done   1 tasks      | elapsed:   20.8s\n",
      "[Parallel(n_jobs=-1)]: Done   3 out of  12 | elapsed:   20.9s remaining:  1.0min\n",
      "[Parallel(n_jobs=-1)]: Done   5 out of  12 | elapsed:   21.1s remaining:   29.6s\n",
      "[Parallel(n_jobs=-1)]: Done   7 out of  12 | elapsed:   21.3s remaining:   15.2s\n",
      "[Parallel(n_jobs=-1)]: Done   9 out of  12 | elapsed:   21.7s remaining:    7.2s\n",
      "[Parallel(n_jobs=-1)]: Done  12 out of  12 | elapsed:   22.0s finished\n"
     ]
    },
    {
     "name": "stdout",
     "output_type": "stream",
     "text": [
      "ERROR RATE 0.09789473684210527\n",
      "TIME FOR BATCH, 22.060333013534546\n",
      "PARAMS (2.0, 2.0, 2.0)\n",
      "COMPLETION RATE 216000/10000000\n",
      "PERCENTAGE CORRECT, 0.4765\n",
      "CONFIDENCE (0.4743934851437368, 0.4786087682920337)\n",
      "CONFIDENCE % 0.8052116806679824\n",
      "-----------------------------------------------\n"
     ]
    },
    {
     "name": "stderr",
     "output_type": "stream",
     "text": [
      "[Parallel(n_jobs=-1)]: Using backend LokyBackend with 12 concurrent workers.\n",
      "[Parallel(n_jobs=-1)]: Done   1 tasks      | elapsed:   22.2s\n",
      "[Parallel(n_jobs=-1)]: Done   3 out of  12 | elapsed:   22.7s remaining:  1.1min\n",
      "[Parallel(n_jobs=-1)]: Done   5 out of  12 | elapsed:   22.8s remaining:   32.0s\n",
      "[Parallel(n_jobs=-1)]: Done   7 out of  12 | elapsed:   23.0s remaining:   16.4s\n",
      "[Parallel(n_jobs=-1)]: Done   9 out of  12 | elapsed:   23.1s remaining:    7.6s\n",
      "[Parallel(n_jobs=-1)]: Done  12 out of  12 | elapsed:   23.2s finished\n",
      "[Parallel(n_jobs=-1)]: Using backend LokyBackend with 12 concurrent workers.\n"
     ]
    },
    {
     "name": "stdout",
     "output_type": "stream",
     "text": [
      "ERROR RATE 0.09789473684210527\n",
      "TIME FOR BATCH, 23.353849172592163\n",
      "PARAMS (2.0, 2.0, 2.0)\n",
      "COMPLETION RATE 240000/10000000\n",
      "PERCENTAGE CORRECT, 0.47659583333333333\n",
      "CONFIDENCE (0.4745978869369424, 0.4785958081790157)\n",
      "CONFIDENCE % 0.7638306105842338\n",
      "-----------------------------------------------\n"
     ]
    },
    {
     "name": "stderr",
     "output_type": "stream",
     "text": [
      "[Parallel(n_jobs=-1)]: Done   1 tasks      | elapsed:   22.0s\n",
      "[Parallel(n_jobs=-1)]: Done   3 out of  12 | elapsed:   22.1s remaining:  1.1min\n",
      "[Parallel(n_jobs=-1)]: Done   5 out of  12 | elapsed:   22.1s remaining:   31.0s\n",
      "[Parallel(n_jobs=-1)]: Done   7 out of  12 | elapsed:   22.2s remaining:   15.8s\n",
      "[Parallel(n_jobs=-1)]: Done   9 out of  12 | elapsed:   22.9s remaining:    7.6s\n",
      "[Parallel(n_jobs=-1)]: Done  12 out of  12 | elapsed:   23.1s finished\n",
      "[Parallel(n_jobs=-1)]: Using backend LokyBackend with 12 concurrent workers.\n"
     ]
    },
    {
     "name": "stdout",
     "output_type": "stream",
     "text": [
      "ERROR RATE 0.09789473684210527\n",
      "TIME FOR BATCH, 23.22783374786377\n",
      "PARAMS (2.0, 2.0, 2.0)\n",
      "COMPLETION RATE 264000/10000000\n",
      "PERCENTAGE CORRECT, 0.4765871212121212\n",
      "CONFIDENCE (0.47468179119748366, 0.47849429517721026)\n",
      "CONFIDENCE % 0.7283932310866346\n",
      "-----------------------------------------------\n"
     ]
    },
    {
     "name": "stderr",
     "output_type": "stream",
     "text": [
      "[Parallel(n_jobs=-1)]: Done   1 tasks      | elapsed:   21.9s\n",
      "[Parallel(n_jobs=-1)]: Done   3 out of  12 | elapsed:   22.5s remaining:  1.1min\n",
      "[Parallel(n_jobs=-1)]: Done   5 out of  12 | elapsed:   22.9s remaining:   32.1s\n",
      "[Parallel(n_jobs=-1)]: Done   7 out of  12 | elapsed:   23.4s remaining:   16.7s\n",
      "[Parallel(n_jobs=-1)]: Done   9 out of  12 | elapsed:   24.5s remaining:    8.1s\n",
      "[Parallel(n_jobs=-1)]: Done  12 out of  12 | elapsed:   25.6s finished\n",
      "[Parallel(n_jobs=-1)]: Using backend LokyBackend with 12 concurrent workers.\n"
     ]
    },
    {
     "name": "stdout",
     "output_type": "stream",
     "text": [
      "ERROR RATE 0.09789473684210527\n",
      "TIME FOR BATCH, 25.702993869781494\n",
      "PARAMS (2.0, 2.0, 2.0)\n",
      "COMPLETION RATE 288000/10000000\n",
      "PERCENTAGE CORRECT, 0.47658333333333336\n",
      "CONFIDENCE (0.4747586558382282, 0.478407965079319)\n",
      "CONFIDENCE % 0.6972092165752212\n",
      "-----------------------------------------------\n"
     ]
    },
    {
     "name": "stderr",
     "output_type": "stream",
     "text": [
      "[Parallel(n_jobs=-1)]: Done   1 tasks      | elapsed:   22.0s\n",
      "[Parallel(n_jobs=-1)]: Done   3 out of  12 | elapsed:   22.1s remaining:  1.1min\n",
      "[Parallel(n_jobs=-1)]: Done   5 out of  12 | elapsed:   23.1s remaining:   32.3s\n",
      "[Parallel(n_jobs=-1)]: Done   7 out of  12 | elapsed:   23.2s remaining:   16.5s\n",
      "[Parallel(n_jobs=-1)]: Done   9 out of  12 | elapsed:   24.1s remaining:    8.0s\n",
      "[Parallel(n_jobs=-1)]: Done  12 out of  12 | elapsed:   24.4s finished\n"
     ]
    },
    {
     "name": "stdout",
     "output_type": "stream",
     "text": [
      "ERROR RATE 0.09789473684210527\n",
      "TIME FOR BATCH, 24.543160676956177\n",
      "PARAMS (2.0, 2.0, 2.0)\n",
      "COMPLETION RATE 312000/10000000\n",
      "PERCENTAGE CORRECT, 0.4768878205128205\n",
      "CONFIDENCE (0.4751345928991783, 0.47864100642740426)\n",
      "CONFIDENCE % 0.6702985833102525\n",
      "-----------------------------------------------\n"
     ]
    },
    {
     "name": "stderr",
     "output_type": "stream",
     "text": [
      "[Parallel(n_jobs=-1)]: Using backend LokyBackend with 12 concurrent workers.\n",
      "[Parallel(n_jobs=-1)]: Done   1 tasks      | elapsed:   21.8s\n",
      "[Parallel(n_jobs=-1)]: Done   3 out of  12 | elapsed:   21.8s remaining:  1.1min\n",
      "[Parallel(n_jobs=-1)]: Done   5 out of  12 | elapsed:   22.3s remaining:   31.3s\n",
      "[Parallel(n_jobs=-1)]: Done   7 out of  12 | elapsed:   22.5s remaining:   16.0s\n",
      "[Parallel(n_jobs=-1)]: Done   9 out of  12 | elapsed:   24.4s remaining:    8.1s\n",
      "[Parallel(n_jobs=-1)]: Done  12 out of  12 | elapsed:   24.7s finished\n",
      "[Parallel(n_jobs=-1)]: Using backend LokyBackend with 12 concurrent workers.\n"
     ]
    },
    {
     "name": "stdout",
     "output_type": "stream",
     "text": [
      "ERROR RATE 0.09789473684210527\n",
      "TIME FOR BATCH, 24.802983283996582\n",
      "PARAMS (2.0, 2.0, 2.0)\n",
      "COMPLETION RATE 336000/10000000\n",
      "PERCENTAGE CORRECT, 0.47717261904761904\n",
      "CONFIDENCE (0.4754836104210319, 0.4788630774918512)\n",
      "CONFIDENCE % 0.6463829542866122\n",
      "-----------------------------------------------\n"
     ]
    },
    {
     "name": "stderr",
     "output_type": "stream",
     "text": [
      "[Parallel(n_jobs=-1)]: Done   1 tasks      | elapsed:   21.7s\n",
      "[Parallel(n_jobs=-1)]: Done   3 out of  12 | elapsed:   21.9s remaining:  1.1min\n",
      "[Parallel(n_jobs=-1)]: Done   5 out of  12 | elapsed:   22.1s remaining:   31.0s\n",
      "[Parallel(n_jobs=-1)]: Done   7 out of  12 | elapsed:   22.4s remaining:   16.0s\n",
      "[Parallel(n_jobs=-1)]: Done   9 out of  12 | elapsed:   22.6s remaining:    7.5s\n",
      "[Parallel(n_jobs=-1)]: Done  12 out of  12 | elapsed:   23.1s finished\n",
      "[Parallel(n_jobs=-1)]: Using backend LokyBackend with 12 concurrent workers.\n"
     ]
    },
    {
     "name": "stdout",
     "output_type": "stream",
     "text": [
      "ERROR RATE 0.09789473684210527\n",
      "TIME FOR BATCH, 23.250073671340942\n",
      "PARAMS (2.0, 2.0, 2.0)\n",
      "COMPLETION RATE 360000/10000000\n",
      "PERCENTAGE CORRECT, 0.47734444444444446\n",
      "CONFIDENCE (0.47571248099514246, 0.47897637252355585)\n",
      "CONFIDENCE % 0.6244823179855118\n",
      "-----------------------------------------------\n"
     ]
    },
    {
     "name": "stderr",
     "output_type": "stream",
     "text": [
      "[Parallel(n_jobs=-1)]: Done   1 tasks      | elapsed:   21.2s\n",
      "[Parallel(n_jobs=-1)]: Done   3 out of  12 | elapsed:   21.3s remaining:  1.1min\n",
      "[Parallel(n_jobs=-1)]: Done   5 out of  12 | elapsed:   22.7s remaining:   31.8s\n",
      "[Parallel(n_jobs=-1)]: Done   7 out of  12 | elapsed:   22.8s remaining:   16.2s\n",
      "[Parallel(n_jobs=-1)]: Done   9 out of  12 | elapsed:   22.8s remaining:    7.5s\n",
      "[Parallel(n_jobs=-1)]: Done  12 out of  12 | elapsed:   23.0s finished\n"
     ]
    },
    {
     "name": "stdout",
     "output_type": "stream",
     "text": [
      "ERROR RATE 0.09789473684210527\n",
      "TIME FOR BATCH, 23.12818932533264\n",
      "PARAMS (2.0, 2.0, 2.0)\n",
      "COMPLETION RATE 384000/10000000\n",
      "PERCENTAGE CORRECT, 0.47748697916666666\n",
      "CONFIDENCE (0.4759062322607709, 0.47906769300834384)\n",
      "CONFIDENCE % 0.6050491799287369\n",
      "-----------------------------------------------\n"
     ]
    },
    {
     "name": "stderr",
     "output_type": "stream",
     "text": [
      "[Parallel(n_jobs=-1)]: Using backend LokyBackend with 12 concurrent workers.\n",
      "[Parallel(n_jobs=-1)]: Done   1 tasks      | elapsed:   22.1s\n",
      "[Parallel(n_jobs=-1)]: Done   3 out of  12 | elapsed:   22.3s remaining:  1.1min\n",
      "[Parallel(n_jobs=-1)]: Done   5 out of  12 | elapsed:   22.5s remaining:   31.5s\n",
      "[Parallel(n_jobs=-1)]: Done   7 out of  12 | elapsed:   22.7s remaining:   16.2s\n",
      "[Parallel(n_jobs=-1)]: Done   9 out of  12 | elapsed:   22.8s remaining:    7.5s\n",
      "[Parallel(n_jobs=-1)]: Done  12 out of  12 | elapsed:   23.2s finished\n"
     ]
    },
    {
     "name": "stdout",
     "output_type": "stream",
     "text": [
      "ERROR RATE 0.09789473684210527\n",
      "TIME FOR BATCH, 23.35858726501465\n",
      "PARAMS (2.0, 2.0, 2.0)\n",
      "COMPLETION RATE 408000/10000000\n",
      "PERCENTAGE CORRECT, 0.4776004901960784\n",
      "CONFIDENCE (0.47606738541968574, 0.47913356409063834)\n",
      "CONFIDENCE % 0.5869413376944912\n",
      "-----------------------------------------------\n"
     ]
    },
    {
     "name": "stderr",
     "output_type": "stream",
     "text": [
      "[Parallel(n_jobs=-1)]: Using backend LokyBackend with 12 concurrent workers.\n",
      "[Parallel(n_jobs=-1)]: Done   1 tasks      | elapsed:   21.2s\n",
      "[Parallel(n_jobs=-1)]: Done   3 out of  12 | elapsed:   21.3s remaining:  1.1min\n",
      "[Parallel(n_jobs=-1)]: Done   5 out of  12 | elapsed:   21.4s remaining:   30.0s\n",
      "[Parallel(n_jobs=-1)]: Done   7 out of  12 | elapsed:   21.6s remaining:   15.4s\n",
      "[Parallel(n_jobs=-1)]: Done   9 out of  12 | elapsed:   21.7s remaining:    7.2s\n",
      "[Parallel(n_jobs=-1)]: Done  12 out of  12 | elapsed:   22.1s finished\n",
      "[Parallel(n_jobs=-1)]: Using backend LokyBackend with 12 concurrent workers.\n"
     ]
    },
    {
     "name": "stdout",
     "output_type": "stream",
     "text": [
      "ERROR RATE 0.09894736842105264\n",
      "TIME FOR BATCH, 22.214289903640747\n",
      "PARAMS (2.0, 2.0, 2.0)\n",
      "COMPLETION RATE 24000/10000000\n",
      "PERCENTAGE CORRECT, 0.4711666666666667\n",
      "CONFIDENCE (0.4648537544290482, 0.477499731838129)\n",
      "CONFIDENCE % 2.3912973354706843\n",
      "-----------------------------------------------\n"
     ]
    },
    {
     "name": "stderr",
     "output_type": "stream",
     "text": [
      "[Parallel(n_jobs=-1)]: Done   1 tasks      | elapsed:   21.9s\n",
      "[Parallel(n_jobs=-1)]: Done   3 out of  12 | elapsed:   22.1s remaining:  1.1min\n",
      "[Parallel(n_jobs=-1)]: Done   5 out of  12 | elapsed:   22.2s remaining:   31.1s\n",
      "[Parallel(n_jobs=-1)]: Done   7 out of  12 | elapsed:   22.3s remaining:   15.9s\n",
      "[Parallel(n_jobs=-1)]: Done   9 out of  12 | elapsed:   23.1s remaining:    7.6s\n",
      "[Parallel(n_jobs=-1)]: Done  12 out of  12 | elapsed:   23.2s finished\n"
     ]
    },
    {
     "name": "stdout",
     "output_type": "stream",
     "text": [
      "ERROR RATE 0.09894736842105264\n",
      "TIME FOR BATCH, 23.340068340301514\n",
      "PARAMS (2.0, 2.0, 2.0)\n",
      "COMPLETION RATE 48000/10000000\n",
      "PERCENTAGE CORRECT, 0.47158333333333335\n",
      "CONFIDENCE (0.46711438896765745, 0.4760519431981458)\n",
      "CONFIDENCE % 1.691383863205494\n",
      "-----------------------------------------------\n"
     ]
    },
    {
     "name": "stderr",
     "output_type": "stream",
     "text": [
      "[Parallel(n_jobs=-1)]: Using backend LokyBackend with 12 concurrent workers.\n",
      "[Parallel(n_jobs=-1)]: Done   1 tasks      | elapsed:   21.1s\n",
      "[Parallel(n_jobs=-1)]: Done   3 out of  12 | elapsed:   21.3s remaining:  1.1min\n",
      "[Parallel(n_jobs=-1)]: Done   5 out of  12 | elapsed:   21.4s remaining:   30.0s\n",
      "[Parallel(n_jobs=-1)]: Done   7 out of  12 | elapsed:   21.7s remaining:   15.5s\n",
      "[Parallel(n_jobs=-1)]: Done   9 out of  12 | elapsed:   22.3s remaining:    7.4s\n",
      "[Parallel(n_jobs=-1)]: Done  12 out of  12 | elapsed:   23.0s finished\n",
      "[Parallel(n_jobs=-1)]: Using backend LokyBackend with 12 concurrent workers.\n"
     ]
    },
    {
     "name": "stdout",
     "output_type": "stream",
     "text": [
      "ERROR RATE 0.09894736842105264\n",
      "TIME FOR BATCH, 23.098230361938477\n",
      "PARAMS (2.0, 2.0, 2.0)\n",
      "COMPLETION RATE 72000/10000000\n",
      "PERCENTAGE CORRECT, 0.47158333333333335\n",
      "CONFIDENCE (0.46793737468260943, 0.4752360134602173)\n",
      "CONFIDENCE % 1.3812279661140938\n",
      "-----------------------------------------------\n"
     ]
    },
    {
     "name": "stderr",
     "output_type": "stream",
     "text": [
      "[Parallel(n_jobs=-1)]: Done   1 tasks      | elapsed:   21.3s\n",
      "[Parallel(n_jobs=-1)]: Done   3 out of  12 | elapsed:   21.8s remaining:  1.1min\n",
      "[Parallel(n_jobs=-1)]: Done   5 out of  12 | elapsed:   21.9s remaining:   30.7s\n",
      "[Parallel(n_jobs=-1)]: Done   7 out of  12 | elapsed:   22.4s remaining:   16.0s\n",
      "[Parallel(n_jobs=-1)]: Done   9 out of  12 | elapsed:   22.7s remaining:    7.5s\n",
      "[Parallel(n_jobs=-1)]: Done  12 out of  12 | elapsed:   23.4s finished\n"
     ]
    },
    {
     "name": "stdout",
     "output_type": "stream",
     "text": [
      "ERROR RATE 0.09894736842105264\n",
      "TIME FOR BATCH, 23.483612775802612\n",
      "PARAMS (2.0, 2.0, 2.0)\n",
      "COMPLETION RATE 96000/10000000\n",
      "PERCENTAGE CORRECT, 0.47089583333333335\n",
      "CONFIDENCE (0.46773427927610023, 0.47405721529784783)\n",
      "CONFIDENCE % 1.1950266923017876\n",
      "-----------------------------------------------\n"
     ]
    },
    {
     "name": "stderr",
     "output_type": "stream",
     "text": [
      "[Parallel(n_jobs=-1)]: Using backend LokyBackend with 12 concurrent workers.\n",
      "[Parallel(n_jobs=-1)]: Done   1 tasks      | elapsed:   21.0s\n",
      "[Parallel(n_jobs=-1)]: Done   3 out of  12 | elapsed:   21.1s remaining:  1.1min\n",
      "[Parallel(n_jobs=-1)]: Done   5 out of  12 | elapsed:   21.3s remaining:   29.8s\n",
      "[Parallel(n_jobs=-1)]: Done   7 out of  12 | elapsed:   21.4s remaining:   15.3s\n",
      "[Parallel(n_jobs=-1)]: Done   9 out of  12 | elapsed:   22.2s remaining:    7.3s\n",
      "[Parallel(n_jobs=-1)]: Done  12 out of  12 | elapsed:   23.2s finished\n",
      "[Parallel(n_jobs=-1)]: Using backend LokyBackend with 12 concurrent workers.\n"
     ]
    },
    {
     "name": "stdout",
     "output_type": "stream",
     "text": [
      "ERROR RATE 0.09894736842105264\n",
      "TIME FOR BATCH, 23.25627851486206\n",
      "PARAMS (2.0, 2.0, 2.0)\n",
      "COMPLETION RATE 120000/10000000\n",
      "PERCENTAGE CORRECT, 0.46978333333333333\n",
      "CONFIDENCE (0.46695825550618597, 0.47260826928784305)\n",
      "CONFIDENCE % 1.0656047115940808\n",
      "-----------------------------------------------\n"
     ]
    },
    {
     "name": "stderr",
     "output_type": "stream",
     "text": [
      "[Parallel(n_jobs=-1)]: Done   1 tasks      | elapsed:   22.2s\n",
      "[Parallel(n_jobs=-1)]: Done   3 out of  12 | elapsed:   22.8s remaining:  1.1min\n",
      "[Parallel(n_jobs=-1)]: Done   5 out of  12 | elapsed:   23.1s remaining:   32.4s\n",
      "[Parallel(n_jobs=-1)]: Done   7 out of  12 | elapsed:   23.7s remaining:   16.9s\n",
      "[Parallel(n_jobs=-1)]: Done   9 out of  12 | elapsed:   24.4s remaining:    8.1s\n",
      "[Parallel(n_jobs=-1)]: Done  12 out of  12 | elapsed:   25.0s finished\n",
      "[Parallel(n_jobs=-1)]: Using backend LokyBackend with 12 concurrent workers.\n"
     ]
    },
    {
     "name": "stdout",
     "output_type": "stream",
     "text": [
      "ERROR RATE 0.09894736842105264\n",
      "TIME FOR BATCH, 25.092092514038086\n",
      "PARAMS (2.0, 2.0, 2.0)\n",
      "COMPLETION RATE 144000/10000000\n",
      "PERCENTAGE CORRECT, 0.4700625\n",
      "CONFIDENCE (0.467482574871966, 0.47264230762216214)\n",
      "CONFIDENCE % 0.9736492983033199\n",
      "-----------------------------------------------\n"
     ]
    },
    {
     "name": "stderr",
     "output_type": "stream",
     "text": [
      "[Parallel(n_jobs=-1)]: Done   1 tasks      | elapsed:   21.6s\n",
      "[Parallel(n_jobs=-1)]: Done   3 out of  12 | elapsed:   22.1s remaining:  1.1min\n",
      "[Parallel(n_jobs=-1)]: Done   5 out of  12 | elapsed:   22.5s remaining:   31.5s\n",
      "[Parallel(n_jobs=-1)]: Done   7 out of  12 | elapsed:   23.3s remaining:   16.6s\n",
      "[Parallel(n_jobs=-1)]: Done   9 out of  12 | elapsed:   23.6s remaining:    7.8s\n",
      "[Parallel(n_jobs=-1)]: Done  12 out of  12 | elapsed:   24.0s finished\n",
      "[Parallel(n_jobs=-1)]: Using backend LokyBackend with 12 concurrent workers.\n"
     ]
    },
    {
     "name": "stdout",
     "output_type": "stream",
     "text": [
      "ERROR RATE 0.09894736842105264\n",
      "TIME FOR BATCH, 24.07598090171814\n",
      "PARAMS (2.0, 2.0, 2.0)\n",
      "COMPLETION RATE 168000/10000000\n",
      "PERCENTAGE CORRECT, 0.47057738095238094\n",
      "CONFIDENCE (0.4681904228796977, 0.4729672163847513)\n",
      "CONFIDENCE % 0.9022647188075585\n",
      "-----------------------------------------------\n"
     ]
    },
    {
     "name": "stderr",
     "output_type": "stream",
     "text": [
      "[Parallel(n_jobs=-1)]: Done   1 tasks      | elapsed:   21.9s\n",
      "[Parallel(n_jobs=-1)]: Done   3 out of  12 | elapsed:   22.0s remaining:  1.1min\n",
      "[Parallel(n_jobs=-1)]: Done   5 out of  12 | elapsed:   22.2s remaining:   31.1s\n",
      "[Parallel(n_jobs=-1)]: Done   7 out of  12 | elapsed:   22.5s remaining:   16.0s\n",
      "[Parallel(n_jobs=-1)]: Done   9 out of  12 | elapsed:   22.8s remaining:    7.5s\n",
      "[Parallel(n_jobs=-1)]: Done  12 out of  12 | elapsed:   22.9s finished\n"
     ]
    },
    {
     "name": "stdout",
     "output_type": "stream",
     "text": [
      "ERROR RATE 0.09894736842105264\n",
      "TIME FOR BATCH, 23.042489767074585\n",
      "PARAMS (2.0, 2.0, 2.0)\n",
      "COMPLETION RATE 192000/10000000\n",
      "PERCENTAGE CORRECT, 0.46910416666666666\n",
      "CONFIDENCE (0.46687234737109085, 0.47133849956157226)\n",
      "CONFIDENCE % 0.8412483033516762\n",
      "-----------------------------------------------\n"
     ]
    },
    {
     "name": "stderr",
     "output_type": "stream",
     "text": [
      "[Parallel(n_jobs=-1)]: Using backend LokyBackend with 12 concurrent workers.\n",
      "[Parallel(n_jobs=-1)]: Done   1 tasks      | elapsed:   21.4s\n",
      "[Parallel(n_jobs=-1)]: Done   3 out of  12 | elapsed:   21.4s remaining:  1.1min\n",
      "[Parallel(n_jobs=-1)]: Done   5 out of  12 | elapsed:   21.9s remaining:   30.7s\n",
      "[Parallel(n_jobs=-1)]: Done   7 out of  12 | elapsed:   22.0s remaining:   15.7s\n",
      "[Parallel(n_jobs=-1)]: Done   9 out of  12 | elapsed:   22.2s remaining:    7.3s\n",
      "[Parallel(n_jobs=-1)]: Done  12 out of  12 | elapsed:   22.4s finished\n",
      "[Parallel(n_jobs=-1)]: Using backend LokyBackend with 12 concurrent workers.\n"
     ]
    },
    {
     "name": "stdout",
     "output_type": "stream",
     "text": [
      "ERROR RATE 0.09894736842105264\n",
      "TIME FOR BATCH, 22.464060306549072\n",
      "PARAMS (2.0, 2.0, 2.0)\n",
      "COMPLETION RATE 216000/10000000\n",
      "PERCENTAGE CORRECT, 0.4694583333333333\n",
      "CONFIDENCE (0.4673541242323789, 0.47156477771170036)\n",
      "CONFIDENCE % 0.7936517985055801\n",
      "-----------------------------------------------\n"
     ]
    },
    {
     "name": "stderr",
     "output_type": "stream",
     "text": [
      "[Parallel(n_jobs=-1)]: Done   1 tasks      | elapsed:   21.0s\n",
      "[Parallel(n_jobs=-1)]: Done   3 out of  12 | elapsed:   21.0s remaining:  1.1min\n",
      "[Parallel(n_jobs=-1)]: Done   5 out of  12 | elapsed:   21.1s remaining:   29.6s\n",
      "[Parallel(n_jobs=-1)]: Done   7 out of  12 | elapsed:   21.2s remaining:   15.1s\n",
      "[Parallel(n_jobs=-1)]: Done   9 out of  12 | elapsed:   21.7s remaining:    7.2s\n",
      "[Parallel(n_jobs=-1)]: Done  12 out of  12 | elapsed:   21.8s finished\n"
     ]
    },
    {
     "name": "stdout",
     "output_type": "stream",
     "text": [
      "ERROR RATE 0.09894736842105264\n",
      "TIME FOR BATCH, 21.912771701812744\n",
      "PARAMS (2.0, 2.0, 2.0)\n",
      "COMPLETION RATE 240000/10000000\n",
      "PERCENTAGE CORRECT, 0.468975\n",
      "CONFIDENCE (0.4669770443774689, 0.4709728826280695)\n",
      "CONFIDENCE % 0.7524764842711029\n",
      "-----------------------------------------------\n"
     ]
    },
    {
     "name": "stderr",
     "output_type": "stream",
     "text": [
      "[Parallel(n_jobs=-1)]: Using backend LokyBackend with 12 concurrent workers.\n",
      "[Parallel(n_jobs=-1)]: Done   1 tasks      | elapsed:   21.3s\n",
      "[Parallel(n_jobs=-1)]: Done   3 out of  12 | elapsed:   21.7s remaining:  1.1min\n",
      "[Parallel(n_jobs=-1)]: Done   5 out of  12 | elapsed:   21.8s remaining:   30.6s\n",
      "[Parallel(n_jobs=-1)]: Done   7 out of  12 | elapsed:   22.4s remaining:   16.0s\n",
      "[Parallel(n_jobs=-1)]: Done   9 out of  12 | elapsed:   22.5s remaining:    7.4s\n",
      "[Parallel(n_jobs=-1)]: Done  12 out of  12 | elapsed:   22.9s finished\n",
      "[Parallel(n_jobs=-1)]: Using backend LokyBackend with 12 concurrent workers.\n"
     ]
    },
    {
     "name": "stdout",
     "output_type": "stream",
     "text": [
      "ERROR RATE 0.09894736842105264\n",
      "TIME FOR BATCH, 23.030810117721558\n",
      "PARAMS (2.0, 2.0, 2.0)\n",
      "COMPLETION RATE 264000/10000000\n",
      "PERCENTAGE CORRECT, 0.469030303030303\n",
      "CONFIDENCE (0.4671268589461769, 0.470935575025557)\n",
      "CONFIDENCE % 0.7173132668619073\n",
      "-----------------------------------------------\n"
     ]
    },
    {
     "name": "stderr",
     "output_type": "stream",
     "text": [
      "[Parallel(n_jobs=-1)]: Done   1 tasks      | elapsed:   21.5s\n",
      "[Parallel(n_jobs=-1)]: Done   3 out of  12 | elapsed:   21.9s remaining:  1.1min\n",
      "[Parallel(n_jobs=-1)]: Done   5 out of  12 | elapsed:   22.1s remaining:   31.0s\n",
      "[Parallel(n_jobs=-1)]: Done   7 out of  12 | elapsed:   22.5s remaining:   16.0s\n",
      "[Parallel(n_jobs=-1)]: Done   9 out of  12 | elapsed:   23.1s remaining:    7.6s\n",
      "[Parallel(n_jobs=-1)]: Done  12 out of  12 | elapsed:   23.9s finished\n"
     ]
    },
    {
     "name": "stdout",
     "output_type": "stream",
     "text": [
      "ERROR RATE 0.09894736842105264\n",
      "TIME FOR BATCH, 23.9896342754364\n",
      "PARAMS (2.0, 2.0, 2.0)\n",
      "COMPLETION RATE 288000/10000000\n",
      "PERCENTAGE CORRECT, 0.4692395833333333\n",
      "CONFIDENCE (0.4674166347956969, 0.47106420773085866)\n",
      "CONFIDENCE % 0.6872352987567559\n",
      "-----------------------------------------------\n"
     ]
    },
    {
     "name": "stderr",
     "output_type": "stream",
     "text": [
      "[Parallel(n_jobs=-1)]: Using backend LokyBackend with 12 concurrent workers.\n",
      "[Parallel(n_jobs=-1)]: Done   1 tasks      | elapsed:   21.1s\n",
      "[Parallel(n_jobs=-1)]: Done   3 out of  12 | elapsed:   21.2s remaining:  1.1min\n",
      "[Parallel(n_jobs=-1)]: Done   5 out of  12 | elapsed:   21.6s remaining:   30.3s\n",
      "[Parallel(n_jobs=-1)]: Done   7 out of  12 | elapsed:   22.0s remaining:   15.7s\n",
      "[Parallel(n_jobs=-1)]: Done   9 out of  12 | elapsed:   23.4s remaining:    7.7s\n",
      "[Parallel(n_jobs=-1)]: Done  12 out of  12 | elapsed:   23.8s finished\n"
     ]
    },
    {
     "name": "stdout",
     "output_type": "stream",
     "text": [
      "ERROR RATE 0.09894736842105264\n",
      "TIME FOR BATCH, 23.94189453125\n",
      "PARAMS (2.0, 2.0, 2.0)\n",
      "COMPLETION RATE 312000/10000000\n",
      "PERCENTAGE CORRECT, 0.4691923076923077\n",
      "CONFIDENCE (0.46744067569297343, 0.4709438841427693)\n",
      "CONFIDENCE % 0.659976955979219\n",
      "-----------------------------------------------\n"
     ]
    },
    {
     "name": "stderr",
     "output_type": "stream",
     "text": [
      "[Parallel(n_jobs=-1)]: Using backend LokyBackend with 12 concurrent workers.\n",
      "[Parallel(n_jobs=-1)]: Done   1 tasks      | elapsed:   21.9s\n",
      "[Parallel(n_jobs=-1)]: Done   3 out of  12 | elapsed:   22.2s remaining:  1.1min\n",
      "[Parallel(n_jobs=-1)]: Done   5 out of  12 | elapsed:   23.9s remaining:   33.5s\n",
      "[Parallel(n_jobs=-1)]: Done   7 out of  12 | elapsed:   24.1s remaining:   17.2s\n",
      "[Parallel(n_jobs=-1)]: Done   9 out of  12 | elapsed:   24.3s remaining:    8.0s\n",
      "[Parallel(n_jobs=-1)]: Done  12 out of  12 | elapsed:   25.3s finished\n",
      "[Parallel(n_jobs=-1)]: Using backend LokyBackend with 12 concurrent workers.\n"
     ]
    },
    {
     "name": "stdout",
     "output_type": "stream",
     "text": [
      "ERROR RATE 0.09894736842105264\n",
      "TIME FOR BATCH, 25.378900051116943\n",
      "PARAMS (2.0, 2.0, 2.0)\n",
      "COMPLETION RATE 336000/10000000\n",
      "PERCENTAGE CORRECT, 0.4690297619047619\n",
      "CONFIDENCE (0.46734223454927926, 0.47071872541364346)\n",
      "CONFIDENCE % 0.6359096277178858\n",
      "-----------------------------------------------\n"
     ]
    },
    {
     "name": "stderr",
     "output_type": "stream",
     "text": [
      "[Parallel(n_jobs=-1)]: Done   1 tasks      | elapsed:   21.9s\n",
      "[Parallel(n_jobs=-1)]: Done   3 out of  12 | elapsed:   22.2s remaining:  1.1min\n",
      "[Parallel(n_jobs=-1)]: Done   5 out of  12 | elapsed:   22.4s remaining:   31.4s\n",
      "[Parallel(n_jobs=-1)]: Done   7 out of  12 | elapsed:   22.8s remaining:   16.2s\n",
      "[Parallel(n_jobs=-1)]: Done   9 out of  12 | elapsed:   23.1s remaining:    7.6s\n",
      "[Parallel(n_jobs=-1)]: Done  12 out of  12 | elapsed:   23.4s finished\n",
      "[Parallel(n_jobs=-1)]: Using backend LokyBackend with 12 concurrent workers.\n"
     ]
    },
    {
     "name": "stdout",
     "output_type": "stream",
     "text": [
      "ERROR RATE 0.09894736842105264\n",
      "TIME FOR BATCH, 23.47318196296692\n",
      "PARAMS (2.0, 2.0, 2.0)\n",
      "COMPLETION RATE 360000/10000000\n",
      "PERCENTAGE CORRECT, 0.46936666666666665\n",
      "CONFIDENCE (0.46773608585879006, 0.47099719964669334)\n",
      "CONFIDENCE % 0.6145700963446097\n",
      "-----------------------------------------------\n"
     ]
    },
    {
     "name": "stderr",
     "output_type": "stream",
     "text": [
      "[Parallel(n_jobs=-1)]: Done   1 tasks      | elapsed:   22.2s\n",
      "[Parallel(n_jobs=-1)]: Done   3 out of  12 | elapsed:   22.3s remaining:  1.1min\n",
      "[Parallel(n_jobs=-1)]: Done   5 out of  12 | elapsed:   23.0s remaining:   32.2s\n",
      "[Parallel(n_jobs=-1)]: Done   7 out of  12 | elapsed:   23.5s remaining:   16.7s\n",
      "[Parallel(n_jobs=-1)]: Done   9 out of  12 | elapsed:   23.9s remaining:    7.9s\n",
      "[Parallel(n_jobs=-1)]: Done  12 out of  12 | elapsed:   24.3s finished\n"
     ]
    },
    {
     "name": "stdout",
     "output_type": "stream",
     "text": [
      "ERROR RATE 0.09894736842105264\n",
      "TIME FOR BATCH, 24.39857840538025\n",
      "PARAMS (2.0, 2.0, 2.0)\n",
      "COMPLETION RATE 384000/10000000\n",
      "PERCENTAGE CORRECT, 0.4694375\n",
      "CONFIDENCE (0.4678580492406444, 0.4710169058551181)\n",
      "CONFIDENCE % 0.5953787941050642\n",
      "-----------------------------------------------\n"
     ]
    },
    {
     "name": "stderr",
     "output_type": "stream",
     "text": [
      "[Parallel(n_jobs=-1)]: Using backend LokyBackend with 12 concurrent workers.\n",
      "[Parallel(n_jobs=-1)]: Done   1 tasks      | elapsed:   21.7s\n",
      "[Parallel(n_jobs=-1)]: Done   3 out of  12 | elapsed:   21.9s remaining:  1.1min\n",
      "[Parallel(n_jobs=-1)]: Done   5 out of  12 | elapsed:   22.7s remaining:   31.8s\n",
      "[Parallel(n_jobs=-1)]: Done   7 out of  12 | elapsed:   22.9s remaining:   16.3s\n",
      "[Parallel(n_jobs=-1)]: Done   9 out of  12 | elapsed:   24.6s remaining:    8.1s\n",
      "[Parallel(n_jobs=-1)]: Done  12 out of  12 | elapsed:   25.2s finished\n",
      "[Parallel(n_jobs=-1)]: Using backend LokyBackend with 12 concurrent workers.\n"
     ]
    },
    {
     "name": "stdout",
     "output_type": "stream",
     "text": [
      "ERROR RATE 0.1\n",
      "TIME FOR BATCH, 25.27301549911499\n",
      "PARAMS (2.0, 2.0, 2.0)\n",
      "COMPLETION RATE 24000/10000000\n",
      "PERCENTAGE CORRECT, 0.467375\n",
      "CONFIDENCE (0.4610620409472599, 0.47370801889818626)\n",
      "CONFIDENCE % 2.3742741987188674\n",
      "-----------------------------------------------\n"
     ]
    },
    {
     "name": "stderr",
     "output_type": "stream",
     "text": [
      "[Parallel(n_jobs=-1)]: Done   1 tasks      | elapsed:   21.7s\n",
      "[Parallel(n_jobs=-1)]: Done   3 out of  12 | elapsed:   22.0s remaining:  1.1min\n",
      "[Parallel(n_jobs=-1)]: Done   5 out of  12 | elapsed:   22.9s remaining:   32.1s\n",
      "[Parallel(n_jobs=-1)]: Done   7 out of  12 | elapsed:   23.2s remaining:   16.5s\n",
      "[Parallel(n_jobs=-1)]: Done   9 out of  12 | elapsed:   23.7s remaining:    7.8s\n",
      "[Parallel(n_jobs=-1)]: Done  12 out of  12 | elapsed:   24.4s finished\n",
      "[Parallel(n_jobs=-1)]: Using backend LokyBackend with 12 concurrent workers.\n"
     ]
    },
    {
     "name": "stdout",
     "output_type": "stream",
     "text": [
      "ERROR RATE 0.1\n",
      "TIME FOR BATCH, 24.531782388687134\n",
      "PARAMS (2.0, 2.0, 2.0)\n",
      "COMPLETION RATE 48000/10000000\n",
      "PERCENTAGE CORRECT, 0.462875\n",
      "CONFIDENCE (0.45841642320123543, 0.46734355716234555)\n",
      "CONFIDENCE % 1.6620216823104697\n",
      "-----------------------------------------------\n"
     ]
    },
    {
     "name": "stderr",
     "output_type": "stream",
     "text": [
      "[Parallel(n_jobs=-1)]: Done   1 tasks      | elapsed:   22.3s\n",
      "[Parallel(n_jobs=-1)]: Done   3 out of  12 | elapsed:   22.8s remaining:  1.1min\n",
      "[Parallel(n_jobs=-1)]: Done   5 out of  12 | elapsed:   23.2s remaining:   32.6s\n",
      "[Parallel(n_jobs=-1)]: Done   7 out of  12 | elapsed:   24.0s remaining:   17.1s\n",
      "[Parallel(n_jobs=-1)]: Done   9 out of  12 | elapsed:   24.4s remaining:    8.1s\n",
      "[Parallel(n_jobs=-1)]: Done  12 out of  12 | elapsed:   25.0s finished\n",
      "[Parallel(n_jobs=-1)]: Using backend LokyBackend with 12 concurrent workers.\n"
     ]
    },
    {
     "name": "stdout",
     "output_type": "stream",
     "text": [
      "ERROR RATE 0.1\n",
      "TIME FOR BATCH, 25.08237099647522\n",
      "PARAMS (2.0, 2.0, 2.0)\n",
      "COMPLETION RATE 72000/10000000\n",
      "PERCENTAGE CORRECT, 0.46494444444444444\n",
      "CONFIDENCE (0.46129845855347235, 0.46859015519983965)\n",
      "CONFIDENCE % 1.362792437281814\n",
      "-----------------------------------------------\n"
     ]
    },
    {
     "name": "stderr",
     "output_type": "stream",
     "text": [
      "[Parallel(n_jobs=-1)]: Done   1 tasks      | elapsed:   22.4s\n",
      "[Parallel(n_jobs=-1)]: Done   3 out of  12 | elapsed:   22.7s remaining:  1.1min\n",
      "[Parallel(n_jobs=-1)]: Done   5 out of  12 | elapsed:   22.9s remaining:   32.0s\n",
      "[Parallel(n_jobs=-1)]: Done   7 out of  12 | elapsed:   22.9s remaining:   16.3s\n",
      "[Parallel(n_jobs=-1)]: Done   9 out of  12 | elapsed:   23.7s remaining:    7.8s\n",
      "[Parallel(n_jobs=-1)]: Done  12 out of  12 | elapsed:   24.0s finished\n"
     ]
    },
    {
     "name": "stdout",
     "output_type": "stream",
     "text": [
      "ERROR RATE 0.1\n",
      "TIME FOR BATCH, 24.126331567764282\n",
      "PARAMS (2.0, 2.0, 2.0)\n",
      "COMPLETION RATE 96000/10000000\n",
      "PERCENTAGE CORRECT, 0.4647395833333333\n",
      "CONFIDENCE (0.46158322015475745, 0.467900946539467)\n",
      "CONFIDENCE % 1.1803089090826473\n",
      "-----------------------------------------------\n"
     ]
    },
    {
     "name": "stderr",
     "output_type": "stream",
     "text": [
      "[Parallel(n_jobs=-1)]: Using backend LokyBackend with 12 concurrent workers.\n",
      "[Parallel(n_jobs=-1)]: Done   1 tasks      | elapsed:   21.4s\n",
      "[Parallel(n_jobs=-1)]: Done   3 out of  12 | elapsed:   21.7s remaining:  1.1min\n",
      "[Parallel(n_jobs=-1)]: Done   5 out of  12 | elapsed:   22.0s remaining:   30.9s\n",
      "[Parallel(n_jobs=-1)]: Done   7 out of  12 | elapsed:   22.2s remaining:   15.8s\n",
      "[Parallel(n_jobs=-1)]: Done   9 out of  12 | elapsed:   22.7s remaining:    7.5s\n",
      "[Parallel(n_jobs=-1)]: Done  12 out of  12 | elapsed:   23.2s finished\n",
      "[Parallel(n_jobs=-1)]: Using backend LokyBackend with 12 concurrent workers.\n"
     ]
    },
    {
     "name": "stdout",
     "output_type": "stream",
     "text": [
      "ERROR RATE 0.1\n",
      "TIME FOR BATCH, 23.274311065673828\n",
      "PARAMS (2.0, 2.0, 2.0)\n",
      "COMPLETION RATE 120000/10000000\n",
      "PERCENTAGE CORRECT, 0.4645416666666667\n",
      "CONFIDENCE (0.4617207437734973, 0.467366589918742)\n",
      "CONFIDENCE % 1.0543950469681205\n",
      "-----------------------------------------------\n"
     ]
    },
    {
     "name": "stderr",
     "output_type": "stream",
     "text": [
      "[Parallel(n_jobs=-1)]: Done   1 tasks      | elapsed:   21.2s\n",
      "[Parallel(n_jobs=-1)]: Done   3 out of  12 | elapsed:   21.7s remaining:  1.1min\n",
      "[Parallel(n_jobs=-1)]: Done   5 out of  12 | elapsed:   21.9s remaining:   30.7s\n",
      "[Parallel(n_jobs=-1)]: Done   7 out of  12 | elapsed:   22.2s remaining:   15.8s\n",
      "[Parallel(n_jobs=-1)]: Done   9 out of  12 | elapsed:   22.8s remaining:    7.5s\n",
      "[Parallel(n_jobs=-1)]: Done  12 out of  12 | elapsed:   23.5s finished\n"
     ]
    },
    {
     "name": "stdout",
     "output_type": "stream",
     "text": [
      "ERROR RATE 0.1\n",
      "TIME FOR BATCH, 23.56271529197693\n",
      "PARAMS (2.0, 2.0, 2.0)\n",
      "COMPLETION RATE 144000/10000000\n",
      "PERCENTAGE CORRECT, 0.46342361111111113\n",
      "CONFIDENCE (0.460847145420448, 0.46600340525297734)\n",
      "CONFIDENCE % 0.9609554090157792\n",
      "-----------------------------------------------\n"
     ]
    },
    {
     "name": "stderr",
     "output_type": "stream",
     "text": [
      "[Parallel(n_jobs=-1)]: Using backend LokyBackend with 12 concurrent workers.\n",
      "[Parallel(n_jobs=-1)]: Done   1 tasks      | elapsed:   20.4s\n",
      "[Parallel(n_jobs=-1)]: Done   3 out of  12 | elapsed:   20.6s remaining:  1.0min\n",
      "[Parallel(n_jobs=-1)]: Done   5 out of  12 | elapsed:   21.0s remaining:   29.5s\n",
      "[Parallel(n_jobs=-1)]: Done   7 out of  12 | elapsed:   21.5s remaining:   15.3s\n",
      "[Parallel(n_jobs=-1)]: Done   9 out of  12 | elapsed:   21.7s remaining:    7.2s\n",
      "[Parallel(n_jobs=-1)]: Done  12 out of  12 | elapsed:   22.5s finished\n",
      "[Parallel(n_jobs=-1)]: Using backend LokyBackend with 12 concurrent workers.\n"
     ]
    },
    {
     "name": "stdout",
     "output_type": "stream",
     "text": [
      "ERROR RATE 0.1\n",
      "TIME FOR BATCH, 22.55633783340454\n",
      "PARAMS (2.0, 2.0, 2.0)\n",
      "COMPLETION RATE 168000/10000000\n",
      "PERCENTAGE CORRECT, 0.46339285714285716\n",
      "CONFIDENCE (0.46100886336827784, 0.46577970445576206)\n",
      "CONFIDENCE % 0.8890752109787551\n",
      "-----------------------------------------------\n"
     ]
    },
    {
     "name": "stderr",
     "output_type": "stream",
     "text": [
      "[Parallel(n_jobs=-1)]: Done   1 tasks      | elapsed:   20.6s\n",
      "[Parallel(n_jobs=-1)]: Done   3 out of  12 | elapsed:   20.8s remaining:  1.0min\n",
      "[Parallel(n_jobs=-1)]: Done   5 out of  12 | elapsed:   21.1s remaining:   29.6s\n",
      "[Parallel(n_jobs=-1)]: Done   7 out of  12 | elapsed:   21.2s remaining:   15.1s\n",
      "[Parallel(n_jobs=-1)]: Done   9 out of  12 | elapsed:   22.1s remaining:    7.3s\n",
      "[Parallel(n_jobs=-1)]: Done  12 out of  12 | elapsed:   22.6s finished\n",
      "[Parallel(n_jobs=-1)]: Using backend LokyBackend with 12 concurrent workers.\n"
     ]
    },
    {
     "name": "stdout",
     "output_type": "stream",
     "text": [
      "ERROR RATE 0.1\n",
      "TIME FOR BATCH, 22.698501110076904\n",
      "PARAMS (2.0, 2.0, 2.0)\n",
      "COMPLETION RATE 192000/10000000\n",
      "PERCENTAGE CORRECT, 0.46317708333333335\n",
      "CONFIDENCE (0.4609452549227192, 0.46540880353160563)\n",
      "CONFIDENCE % 0.8314750489048157\n",
      "-----------------------------------------------\n"
     ]
    },
    {
     "name": "stderr",
     "output_type": "stream",
     "text": [
      "[Parallel(n_jobs=-1)]: Done   1 tasks      | elapsed:   20.6s\n",
      "[Parallel(n_jobs=-1)]: Done   3 out of  12 | elapsed:   20.9s remaining:  1.0min\n",
      "[Parallel(n_jobs=-1)]: Done   5 out of  12 | elapsed:   21.3s remaining:   29.8s\n",
      "[Parallel(n_jobs=-1)]: Done   7 out of  12 | elapsed:   21.9s remaining:   15.6s\n",
      "[Parallel(n_jobs=-1)]: Done   9 out of  12 | elapsed:   22.3s remaining:    7.4s\n",
      "[Parallel(n_jobs=-1)]: Done  12 out of  12 | elapsed:   22.8s finished\n",
      "[Parallel(n_jobs=-1)]: Using backend LokyBackend with 12 concurrent workers.\n"
     ]
    },
    {
     "name": "stdout",
     "output_type": "stream",
     "text": [
      "ERROR RATE 0.1\n",
      "TIME FOR BATCH, 22.918612480163574\n",
      "PARAMS (2.0, 2.0, 2.0)\n",
      "COMPLETION RATE 216000/10000000\n",
      "PERCENTAGE CORRECT, 0.4642175925925926\n",
      "CONFIDENCE (0.462113376342314, 0.46632171548451967)\n",
      "CONFIDENCE % 0.7854567608088125\n",
      "-----------------------------------------------\n"
     ]
    },
    {
     "name": "stderr",
     "output_type": "stream",
     "text": [
      "[Parallel(n_jobs=-1)]: Done   1 tasks      | elapsed:   21.2s\n",
      "[Parallel(n_jobs=-1)]: Done   3 out of  12 | elapsed:   22.4s remaining:  1.1min\n",
      "[Parallel(n_jobs=-1)]: Done   5 out of  12 | elapsed:   22.5s remaining:   31.5s\n",
      "[Parallel(n_jobs=-1)]: Done   7 out of  12 | elapsed:   23.4s remaining:   16.7s\n",
      "[Parallel(n_jobs=-1)]: Done   9 out of  12 | elapsed:   23.9s remaining:    7.9s\n",
      "[Parallel(n_jobs=-1)]: Done  12 out of  12 | elapsed:   24.5s finished\n",
      "[Parallel(n_jobs=-1)]: Using backend LokyBackend with 12 concurrent workers.\n"
     ]
    },
    {
     "name": "stdout",
     "output_type": "stream",
     "text": [
      "ERROR RATE 0.1\n",
      "TIME FOR BATCH, 24.62964963912964\n",
      "PARAMS (2.0, 2.0, 2.0)\n",
      "COMPLETION RATE 240000/10000000\n",
      "PERCENTAGE CORRECT, 0.464075\n",
      "CONFIDENCE (0.46207912207078045, 0.4660707936957884)\n",
      "CONFIDENCE % 0.7448190744988504\n",
      "-----------------------------------------------\n"
     ]
    },
    {
     "name": "stderr",
     "output_type": "stream",
     "text": [
      "[Parallel(n_jobs=-1)]: Done   1 tasks      | elapsed:   20.6s\n",
      "[Parallel(n_jobs=-1)]: Done   3 out of  12 | elapsed:   20.7s remaining:  1.0min\n",
      "[Parallel(n_jobs=-1)]: Done   5 out of  12 | elapsed:   21.3s remaining:   29.9s\n",
      "[Parallel(n_jobs=-1)]: Done   7 out of  12 | elapsed:   21.4s remaining:   15.2s\n",
      "[Parallel(n_jobs=-1)]: Done   9 out of  12 | elapsed:   22.1s remaining:    7.3s\n",
      "[Parallel(n_jobs=-1)]: Done  12 out of  12 | elapsed:   23.1s finished\n"
     ]
    },
    {
     "name": "stdout",
     "output_type": "stream",
     "text": [
      "ERROR RATE 0.1\n",
      "TIME FOR BATCH, 23.248449087142944\n",
      "PARAMS (2.0, 2.0, 2.0)\n",
      "COMPLETION RATE 264000/10000000\n",
      "PERCENTAGE CORRECT, 0.46387121212121213\n",
      "CONFIDENCE (0.4619677622735848, 0.46577458477099554)\n",
      "CONFIDENCE % 0.7100574681826984\n",
      "-----------------------------------------------\n"
     ]
    },
    {
     "name": "stderr",
     "output_type": "stream",
     "text": [
      "[Parallel(n_jobs=-1)]: Using backend LokyBackend with 12 concurrent workers.\n",
      "[Parallel(n_jobs=-1)]: Done   1 tasks      | elapsed:   20.8s\n",
      "[Parallel(n_jobs=-1)]: Done   3 out of  12 | elapsed:   21.0s remaining:  1.1min\n",
      "[Parallel(n_jobs=-1)]: Done   5 out of  12 | elapsed:   21.6s remaining:   30.3s\n",
      "[Parallel(n_jobs=-1)]: Done   7 out of  12 | elapsed:   22.7s remaining:   16.2s\n",
      "[Parallel(n_jobs=-1)]: Done   9 out of  12 | elapsed:   23.1s remaining:    7.6s\n",
      "[Parallel(n_jobs=-1)]: Done  12 out of  12 | elapsed:   23.8s finished\n"
     ]
    },
    {
     "name": "stdout",
     "output_type": "stream",
     "text": [
      "ERROR RATE 0.1\n",
      "TIME FOR BATCH, 23.899213790893555\n",
      "PARAMS (2.0, 2.0, 2.0)\n",
      "COMPLETION RATE 288000/10000000\n",
      "PERCENTAGE CORRECT, 0.4635625\n",
      "CONFIDENCE (0.46174128207603865, 0.46538538277475916)\n",
      "CONFIDENCE % 0.6793150551034387\n",
      "-----------------------------------------------\n"
     ]
    },
    {
     "name": "stderr",
     "output_type": "stream",
     "text": [
      "[Parallel(n_jobs=-1)]: Using backend LokyBackend with 12 concurrent workers.\n",
      "[Parallel(n_jobs=-1)]: Done   1 tasks      | elapsed:   21.3s\n",
      "[Parallel(n_jobs=-1)]: Done   3 out of  12 | elapsed:   21.4s remaining:  1.1min\n",
      "[Parallel(n_jobs=-1)]: Done   5 out of  12 | elapsed:   21.6s remaining:   30.3s\n",
      "[Parallel(n_jobs=-1)]: Done   7 out of  12 | elapsed:   21.7s remaining:   15.5s\n",
      "[Parallel(n_jobs=-1)]: Done   9 out of  12 | elapsed:   22.6s remaining:    7.5s\n",
      "[Parallel(n_jobs=-1)]: Done  12 out of  12 | elapsed:   22.8s finished\n"
     ]
    },
    {
     "name": "stdout",
     "output_type": "stream",
     "text": [
      "ERROR RATE 0.1\n",
      "TIME FOR BATCH, 22.929347038269043\n",
      "PARAMS (2.0, 2.0, 2.0)\n",
      "COMPLETION RATE 312000/10000000\n",
      "PERCENTAGE CORRECT, 0.462875\n",
      "CONFIDENCE (0.46112496486634047, 0.464626570532851)\n",
      "CONFIDENCE % 0.6519163447075693\n",
      "-----------------------------------------------\n"
     ]
    },
    {
     "name": "stderr",
     "output_type": "stream",
     "text": [
      "[Parallel(n_jobs=-1)]: Using backend LokyBackend with 12 concurrent workers.\n",
      "[Parallel(n_jobs=-1)]: Done   1 tasks      | elapsed:   21.8s\n",
      "[Parallel(n_jobs=-1)]: Done   3 out of  12 | elapsed:   22.4s remaining:  1.1min\n",
      "[Parallel(n_jobs=-1)]: Done   5 out of  12 | elapsed:   22.6s remaining:   31.7s\n",
      "[Parallel(n_jobs=-1)]: Done   7 out of  12 | elapsed:   22.7s remaining:   16.2s\n",
      "[Parallel(n_jobs=-1)]: Done   9 out of  12 | elapsed:   22.7s remaining:    7.5s\n",
      "[Parallel(n_jobs=-1)]: Done  12 out of  12 | elapsed:   23.2s finished\n"
     ]
    },
    {
     "name": "stdout",
     "output_type": "stream",
     "text": [
      "ERROR RATE 0.1\n",
      "TIME FOR BATCH, 23.29959726333618\n",
      "PARAMS (2.0, 2.0, 2.0)\n",
      "COMPLETION RATE 336000/10000000\n",
      "PERCENTAGE CORRECT, 0.4630238095238095\n",
      "CONFIDENCE (0.4613377652440006, 0.4647112799193115)\n",
      "CONFIDENCE % 0.6282428783889379\n",
      "-----------------------------------------------\n"
     ]
    },
    {
     "name": "stderr",
     "output_type": "stream",
     "text": [
      "[Parallel(n_jobs=-1)]: Using backend LokyBackend with 12 concurrent workers.\n",
      "[Parallel(n_jobs=-1)]: Done   1 tasks      | elapsed:   20.8s\n",
      "[Parallel(n_jobs=-1)]: Done   3 out of  12 | elapsed:   20.9s remaining:  1.0min\n",
      "[Parallel(n_jobs=-1)]: Done   5 out of  12 | elapsed:   21.0s remaining:   29.4s\n",
      "[Parallel(n_jobs=-1)]: Done   7 out of  12 | elapsed:   21.1s remaining:   15.0s\n",
      "[Parallel(n_jobs=-1)]: Done   9 out of  12 | elapsed:   21.6s remaining:    7.1s\n",
      "[Parallel(n_jobs=-1)]: Done  12 out of  12 | elapsed:   21.8s finished\n"
     ]
    },
    {
     "name": "stdout",
     "output_type": "stream",
     "text": [
      "ERROR RATE 0.1\n",
      "TIME FOR BATCH, 21.9492826461792\n",
      "PARAMS (2.0, 2.0, 2.0)\n",
      "COMPLETION RATE 360000/10000000\n",
      "PERCENTAGE CORRECT, 0.46336666666666665\n",
      "CONFIDENCE (0.46173747005705873, 0.4649971947822501)\n",
      "CONFIDENCE % 0.6074398518898139\n",
      "-----------------------------------------------\n"
     ]
    },
    {
     "name": "stderr",
     "output_type": "stream",
     "text": [
      "[Parallel(n_jobs=-1)]: Using backend LokyBackend with 12 concurrent workers.\n",
      "[Parallel(n_jobs=-1)]: Done   1 tasks      | elapsed:   21.6s\n",
      "[Parallel(n_jobs=-1)]: Done   3 out of  12 | elapsed:   22.3s remaining:  1.1min\n",
      "[Parallel(n_jobs=-1)]: Done   5 out of  12 | elapsed:   22.5s remaining:   31.5s\n",
      "[Parallel(n_jobs=-1)]: Done   7 out of  12 | elapsed:   22.6s remaining:   16.1s\n",
      "[Parallel(n_jobs=-1)]: Done   9 out of  12 | elapsed:   22.7s remaining:    7.5s\n"
     ]
    },
    {
     "name": "stdout",
     "output_type": "stream",
     "text": [
      "ERROR RATE 0.1\n",
      "TIME FOR BATCH, 22.962197065353394\n",
      "PARAMS (2.0, 2.0, 2.0)\n",
      "COMPLETION RATE 384000/10000000\n",
      "PERCENTAGE CORRECT, 0.4632526041666667\n",
      "CONFIDENCE (0.4616757532303588, 0.4648307034099533)\n",
      "CONFIDENCE % 0.5877904958805141\n",
      "-----------------------------------------------\n"
     ]
    },
    {
     "name": "stderr",
     "output_type": "stream",
     "text": [
      "[Parallel(n_jobs=-1)]: Done  12 out of  12 | elapsed:   22.9s finished\n"
     ]
    }
   ],
   "source": [
    "logical_dicts = list()\n",
    "tmr = timer()\n",
    "\n",
    "p_range = list(np.linspace(0.08,0.10,20))\n",
    "d_range = [15]\n",
    "for d in d_range:\n",
    "    for p in p_range:\n",
    "        c = color_code(int(d),0.01)  \n",
    "        twist = ((1,-6,5),(1,6,-7))\n",
    "        pairs1, pairs2, shared_checks = c.insert_twist(*twist)\n",
    "\n",
    "        c.generate_combined_restricted_lattice(\"red\").nodes(data=True)\n",
    "        rG2 = c.modify_combined_restricted_lattice(c.rG)\n",
    "        c.mark_modified_restricted_lattice_prepoc(c.rG)\n",
    "        c.move_errors_off_wall_preproc()\n",
    "        c.lift_restricted_lattice_prepoc(rG2)\n",
    "\n",
    "        loop_logical = c.make_twist_loop_logicals(twist)\n",
    "        boundary_logical = c.make_boundary_logical(\"red\")\n",
    "        string_logical = c.make_crossing_logical(twist)\n",
    "\n",
    "        template_G = copy.deepcopy(c.G)\n",
    "        template_rG = copy.deepcopy(c.rG)\n",
    "        template_rG2 = copy.deepcopy(rG2)\n",
    "\n",
    "        shots = 10000000\n",
    "        batch_shots = 2000\n",
    "        logical_dict = dict()\n",
    "        error_rate = p\n",
    "\n",
    "        rel_weights = (2.0,2.0,2.0)\n",
    "        \n",
    "        params = batch_params(batch_shots,\n",
    "                            error_rate,\n",
    "                            c,\n",
    "                            rG2,\n",
    "                            template_G,\n",
    "                            template_rG,\n",
    "                            template_rG2,\n",
    "                            loop_logical,\n",
    "                            string_logical,\n",
    "                            boundary_logical,\n",
    "                            rel_weights)\n",
    "        \n",
    "        n_jobs = 12\n",
    "        correct_decodings = 0\n",
    "        current_shots = 0\n",
    "\n",
    "        for i in range(0,int(shots/(batch_shots*n_jobs))):\n",
    "\n",
    "            tmr.start()\n",
    "            batch_results = Parallel(n_jobs=-1,verbose=10,backend='loky')(delayed(run_batch)(params,i) for i in range(n_jobs))\n",
    "            tmr.stop()\n",
    "\n",
    "            current_shots += (n_jobs * batch_shots)\n",
    "        \n",
    "            for logical_class in itt.product([0,1],[0,1],[0,1]):\n",
    "                if not (logical_class in logical_dict.keys()):\n",
    "                    logical_dict[logical_class] = 0\n",
    "                logical_dict[logical_class] += np.sum([result[logical_class] for result in batch_results])\n",
    "\n",
    "            correct_decodings = logical_dict[(0,0,0)]\n",
    "\n",
    "            print(\"ERROR RATE\", p)\n",
    "            print(\"TIME FOR BATCH,\",tmr.get_time())\n",
    "            tmr.reset()\n",
    "            print(\"PARAMS\",rel_weights)\n",
    "            print(\"COMPLETION RATE\",str(current_shots)+\"/\"+str(shots))\n",
    "\n",
    "            success_rate = correct_decodings/current_shots\n",
    "            print(\"PERCENTAGE CORRECT,\",success_rate)\n",
    "            confint = prop.proportion_confint(correct_decodings,current_shots,method='binom_test')\n",
    "            print(\"CONFIDENCE\",confint)\n",
    "            print(\"CONFIDENCE %\",100*(confint[1]-confint[0])/(1-success_rate))\n",
    "            print(\"-----------------------------------------------\")\n",
    "            if confint[1]-confint[0] < (1-success_rate)*0.05 and current_shots > 20000:\n",
    "                break\n",
    "            \n",
    "                \n",
    "        logical_dicts.append(logical_dict)\n"
   ]
  },
  {
   "cell_type": "code",
   "execution_count": 5,
   "metadata": {},
   "outputs": [],
   "source": [
    "for dict in logical_dicts:\n",
    "    total = 0\n",
    "    for key in dict.keys():\n",
    "        total += dict[key]\n",
    "    for key in dict.keys():\n",
    "        dict[key] = dict[key]/total"
   ]
  },
  {
   "cell_type": "code",
   "execution_count": 6,
   "metadata": {},
   "outputs": [
    {
     "data": {
      "text/plain": [
       "[{(0, 0, 0): 0.6157543103448276,\n",
       "  (0, 0, 1): 0.13964511494252874,\n",
       "  (0, 1, 0): 0.009172413793103448,\n",
       "  (0, 1, 1): 0.010801724137931035,\n",
       "  (1, 0, 0): 0.03824425287356322,\n",
       "  (1, 0, 1): 0.08402442528735632,\n",
       "  (1, 1, 0): 0.05172988505747127,\n",
       "  (1, 1, 1): 0.05062787356321839},\n",
       " {(0, 0, 0): 0.606922619047619,\n",
       "  (0, 0, 1): 0.1421577380952381,\n",
       "  (0, 1, 0): 0.009886904761904762,\n",
       "  (0, 1, 1): 0.011322916666666667,\n",
       "  (1, 0, 0): 0.040223214285714286,\n",
       "  (1, 0, 1): 0.0846547619047619,\n",
       "  (1, 1, 0): 0.05297767857142857,\n",
       "  (1, 1, 1): 0.051854166666666666},\n",
       " {(0, 0, 0): 0.5984691358024692,\n",
       "  (0, 0, 1): 0.1456141975308642,\n",
       "  (0, 1, 0): 0.01016358024691358,\n",
       "  (0, 1, 1): 0.012003086419753086,\n",
       "  (1, 0, 0): 0.040726851851851854,\n",
       "  (1, 0, 1): 0.08489197530864198,\n",
       "  (1, 1, 0): 0.05481172839506173,\n",
       "  (1, 1, 1): 0.05331944444444445},\n",
       " {(0, 0, 0): 0.589801282051282,\n",
       "  (0, 0, 1): 0.14725320512820514,\n",
       "  (0, 1, 0): 0.010740384615384615,\n",
       "  (0, 1, 1): 0.012576923076923078,\n",
       "  (1, 0, 0): 0.042479166666666665,\n",
       "  (1, 0, 1): 0.08509134615384616,\n",
       "  (1, 1, 0): 0.056875,\n",
       "  (1, 1, 1): 0.05518269230769231},\n",
       " {(0, 0, 0): 0.5813083333333333,\n",
       "  (0, 0, 1): 0.15051166666666665,\n",
       "  (0, 1, 0): 0.011208333333333334,\n",
       "  (0, 1, 1): 0.013008333333333334,\n",
       "  (1, 0, 0): 0.043326666666666666,\n",
       "  (1, 0, 1): 0.08569833333333333,\n",
       "  (1, 1, 0): 0.058195,\n",
       "  (1, 1, 1): 0.05674333333333333},\n",
       " {(0, 0, 0): 0.5726215277777778,\n",
       "  (0, 0, 1): 0.15376041666666668,\n",
       "  (0, 1, 0): 0.01177951388888889,\n",
       "  (0, 1, 1): 0.013756944444444445,\n",
       "  (1, 0, 0): 0.044105902777777775,\n",
       "  (1, 0, 1): 0.08590104166666666,\n",
       "  (1, 1, 0): 0.059842013888888886,\n",
       "  (1, 1, 1): 0.05823263888888889},\n",
       " {(0, 0, 0): 0.5640590277777778,\n",
       "  (0, 0, 1): 0.15578645833333332,\n",
       "  (0, 1, 0): 0.012376736111111111,\n",
       "  (0, 1, 1): 0.014210069444444445,\n",
       "  (1, 0, 0): 0.0459375,\n",
       "  (1, 0, 1): 0.08620486111111111,\n",
       "  (1, 1, 0): 0.061725694444444444,\n",
       "  (1, 1, 1): 0.05969965277777778},\n",
       " {(0, 0, 0): 0.5566576086956522,\n",
       "  (0, 0, 1): 0.15811413043478262,\n",
       "  (0, 1, 0): 0.012596014492753623,\n",
       "  (0, 1, 1): 0.014793478260869566,\n",
       "  (1, 0, 0): 0.04702898550724638,\n",
       "  (1, 0, 1): 0.08731521739130435,\n",
       "  (1, 1, 0): 0.06278442028985508,\n",
       "  (1, 1, 1): 0.06071014492753623},\n",
       " {(0, 0, 0): 0.5480340909090909,\n",
       "  (0, 0, 1): 0.16097348484848484,\n",
       "  (0, 1, 0): 0.01325189393939394,\n",
       "  (0, 1, 1): 0.015640151515151517,\n",
       "  (1, 0, 0): 0.048132575757575756,\n",
       "  (1, 0, 1): 0.08657386363636364,\n",
       "  (1, 1, 0): 0.06490719696969698,\n",
       "  (1, 1, 1): 0.062486742424242424},\n",
       " {(0, 0, 0): 0.5399623015873016,\n",
       "  (0, 0, 1): 0.16314880952380953,\n",
       "  (0, 1, 0): 0.013821428571428571,\n",
       "  (0, 1, 1): 0.015384920634920635,\n",
       "  (1, 0, 0): 0.049819444444444444,\n",
       "  (1, 0, 1): 0.08735515873015873,\n",
       "  (1, 1, 0): 0.06652579365079365,\n",
       "  (1, 1, 1): 0.06398214285714286},\n",
       " {(0, 0, 0): 0.5329623015873016,\n",
       "  (0, 0, 1): 0.1652797619047619,\n",
       "  (0, 1, 0): 0.014686507936507937,\n",
       "  (0, 1, 1): 0.016442460317460317,\n",
       "  (1, 0, 0): 0.050833333333333335,\n",
       "  (1, 0, 1): 0.08726785714285715,\n",
       "  (1, 1, 0): 0.06748611111111111,\n",
       "  (1, 1, 1): 0.06504166666666666},\n",
       " {(0, 0, 0): 0.5247979166666666,\n",
       "  (0, 0, 1): 0.16766875,\n",
       "  (0, 1, 0): 0.01504375,\n",
       "  (0, 1, 1): 0.016889583333333333,\n",
       "  (1, 0, 0): 0.05164166666666667,\n",
       "  (1, 0, 1): 0.08735,\n",
       "  (1, 1, 0): 0.06984166666666666,\n",
       "  (1, 1, 1): 0.06676666666666667},\n",
       " {(0, 0, 0): 0.5158530701754386,\n",
       "  (0, 0, 1): 0.16984868421052632,\n",
       "  (0, 1, 0): 0.015771929824561402,\n",
       "  (0, 1, 1): 0.017666666666666667,\n",
       "  (1, 0, 0): 0.05300438596491228,\n",
       "  (1, 0, 1): 0.08837061403508772,\n",
       "  (1, 1, 0): 0.07033114035087719,\n",
       "  (1, 1, 1): 0.06915350877192983},\n",
       " {(0, 0, 0): 0.5087543859649123,\n",
       "  (0, 0, 1): 0.17141666666666666,\n",
       "  (0, 1, 0): 0.016453947368421054,\n",
       "  (0, 1, 1): 0.018460526315789472,\n",
       "  (1, 0, 0): 0.05345175438596491,\n",
       "  (1, 0, 1): 0.08834649122807017,\n",
       "  (1, 1, 0): 0.07291885964912281,\n",
       "  (1, 1, 1): 0.07019736842105263},\n",
       " {(0, 0, 0): 0.5007199074074075,\n",
       "  (0, 0, 1): 0.17328935185185185,\n",
       "  (0, 1, 0): 0.016930555555555556,\n",
       "  (0, 1, 1): 0.019085648148148147,\n",
       "  (1, 0, 0): 0.055025462962962964,\n",
       "  (1, 0, 1): 0.0885324074074074,\n",
       "  (1, 1, 0): 0.07486574074074075,\n",
       "  (1, 1, 1): 0.07155092592592592},\n",
       " {(0, 0, 0): 0.4933634259259259,\n",
       "  (0, 0, 1): 0.17632638888888888,\n",
       "  (0, 1, 0): 0.017594907407407406,\n",
       "  (0, 1, 1): 0.019729166666666666,\n",
       "  (1, 0, 0): 0.056546296296296296,\n",
       "  (1, 0, 1): 0.08789351851851852,\n",
       "  (1, 1, 0): 0.07579629629629629,\n",
       "  (1, 1, 1): 0.07275},\n",
       " {(0, 0, 0): 0.4846593137254902,\n",
       "  (0, 0, 1): 0.17770833333333333,\n",
       "  (0, 1, 0): 0.017901960784313727,\n",
       "  (0, 1, 1): 0.02034558823529412,\n",
       "  (1, 0, 0): 0.05748529411764706,\n",
       "  (1, 0, 1): 0.08925490196078431,\n",
       "  (1, 1, 0): 0.07788480392156863,\n",
       "  (1, 1, 1): 0.07475980392156863},\n",
       " {(0, 0, 0): 0.4776004901960784,\n",
       "  (0, 0, 1): 0.18044117647058824,\n",
       "  (0, 1, 0): 0.01907843137254902,\n",
       "  (0, 1, 1): 0.020879901960784313,\n",
       "  (1, 0, 0): 0.058291666666666665,\n",
       "  (1, 0, 1): 0.08816911764705883,\n",
       "  (1, 1, 0): 0.08,\n",
       "  (1, 1, 1): 0.07553921568627452},\n",
       " {(0, 0, 0): 0.4694375,\n",
       "  (0, 0, 1): 0.18218229166666666,\n",
       "  (0, 1, 0): 0.0193125,\n",
       "  (0, 1, 1): 0.021622395833333332,\n",
       "  (1, 0, 0): 0.05958854166666667,\n",
       "  (1, 0, 1): 0.08877083333333333,\n",
       "  (1, 1, 0): 0.081328125,\n",
       "  (1, 1, 1): 0.0777578125},\n",
       " {(0, 0, 0): 0.4632526041666667,\n",
       "  (0, 0, 1): 0.18340104166666665,\n",
       "  (0, 1, 0): 0.020588541666666668,\n",
       "  (0, 1, 1): 0.021916666666666668,\n",
       "  (1, 0, 0): 0.06027864583333333,\n",
       "  (1, 0, 1): 0.0891171875,\n",
       "  (1, 1, 0): 0.0822578125,\n",
       "  (1, 1, 1): 0.0791875}]"
      ]
     },
     "execution_count": 6,
     "metadata": {},
     "output_type": "execute_result"
    }
   ],
   "source": [
    "logical_dicts"
   ]
  }
 ],
 "metadata": {
  "kernelspec": {
   "display_name": "Python 3",
   "language": "python",
   "name": "python3"
  },
  "language_info": {
   "codemirror_mode": {
    "name": "ipython",
    "version": 3
   },
   "file_extension": ".py",
   "mimetype": "text/x-python",
   "name": "python",
   "nbconvert_exporter": "python",
   "pygments_lexer": "ipython3",
   "version": "3.12.7"
  }
 },
 "nbformat": 4,
 "nbformat_minor": 2
}
